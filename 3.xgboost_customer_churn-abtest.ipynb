{
 "cells": [
  {
   "cell_type": "markdown",
   "id": "574b583e",
   "metadata": {
    "papermill": {
     "duration": 0.018003,
     "end_time": "2021-06-03T00:09:48.368659",
     "exception": false,
     "start_time": "2021-06-03T00:09:48.350656",
     "status": "completed"
    },
    "tags": []
   },
   "source": [
    "# A/B Testing with Amazon SageMaker\n",
    "\n",
    "- 원본소스(영문) : https://github.com/aws/amazon-sagemaker-examples/blob/master/sagemaker_endpoints/a_b_testing/a_b_testing.ipynb\n",
    "- 블로그참조 : https://aws.amazon.com/ko/blogs/machine-learning/a-b-testing-ml-models-in-production-using-amazon-sagemaker/\n",
    "\n",
    "\n",
    "운영 환경의 ML workflow에서 데이터 과학자와 데이터 엔지니어는 [자동 모델 튜닝] (https://docs.aws.amazon.com/sagemaker/latest/dg/automatic-model-tuning.html)을 수행하거나, 추가데이터 또는 보다 최신의 데이터를 이용하여 모델을 다시 학습하고, 특성(Feature)의 선택을 개선하는 등 머신러닝 모델을 개선하기 위해 다양한 시도를 진행합니다. 실제 운영환경에서 발생하는 데이터로 실행하는 A/B 테스트는 새롭게 만들어진 모델과 기존 모델들 사이에서 성능을 비교하는 효과적인 최종 절차입니다. A/B 테스트를 통해 여러분의 모델에 다양한 변형을 실험하고 이들이 어떻게 서로 영향을 미치는 지 비교해 볼 수 있고, 그 후 최고의 성능을 보이는 모델을 선택하여 기존모델을 대체하고 보다 나은 서비스를 제공할 수 있습니다.\n",
    "\n",
    "아마존 SageMaker를 이용하면, 운영환경에서 하나의 동일한 엔드포인트를 위해 실제 추론은 다양한 버전의 머신러닝 모델을 실행하고 테스트할 수 있습니다. 모델의 실행시 운영 변형(production variant)을 이용하여 머신러닝 모델과 모델이 호스팅되는 리소스를 정의합니다. 또는 추론 호출시 해당 변형을 직접 지정할 수도 있습니다.\n",
    "\n",
    "본 노트북에서 다음을 경험하게 됩니다:\n",
    "- 특정 변형(variant)로 추론을 실행하고 모델을 평가하기\n",
    "- 트래픽을 조정하여 점진적으로 새로운 모델로 라우팅하기 \n"
   ]
  },
  {
   "cell_type": "markdown",
   "id": "338e0df8",
   "metadata": {
    "papermill": {
     "duration": 0.018034,
     "end_time": "2021-06-03T00:09:48.404973",
     "exception": false,
     "start_time": "2021-06-03T00:09:48.386939",
     "status": "completed"
    },
    "tags": []
   },
   "source": [
    "---\n",
    "### 사전준비\n",
    "\n",
    "먼저 최신 SageMaker 기능이 포함 된 boto3의 업데이트 된 버전이 있는지 확인합니다."
   ]
  },
  {
   "cell_type": "code",
   "execution_count": 1,
   "id": "d6eec865",
   "metadata": {
    "execution": {
     "iopub.execute_input": "2021-06-03T00:09:48.445522Z",
     "iopub.status.busy": "2021-06-03T00:09:48.445063Z",
     "iopub.status.idle": "2021-06-03T00:10:01.618823Z",
     "shell.execute_reply": "2021-06-03T00:10:01.618403Z"
    },
    "papermill": {
     "duration": 13.194939,
     "end_time": "2021-06-03T00:10:01.618937",
     "exception": false,
     "start_time": "2021-06-03T00:09:48.423998",
     "status": "completed"
    },
    "tags": []
   },
   "outputs": [
    {
     "name": "stdout",
     "output_type": "stream",
     "text": [
      "Requirement already satisfied: awscli in /home/ec2-user/anaconda3/envs/python3/lib/python3.6/site-packages (1.19.105)\n",
      "Requirement already satisfied: docutils<0.16,>=0.10 in /home/ec2-user/anaconda3/envs/python3/lib/python3.6/site-packages (from awscli) (0.15.2)\n",
      "Requirement already satisfied: rsa<4.8,>=3.1.2 in /home/ec2-user/anaconda3/envs/python3/lib/python3.6/site-packages (from awscli) (4.7.2)\n",
      "Requirement already satisfied: colorama<0.4.4,>=0.2.5 in /home/ec2-user/anaconda3/envs/python3/lib/python3.6/site-packages (from awscli) (0.4.3)\n",
      "Requirement already satisfied: PyYAML<5.5,>=3.10 in /home/ec2-user/anaconda3/envs/python3/lib/python3.6/site-packages (from awscli) (5.4.1)\n",
      "Requirement already satisfied: s3transfer<0.5.0,>=0.4.0 in /home/ec2-user/anaconda3/envs/python3/lib/python3.6/site-packages (from awscli) (0.4.2)\n",
      "Requirement already satisfied: botocore==1.20.105 in /home/ec2-user/anaconda3/envs/python3/lib/python3.6/site-packages (from awscli) (1.20.105)\n",
      "Requirement already satisfied: urllib3<1.27,>=1.25.4 in /home/ec2-user/anaconda3/envs/python3/lib/python3.6/site-packages (from botocore==1.20.105->awscli) (1.26.5)\n",
      "Requirement already satisfied: jmespath<1.0.0,>=0.7.1 in /home/ec2-user/anaconda3/envs/python3/lib/python3.6/site-packages (from botocore==1.20.105->awscli) (0.10.0)\n",
      "Requirement already satisfied: python-dateutil<3.0.0,>=2.1 in /home/ec2-user/anaconda3/envs/python3/lib/python3.6/site-packages (from botocore==1.20.105->awscli) (2.8.1)\n",
      "Requirement already satisfied: six>=1.5 in /home/ec2-user/anaconda3/envs/python3/lib/python3.6/site-packages (from python-dateutil<3.0.0,>=2.1->botocore==1.20.105->awscli) (1.15.0)\n",
      "Requirement already satisfied: pyasn1>=0.1.3 in /home/ec2-user/anaconda3/envs/python3/lib/python3.6/site-packages (from rsa<4.8,>=3.1.2->awscli) (0.4.8)\n",
      "\u001b[33mWARNING: You are using pip version 21.1.2; however, version 21.1.3 is available.\n",
      "You should consider upgrading via the '/home/ec2-user/anaconda3/envs/python3/bin/python -m pip install --upgrade pip' command.\u001b[0m\n"
     ]
    }
   ],
   "source": [
    "!pip install -U awscli"
   ]
  },
  {
   "cell_type": "markdown",
   "id": "591eb9f5",
   "metadata": {
    "papermill": {
     "duration": 0.0286,
     "end_time": "2021-06-03T00:10:01.676783",
     "exception": false,
     "start_time": "2021-06-03T00:10:01.648183",
     "status": "completed"
    },
    "tags": []
   },
   "source": [
    "## Configuration"
   ]
  },
  {
   "cell_type": "markdown",
   "id": "4e59d6bb",
   "metadata": {
    "papermill": {
     "duration": 0.028203,
     "end_time": "2021-06-03T00:10:01.733636",
     "exception": false,
     "start_time": "2021-06-03T00:10:01.705433",
     "status": "completed"
    },
    "tags": []
   },
   "source": [
    "필요한 라이브러리들을 import하고 기본 변수들을 초기화합니다."
   ]
  },
  {
   "cell_type": "code",
   "execution_count": 2,
   "id": "ecaf925a",
   "metadata": {
    "execution": {
     "iopub.execute_input": "2021-06-03T00:10:01.796772Z",
     "iopub.status.busy": "2021-06-03T00:10:01.796260Z",
     "iopub.status.idle": "2021-06-03T00:10:03.618225Z",
     "shell.execute_reply": "2021-06-03T00:10:03.618603Z"
    },
    "isConfigCell": true,
    "papermill": {
     "duration": 1.857027,
     "end_time": "2021-06-03T00:10:03.618747",
     "exception": false,
     "start_time": "2021-06-03T00:10:01.761720",
     "status": "completed"
    },
    "tags": []
   },
   "outputs": [
    {
     "name": "stdout",
     "output_type": "stream",
     "text": [
      "CPU times: user 1.7 s, sys: 967 ms, total: 2.67 s\n",
      "Wall time: 1.5 s\n"
     ]
    }
   ],
   "source": [
    "%%time\n",
    "%matplotlib inline\n",
    "from datetime import datetime, timedelta\n",
    "import time\n",
    "import os\n",
    "import boto3\n",
    "import re\n",
    "import json\n",
    "from sagemaker import get_execution_role, session\n",
    "from sagemaker.s3 import S3Downloader, S3Uploader\n",
    "\n",
    "region = boto3.Session().region_name\n",
    "role = get_execution_role()\n",
    "sm_session = session.Session(boto3.Session())\n",
    "sm = boto3.Session().client(\"sagemaker\")\n",
    "sm_runtime = boto3.Session().client(\"sagemaker-runtime\")\n",
    "\n",
    "# You can use a different bucket, but make sure the role you chose for this notebook\n",
    "# has the s3:PutObject permissions. This is the bucket into which the model artifacts will be uploaded\n",
    "bucket = sm_session.default_bucket()\n",
    "prefix = \"sagemaker/DEMO-VariantTargeting\""
   ]
  },
  {
   "cell_type": "markdown",
   "id": "ba6fc994",
   "metadata": {
    "papermill": {
     "duration": 0.028436,
     "end_time": "2021-06-03T00:10:03.675664",
     "exception": false,
     "start_time": "2021-06-03T00:10:03.647228",
     "status": "completed"
    },
    "tags": []
   },
   "source": [
    "## Step 1: 모델의 생성과 배포\n",
    "\n",
    "### 사전학습(pre-trained) 모델을 S3로 업로드하기 \n",
    "\n",
    "본 노트북은 사전학습이 완료되어 배포 가능한 두 개의 XGBoost 모델을 사용합니다. 모델은 SageMaker 예제 중 이탈방지(Churn Prediction)를 이용하여 학습되었습니다. 또는 여러분이 학습시킨 모델을 사용할 수도 있습니다. 만약 이미 학습된 모델이 S3에 있다면 제공되는 파일 대신 해당 s3 key를 이용할 수 있습니다.\n",
    "\n",
    "본 예제에서 사용되는 모델은 모바일 고객이 현재의 이동통신사를 이탈할 가능성을 예측합니다. 예제에서 사용할 데이터셋은 University of California Irvine Repository Machine Learning Datasets과 Daniel T. Larose의 책 [Discovering Knowledge in Data](https://www.amazon.com/dp/0470908742/)을 통해 공개되었습니다.\n"
   ]
  },
  {
   "cell_type": "code",
   "execution_count": 4,
   "id": "2b9b8263",
   "metadata": {
    "execution": {
     "iopub.execute_input": "2021-06-03T00:10:03.744991Z",
     "iopub.status.busy": "2021-06-03T00:10:03.744242Z",
     "iopub.status.idle": "2021-06-03T00:10:04.088276Z",
     "shell.execute_reply": "2021-06-03T00:10:04.088661Z"
    },
    "papermill": {
     "duration": 0.384792,
     "end_time": "2021-06-03T00:10:04.088803",
     "exception": false,
     "start_time": "2021-06-03T00:10:03.704011",
     "status": "completed"
    },
    "tags": []
   },
   "outputs": [
    {
     "data": {
      "text/plain": [
       "('s3://sagemaker-ap-northeast-1-308961792850/sagemaker/DEMO-VariantTargeting/xgb-churn-prediction-model.tar.gz',\n",
       " 's3://sagemaker-ap-northeast-1-308961792850/sagemaker/DEMO-VariantTargeting/xgb-churn-prediction-model2.tar.gz')"
      ]
     },
     "execution_count": 4,
     "metadata": {},
     "output_type": "execute_result"
    }
   ],
   "source": [
    "model_url = S3Uploader.upload(\n",
    "    local_path=\"model/xgb-churn-prediction-model.tar.gz\", desired_s3_uri=f\"s3://{bucket}/{prefix}\"\n",
    ")\n",
    "model_url2 = S3Uploader.upload(\n",
    "    local_path=\"model/xgb-churn-prediction-model2.tar.gz\", desired_s3_uri=f\"s3://{bucket}/{prefix}\"\n",
    ")\n",
    "model_url, model_url2"
   ]
  },
  {
   "cell_type": "markdown",
   "id": "32a78396",
   "metadata": {
    "papermill": {
     "duration": 0.02864,
     "end_time": "2021-06-03T00:10:04.146237",
     "exception": false,
     "start_time": "2021-06-03T00:10:04.117597",
     "status": "completed"
    },
    "tags": []
   },
   "source": [
    "### 모델을 정의합니다.\n",
    "\n",
    "사전 학습된 이탈방지 모델의 배포를 시작하겠습니다. 먼저 XGBoost 알고리즘이 있는 컨테이너 이미지와 모델 데이터로부터 모델 객체를 생성합니다.\n"
   ]
  },
  {
   "cell_type": "code",
   "execution_count": 5,
   "id": "91d578ad",
   "metadata": {
    "execution": {
     "iopub.execute_input": "2021-06-03T00:10:04.217051Z",
     "iopub.status.busy": "2021-06-03T00:10:04.216261Z",
     "iopub.status.idle": "2021-06-03T00:10:05.148114Z",
     "shell.execute_reply": "2021-06-03T00:10:05.148476Z"
    },
    "papermill": {
     "duration": 0.973816,
     "end_time": "2021-06-03T00:10:05.148613",
     "exception": false,
     "start_time": "2021-06-03T00:10:04.174797",
     "status": "completed"
    },
    "tags": []
   },
   "outputs": [
    {
     "data": {
      "text/plain": [
       "'DEMO-xgb-churn-pred2-2021-07-04-08-54-44'"
      ]
     },
     "execution_count": 5,
     "metadata": {},
     "output_type": "execute_result"
    }
   ],
   "source": [
    "from sagemaker.image_uris import retrieve\n",
    "\n",
    "\n",
    "model_name = f\"DEMO-xgb-churn-pred-{datetime.now():%Y-%m-%d-%H-%M-%S}\"\n",
    "model_name2 = f\"DEMO-xgb-churn-pred2-{datetime.now():%Y-%m-%d-%H-%M-%S}\"\n",
    "image_uri = retrieve(\"xgboost\", boto3.Session().region_name, \"0.90-1\")\n",
    "image_uri2 = retrieve(\"xgboost\", boto3.Session().region_name, \"0.90-2\")\n",
    "\n",
    "sm_session.create_model(\n",
    "    name=model_name, role=role, container_defs={\"Image\": image_uri, \"ModelDataUrl\": model_url}\n",
    ")\n",
    "\n",
    "sm_session.create_model(\n",
    "    name=model_name2, role=role, container_defs={\"Image\": image_uri2, \"ModelDataUrl\": model_url2}\n",
    ")"
   ]
  },
  {
   "cell_type": "markdown",
   "id": "91009cca",
   "metadata": {
    "papermill": {
     "duration": 0.029456,
     "end_time": "2021-06-03T00:10:05.207592",
     "exception": false,
     "start_time": "2021-06-03T00:10:05.178136",
     "status": "completed"
    },
    "tags": []
   },
   "source": [
    "### 변형(variants) 생성\n",
    "\n",
    "이제 우리가 가진 두개의 모델을 위해서 각각 두 개의 변형(variant)를 생성합니다. (이들은 서로 다른 인스턴스 타입과 갯수를 가질 것입니다.)\n",
    "\n",
    "두 변형(variant)모두 초기 가중치를 \"1\"로 세팅합니다. 이것은 50%의 요청은 Variant1으로, 그리고 나머지 50%의 요청은 Variant2로 라우팅되도록 합니다. (두 가중치의 합이 2이고 각 변형이 가중치 1을 가지므로, 각 변형은 1/2를 할당받고 전체 트래픽 50%를 각각 처리하게 됩니다.)\n"
   ]
  },
  {
   "cell_type": "code",
   "execution_count": 7,
   "id": "3bc9da9a",
   "metadata": {
    "execution": {
     "iopub.execute_input": "2021-06-03T00:10:05.271661Z",
     "iopub.status.busy": "2021-06-03T00:10:05.271037Z",
     "iopub.status.idle": "2021-06-03T00:10:05.273524Z",
     "shell.execute_reply": "2021-06-03T00:10:05.273874Z"
    },
    "papermill": {
     "duration": 0.037206,
     "end_time": "2021-06-03T00:10:05.274004",
     "exception": false,
     "start_time": "2021-06-03T00:10:05.236798",
     "status": "completed"
    },
    "tags": []
   },
   "outputs": [
    {
     "data": {
      "text/plain": [
       "({'ModelName': 'DEMO-xgb-churn-pred-2021-07-04-08-54-44',\n",
       "  'InstanceType': 'ml.c5.4xlarge',\n",
       "  'InitialInstanceCount': 1,\n",
       "  'VariantName': 'Variant1',\n",
       "  'InitialVariantWeight': 1},\n",
       " {'ModelName': 'DEMO-xgb-churn-pred2-2021-07-04-08-54-44',\n",
       "  'InstanceType': 'ml.c5.4xlarge',\n",
       "  'InitialInstanceCount': 1,\n",
       "  'VariantName': 'Variant2',\n",
       "  'InitialVariantWeight': 1})"
      ]
     },
     "execution_count": 7,
     "metadata": {},
     "output_type": "execute_result"
    }
   ],
   "source": [
    "from sagemaker.session import production_variant\n",
    "\n",
    "variant1 = production_variant(\n",
    "    model_name=model_name,\n",
    "    instance_type=\"ml.c5.4xlarge\",\n",
    "    initial_instance_count=1,\n",
    "    variant_name=\"Variant1\",\n",
    "    initial_weight=1,\n",
    ")\n",
    "variant2 = production_variant(\n",
    "    model_name=model_name2,\n",
    "    instance_type=\"ml.c5.4xlarge\",\n",
    "    initial_instance_count=1,\n",
    "    variant_name=\"Variant2\",\n",
    "    initial_weight=1,\n",
    ")\n",
    "\n",
    "(variant1, variant2)"
   ]
  },
  {
   "cell_type": "markdown",
   "id": "46265f63",
   "metadata": {
    "papermill": {
     "duration": 0.029624,
     "end_time": "2021-06-03T00:10:05.333520",
     "exception": false,
     "start_time": "2021-06-03T00:10:05.303896",
     "status": "completed"
    },
    "tags": []
   },
   "source": [
    "### Deploy\n",
    "\n",
    "이 두 변형을 이용하여 SageMaker 엔드포인트를 생성합니다."
   ]
  },
  {
   "cell_type": "code",
   "execution_count": 8,
   "id": "c847f444",
   "metadata": {
    "execution": {
     "iopub.execute_input": "2021-06-03T00:10:05.398312Z",
     "iopub.status.busy": "2021-06-03T00:10:05.397790Z",
     "iopub.status.idle": "2021-06-03T00:13:06.360172Z",
     "shell.execute_reply": "2021-06-03T00:13:06.359350Z"
    },
    "papermill": {
     "duration": 180.997109,
     "end_time": "2021-06-03T00:13:06.360381",
     "exception": true,
     "start_time": "2021-06-03T00:10:05.363272",
     "status": "failed"
    },
    "tags": []
   },
   "outputs": [
    {
     "name": "stdout",
     "output_type": "stream",
     "text": [
      "EndpointName=DEMO-xgb-churn-pred-2021-07-04-08-55-25\n",
      "-------------!"
     ]
    },
    {
     "data": {
      "text/plain": [
       "'DEMO-xgb-churn-pred-2021-07-04-08-55-25'"
      ]
     },
     "execution_count": 8,
     "metadata": {},
     "output_type": "execute_result"
    }
   ],
   "source": [
    "endpoint_name = f\"DEMO-xgb-churn-pred-{datetime.now():%Y-%m-%d-%H-%M-%S}\"\n",
    "print(f\"EndpointName={endpoint_name}\")\n",
    "\n",
    "sm_session.endpoint_from_production_variants(\n",
    "    name=endpoint_name, production_variants=[variant1, variant2]\n",
    ")"
   ]
  },
  {
   "cell_type": "markdown",
   "id": "40a7fef6",
   "metadata": {
    "papermill": {
     "duration": null,
     "end_time": null,
     "exception": null,
     "start_time": null,
     "status": "pending"
    },
    "tags": []
   },
   "source": [
    "## Step 2: 배포된 모델 호출(invoke)하기\n",
    "\n",
    "배포가 완료되면 이제 이 엔드포인트로 데이터를 보내고 실시간 추론을 할 수 있습니다.\n",
    "\n",
    "다음 셀은 샘플데이터를 이용하여 우리가 만든 SageMaker 엔드포인트에 추론 요청을 보내는 코드입니다. (테스트 레코드를 이용하여 0.5초마다 엔드포인트를 호출하며 총 2분 정도 소요됩니다.)\n"
   ]
  },
  {
   "cell_type": "code",
   "execution_count": 37,
   "id": "0b95c3f1",
   "metadata": {
    "papermill": {
     "duration": null,
     "end_time": null,
     "exception": null,
     "start_time": null,
     "status": "pending"
    },
    "tags": []
   },
   "outputs": [
    {
     "name": "stdout",
     "output_type": "stream",
     "text": [
      "Sending test traffic to the endpoint DEMO-xgb-churn-pred-2021-07-04-08-55-25. \n",
      "Please wait...\n",
      "........................................................................................................................Done!\n"
     ]
    }
   ],
   "source": [
    "# get a subset of test data for a quick test\n",
    "!tail -120 test_data/test-dataset-input-cols.csv > test_data/test_sample_tail_input_cols.csv\n",
    "print(f\"Sending test traffic to the endpoint {endpoint_name}. \\nPlease wait...\")\n",
    "\n",
    "with open(\"test_data/test_sample_tail_input_cols.csv\", \"r\") as f:\n",
    "    for row in f:\n",
    "        print(\".\", end=\"\", flush=True)\n",
    "        payload = row.rstrip(\"\\n\")\n",
    "        sm_runtime.invoke_endpoint(EndpointName=endpoint_name, ContentType=\"text/csv\", Body=payload)\n",
    "        time.sleep(0.5)\n",
    "\n",
    "print(\"Done!\")"
   ]
  },
  {
   "cell_type": "markdown",
   "id": "24dbf812",
   "metadata": {
    "papermill": {
     "duration": null,
     "end_time": null,
     "exception": null,
     "start_time": null,
     "status": "pending"
    },
    "tags": []
   },
   "source": [
    "### 변형(variant)별 추론 실행\n",
    "\n",
    "Amazon SageMaker는 각 변형에 대해 지연 시간 및 호출회수와 같은 지표를 Amazon CloudWatch에 남깁니다. (전체 지표 목록은 [여기] (https://alpha-docs-aws.amazon.com/sagemaker/latest/dg/monitoring-cloudwatch.html)를 참조합니다.) CloudWatch를 쿼리하여 변형당 호출수를 가져오고 호출이 분할되는 방식을 살펴보겠습니다.\n"
   ]
  },
  {
   "cell_type": "code",
   "execution_count": 38,
   "id": "4fda0523",
   "metadata": {
    "papermill": {
     "duration": null,
     "end_time": null,
     "exception": null,
     "start_time": null,
     "status": "pending"
    },
    "tags": []
   },
   "outputs": [],
   "source": [
    "import pandas as pd\n",
    "\n",
    "cw = boto3.Session().client(\"cloudwatch\")\n",
    "\n",
    "\n",
    "def get_invocation_metrics_for_endpoint_variant(endpoint_name, variant_name, start_time, end_time):\n",
    "    metrics = cw.get_metric_statistics(\n",
    "        Namespace=\"AWS/SageMaker\",\n",
    "        MetricName=\"Invocations\",\n",
    "        StartTime=start_time,\n",
    "        EndTime=end_time,\n",
    "        Period=60,\n",
    "        Statistics=[\"Sum\"],\n",
    "        Dimensions=[\n",
    "            {\"Name\": \"EndpointName\", \"Value\": endpoint_name},\n",
    "            {\"Name\": \"VariantName\", \"Value\": variant_name},\n",
    "        ],\n",
    "    )\n",
    "    return (\n",
    "        pd.DataFrame(metrics[\"Datapoints\"])\n",
    "        .sort_values(\"Timestamp\")\n",
    "        .set_index(\"Timestamp\")\n",
    "        .drop(\"Unit\", axis=1)\n",
    "        .rename(columns={\"Sum\": variant_name})\n",
    "    )\n",
    "\n",
    "\n",
    "def plot_endpoint_metrics(start_time=None):\n",
    "    start_time = start_time or datetime.now() - timedelta(minutes=5)\n",
    "    end_time = datetime.now()\n",
    "    metrics_variant1 = get_invocation_metrics_for_endpoint_variant(\n",
    "        endpoint_name, variant1[\"VariantName\"], start_time, end_time\n",
    "    )\n",
    "    metrics_variant2 = get_invocation_metrics_for_endpoint_variant(\n",
    "        endpoint_name, variant2[\"VariantName\"], start_time, end_time\n",
    "    )\n",
    "    metrics_variants = metrics_variant1.join(metrics_variant2, how=\"outer\")\n",
    "    metrics_variants.plot()\n",
    "    return metrics_variants"
   ]
  },
  {
   "cell_type": "code",
   "execution_count": 39,
   "id": "cf002ca3",
   "metadata": {
    "papermill": {
     "duration": null,
     "end_time": null,
     "exception": null,
     "start_time": null,
     "status": "pending"
    },
    "tags": []
   },
   "outputs": [
    {
     "name": "stdout",
     "output_type": "stream",
     "text": [
      "Waiting a minute for initial metric creation...\n"
     ]
    },
    {
     "data": {
      "text/html": [
       "<div>\n",
       "<style scoped>\n",
       "    .dataframe tbody tr th:only-of-type {\n",
       "        vertical-align: middle;\n",
       "    }\n",
       "\n",
       "    .dataframe tbody tr th {\n",
       "        vertical-align: top;\n",
       "    }\n",
       "\n",
       "    .dataframe thead th {\n",
       "        text-align: right;\n",
       "    }\n",
       "</style>\n",
       "<table border=\"1\" class=\"dataframe\">\n",
       "  <thead>\n",
       "    <tr style=\"text-align: right;\">\n",
       "      <th></th>\n",
       "      <th>Variant1</th>\n",
       "      <th>Variant2</th>\n",
       "    </tr>\n",
       "    <tr>\n",
       "      <th>Timestamp</th>\n",
       "      <th></th>\n",
       "      <th></th>\n",
       "    </tr>\n",
       "  </thead>\n",
       "  <tbody>\n",
       "    <tr>\n",
       "      <th>2021-07-04 12:52:00+00:00</th>\n",
       "      <td>0.0</td>\n",
       "      <td>0.0</td>\n",
       "    </tr>\n",
       "    <tr>\n",
       "      <th>2021-07-04 12:53:00+00:00</th>\n",
       "      <td>0.0</td>\n",
       "      <td>0.0</td>\n",
       "    </tr>\n",
       "    <tr>\n",
       "      <th>2021-07-04 12:54:00+00:00</th>\n",
       "      <td>0.0</td>\n",
       "      <td>0.0</td>\n",
       "    </tr>\n",
       "    <tr>\n",
       "      <th>2021-07-04 12:55:00+00:00</th>\n",
       "      <td>26.0</td>\n",
       "      <td>27.0</td>\n",
       "    </tr>\n",
       "    <tr>\n",
       "      <th>2021-07-04 12:56:00+00:00</th>\n",
       "      <td>33.0</td>\n",
       "      <td>34.0</td>\n",
       "    </tr>\n",
       "  </tbody>\n",
       "</table>\n",
       "</div>"
      ],
      "text/plain": [
       "                           Variant1  Variant2\n",
       "Timestamp                                    \n",
       "2021-07-04 12:52:00+00:00       0.0       0.0\n",
       "2021-07-04 12:53:00+00:00       0.0       0.0\n",
       "2021-07-04 12:54:00+00:00       0.0       0.0\n",
       "2021-07-04 12:55:00+00:00      26.0      27.0\n",
       "2021-07-04 12:56:00+00:00      33.0      34.0"
      ]
     },
     "execution_count": 39,
     "metadata": {},
     "output_type": "execute_result"
    },
    {
     "data": {
      "image/png": "[encoded data removed]",
      "text/plain": [
       "<Figure size 432x288 with 1 Axes>"
      ]
     },
     "metadata": {
      "needs_background": "light"
     },
     "output_type": "display_data"
    }
   ],
   "source": [
    "print(\"Waiting a minute for initial metric creation...\")\n",
    "time.sleep(60)\n",
    "plot_endpoint_metrics()"
   ]
  },
  {
   "cell_type": "markdown",
   "id": "c1c26104",
   "metadata": {
    "papermill": {
     "duration": null,
     "end_time": null,
     "exception": null,
     "start_time": null,
     "status": "pending"
    },
    "tags": []
   },
   "source": [
    "### 특정 변형 호출하기 \n",
    "\n",
    "이제 특정 변형을 호출 해 보겠습니다. 이를 위해 단순히 새 매개 변수를 사용하여 호출하려는 특정 ProductionVariant를 정의합니다. 이것을 사용하여 모든 요청에 대해 Variant1을 호출하겠습니다.\n"
   ]
  },
  {
   "cell_type": "code",
   "execution_count": 15,
   "id": "e27b1bb6",
   "metadata": {
    "papermill": {
     "duration": null,
     "end_time": null,
     "exception": null,
     "start_time": null,
     "status": "pending"
    },
    "tags": []
   },
   "outputs": [
    {
     "name": "stdout",
     "output_type": "stream",
     "text": [
      "Sending test traffic to the endpoint DEMO-xgb-churn-pred-2021-07-04-08-55-25. \n",
      "Please wait...\n",
      "........................................................................................................................Done!\n"
     ]
    }
   ],
   "source": [
    "import numpy as np\n",
    "\n",
    "predictions = \"\"\n",
    "\n",
    "print(f\"Sending test traffic to the endpoint {endpoint_name}. \\nPlease wait...\")\n",
    "with open(\"test_data/test_sample_tail_input_cols.csv\", \"r\") as f:\n",
    "    for row in f:\n",
    "        print(\".\", end=\"\", flush=True)\n",
    "        payload = row.rstrip(\"\\n\")\n",
    "        response = sm_runtime.invoke_endpoint(\n",
    "            EndpointName=endpoint_name,\n",
    "            ContentType=\"text/csv\",\n",
    "            Body=payload,\n",
    "            TargetVariant=variant1[\"VariantName\"],\n",
    "        )\n",
    "        predictions = \",\".join([predictions, response[\"Body\"].read().decode(\"utf-8\")])\n",
    "        time.sleep(0.5)\n",
    "\n",
    "# Convert our predictions to a numpy array\n",
    "pred_np = np.fromstring(predictions[1:], sep=\",\")\n",
    "\n",
    "# Convert the prediction probabilities to binary predictions of either 1 or 0\n",
    "threshold = 0.5\n",
    "preds = np.where(pred_np > threshold, 1, 0)\n",
    "print(\"Done!\")"
   ]
  },
  {
   "cell_type": "markdown",
   "id": "2837de40",
   "metadata": {
    "papermill": {
     "duration": null,
     "end_time": null,
     "exception": null,
     "start_time": null,
     "status": "pending"
    },
    "tags": []
   },
   "source": [
    "\n",
    "변형 별 트래픽을 다시 확인하면 이번에는 모든 호출이 해당 변형을 대상으로했기 때문에 호출 수가 Variant1에 대해서만 증가했음을 알 수 있습니다."
   ]
  },
  {
   "cell_type": "code",
   "execution_count": 16,
   "id": "4c00e452",
   "metadata": {
    "papermill": {
     "duration": null,
     "end_time": null,
     "exception": null,
     "start_time": null,
     "status": "pending"
    },
    "tags": []
   },
   "outputs": [
    {
     "data": {
      "text/html": [
       "<div>\n",
       "<style scoped>\n",
       "    .dataframe tbody tr th:only-of-type {\n",
       "        vertical-align: middle;\n",
       "    }\n",
       "\n",
       "    .dataframe tbody tr th {\n",
       "        vertical-align: top;\n",
       "    }\n",
       "\n",
       "    .dataframe thead th {\n",
       "        text-align: right;\n",
       "    }\n",
       "</style>\n",
       "<table border=\"1\" class=\"dataframe\">\n",
       "  <thead>\n",
       "    <tr style=\"text-align: right;\">\n",
       "      <th></th>\n",
       "      <th>Variant1</th>\n",
       "      <th>Variant2</th>\n",
       "    </tr>\n",
       "    <tr>\n",
       "      <th>Timestamp</th>\n",
       "      <th></th>\n",
       "      <th></th>\n",
       "    </tr>\n",
       "  </thead>\n",
       "  <tbody>\n",
       "    <tr>\n",
       "      <th>2021-07-04 09:00:00+00:00</th>\n",
       "      <td>0.0</td>\n",
       "      <td>NaN</td>\n",
       "    </tr>\n",
       "    <tr>\n",
       "      <th>2021-07-04 09:01:00+00:00</th>\n",
       "      <td>2.0</td>\n",
       "      <td>3.0</td>\n",
       "    </tr>\n",
       "    <tr>\n",
       "      <th>2021-07-04 09:02:00+00:00</th>\n",
       "      <td>45.0</td>\n",
       "      <td>66.0</td>\n",
       "    </tr>\n",
       "    <tr>\n",
       "      <th>2021-07-04 09:03:00+00:00</th>\n",
       "      <td>3.0</td>\n",
       "      <td>1.0</td>\n",
       "    </tr>\n",
       "    <tr>\n",
       "      <th>2021-07-04 09:04:00+00:00</th>\n",
       "      <td>0.0</td>\n",
       "      <td>0.0</td>\n",
       "    </tr>\n",
       "    <tr>\n",
       "      <th>2021-07-04 09:05:00+00:00</th>\n",
       "      <td>0.0</td>\n",
       "      <td>0.0</td>\n",
       "    </tr>\n",
       "    <tr>\n",
       "      <th>2021-07-04 09:06:00+00:00</th>\n",
       "      <td>0.0</td>\n",
       "      <td>0.0</td>\n",
       "    </tr>\n",
       "    <tr>\n",
       "      <th>2021-07-04 09:07:00+00:00</th>\n",
       "      <td>0.0</td>\n",
       "      <td>0.0</td>\n",
       "    </tr>\n",
       "    <tr>\n",
       "      <th>2021-07-04 09:08:00+00:00</th>\n",
       "      <td>0.0</td>\n",
       "      <td>0.0</td>\n",
       "    </tr>\n",
       "    <tr>\n",
       "      <th>2021-07-04 09:09:00+00:00</th>\n",
       "      <td>0.0</td>\n",
       "      <td>0.0</td>\n",
       "    </tr>\n",
       "    <tr>\n",
       "      <th>2021-07-04 09:10:00+00:00</th>\n",
       "      <td>0.0</td>\n",
       "      <td>0.0</td>\n",
       "    </tr>\n",
       "    <tr>\n",
       "      <th>2021-07-04 09:11:00+00:00</th>\n",
       "      <td>0.0</td>\n",
       "      <td>0.0</td>\n",
       "    </tr>\n",
       "    <tr>\n",
       "      <th>2021-07-04 09:12:00+00:00</th>\n",
       "      <td>7.0</td>\n",
       "      <td>0.0</td>\n",
       "    </tr>\n",
       "    <tr>\n",
       "      <th>2021-07-04 09:13:00+00:00</th>\n",
       "      <td>107.0</td>\n",
       "      <td>0.0</td>\n",
       "    </tr>\n",
       "  </tbody>\n",
       "</table>\n",
       "</div>"
      ],
      "text/plain": [
       "                           Variant1  Variant2\n",
       "Timestamp                                    \n",
       "2021-07-04 09:00:00+00:00       0.0       NaN\n",
       "2021-07-04 09:01:00+00:00       2.0       3.0\n",
       "2021-07-04 09:02:00+00:00      45.0      66.0\n",
       "2021-07-04 09:03:00+00:00       3.0       1.0\n",
       "2021-07-04 09:04:00+00:00       0.0       0.0\n",
       "2021-07-04 09:05:00+00:00       0.0       0.0\n",
       "2021-07-04 09:06:00+00:00       0.0       0.0\n",
       "2021-07-04 09:07:00+00:00       0.0       0.0\n",
       "2021-07-04 09:08:00+00:00       0.0       0.0\n",
       "2021-07-04 09:09:00+00:00       0.0       0.0\n",
       "2021-07-04 09:10:00+00:00       0.0       0.0\n",
       "2021-07-04 09:11:00+00:00       0.0       0.0\n",
       "2021-07-04 09:12:00+00:00       7.0       0.0\n",
       "2021-07-04 09:13:00+00:00     107.0       0.0"
      ]
     },
     "execution_count": 16,
     "metadata": {},
     "output_type": "execute_result"
    },
    {
     "data": {
      "image/png": "[encoded data removed]",
      "text/plain": [
       "<Figure size 432x288 with 1 Axes>"
      ]
     },
     "metadata": {
      "needs_background": "light"
     },
     "output_type": "display_data"
    }
   ],
   "source": [
    "time.sleep(20)  # let metrics catch up\n",
    "plot_endpoint_metrics()"
   ]
  },
  {
   "cell_type": "markdown",
   "id": "0c6c170c",
   "metadata": {
    "papermill": {
     "duration": null,
     "end_time": null,
     "exception": null,
     "start_time": null,
     "status": "pending"
    },
    "tags": []
   },
   "source": [
    "## Step 3: 변형에 대한 성능 평가 \n",
    "\n",
    "### Variant 1 성능 평가\n",
    "\n",
    "타겟팅 기능을 사용하여 Variant1에 대한 정확성, 정밀도, 재현율, F1 점수 및 ROC / AUC를 평가 해 보겠습니다.\n",
    "\n"
   ]
  },
  {
   "cell_type": "code",
   "execution_count": 17,
   "id": "006e2ba1",
   "metadata": {
    "papermill": {
     "duration": null,
     "end_time": null,
     "exception": null,
     "start_time": null,
     "status": "pending"
    },
    "tags": []
   },
   "outputs": [
    {
     "name": "stdout",
     "output_type": "stream",
     "text": [
      "Accuracy: 0.9583333333333334\n",
      "Precision: 0.9411764705882353\n",
      "Recall: 0.8\n",
      "F1 Score: 0.8648648648648648\n",
      "AUC is 0.895\n"
     ]
    },
    {
     "data": {
      "image/png": "[encoded data removed]",
      "text/plain": [
       "<Figure size 432x288 with 1 Axes>"
      ]
     },
     "metadata": {
      "needs_background": "light"
     },
     "output_type": "display_data"
    }
   ],
   "source": [
    "import matplotlib.pyplot as plt\n",
    "import pandas as pd\n",
    "from sklearn import metrics\n",
    "from sklearn.metrics import roc_auc_score\n",
    "\n",
    "# Let's get the labels of our test set; we will use these to evaluate our predictions\n",
    "!tail -121 test_data/test-dataset.csv > test_data/test_dataset_sample_tail.csv\n",
    "df_with_labels = pd.read_csv(\"test_data/test_dataset_sample_tail.csv\")\n",
    "test_labels = df_with_labels.iloc[:, 0]\n",
    "labels = test_labels.to_numpy()\n",
    "\n",
    "# Calculate accuracy\n",
    "accuracy = sum(preds == labels) / len(labels)\n",
    "print(f\"Accuracy: {accuracy}\")\n",
    "\n",
    "# Calculate precision\n",
    "precision = sum(preds[preds == 1] == labels[preds == 1]) / len(preds[preds == 1])\n",
    "print(f\"Precision: {precision}\")\n",
    "\n",
    "# Calculate recall\n",
    "recall = sum(preds[preds == 1] == labels[preds == 1]) / len(labels[labels == 1])\n",
    "print(f\"Recall: {recall}\")\n",
    "\n",
    "# Calculate F1 score\n",
    "f1_score = 2 * (precision * recall) / (precision + recall)\n",
    "print(f\"F1 Score: {f1_score}\")\n",
    "\n",
    "# Calculate AUC\n",
    "auc = round(roc_auc_score(labels, preds), 4)\n",
    "print(\"AUC is \" + repr(auc))\n",
    "\n",
    "fpr, tpr, _ = metrics.roc_curve(labels, preds)\n",
    "\n",
    "plt.title(\"ROC Curve\")\n",
    "plt.plot(fpr, tpr, \"b\", label=\"AUC = %0.2f\" % auc)\n",
    "plt.legend(loc=\"lower right\")\n",
    "plt.plot([0, 1], [0, 1], \"r--\")\n",
    "plt.xlim([-0.1, 1.1])\n",
    "plt.ylim([-0.1, 1.1])\n",
    "plt.ylabel(\"True Positive Rate\")\n",
    "plt.xlabel(\"False Positive Rate\")\n",
    "plt.show()"
   ]
  },
  {
   "cell_type": "markdown",
   "id": "873b8ef4",
   "metadata": {
    "papermill": {
     "duration": null,
     "end_time": null,
     "exception": null,
     "start_time": null,
     "status": "pending"
    },
    "tags": []
   },
   "source": [
    "### Variant2 성능 평가\n",
    "Variant2에 대한 매트릭도 수집해 봅니다."
   ]
  },
  {
   "cell_type": "code",
   "execution_count": 18,
   "id": "80c3ebc6",
   "metadata": {
    "papermill": {
     "duration": null,
     "end_time": null,
     "exception": null,
     "start_time": null,
     "status": "pending"
    },
    "tags": []
   },
   "outputs": [
    {
     "name": "stdout",
     "output_type": "stream",
     "text": [
      "Sending test traffic to the endpoint DEMO-xgb-churn-pred-2021-07-04-08-55-25. \n",
      "Please wait...\n",
      "........................................................................................................................Done!\n"
     ]
    }
   ],
   "source": [
    "predictions2 = \"\"\n",
    "print(f\"Sending test traffic to the endpoint {endpoint_name}. \\nPlease wait...\")\n",
    "with open(\"test_data/test_sample_tail_input_cols.csv\", \"r\") as f:\n",
    "    for row in f:\n",
    "        print(\".\", end=\"\", flush=True)\n",
    "        payload = row.rstrip(\"\\n\")\n",
    "        response = sm_runtime.invoke_endpoint(\n",
    "            EndpointName=endpoint_name,\n",
    "            ContentType=\"text/csv\",\n",
    "            Body=payload,\n",
    "            TargetVariant=variant2[\"VariantName\"],\n",
    "        )\n",
    "        predictions2 = \",\".join([predictions2, response[\"Body\"].read().decode(\"utf-8\")])\n",
    "        time.sleep(0.5)\n",
    "\n",
    "# Convert to numpy array\n",
    "pred_np2 = np.fromstring(predictions2[1:], sep=\",\")\n",
    "\n",
    "# Convert to binary predictions\n",
    "thresh = 0.5\n",
    "preds2 = np.where(pred_np2 > threshold, 1, 0)\n",
    "\n",
    "print(\"Done!\")"
   ]
  },
  {
   "cell_type": "markdown",
   "id": "95288e05",
   "metadata": {
    "papermill": {
     "duration": null,
     "end_time": null,
     "exception": null,
     "start_time": null,
     "status": "pending"
    },
    "tags": []
   },
   "source": [
    "When we again check the traffic per variant, this time we see that the number of invocations only incremented for Variant2, because all invocations were targeted at that variant:"
   ]
  },
  {
   "cell_type": "code",
   "execution_count": 19,
   "id": "d6157649",
   "metadata": {
    "papermill": {
     "duration": null,
     "end_time": null,
     "exception": null,
     "start_time": null,
     "status": "pending"
    },
    "tags": []
   },
   "outputs": [
    {
     "data": {
      "text/html": [
       "<div>\n",
       "<style scoped>\n",
       "    .dataframe tbody tr th:only-of-type {\n",
       "        vertical-align: middle;\n",
       "    }\n",
       "\n",
       "    .dataframe tbody tr th {\n",
       "        vertical-align: top;\n",
       "    }\n",
       "\n",
       "    .dataframe thead th {\n",
       "        text-align: right;\n",
       "    }\n",
       "</style>\n",
       "<table border=\"1\" class=\"dataframe\">\n",
       "  <thead>\n",
       "    <tr style=\"text-align: right;\">\n",
       "      <th></th>\n",
       "      <th>Variant1</th>\n",
       "      <th>Variant2</th>\n",
       "    </tr>\n",
       "    <tr>\n",
       "      <th>Timestamp</th>\n",
       "      <th></th>\n",
       "      <th></th>\n",
       "    </tr>\n",
       "  </thead>\n",
       "  <tbody>\n",
       "    <tr>\n",
       "      <th>2021-07-04 09:00:00+00:00</th>\n",
       "      <td>0.0</td>\n",
       "      <td>NaN</td>\n",
       "    </tr>\n",
       "    <tr>\n",
       "      <th>2021-07-04 09:01:00+00:00</th>\n",
       "      <td>2.0</td>\n",
       "      <td>3.0</td>\n",
       "    </tr>\n",
       "    <tr>\n",
       "      <th>2021-07-04 09:02:00+00:00</th>\n",
       "      <td>45.0</td>\n",
       "      <td>66.0</td>\n",
       "    </tr>\n",
       "    <tr>\n",
       "      <th>2021-07-04 09:03:00+00:00</th>\n",
       "      <td>3.0</td>\n",
       "      <td>1.0</td>\n",
       "    </tr>\n",
       "    <tr>\n",
       "      <th>2021-07-04 09:04:00+00:00</th>\n",
       "      <td>0.0</td>\n",
       "      <td>0.0</td>\n",
       "    </tr>\n",
       "    <tr>\n",
       "      <th>2021-07-04 09:05:00+00:00</th>\n",
       "      <td>0.0</td>\n",
       "      <td>0.0</td>\n",
       "    </tr>\n",
       "    <tr>\n",
       "      <th>2021-07-04 09:06:00+00:00</th>\n",
       "      <td>0.0</td>\n",
       "      <td>0.0</td>\n",
       "    </tr>\n",
       "    <tr>\n",
       "      <th>2021-07-04 09:07:00+00:00</th>\n",
       "      <td>0.0</td>\n",
       "      <td>0.0</td>\n",
       "    </tr>\n",
       "    <tr>\n",
       "      <th>2021-07-04 09:08:00+00:00</th>\n",
       "      <td>0.0</td>\n",
       "      <td>0.0</td>\n",
       "    </tr>\n",
       "    <tr>\n",
       "      <th>2021-07-04 09:09:00+00:00</th>\n",
       "      <td>0.0</td>\n",
       "      <td>0.0</td>\n",
       "    </tr>\n",
       "    <tr>\n",
       "      <th>2021-07-04 09:10:00+00:00</th>\n",
       "      <td>0.0</td>\n",
       "      <td>0.0</td>\n",
       "    </tr>\n",
       "    <tr>\n",
       "      <th>2021-07-04 09:11:00+00:00</th>\n",
       "      <td>0.0</td>\n",
       "      <td>0.0</td>\n",
       "    </tr>\n",
       "    <tr>\n",
       "      <th>2021-07-04 09:12:00+00:00</th>\n",
       "      <td>7.0</td>\n",
       "      <td>0.0</td>\n",
       "    </tr>\n",
       "    <tr>\n",
       "      <th>2021-07-04 09:13:00+00:00</th>\n",
       "      <td>113.0</td>\n",
       "      <td>0.0</td>\n",
       "    </tr>\n",
       "    <tr>\n",
       "      <th>2021-07-04 09:14:00+00:00</th>\n",
       "      <td>0.0</td>\n",
       "      <td>81.0</td>\n",
       "    </tr>\n",
       "    <tr>\n",
       "      <th>2021-07-04 09:15:00+00:00</th>\n",
       "      <td>0.0</td>\n",
       "      <td>39.0</td>\n",
       "    </tr>\n",
       "  </tbody>\n",
       "</table>\n",
       "</div>"
      ],
      "text/plain": [
       "                           Variant1  Variant2\n",
       "Timestamp                                    \n",
       "2021-07-04 09:00:00+00:00       0.0       NaN\n",
       "2021-07-04 09:01:00+00:00       2.0       3.0\n",
       "2021-07-04 09:02:00+00:00      45.0      66.0\n",
       "2021-07-04 09:03:00+00:00       3.0       1.0\n",
       "2021-07-04 09:04:00+00:00       0.0       0.0\n",
       "2021-07-04 09:05:00+00:00       0.0       0.0\n",
       "2021-07-04 09:06:00+00:00       0.0       0.0\n",
       "2021-07-04 09:07:00+00:00       0.0       0.0\n",
       "2021-07-04 09:08:00+00:00       0.0       0.0\n",
       "2021-07-04 09:09:00+00:00       0.0       0.0\n",
       "2021-07-04 09:10:00+00:00       0.0       0.0\n",
       "2021-07-04 09:11:00+00:00       0.0       0.0\n",
       "2021-07-04 09:12:00+00:00       7.0       0.0\n",
       "2021-07-04 09:13:00+00:00     113.0       0.0\n",
       "2021-07-04 09:14:00+00:00       0.0      81.0\n",
       "2021-07-04 09:15:00+00:00       0.0      39.0"
      ]
     },
     "execution_count": 19,
     "metadata": {},
     "output_type": "execute_result"
    },
    {
     "data": {
      "image/png": "[encoded data removed]",
      "text/plain": [
       "<Figure size 432x288 with 1 Axes>"
      ]
     },
     "metadata": {
      "needs_background": "light"
     },
     "output_type": "display_data"
    }
   ],
   "source": [
    "time.sleep(60)  # give metrics time to catch up\n",
    "plot_endpoint_metrics()"
   ]
  },
  {
   "cell_type": "markdown",
   "id": "d20a0a51",
   "metadata": {
    "papermill": {
     "duration": null,
     "end_time": null,
     "exception": null,
     "start_time": null,
     "status": "pending"
    },
    "tags": []
   },
   "source": [
    "마찬가지 방식으로 정확성, 정밀도, 재현율, F1 점수 및 ROC / AUC를 평가합니다."
   ]
  },
  {
   "cell_type": "code",
   "execution_count": 20,
   "id": "21399e36",
   "metadata": {
    "papermill": {
     "duration": null,
     "end_time": null,
     "exception": null,
     "start_time": null,
     "status": "pending"
    },
    "tags": []
   },
   "outputs": [
    {
     "name": "stdout",
     "output_type": "stream",
     "text": [
      "Accuracy: 0.9583333333333334\n",
      "Precision: 0.8947368421052632\n",
      "Recall: 0.85\n",
      "F1 Score: 0.8717948717948718\n",
      "AUC is 0.915\n"
     ]
    },
    {
     "data": {
      "image/png": "[encoded data removed]",
      "text/plain": [
       "<Figure size 432x288 with 1 Axes>"
      ]
     },
     "metadata": {
      "needs_background": "light"
     },
     "output_type": "display_data"
    }
   ],
   "source": [
    "# Calculate accuracy\n",
    "accuracy2 = sum(preds2 == labels) / len(labels)\n",
    "print(f\"Accuracy: {accuracy2}\")\n",
    "\n",
    "# Calculate precision\n",
    "precision2 = sum(preds2[preds2 == 1] == labels[preds2 == 1]) / len(preds2[preds2 == 1])\n",
    "print(f\"Precision: {precision2}\")\n",
    "\n",
    "# Calculate recall\n",
    "recall2 = sum(preds2[preds2 == 1] == labels[preds2 == 1]) / len(labels[labels == 1])\n",
    "print(f\"Recall: {recall2}\")\n",
    "\n",
    "# Calculate F1 score\n",
    "f1_score2 = 2 * (precision2 * recall2) / (precision2 + recall2)\n",
    "print(f\"F1 Score: {f1_score2}\")\n",
    "\n",
    "auc2 = round(roc_auc_score(labels, preds2), 4)\n",
    "print(\"AUC is \" + repr(auc2))\n",
    "\n",
    "fpr2, tpr2, _ = metrics.roc_curve(labels, preds2)\n",
    "\n",
    "plt.title(\"ROC Curve\")\n",
    "plt.plot(fpr2, tpr2, \"b\", label=\"AUC = %0.2f\" % auc2)\n",
    "plt.legend(loc=\"lower right\")\n",
    "plt.plot([0, 1], [0, 1], \"r--\")\n",
    "plt.xlim([-0.1, 1.1])\n",
    "plt.ylim([-0.1, 1.1])\n",
    "plt.ylabel(\"True Positive Rate\")\n",
    "plt.xlabel(\"False Positive Rate\")\n",
    "plt.show()"
   ]
  },
  {
   "cell_type": "markdown",
   "id": "80d4f1c8",
   "metadata": {
    "papermill": {
     "duration": null,
     "end_time": null,
     "exception": null,
     "start_time": null,
     "status": "pending"
    },
    "tags": []
   },
   "source": [
    "정의 된 대부분의 측정 항목에 대해 Variant2가 더 나은 성능을 발휘하는 것으로 확인되었으며, 최종 배포 모델로 선택될 가능성이 높습니다.\n"
   ]
  },
  {
   "cell_type": "markdown",
   "id": "635f7771",
   "metadata": {
    "papermill": {
     "duration": null,
     "end_time": null,
     "exception": null,
     "start_time": null,
     "status": "pending"
    },
    "tags": []
   },
   "source": [
    "## Step 4: 선정된 변형을 최종 운영환경으로 승격\n",
    "\n",
    "이제 Variant2가 Variant1에 비해 더 나은 것으로 결정 했으므로 더 많은 트래픽을 여기로 이동하기로 결정하였습니다.\n",
    "\n",
    "TargetVariant를 사용하여 선택한 변형을 계속 호출 할 수 있습니다. 더 간단한 방법은 UpdateEndpointWeightsAndCapacities를 사용하여 각 변형에 할당 된 가중치를 업데이트하는 것입니다. 이렇게하면 엔드 포인트를 업데이트하지 않고도 프로덕션 변형에 대한 트래픽 배포가 변경됩니다.\n",
    "\n",
    "변형 가중치는 다음과 같습니다.\n"
   ]
  },
  {
   "cell_type": "code",
   "execution_count": 21,
   "id": "17748694",
   "metadata": {
    "papermill": {
     "duration": null,
     "end_time": null,
     "exception": null,
     "start_time": null,
     "status": "pending"
    },
    "tags": []
   },
   "outputs": [
    {
     "data": {
      "text/plain": [
       "{'Variant1': 1.0, 'Variant2': 1.0}"
      ]
     },
     "execution_count": 21,
     "metadata": {},
     "output_type": "execute_result"
    }
   ],
   "source": [
    "{\n",
    "    variant[\"VariantName\"]: variant[\"CurrentWeight\"]\n",
    "    for variant in sm.describe_endpoint(EndpointName=endpoint_name)[\"ProductionVariants\"]\n",
    "}"
   ]
  },
  {
   "cell_type": "markdown",
   "id": "37cc0539",
   "metadata": {
    "papermill": {
     "duration": null,
     "end_time": null,
     "exception": null,
     "start_time": null,
     "status": "pending"
    },
    "tags": []
   },
   "source": [
    "먼저 엔드 포인트를 쉽게 호출하는 메서드를 작성합니다.(앞 단계에서 수행한 작업의 복사본입니다.)"
   ]
  },
  {
   "cell_type": "code",
   "execution_count": 22,
   "id": "fcb83dd6",
   "metadata": {
    "papermill": {
     "duration": null,
     "end_time": null,
     "exception": null,
     "start_time": null,
     "status": "pending"
    },
    "tags": []
   },
   "outputs": [],
   "source": [
    "def invoke_endpoint_for_two_minutes():\n",
    "    with open(\"test_data/test-dataset-input-cols.csv\", \"r\") as f:\n",
    "        for row in f:\n",
    "            print(\".\", end=\"\", flush=True)\n",
    "            payload = row.rstrip(\"\\n\")\n",
    "            response = sm_runtime.invoke_endpoint(\n",
    "                EndpointName=endpoint_name, ContentType=\"text/csv\", Body=payload\n",
    "            )\n",
    "            response[\"Body\"].read()\n",
    "            time.sleep(1)"
   ]
  },
  {
   "cell_type": "markdown",
   "id": "1852bbd4",
   "metadata": {
    "papermill": {
     "duration": null,
     "end_time": null,
     "exception": null,
     "start_time": null,
     "status": "pending"
    },
    "tags": []
   },
   "source": [
    "공평하게 분할되는지 확인하기 위해 약간의 추론 호출을 실행해 봅니다. "
   ]
  },
  {
   "cell_type": "code",
   "execution_count": 23,
   "id": "4116e3f0",
   "metadata": {
    "papermill": {
     "duration": null,
     "end_time": null,
     "exception": null,
     "start_time": null,
     "status": "pending"
    },
    "tags": []
   },
   "outputs": [
    {
     "name": "stdout",
     "output_type": "stream",
     "text": [
      ".............................................................................................................................................................................................................................................................................................................................................."
     ]
    },
    {
     "data": {
      "text/html": [
       "<div>\n",
       "<style scoped>\n",
       "    .dataframe tbody tr th:only-of-type {\n",
       "        vertical-align: middle;\n",
       "    }\n",
       "\n",
       "    .dataframe tbody tr th {\n",
       "        vertical-align: top;\n",
       "    }\n",
       "\n",
       "    .dataframe thead th {\n",
       "        text-align: right;\n",
       "    }\n",
       "</style>\n",
       "<table border=\"1\" class=\"dataframe\">\n",
       "  <thead>\n",
       "    <tr style=\"text-align: right;\">\n",
       "      <th></th>\n",
       "      <th>Variant1</th>\n",
       "      <th>Variant2</th>\n",
       "    </tr>\n",
       "    <tr>\n",
       "      <th>Timestamp</th>\n",
       "      <th></th>\n",
       "      <th></th>\n",
       "    </tr>\n",
       "  </thead>\n",
       "  <tbody>\n",
       "    <tr>\n",
       "      <th>2021-07-04 09:16:00+00:00</th>\n",
       "      <td>19.0</td>\n",
       "      <td>20.0</td>\n",
       "    </tr>\n",
       "    <tr>\n",
       "      <th>2021-07-04 09:17:00+00:00</th>\n",
       "      <td>32.0</td>\n",
       "      <td>27.0</td>\n",
       "    </tr>\n",
       "    <tr>\n",
       "      <th>2021-07-04 09:18:00+00:00</th>\n",
       "      <td>34.0</td>\n",
       "      <td>26.0</td>\n",
       "    </tr>\n",
       "    <tr>\n",
       "      <th>2021-07-04 09:19:00+00:00</th>\n",
       "      <td>28.0</td>\n",
       "      <td>31.0</td>\n",
       "    </tr>\n",
       "    <tr>\n",
       "      <th>2021-07-04 09:20:00+00:00</th>\n",
       "      <td>30.0</td>\n",
       "      <td>29.0</td>\n",
       "    </tr>\n",
       "    <tr>\n",
       "      <th>2021-07-04 09:21:00+00:00</th>\n",
       "      <td>25.0</td>\n",
       "      <td>27.0</td>\n",
       "    </tr>\n",
       "  </tbody>\n",
       "</table>\n",
       "</div>"
      ],
      "text/plain": [
       "                           Variant1  Variant2\n",
       "Timestamp                                    \n",
       "2021-07-04 09:16:00+00:00      19.0      20.0\n",
       "2021-07-04 09:17:00+00:00      32.0      27.0\n",
       "2021-07-04 09:18:00+00:00      34.0      26.0\n",
       "2021-07-04 09:19:00+00:00      28.0      31.0\n",
       "2021-07-04 09:20:00+00:00      30.0      29.0\n",
       "2021-07-04 09:21:00+00:00      25.0      27.0"
      ]
     },
     "execution_count": 23,
     "metadata": {},
     "output_type": "execute_result"
    },
    {
     "data": {
      "image/png": "[encoded data removed]",
      "text/plain": [
       "<Figure size 432x288 with 1 Axes>"
      ]
     },
     "metadata": {
      "needs_background": "light"
     },
     "output_type": "display_data"
    }
   ],
   "source": [
    "invocation_start_time = datetime.now()\n",
    "invoke_endpoint_for_two_minutes()\n",
    "time.sleep(20)  # give metrics time to catch up\n",
    "plot_endpoint_metrics(invocation_start_time)"
   ]
  },
  {
   "cell_type": "markdown",
   "id": "f4c672ef",
   "metadata": {
    "papermill": {
     "duration": null,
     "end_time": null,
     "exception": null,
     "start_time": null,
     "status": "pending"
    },
    "tags": []
   },
   "source": [
    "이제 UpdateEndpointWeightsAndCapacities를 사용하여 각 변형에 새 가중치를 할당하여 트래픽의 75 %를 Variant2로 이동시키겠습니다. Amazon SageMaker는 이제 추론 요청의 75 %를 Variant2로 보내고 나머지 25 %는 Variant1로 보냅니다.\n"
   ]
  },
  {
   "cell_type": "code",
   "execution_count": 24,
   "id": "a45c0587",
   "metadata": {
    "papermill": {
     "duration": null,
     "end_time": null,
     "exception": null,
     "start_time": null,
     "status": "pending"
    },
    "tags": []
   },
   "outputs": [
    {
     "data": {
      "text/plain": [
       "{'EndpointArn': 'arn:aws:sagemaker:ap-northeast-1:308961792850:endpoint/demo-xgb-churn-pred-2021-07-04-08-55-25',\n",
       " 'ResponseMetadata': {'RequestId': 'a48864e9-50df-4c1d-9311-16e0ec6a7397',\n",
       "  'HTTPStatusCode': 200,\n",
       "  'HTTPHeaders': {'x-amzn-requestid': 'a48864e9-50df-4c1d-9311-16e0ec6a7397',\n",
       "   'content-type': 'application/x-amz-json-1.1',\n",
       "   'content-length': '112',\n",
       "   'date': 'Sun, 04 Jul 2021 09:22:18 GMT'},\n",
       "  'RetryAttempts': 0}}"
      ]
     },
     "execution_count": 24,
     "metadata": {},
     "output_type": "execute_result"
    }
   ],
   "source": [
    "sm.update_endpoint_weights_and_capacities(\n",
    "    EndpointName=endpoint_name,\n",
    "    DesiredWeightsAndCapacities=[\n",
    "        {\"DesiredWeight\": 25, \"VariantName\": variant1[\"VariantName\"]},\n",
    "        {\"DesiredWeight\": 75, \"VariantName\": variant2[\"VariantName\"]},\n",
    "    ],\n",
    ")"
   ]
  },
  {
   "cell_type": "code",
   "execution_count": 25,
   "id": "48ea77ac",
   "metadata": {
    "papermill": {
     "duration": null,
     "end_time": null,
     "exception": null,
     "start_time": null,
     "status": "pending"
    },
    "tags": []
   },
   "outputs": [
    {
     "name": "stdout",
     "output_type": "stream",
     "text": [
      "Waiting for update to complete\n",
      "..........................................................Done\n"
     ]
    },
    {
     "data": {
      "text/plain": [
       "{'Variant1': 25.0, 'Variant2': 75.0}"
      ]
     },
     "execution_count": 25,
     "metadata": {},
     "output_type": "execute_result"
    }
   ],
   "source": [
    "print(\"Waiting for update to complete\")\n",
    "while True:\n",
    "    status = sm.describe_endpoint(EndpointName=endpoint_name)[\"EndpointStatus\"]\n",
    "    if status in [\"InService\", \"Failed\"]:\n",
    "        print(\"Done\")\n",
    "        break\n",
    "    print(\".\", end=\"\", flush=True)\n",
    "    time.sleep(1)\n",
    "\n",
    "{\n",
    "    variant[\"VariantName\"]: variant[\"CurrentWeight\"]\n",
    "    for variant in sm.describe_endpoint(EndpointName=endpoint_name)[\"ProductionVariants\"]\n",
    "}"
   ]
  },
  {
   "cell_type": "markdown",
   "id": "6cb68d5e",
   "metadata": {
    "papermill": {
     "duration": null,
     "end_time": null,
     "exception": null,
     "start_time": null,
     "status": "pending"
    },
    "tags": []
   },
   "source": [
    "이제 이것이 호출 메트릭에 어떤 영향을 미쳤는지 확인해 보겠습니다."
   ]
  },
  {
   "cell_type": "code",
   "execution_count": 26,
   "id": "91bd51a0",
   "metadata": {
    "papermill": {
     "duration": null,
     "end_time": null,
     "exception": null,
     "start_time": null,
     "status": "pending"
    },
    "tags": []
   },
   "outputs": [
    {
     "name": "stdout",
     "output_type": "stream",
     "text": [
      ".............................................................................................................................................................................................................................................................................................................................................."
     ]
    },
    {
     "data": {
      "text/html": [
       "<div>\n",
       "<style scoped>\n",
       "    .dataframe tbody tr th:only-of-type {\n",
       "        vertical-align: middle;\n",
       "    }\n",
       "\n",
       "    .dataframe tbody tr th {\n",
       "        vertical-align: top;\n",
       "    }\n",
       "\n",
       "    .dataframe thead th {\n",
       "        text-align: right;\n",
       "    }\n",
       "</style>\n",
       "<table border=\"1\" class=\"dataframe\">\n",
       "  <thead>\n",
       "    <tr style=\"text-align: right;\">\n",
       "      <th></th>\n",
       "      <th>Variant1</th>\n",
       "      <th>Variant2</th>\n",
       "    </tr>\n",
       "    <tr>\n",
       "      <th>Timestamp</th>\n",
       "      <th></th>\n",
       "      <th></th>\n",
       "    </tr>\n",
       "  </thead>\n",
       "  <tbody>\n",
       "    <tr>\n",
       "      <th>2021-07-04 09:16:00+00:00</th>\n",
       "      <td>19.0</td>\n",
       "      <td>20.0</td>\n",
       "    </tr>\n",
       "    <tr>\n",
       "      <th>2021-07-04 09:17:00+00:00</th>\n",
       "      <td>32.0</td>\n",
       "      <td>27.0</td>\n",
       "    </tr>\n",
       "    <tr>\n",
       "      <th>2021-07-04 09:18:00+00:00</th>\n",
       "      <td>34.0</td>\n",
       "      <td>26.0</td>\n",
       "    </tr>\n",
       "    <tr>\n",
       "      <th>2021-07-04 09:19:00+00:00</th>\n",
       "      <td>28.0</td>\n",
       "      <td>31.0</td>\n",
       "    </tr>\n",
       "    <tr>\n",
       "      <th>2021-07-04 09:20:00+00:00</th>\n",
       "      <td>30.0</td>\n",
       "      <td>29.0</td>\n",
       "    </tr>\n",
       "    <tr>\n",
       "      <th>2021-07-04 09:21:00+00:00</th>\n",
       "      <td>29.0</td>\n",
       "      <td>29.0</td>\n",
       "    </tr>\n",
       "    <tr>\n",
       "      <th>2021-07-04 09:22:00+00:00</th>\n",
       "      <td>0.0</td>\n",
       "      <td>0.0</td>\n",
       "    </tr>\n",
       "    <tr>\n",
       "      <th>2021-07-04 09:23:00+00:00</th>\n",
       "      <td>9.0</td>\n",
       "      <td>28.0</td>\n",
       "    </tr>\n",
       "    <tr>\n",
       "      <th>2021-07-04 09:24:00+00:00</th>\n",
       "      <td>14.0</td>\n",
       "      <td>45.0</td>\n",
       "    </tr>\n",
       "    <tr>\n",
       "      <th>2021-07-04 09:25:00+00:00</th>\n",
       "      <td>15.0</td>\n",
       "      <td>44.0</td>\n",
       "    </tr>\n",
       "    <tr>\n",
       "      <th>2021-07-04 09:26:00+00:00</th>\n",
       "      <td>14.0</td>\n",
       "      <td>45.0</td>\n",
       "    </tr>\n",
       "    <tr>\n",
       "      <th>2021-07-04 09:27:00+00:00</th>\n",
       "      <td>7.0</td>\n",
       "      <td>53.0</td>\n",
       "    </tr>\n",
       "    <tr>\n",
       "      <th>2021-07-04 09:28:00+00:00</th>\n",
       "      <td>9.0</td>\n",
       "      <td>50.0</td>\n",
       "    </tr>\n",
       "  </tbody>\n",
       "</table>\n",
       "</div>"
      ],
      "text/plain": [
       "                           Variant1  Variant2\n",
       "Timestamp                                    \n",
       "2021-07-04 09:16:00+00:00      19.0      20.0\n",
       "2021-07-04 09:17:00+00:00      32.0      27.0\n",
       "2021-07-04 09:18:00+00:00      34.0      26.0\n",
       "2021-07-04 09:19:00+00:00      28.0      31.0\n",
       "2021-07-04 09:20:00+00:00      30.0      29.0\n",
       "2021-07-04 09:21:00+00:00      29.0      29.0\n",
       "2021-07-04 09:22:00+00:00       0.0       0.0\n",
       "2021-07-04 09:23:00+00:00       9.0      28.0\n",
       "2021-07-04 09:24:00+00:00      14.0      45.0\n",
       "2021-07-04 09:25:00+00:00      15.0      44.0\n",
       "2021-07-04 09:26:00+00:00      14.0      45.0\n",
       "2021-07-04 09:27:00+00:00       7.0      53.0\n",
       "2021-07-04 09:28:00+00:00       9.0      50.0"
      ]
     },
     "execution_count": 26,
     "metadata": {},
     "output_type": "execute_result"
    },
    {
     "data": {
      "image/png": "[encoded data removed]",
      "text/plain": [
       "<Figure size 432x288 with 1 Axes>"
      ]
     },
     "metadata": {
      "needs_background": "light"
     },
     "output_type": "display_data"
    }
   ],
   "source": [
    "invoke_endpoint_for_two_minutes()\n",
    "time.sleep(20)  # give metrics time to catch up\n",
    "plot_endpoint_metrics(invocation_start_time)"
   ]
  },
  {
   "cell_type": "markdown",
   "id": "ab1391fb",
   "metadata": {
    "papermill": {
     "duration": null,
     "end_time": null,
     "exception": null,
     "start_time": null,
     "status": "pending"
    },
    "tags": []
   },
   "source": [
    "매트릭을 계속 모니터링하면서 변형의 성능에 만족하였다면 이제 트래픽의 100%를 해당 변형으로 라우팅할 수 있습니다. UpdateEndpointWeightsAndCapacities를 사용하여 변형에 대한 트래픽 할당을 업데이트합니다. Variant1의 가중치는 0으로, Variant2의 가중치는 1로 설정합니다. 이제 Amazon SageMaker는 모든 추론 요청의 100 %를 Variant2로 보냅니다.\n"
   ]
  },
  {
   "cell_type": "code",
   "execution_count": 27,
   "id": "9b18d5b1",
   "metadata": {
    "papermill": {
     "duration": null,
     "end_time": null,
     "exception": null,
     "start_time": null,
     "status": "pending"
    },
    "tags": []
   },
   "outputs": [
    {
     "name": "stdout",
     "output_type": "stream",
     "text": [
      "Waiting for update to complete\n",
      "..........................................................Done\n"
     ]
    },
    {
     "data": {
      "text/plain": [
       "{'Variant1': 0.0, 'Variant2': 1.0}"
      ]
     },
     "execution_count": 27,
     "metadata": {},
     "output_type": "execute_result"
    }
   ],
   "source": [
    "sm.update_endpoint_weights_and_capacities(\n",
    "    EndpointName=endpoint_name,\n",
    "    DesiredWeightsAndCapacities=[\n",
    "        {\"DesiredWeight\": 0, \"VariantName\": variant1[\"VariantName\"]},\n",
    "        {\"DesiredWeight\": 1, \"VariantName\": variant2[\"VariantName\"]},\n",
    "    ],\n",
    ")\n",
    "print(\"Waiting for update to complete\")\n",
    "while True:\n",
    "    status = sm.describe_endpoint(EndpointName=endpoint_name)[\"EndpointStatus\"]\n",
    "    if status in [\"InService\", \"Failed\"]:\n",
    "        print(\"Done\")\n",
    "        break\n",
    "    print(\".\", end=\"\", flush=True)\n",
    "    time.sleep(1)\n",
    "\n",
    "{\n",
    "    variant[\"VariantName\"]: variant[\"CurrentWeight\"]\n",
    "    for variant in sm.describe_endpoint(EndpointName=endpoint_name)[\"ProductionVariants\"]\n",
    "}"
   ]
  },
  {
   "cell_type": "code",
   "execution_count": 28,
   "id": "4d2fdcbe",
   "metadata": {
    "papermill": {
     "duration": null,
     "end_time": null,
     "exception": null,
     "start_time": null,
     "status": "pending"
    },
    "tags": []
   },
   "outputs": [
    {
     "name": "stdout",
     "output_type": "stream",
     "text": [
      ".............................................................................................................................................................................................................................................................................................................................................."
     ]
    },
    {
     "data": {
      "text/html": [
       "<div>\n",
       "<style scoped>\n",
       "    .dataframe tbody tr th:only-of-type {\n",
       "        vertical-align: middle;\n",
       "    }\n",
       "\n",
       "    .dataframe tbody tr th {\n",
       "        vertical-align: top;\n",
       "    }\n",
       "\n",
       "    .dataframe thead th {\n",
       "        text-align: right;\n",
       "    }\n",
       "</style>\n",
       "<table border=\"1\" class=\"dataframe\">\n",
       "  <thead>\n",
       "    <tr style=\"text-align: right;\">\n",
       "      <th></th>\n",
       "      <th>Variant1</th>\n",
       "      <th>Variant2</th>\n",
       "    </tr>\n",
       "    <tr>\n",
       "      <th>Timestamp</th>\n",
       "      <th></th>\n",
       "      <th></th>\n",
       "    </tr>\n",
       "  </thead>\n",
       "  <tbody>\n",
       "    <tr>\n",
       "      <th>2021-07-04 09:16:00+00:00</th>\n",
       "      <td>19.0</td>\n",
       "      <td>20.0</td>\n",
       "    </tr>\n",
       "    <tr>\n",
       "      <th>2021-07-04 09:17:00+00:00</th>\n",
       "      <td>32.0</td>\n",
       "      <td>27.0</td>\n",
       "    </tr>\n",
       "    <tr>\n",
       "      <th>2021-07-04 09:18:00+00:00</th>\n",
       "      <td>34.0</td>\n",
       "      <td>26.0</td>\n",
       "    </tr>\n",
       "    <tr>\n",
       "      <th>2021-07-04 09:19:00+00:00</th>\n",
       "      <td>28.0</td>\n",
       "      <td>31.0</td>\n",
       "    </tr>\n",
       "    <tr>\n",
       "      <th>2021-07-04 09:20:00+00:00</th>\n",
       "      <td>30.0</td>\n",
       "      <td>29.0</td>\n",
       "    </tr>\n",
       "    <tr>\n",
       "      <th>2021-07-04 09:21:00+00:00</th>\n",
       "      <td>29.0</td>\n",
       "      <td>29.0</td>\n",
       "    </tr>\n",
       "    <tr>\n",
       "      <th>2021-07-04 09:22:00+00:00</th>\n",
       "      <td>0.0</td>\n",
       "      <td>0.0</td>\n",
       "    </tr>\n",
       "    <tr>\n",
       "      <th>2021-07-04 09:23:00+00:00</th>\n",
       "      <td>9.0</td>\n",
       "      <td>28.0</td>\n",
       "    </tr>\n",
       "    <tr>\n",
       "      <th>2021-07-04 09:24:00+00:00</th>\n",
       "      <td>14.0</td>\n",
       "      <td>45.0</td>\n",
       "    </tr>\n",
       "    <tr>\n",
       "      <th>2021-07-04 09:25:00+00:00</th>\n",
       "      <td>15.0</td>\n",
       "      <td>44.0</td>\n",
       "    </tr>\n",
       "    <tr>\n",
       "      <th>2021-07-04 09:26:00+00:00</th>\n",
       "      <td>14.0</td>\n",
       "      <td>45.0</td>\n",
       "    </tr>\n",
       "    <tr>\n",
       "      <th>2021-07-04 09:27:00+00:00</th>\n",
       "      <td>7.0</td>\n",
       "      <td>53.0</td>\n",
       "    </tr>\n",
       "    <tr>\n",
       "      <th>2021-07-04 09:28:00+00:00</th>\n",
       "      <td>9.0</td>\n",
       "      <td>50.0</td>\n",
       "    </tr>\n",
       "    <tr>\n",
       "      <th>2021-07-04 09:29:00+00:00</th>\n",
       "      <td>0.0</td>\n",
       "      <td>1.0</td>\n",
       "    </tr>\n",
       "    <tr>\n",
       "      <th>2021-07-04 09:30:00+00:00</th>\n",
       "      <td>0.0</td>\n",
       "      <td>35.0</td>\n",
       "    </tr>\n",
       "    <tr>\n",
       "      <th>2021-07-04 09:31:00+00:00</th>\n",
       "      <td>0.0</td>\n",
       "      <td>59.0</td>\n",
       "    </tr>\n",
       "    <tr>\n",
       "      <th>2021-07-04 09:32:00+00:00</th>\n",
       "      <td>0.0</td>\n",
       "      <td>59.0</td>\n",
       "    </tr>\n",
       "    <tr>\n",
       "      <th>2021-07-04 09:33:00+00:00</th>\n",
       "      <td>0.0</td>\n",
       "      <td>60.0</td>\n",
       "    </tr>\n",
       "    <tr>\n",
       "      <th>2021-07-04 09:34:00+00:00</th>\n",
       "      <td>0.0</td>\n",
       "      <td>59.0</td>\n",
       "    </tr>\n",
       "    <tr>\n",
       "      <th>2021-07-04 09:35:00+00:00</th>\n",
       "      <td>0.0</td>\n",
       "      <td>59.0</td>\n",
       "    </tr>\n",
       "  </tbody>\n",
       "</table>\n",
       "</div>"
      ],
      "text/plain": [
       "                           Variant1  Variant2\n",
       "Timestamp                                    \n",
       "2021-07-04 09:16:00+00:00      19.0      20.0\n",
       "2021-07-04 09:17:00+00:00      32.0      27.0\n",
       "2021-07-04 09:18:00+00:00      34.0      26.0\n",
       "2021-07-04 09:19:00+00:00      28.0      31.0\n",
       "2021-07-04 09:20:00+00:00      30.0      29.0\n",
       "2021-07-04 09:21:00+00:00      29.0      29.0\n",
       "2021-07-04 09:22:00+00:00       0.0       0.0\n",
       "2021-07-04 09:23:00+00:00       9.0      28.0\n",
       "2021-07-04 09:24:00+00:00      14.0      45.0\n",
       "2021-07-04 09:25:00+00:00      15.0      44.0\n",
       "2021-07-04 09:26:00+00:00      14.0      45.0\n",
       "2021-07-04 09:27:00+00:00       7.0      53.0\n",
       "2021-07-04 09:28:00+00:00       9.0      50.0\n",
       "2021-07-04 09:29:00+00:00       0.0       1.0\n",
       "2021-07-04 09:30:00+00:00       0.0      35.0\n",
       "2021-07-04 09:31:00+00:00       0.0      59.0\n",
       "2021-07-04 09:32:00+00:00       0.0      59.0\n",
       "2021-07-04 09:33:00+00:00       0.0      60.0\n",
       "2021-07-04 09:34:00+00:00       0.0      59.0\n",
       "2021-07-04 09:35:00+00:00       0.0      59.0"
      ]
     },
     "execution_count": 28,
     "metadata": {},
     "output_type": "execute_result"
    },
    {
     "data": {
      "image/png": "[encoded data removed]",
      "text/plain": [
       "<Figure size 432x288 with 1 Axes>"
      ]
     },
     "metadata": {
      "needs_background": "light"
     },
     "output_type": "display_data"
    }
   ],
   "source": [
    "invoke_endpoint_for_two_minutes()\n",
    "time.sleep(20)  # give metrics time to catch up\n",
    "plot_endpoint_metrics(invocation_start_time)"
   ]
  },
  {
   "cell_type": "markdown",
   "id": "2d507637",
   "metadata": {
    "papermill": {
     "duration": null,
     "end_time": null,
     "exception": null,
     "start_time": null,
     "status": "pending"
    },
    "tags": []
   },
   "source": [
    "아래쪽 그래프에 표현된 변형에 대한 총 호출 Amazon CloudWatch 지표는 모든 추론 요청이 Variant2에 의해 처리되고 있고 Variant1에 의해 처리되는 추론 요청이 없음을 보여줍니다.\n",
    "\n",
    "이제 안전하게 엔드 포인트를 업데이트하고 엔드 포인트에서 Variant1을 삭제할 수 있습니다. 또한 엔드포인트에 새 변형을 추가하고 2-4 단계를 수행하여 프로덕션에서 새 모델을 계속 테스트 할 수도 있습니다.\n",
    "\n"
   ]
  },
  {
   "cell_type": "markdown",
   "id": "9bcb22bc",
   "metadata": {
    "papermill": {
     "duration": null,
     "end_time": null,
     "exception": null,
     "start_time": null,
     "status": "pending"
    },
    "tags": []
   },
   "source": [
    "## 엔드포인트 삭제\n",
    "\n",
    "이 엔드 포인트를 더 이상 사용할 계획이없는 경우 추가 요금이 발생하지 않도록 엔드 포인트를 삭제합니다."
   ]
  },
  {
   "cell_type": "code",
   "execution_count": null,
   "id": "59bf4c7e",
   "metadata": {
    "papermill": {
     "duration": null,
     "end_time": null,
     "exception": null,
     "start_time": null,
     "status": "pending"
    },
    "scrolled": true,
    "tags": []
   },
   "outputs": [],
   "source": [
    "sm_session.delete_endpoint(endpoint_name)"
   ]
  },
  {
   "cell_type": "code",
   "execution_count": null,
   "id": "fbd491e3",
   "metadata": {
    "papermill": {
     "duration": null,
     "end_time": null,
     "exception": null,
     "start_time": null,
     "status": "pending"
    },
    "tags": []
   },
   "outputs": [],
   "source": []
  }
 ],
 "metadata": {
  "anaconda-cloud": {},
  "instance_type": "ml.t3.medium",
  "kernelspec": {
   "display_name": "conda_python3",
   "language": "python",
   "name": "conda_python3"
  },
  "language_info": {
   "codemirror_mode": {
    "name": "ipython",
    "version": 3
   },
   "file_extension": ".py",
   "mimetype": "text/x-python",
   "name": "python",
   "nbconvert_exporter": "python",
   "pygments_lexer": "ipython3",
   "version": "3.6.13"
  },
  "notice": "Copyright 2017 Amazon.com, Inc. or its affiliates. All Rights Reserved.  Licensed under the Apache License, Version 2.0 (the \"License\"). You may not use this file except in compliance with the License. A copy of the License is located at http://aws.amazon.com/apache2.0/ or in the \"license\" file accompanying this file. This file is distributed on an \"AS IS\" BASIS, WITHOUT WARRANTIES OR CONDITIONS OF ANY KIND, either express or implied. See the License for the specific language governing permissions and limitations under the License.",
  "papermill": {
   "default_parameters": {},
   "duration": 199.476853,
   "end_time": "2021-06-03T00:13:06.967499",
   "environment_variables": {},
   "exception": true,
   "input_path": "a_b_testing.ipynb",
   "output_path": "/opt/ml/processing/output/a_b_testing-2021-06-03-00-05-59.ipynb",
   "parameters": {
    "kms_key": "arn:aws:kms:us-west-2:521695447989:key/6e9984db-50cf-4c7e-926c-877ec47a8b25"
   },
   "start_time": "2021-06-03T00:09:47.490646",
   "version": "2.3.3"
  }
 },
 "nbformat": 4,
 "nbformat_minor": 5
}
