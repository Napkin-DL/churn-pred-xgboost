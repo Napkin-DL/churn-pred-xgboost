{
 "cells": [
  {
   "cell_type": "markdown",
   "id": "0007872e",
   "metadata": {
    "papermill": {
     "duration": 0.018505,
     "end_time": "2021-06-07T00:09:44.379517",
     "exception": false,
     "start_time": "2021-06-07T00:09:44.361012",
     "status": "completed"
    },
    "tags": []
   },
   "source": [
    "# Customer Churn Prediction with XGBoost\n",
    "_**이동통신 고객 이탈감지를 위해 Gradient Boosted Trees 사용하기**_\n",
    "\n",
    "소스 : https://github.com/aws/amazon-sagemaker-examples/blob/master/introduction_to_applying_machine_learning/xgboost_customer_churn/xgboost_customer_churn.ipynb\n",
    "\n",
    "---\n",
    "\n",
    "---\n",
    "\n",
    "## Contents\n",
    "\n",
    "1. [Background](#Background)\n",
    "1. [Setup](#Setup)\n",
    "1. [Data](#Data)\n",
    "1. [Train](#Train)\n",
    "1. [Compile](#Compile)\n",
    "1. [Host](#Host)\n",
    "  1. [Evaluate](#Evaluate)\n",
    "  1. [Relative cost of errors](#Relative-cost-of-errors)\n",
    "1. [Extensions](#Extensions)\n",
    "\n",
    "---\n",
    "\n",
    "## Background\n",
    "\n",
    "_본 노트북의 내용은 다음 블로그에서도 확인할 수 있습니다. [AWS blog post](https://aws.amazon.com/blogs/ai/predicting-customer-churn-with-amazon-machine-learning/)_\n",
    "\n",
    "어떤 비즈니스이건 고객을 잃는 것은 손해로 연결됩니다. 불만족스러운 고객을 조기에 감지할 수 있다면 여러분은 그들에게 인센티브를 제공함으로써 보다 더 오래 머물도록 할 기회를 줄 것입니다. 본 노트북은 고객 이탈 예측(Churn Prediction)으로 잘 알려진, 불만족스러운 고객을 사전에 식별하는 유즈케이스를 머신러닝을 이용하여 자동으로 해결하고자 합니다. 머신러닝 모델은 완벽하게 예측하지는 못할 것입니다. 본 노트북은 이런 경우 어떻게 예측이 빗나간 케이스에 대하여 관련된 비용을 수용하는지까지 다룰 것입니다.\n",
    "\n",
    "고객 이탈 예측 예제에서 우리에게 익숙한 이동통신사 예를 사용할 것입니다. 서비스제공자는 고객이 탈퇴할 생각임을 알게 되면 적절한 타이밍에 인센티브를 제공할 수 있습니다. 전화기를 업그레이드하거나 새로운 기능을 활성화하여 계속 서비스를 사용하도록 합니다. 인센티브는 고객을 잃고 다시 확보하는 것보다 훨씬 비용 효율적인 경우가 많습니다. \n",
    "\n",
    "\n",
    "---\n",
    "\n",
    "## Setup\n",
    "\n",
    "_본 노트북은 ml.m4.xlarge Sagemaker 노트북에서 생성하고 테스트되었습니다._\n",
    "\n",
    "다음 설정을 시작합니다.\n",
    "- 학습과 모델 데이터 저장에 사용할 S3 버켓과 prefix를 선언합니다. SageMaker 노트북 인스턴스와 동일한 리전에 위치해야 합니다.\n",
    "- 학습과 호스팅 작업에서 데이터에 엑서스할 때 사용할 IAM 역할(role)을 결정합니다. 역할의 생성은 aws 개발자문서를 참고하십시오. 만약 노트북인스턴스, 학습, 호스팅을 위해 하나 여러개의 별도 역할이 필요하다면 boto 정규식으로 표현된 IAM 풀네임 스트링을 사용합니다. \n"
   ]
  },
  {
   "cell_type": "code",
   "execution_count": 1,
   "id": "52437ecc",
   "metadata": {
    "execution": {
     "iopub.execute_input": "2021-06-07T00:09:44.418703Z",
     "iopub.status.busy": "2021-06-07T00:09:44.418266Z",
     "iopub.status.idle": "2021-06-07T00:09:45.607044Z",
     "shell.execute_reply": "2021-06-07T00:09:45.606579Z"
    },
    "isConfigCell": true,
    "papermill": {
     "duration": 1.209916,
     "end_time": "2021-06-07T00:09:45.607159",
     "exception": false,
     "start_time": "2021-06-07T00:09:44.397243",
     "status": "completed"
    },
    "tags": [
     "parameters"
    ]
   },
   "outputs": [],
   "source": [
    "import sagemaker\n",
    "\n",
    "sess = sagemaker.Session()\n",
    "bucket = sess.default_bucket()\n",
    "prefix = \"sagemaker/DEMO-xgboost-churn\"\n",
    "\n",
    "# Define IAM role\n",
    "import boto3\n",
    "import re\n",
    "from sagemaker import get_execution_role\n",
    "\n",
    "role = get_execution_role()"
   ]
  },
  {
   "cell_type": "markdown",
   "id": "1b07e10d",
   "metadata": {
    "papermill": {
     "duration": 0.017739,
     "end_time": "2021-06-07T00:09:45.683322",
     "exception": false,
     "start_time": "2021-06-07T00:09:45.665583",
     "status": "completed"
    },
    "tags": []
   },
   "source": [
    "필요한 파이썬 라이브러리를 import 합니다. "
   ]
  },
  {
   "cell_type": "code",
   "execution_count": 2,
   "id": "5922750a",
   "metadata": {
    "execution": {
     "iopub.execute_input": "2021-06-07T00:09:45.723197Z",
     "iopub.status.busy": "2021-06-07T00:09:45.722450Z",
     "iopub.status.idle": "2021-06-07T00:09:46.367234Z",
     "shell.execute_reply": "2021-06-07T00:09:46.366826Z"
    },
    "papermill": {
     "duration": 0.666347,
     "end_time": "2021-06-07T00:09:46.367361",
     "exception": false,
     "start_time": "2021-06-07T00:09:45.701014",
     "status": "completed"
    },
    "tags": []
   },
   "outputs": [],
   "source": [
    "import pandas as pd\n",
    "import numpy as np\n",
    "import matplotlib.pyplot as plt\n",
    "import seaborn as sns \n",
    "import io\n",
    "import os\n",
    "import sys\n",
    "import time\n",
    "import json\n",
    "from IPython.display import display\n",
    "from time import strftime, gmtime\n",
    "from sagemaker.inputs import TrainingInput\n",
    "from sagemaker.serializers import CSVSerializer"
   ]
  },
  {
   "cell_type": "markdown",
   "id": "62139259",
   "metadata": {
    "papermill": {
     "duration": 0.021555,
     "end_time": "2021-06-07T00:09:46.406743",
     "exception": false,
     "start_time": "2021-06-07T00:09:46.385188",
     "status": "completed"
    },
    "tags": []
   },
   "source": [
    "---\n",
    "## Data\n",
    "\n",
    "이동 통신사에는 어떤 고객이 이탈하고 어떤 고객이 서비스를 계속 사용했는지에 대한 기록이 있습니다. 이 기록 정보를 이용하여 한 이동 통신사의 이탈에 대한 ML 모델을 구성하기 위해 모델을 학습할  할 수 있습니다. 모델을 학습 한 후 다른 임의 고객의 프로필 정보 (모델 학습에 사용한 것과 동일한 프로필 정보)를 모델에 전달하고 모델이이 고객이 이탈할지 여부를 예측하도록 할 수 있습니다. 물론 우리는 모델이 실수를 할 것으로 예상합니다. 결국 미래를 예측하는 것은 어려운 일입니다! 하지만 예측 오류를 처리하는 방법도 보여 드리겠습니다.\n",
    "\n",
    "우리가 사용하는 데이터 세트는 Daniel T. Larose의 책 [Discovering Knowledge in Data] (https://www.amazon.com/dp/0470908742/) 과 University of California Irvine Repository of Machine Learning Datasets에 언급되고 공개되었습니다. 이제 해당 데이터 세트를 다운로드하고 읽어 보겠습니다."
   ]
  },
  {
   "cell_type": "code",
   "execution_count": 3,
   "id": "a61607ed",
   "metadata": {
    "execution": {
     "iopub.execute_input": "2021-06-07T00:09:46.448749Z",
     "iopub.status.busy": "2021-06-07T00:09:46.448204Z",
     "iopub.status.idle": "2021-06-07T00:09:48.097646Z",
     "shell.execute_reply": "2021-06-07T00:09:48.098015Z"
    },
    "papermill": {
     "duration": 1.671215,
     "end_time": "2021-06-07T00:09:48.098151",
     "exception": false,
     "start_time": "2021-06-07T00:09:46.426936",
     "status": "completed"
    },
    "tags": []
   },
   "outputs": [
    {
     "name": "stdout",
     "output_type": "stream",
     "text": [
      "download: s3://sagemaker-sample-files/datasets/tabular/synthetic/churn.txt to ./churn.txt\n"
     ]
    }
   ],
   "source": [
    "!aws s3 cp s3://sagemaker-sample-files/datasets/tabular/synthetic/churn.txt ./"
   ]
  },
  {
   "cell_type": "code",
   "execution_count": 4,
   "id": "6e624c42",
   "metadata": {
    "execution": {
     "iopub.execute_input": "2021-06-07T00:09:48.138972Z",
     "iopub.status.busy": "2021-06-07T00:09:48.138536Z",
     "iopub.status.idle": "2021-06-07T00:09:48.185805Z",
     "shell.execute_reply": "2021-06-07T00:09:48.185364Z"
    },
    "papermill": {
     "duration": 0.06925,
     "end_time": "2021-06-07T00:09:48.185909",
     "exception": false,
     "start_time": "2021-06-07T00:09:48.116659",
     "status": "completed"
    },
    "tags": []
   },
   "outputs": [
    {
     "data": {
      "text/html": [
       "<div>\n",
       "<style scoped>\n",
       "    .dataframe tbody tr th:only-of-type {\n",
       "        vertical-align: middle;\n",
       "    }\n",
       "\n",
       "    .dataframe tbody tr th {\n",
       "        vertical-align: top;\n",
       "    }\n",
       "\n",
       "    .dataframe thead th {\n",
       "        text-align: right;\n",
       "    }\n",
       "</style>\n",
       "<table border=\"1\" class=\"dataframe\">\n",
       "  <thead>\n",
       "    <tr style=\"text-align: right;\">\n",
       "      <th></th>\n",
       "      <th>State</th>\n",
       "      <th>Account Length</th>\n",
       "      <th>Area Code</th>\n",
       "      <th>Phone</th>\n",
       "      <th>Int'l Plan</th>\n",
       "      <th>VMail Plan</th>\n",
       "      <th>VMail Message</th>\n",
       "      <th>Day Mins</th>\n",
       "      <th>Day Calls</th>\n",
       "      <th>Day Charge</th>\n",
       "      <th>Eve Mins</th>\n",
       "      <th>Eve Calls</th>\n",
       "      <th>Eve Charge</th>\n",
       "      <th>Night Mins</th>\n",
       "      <th>Night Calls</th>\n",
       "      <th>Night Charge</th>\n",
       "      <th>Intl Mins</th>\n",
       "      <th>Intl Calls</th>\n",
       "      <th>Intl Charge</th>\n",
       "      <th>CustServ Calls</th>\n",
       "      <th>Churn?</th>\n",
       "    </tr>\n",
       "  </thead>\n",
       "  <tbody>\n",
       "    <tr>\n",
       "      <th>0</th>\n",
       "      <td>PA</td>\n",
       "      <td>163</td>\n",
       "      <td>806</td>\n",
       "      <td>403-2562</td>\n",
       "      <td>no</td>\n",
       "      <td>yes</td>\n",
       "      <td>300</td>\n",
       "      <td>8.162204</td>\n",
       "      <td>3</td>\n",
       "      <td>7.579174</td>\n",
       "      <td>3.933035</td>\n",
       "      <td>4</td>\n",
       "      <td>6.508639</td>\n",
       "      <td>4.065759</td>\n",
       "      <td>100</td>\n",
       "      <td>5.111624</td>\n",
       "      <td>4.928160</td>\n",
       "      <td>6</td>\n",
       "      <td>5.673203</td>\n",
       "      <td>3</td>\n",
       "      <td>True.</td>\n",
       "    </tr>\n",
       "    <tr>\n",
       "      <th>1</th>\n",
       "      <td>SC</td>\n",
       "      <td>15</td>\n",
       "      <td>836</td>\n",
       "      <td>158-8416</td>\n",
       "      <td>yes</td>\n",
       "      <td>no</td>\n",
       "      <td>0</td>\n",
       "      <td>10.018993</td>\n",
       "      <td>4</td>\n",
       "      <td>4.226289</td>\n",
       "      <td>2.325005</td>\n",
       "      <td>0</td>\n",
       "      <td>9.972592</td>\n",
       "      <td>7.141040</td>\n",
       "      <td>200</td>\n",
       "      <td>6.436188</td>\n",
       "      <td>3.221748</td>\n",
       "      <td>6</td>\n",
       "      <td>2.559749</td>\n",
       "      <td>8</td>\n",
       "      <td>False.</td>\n",
       "    </tr>\n",
       "    <tr>\n",
       "      <th>2</th>\n",
       "      <td>MO</td>\n",
       "      <td>131</td>\n",
       "      <td>777</td>\n",
       "      <td>896-6253</td>\n",
       "      <td>no</td>\n",
       "      <td>yes</td>\n",
       "      <td>300</td>\n",
       "      <td>4.708490</td>\n",
       "      <td>3</td>\n",
       "      <td>4.768160</td>\n",
       "      <td>4.537466</td>\n",
       "      <td>3</td>\n",
       "      <td>4.566715</td>\n",
       "      <td>5.363235</td>\n",
       "      <td>100</td>\n",
       "      <td>5.142451</td>\n",
       "      <td>7.139023</td>\n",
       "      <td>2</td>\n",
       "      <td>6.254157</td>\n",
       "      <td>4</td>\n",
       "      <td>False.</td>\n",
       "    </tr>\n",
       "    <tr>\n",
       "      <th>3</th>\n",
       "      <td>WY</td>\n",
       "      <td>75</td>\n",
       "      <td>878</td>\n",
       "      <td>817-5729</td>\n",
       "      <td>yes</td>\n",
       "      <td>yes</td>\n",
       "      <td>700</td>\n",
       "      <td>1.268734</td>\n",
       "      <td>3</td>\n",
       "      <td>2.567642</td>\n",
       "      <td>2.528748</td>\n",
       "      <td>5</td>\n",
       "      <td>2.333624</td>\n",
       "      <td>3.773586</td>\n",
       "      <td>450</td>\n",
       "      <td>3.814413</td>\n",
       "      <td>2.245779</td>\n",
       "      <td>6</td>\n",
       "      <td>1.080692</td>\n",
       "      <td>6</td>\n",
       "      <td>False.</td>\n",
       "    </tr>\n",
       "    <tr>\n",
       "      <th>4</th>\n",
       "      <td>WY</td>\n",
       "      <td>146</td>\n",
       "      <td>878</td>\n",
       "      <td>450-4942</td>\n",
       "      <td>yes</td>\n",
       "      <td>no</td>\n",
       "      <td>0</td>\n",
       "      <td>2.696177</td>\n",
       "      <td>3</td>\n",
       "      <td>5.908916</td>\n",
       "      <td>6.015337</td>\n",
       "      <td>3</td>\n",
       "      <td>3.670408</td>\n",
       "      <td>3.751673</td>\n",
       "      <td>250</td>\n",
       "      <td>2.796812</td>\n",
       "      <td>6.905545</td>\n",
       "      <td>4</td>\n",
       "      <td>7.134343</td>\n",
       "      <td>6</td>\n",
       "      <td>True.</td>\n",
       "    </tr>\n",
       "    <tr>\n",
       "      <th>...</th>\n",
       "      <td>...</td>\n",
       "      <td>...</td>\n",
       "      <td>...</td>\n",
       "      <td>...</td>\n",
       "      <td>...</td>\n",
       "      <td>...</td>\n",
       "      <td>...</td>\n",
       "      <td>...</td>\n",
       "      <td>...</td>\n",
       "      <td>...</td>\n",
       "      <td>...</td>\n",
       "      <td>...</td>\n",
       "      <td>...</td>\n",
       "      <td>...</td>\n",
       "      <td>...</td>\n",
       "      <td>...</td>\n",
       "      <td>...</td>\n",
       "      <td>...</td>\n",
       "      <td>...</td>\n",
       "      <td>...</td>\n",
       "      <td>...</td>\n",
       "    </tr>\n",
       "    <tr>\n",
       "      <th>4995</th>\n",
       "      <td>NH</td>\n",
       "      <td>4</td>\n",
       "      <td>787</td>\n",
       "      <td>151-3162</td>\n",
       "      <td>yes</td>\n",
       "      <td>yes</td>\n",
       "      <td>800</td>\n",
       "      <td>10.862632</td>\n",
       "      <td>5</td>\n",
       "      <td>7.250969</td>\n",
       "      <td>6.936164</td>\n",
       "      <td>1</td>\n",
       "      <td>8.026482</td>\n",
       "      <td>4.921314</td>\n",
       "      <td>350</td>\n",
       "      <td>6.748489</td>\n",
       "      <td>4.872570</td>\n",
       "      <td>8</td>\n",
       "      <td>2.122530</td>\n",
       "      <td>9</td>\n",
       "      <td>False.</td>\n",
       "    </tr>\n",
       "    <tr>\n",
       "      <th>4996</th>\n",
       "      <td>SD</td>\n",
       "      <td>140</td>\n",
       "      <td>836</td>\n",
       "      <td>351-5993</td>\n",
       "      <td>no</td>\n",
       "      <td>no</td>\n",
       "      <td>0</td>\n",
       "      <td>1.581127</td>\n",
       "      <td>8</td>\n",
       "      <td>3.758307</td>\n",
       "      <td>7.377591</td>\n",
       "      <td>7</td>\n",
       "      <td>1.328827</td>\n",
       "      <td>0.939932</td>\n",
       "      <td>300</td>\n",
       "      <td>4.522661</td>\n",
       "      <td>6.938571</td>\n",
       "      <td>2</td>\n",
       "      <td>4.600473</td>\n",
       "      <td>4</td>\n",
       "      <td>False.</td>\n",
       "    </tr>\n",
       "    <tr>\n",
       "      <th>4997</th>\n",
       "      <td>SC</td>\n",
       "      <td>32</td>\n",
       "      <td>836</td>\n",
       "      <td>370-3127</td>\n",
       "      <td>no</td>\n",
       "      <td>yes</td>\n",
       "      <td>700</td>\n",
       "      <td>0.163836</td>\n",
       "      <td>5</td>\n",
       "      <td>4.243980</td>\n",
       "      <td>5.841852</td>\n",
       "      <td>3</td>\n",
       "      <td>2.340554</td>\n",
       "      <td>0.939469</td>\n",
       "      <td>450</td>\n",
       "      <td>5.157898</td>\n",
       "      <td>4.388328</td>\n",
       "      <td>7</td>\n",
       "      <td>1.060340</td>\n",
       "      <td>6</td>\n",
       "      <td>False.</td>\n",
       "    </tr>\n",
       "    <tr>\n",
       "      <th>4998</th>\n",
       "      <td>MA</td>\n",
       "      <td>142</td>\n",
       "      <td>776</td>\n",
       "      <td>604-2108</td>\n",
       "      <td>yes</td>\n",
       "      <td>yes</td>\n",
       "      <td>600</td>\n",
       "      <td>2.034454</td>\n",
       "      <td>5</td>\n",
       "      <td>3.014859</td>\n",
       "      <td>4.140554</td>\n",
       "      <td>3</td>\n",
       "      <td>3.470372</td>\n",
       "      <td>6.076043</td>\n",
       "      <td>150</td>\n",
       "      <td>4.362780</td>\n",
       "      <td>7.173376</td>\n",
       "      <td>3</td>\n",
       "      <td>4.871900</td>\n",
       "      <td>7</td>\n",
       "      <td>True.</td>\n",
       "    </tr>\n",
       "    <tr>\n",
       "      <th>4999</th>\n",
       "      <td>AL</td>\n",
       "      <td>141</td>\n",
       "      <td>657</td>\n",
       "      <td>294-2849</td>\n",
       "      <td>yes</td>\n",
       "      <td>yes</td>\n",
       "      <td>500</td>\n",
       "      <td>1.803907</td>\n",
       "      <td>0</td>\n",
       "      <td>5.125716</td>\n",
       "      <td>8.357508</td>\n",
       "      <td>0</td>\n",
       "      <td>2.109823</td>\n",
       "      <td>2.624299</td>\n",
       "      <td>400</td>\n",
       "      <td>3.713631</td>\n",
       "      <td>5.798783</td>\n",
       "      <td>6</td>\n",
       "      <td>5.485345</td>\n",
       "      <td>7</td>\n",
       "      <td>False.</td>\n",
       "    </tr>\n",
       "  </tbody>\n",
       "</table>\n",
       "<p>5000 rows × 21 columns</p>\n",
       "</div>"
      ],
      "text/plain": [
       "     State  Account Length  Area Code     Phone Int'l Plan VMail Plan  \\\n",
       "0       PA             163        806  403-2562         no        yes   \n",
       "1       SC              15        836  158-8416        yes         no   \n",
       "2       MO             131        777  896-6253         no        yes   \n",
       "3       WY              75        878  817-5729        yes        yes   \n",
       "4       WY             146        878  450-4942        yes         no   \n",
       "...    ...             ...        ...       ...        ...        ...   \n",
       "4995    NH               4        787  151-3162        yes        yes   \n",
       "4996    SD             140        836  351-5993         no         no   \n",
       "4997    SC              32        836  370-3127         no        yes   \n",
       "4998    MA             142        776  604-2108        yes        yes   \n",
       "4999    AL             141        657  294-2849        yes        yes   \n",
       "\n",
       "      VMail Message   Day Mins  Day Calls  Day Charge  Eve Mins  Eve Calls  \\\n",
       "0               300   8.162204          3    7.579174  3.933035          4   \n",
       "1                 0  10.018993          4    4.226289  2.325005          0   \n",
       "2               300   4.708490          3    4.768160  4.537466          3   \n",
       "3               700   1.268734          3    2.567642  2.528748          5   \n",
       "4                 0   2.696177          3    5.908916  6.015337          3   \n",
       "...             ...        ...        ...         ...       ...        ...   \n",
       "4995            800  10.862632          5    7.250969  6.936164          1   \n",
       "4996              0   1.581127          8    3.758307  7.377591          7   \n",
       "4997            700   0.163836          5    4.243980  5.841852          3   \n",
       "4998            600   2.034454          5    3.014859  4.140554          3   \n",
       "4999            500   1.803907          0    5.125716  8.357508          0   \n",
       "\n",
       "      Eve Charge  Night Mins  Night Calls  Night Charge  Intl Mins  \\\n",
       "0       6.508639    4.065759          100      5.111624   4.928160   \n",
       "1       9.972592    7.141040          200      6.436188   3.221748   \n",
       "2       4.566715    5.363235          100      5.142451   7.139023   \n",
       "3       2.333624    3.773586          450      3.814413   2.245779   \n",
       "4       3.670408    3.751673          250      2.796812   6.905545   \n",
       "...          ...         ...          ...           ...        ...   \n",
       "4995    8.026482    4.921314          350      6.748489   4.872570   \n",
       "4996    1.328827    0.939932          300      4.522661   6.938571   \n",
       "4997    2.340554    0.939469          450      5.157898   4.388328   \n",
       "4998    3.470372    6.076043          150      4.362780   7.173376   \n",
       "4999    2.109823    2.624299          400      3.713631   5.798783   \n",
       "\n",
       "      Intl Calls  Intl Charge  CustServ Calls  Churn?  \n",
       "0              6     5.673203               3   True.  \n",
       "1              6     2.559749               8  False.  \n",
       "2              2     6.254157               4  False.  \n",
       "3              6     1.080692               6  False.  \n",
       "4              4     7.134343               6   True.  \n",
       "...          ...          ...             ...     ...  \n",
       "4995           8     2.122530               9  False.  \n",
       "4996           2     4.600473               4  False.  \n",
       "4997           7     1.060340               6  False.  \n",
       "4998           3     4.871900               7   True.  \n",
       "4999           6     5.485345               7  False.  \n",
       "\n",
       "[5000 rows x 21 columns]"
      ]
     },
     "execution_count": 4,
     "metadata": {},
     "output_type": "execute_result"
    }
   ],
   "source": [
    "churn = pd.read_csv(\"./churn.txt\")\n",
    "pd.set_option(\"display.max_columns\", 500)\n",
    "churn"
   ]
  },
  {
   "cell_type": "code",
   "execution_count": 5,
   "id": "7a9e4862",
   "metadata": {},
   "outputs": [
    {
     "data": {
      "text/plain": [
       "21"
      ]
     },
     "execution_count": 5,
     "metadata": {},
     "output_type": "execute_result"
    }
   ],
   "source": [
    "len(churn.columns)"
   ]
  },
  {
   "cell_type": "code",
   "execution_count": 6,
   "id": "c9d284eb",
   "metadata": {},
   "outputs": [
    {
     "name": "stdout",
     "output_type": "stream",
     "text": [
      "<class 'pandas.core.frame.DataFrame'>\n",
      "RangeIndex: 5000 entries, 0 to 4999\n",
      "Data columns (total 21 columns):\n",
      " #   Column          Non-Null Count  Dtype  \n",
      "---  ------          --------------  -----  \n",
      " 0   State           5000 non-null   object \n",
      " 1   Account Length  5000 non-null   int64  \n",
      " 2   Area Code       5000 non-null   int64  \n",
      " 3   Phone           5000 non-null   object \n",
      " 4   Int'l Plan      5000 non-null   object \n",
      " 5   VMail Plan      5000 non-null   object \n",
      " 6   VMail Message   5000 non-null   int64  \n",
      " 7   Day Mins        5000 non-null   float64\n",
      " 8   Day Calls       5000 non-null   int64  \n",
      " 9   Day Charge      5000 non-null   float64\n",
      " 10  Eve Mins        5000 non-null   float64\n",
      " 11  Eve Calls       5000 non-null   int64  \n",
      " 12  Eve Charge      5000 non-null   float64\n",
      " 13  Night Mins      5000 non-null   float64\n",
      " 14  Night Calls     5000 non-null   int64  \n",
      " 15  Night Charge    5000 non-null   float64\n",
      " 16  Intl Mins       5000 non-null   float64\n",
      " 17  Intl Calls      5000 non-null   int64  \n",
      " 18  Intl Charge     5000 non-null   float64\n",
      " 19  CustServ Calls  5000 non-null   int64  \n",
      " 20  Churn?          5000 non-null   object \n",
      "dtypes: float64(8), int64(8), object(5)\n",
      "memory usage: 820.4+ KB\n"
     ]
    }
   ],
   "source": [
    "churn.info()"
   ]
  },
  {
   "cell_type": "markdown",
   "id": "1ecf81c8",
   "metadata": {
    "papermill": {
     "duration": 0.019033,
     "end_time": "2021-06-07T00:09:48.224277",
     "exception": false,
     "start_time": "2021-06-07T00:09:48.205244",
     "status": "completed"
    },
    "tags": []
   },
   "source": [
    "약 5,000개의 레코드를 가지는 (현재 기준으로는) 매우 작은 데이터셋입니다. 각 레코드는 미국의 어떤 이동통신사 고객의 프로파일을 설명하는 21개의 속성으로 이루어져 있습니다.\n",
    "속성은 다음과 같습니다:\n",
    "\n",
    "- `State`: 고객이 거주하는 미국의 주(state), 두자리 문자로 구성됨. (예: OH, NJ)\n",
    "- `Account Length`: 해당 어카운트가 활성화된 후 경과한 시간 (dyas) \n",
    "- `Area Code`: 고객 전화번호에서 3자리 지역 코드 \n",
    "- `Phone`: 고객 전화번호 중 나머지 7자리 \n",
    "- `Int’l Plan`: 고객이 국제전화 플랜을 사용하는지 여부 (yes/no)\n",
    "- `VMail Plan`: 고객이 음성메일 플랜을 사용하는지 여부 (yes/no)\n",
    "- `VMail Message`: 매달 평균 음성메일 메시지 건수 \n",
    "- `Day Mins`: 주간(daytime)동안 총 통화시간 \n",
    "- `Day Calls`: 주간(daytime)동안 총 통화회수\n",
    "- `Day Charge`: 주간(daytime) 통화에 청구한 비용 \n",
    "- `Eve Mins, Eve Calls, Eve Charge`: 저녁시간 청구된 비용과 콜 건수, 시간  \n",
    "- `Night Mins`, `Night Calls`, `Night Charge`: 야간시간 청구된 비용과 콜 건수, 시간\n",
    "- `Intl Mins`, `Intl Calls`, `Intl Charge`: 국제전화 통화 청구금액 \n",
    "- `CustServ Calls`: 고객서비스에 전화를 건 회수 \n",
    "- `Churn?`: 고객이 서비스를 이탈하였는지 여부 (true/false)\n",
    "\n",
    "마지막 속성인 `Churn?`이 우리가 만들 모델이 예측하고자 하는 목표변수이다. 목표변수가 두개의 값을 가지므로 우리의 모델은 이진분류문제를 해결하는 모델이 될 것입니다. \n",
    "\n",
    "다음은 데이터로부터 EDA를 진행해보겠습니다. 데이터타입이 `object`인 컬럼"
   ]
  },
  {
   "cell_type": "code",
   "execution_count": 7,
   "id": "ab7309b5",
   "metadata": {
    "execution": {
     "iopub.execute_input": "2021-06-07T00:09:48.270539Z",
     "iopub.status.busy": "2021-06-07T00:09:48.269808Z",
     "iopub.status.idle": "2021-06-07T00:09:50.639029Z",
     "shell.execute_reply": "2021-06-07T00:09:50.639403Z"
    },
    "papermill": {
     "duration": 2.396119,
     "end_time": "2021-06-07T00:09:50.639536",
     "exception": false,
     "start_time": "2021-06-07T00:09:48.243417",
     "status": "completed"
    },
    "tags": []
   },
   "outputs": [
    {
     "data": {
      "text/html": [
       "<div>\n",
       "<style scoped>\n",
       "    .dataframe tbody tr th:only-of-type {\n",
       "        vertical-align: middle;\n",
       "    }\n",
       "\n",
       "    .dataframe tbody tr th {\n",
       "        vertical-align: top;\n",
       "    }\n",
       "\n",
       "    .dataframe thead th {\n",
       "        text-align: right;\n",
       "    }\n",
       "</style>\n",
       "<table border=\"1\" class=\"dataframe\">\n",
       "  <thead>\n",
       "    <tr style=\"text-align: right;\">\n",
       "      <th></th>\n",
       "      <th>Account Length</th>\n",
       "      <th>Area Code</th>\n",
       "      <th>VMail Message</th>\n",
       "      <th>Day Mins</th>\n",
       "      <th>Day Calls</th>\n",
       "      <th>Day Charge</th>\n",
       "      <th>Eve Mins</th>\n",
       "      <th>Eve Calls</th>\n",
       "      <th>Eve Charge</th>\n",
       "      <th>Night Mins</th>\n",
       "      <th>Night Calls</th>\n",
       "      <th>Night Charge</th>\n",
       "      <th>Intl Mins</th>\n",
       "      <th>Intl Calls</th>\n",
       "      <th>Intl Charge</th>\n",
       "      <th>CustServ Calls</th>\n",
       "    </tr>\n",
       "  </thead>\n",
       "  <tbody>\n",
       "    <tr>\n",
       "      <th>count</th>\n",
       "      <td>5000.000000</td>\n",
       "      <td>5000.000000</td>\n",
       "      <td>5000.000000</td>\n",
       "      <td>5000.000000</td>\n",
       "      <td>5000.00000</td>\n",
       "      <td>5000.000000</td>\n",
       "      <td>5000.000000</td>\n",
       "      <td>5000.000000</td>\n",
       "      <td>5000.000000</td>\n",
       "      <td>5000.000000</td>\n",
       "      <td>5000.000000</td>\n",
       "      <td>5000.000000</td>\n",
       "      <td>5000.000000</td>\n",
       "      <td>5000.000000</td>\n",
       "      <td>5000.000000</td>\n",
       "      <td>5000.000000</td>\n",
       "    </tr>\n",
       "    <tr>\n",
       "      <th>mean</th>\n",
       "      <td>101.675800</td>\n",
       "      <td>773.791400</td>\n",
       "      <td>226.680000</td>\n",
       "      <td>5.518757</td>\n",
       "      <td>3.50460</td>\n",
       "      <td>5.018902</td>\n",
       "      <td>5.026199</td>\n",
       "      <td>3.140400</td>\n",
       "      <td>5.017557</td>\n",
       "      <td>4.000917</td>\n",
       "      <td>224.790000</td>\n",
       "      <td>5.023490</td>\n",
       "      <td>5.025876</td>\n",
       "      <td>5.475400</td>\n",
       "      <td>4.328242</td>\n",
       "      <td>5.525800</td>\n",
       "    </tr>\n",
       "    <tr>\n",
       "      <th>std</th>\n",
       "      <td>57.596762</td>\n",
       "      <td>63.470888</td>\n",
       "      <td>273.998527</td>\n",
       "      <td>3.433485</td>\n",
       "      <td>1.68812</td>\n",
       "      <td>2.195759</td>\n",
       "      <td>2.135487</td>\n",
       "      <td>2.525621</td>\n",
       "      <td>2.127857</td>\n",
       "      <td>1.631001</td>\n",
       "      <td>97.302875</td>\n",
       "      <td>1.748900</td>\n",
       "      <td>1.019302</td>\n",
       "      <td>1.877045</td>\n",
       "      <td>2.440311</td>\n",
       "      <td>2.041217</td>\n",
       "    </tr>\n",
       "    <tr>\n",
       "      <th>min</th>\n",
       "      <td>1.000000</td>\n",
       "      <td>657.000000</td>\n",
       "      <td>0.000000</td>\n",
       "      <td>0.000215</td>\n",
       "      <td>0.00000</td>\n",
       "      <td>0.004777</td>\n",
       "      <td>0.004659</td>\n",
       "      <td>0.000000</td>\n",
       "      <td>0.013573</td>\n",
       "      <td>0.008468</td>\n",
       "      <td>0.000000</td>\n",
       "      <td>0.054863</td>\n",
       "      <td>1.648514</td>\n",
       "      <td>0.000000</td>\n",
       "      <td>0.000769</td>\n",
       "      <td>0.000000</td>\n",
       "    </tr>\n",
       "    <tr>\n",
       "      <th>25%</th>\n",
       "      <td>52.000000</td>\n",
       "      <td>736.000000</td>\n",
       "      <td>0.000000</td>\n",
       "      <td>2.682384</td>\n",
       "      <td>2.00000</td>\n",
       "      <td>3.470151</td>\n",
       "      <td>3.588466</td>\n",
       "      <td>1.000000</td>\n",
       "      <td>3.529613</td>\n",
       "      <td>2.921998</td>\n",
       "      <td>150.000000</td>\n",
       "      <td>3.873157</td>\n",
       "      <td>4.349726</td>\n",
       "      <td>4.000000</td>\n",
       "      <td>2.468225</td>\n",
       "      <td>4.000000</td>\n",
       "    </tr>\n",
       "    <tr>\n",
       "      <th>50%</th>\n",
       "      <td>102.000000</td>\n",
       "      <td>778.000000</td>\n",
       "      <td>0.000000</td>\n",
       "      <td>5.336245</td>\n",
       "      <td>3.00000</td>\n",
       "      <td>4.988291</td>\n",
       "      <td>5.145656</td>\n",
       "      <td>3.000000</td>\n",
       "      <td>5.006860</td>\n",
       "      <td>3.962089</td>\n",
       "      <td>200.000000</td>\n",
       "      <td>5.169154</td>\n",
       "      <td>5.034905</td>\n",
       "      <td>5.000000</td>\n",
       "      <td>4.214058</td>\n",
       "      <td>6.000000</td>\n",
       "    </tr>\n",
       "    <tr>\n",
       "      <th>75%</th>\n",
       "      <td>151.000000</td>\n",
       "      <td>806.000000</td>\n",
       "      <td>400.000000</td>\n",
       "      <td>7.936151</td>\n",
       "      <td>5.00000</td>\n",
       "      <td>6.559750</td>\n",
       "      <td>6.552962</td>\n",
       "      <td>5.000000</td>\n",
       "      <td>6.491725</td>\n",
       "      <td>5.100128</td>\n",
       "      <td>300.000000</td>\n",
       "      <td>6.272015</td>\n",
       "      <td>5.716386</td>\n",
       "      <td>7.000000</td>\n",
       "      <td>5.960654</td>\n",
       "      <td>7.000000</td>\n",
       "    </tr>\n",
       "    <tr>\n",
       "      <th>max</th>\n",
       "      <td>200.000000</td>\n",
       "      <td>878.000000</td>\n",
       "      <td>1300.000000</td>\n",
       "      <td>16.897529</td>\n",
       "      <td>10.00000</td>\n",
       "      <td>12.731936</td>\n",
       "      <td>13.622097</td>\n",
       "      <td>14.000000</td>\n",
       "      <td>12.352871</td>\n",
       "      <td>10.183378</td>\n",
       "      <td>550.000000</td>\n",
       "      <td>10.407778</td>\n",
       "      <td>8.405644</td>\n",
       "      <td>12.000000</td>\n",
       "      <td>14.212261</td>\n",
       "      <td>13.000000</td>\n",
       "    </tr>\n",
       "  </tbody>\n",
       "</table>\n",
       "</div>"
      ],
      "text/plain": [
       "       Account Length    Area Code  VMail Message     Day Mins   Day Calls  \\\n",
       "count     5000.000000  5000.000000    5000.000000  5000.000000  5000.00000   \n",
       "mean       101.675800   773.791400     226.680000     5.518757     3.50460   \n",
       "std         57.596762    63.470888     273.998527     3.433485     1.68812   \n",
       "min          1.000000   657.000000       0.000000     0.000215     0.00000   \n",
       "25%         52.000000   736.000000       0.000000     2.682384     2.00000   \n",
       "50%        102.000000   778.000000       0.000000     5.336245     3.00000   \n",
       "75%        151.000000   806.000000     400.000000     7.936151     5.00000   \n",
       "max        200.000000   878.000000    1300.000000    16.897529    10.00000   \n",
       "\n",
       "        Day Charge     Eve Mins    Eve Calls   Eve Charge   Night Mins  \\\n",
       "count  5000.000000  5000.000000  5000.000000  5000.000000  5000.000000   \n",
       "mean      5.018902     5.026199     3.140400     5.017557     4.000917   \n",
       "std       2.195759     2.135487     2.525621     2.127857     1.631001   \n",
       "min       0.004777     0.004659     0.000000     0.013573     0.008468   \n",
       "25%       3.470151     3.588466     1.000000     3.529613     2.921998   \n",
       "50%       4.988291     5.145656     3.000000     5.006860     3.962089   \n",
       "75%       6.559750     6.552962     5.000000     6.491725     5.100128   \n",
       "max      12.731936    13.622097    14.000000    12.352871    10.183378   \n",
       "\n",
       "       Night Calls  Night Charge    Intl Mins   Intl Calls  Intl Charge  \\\n",
       "count  5000.000000   5000.000000  5000.000000  5000.000000  5000.000000   \n",
       "mean    224.790000      5.023490     5.025876     5.475400     4.328242   \n",
       "std      97.302875      1.748900     1.019302     1.877045     2.440311   \n",
       "min       0.000000      0.054863     1.648514     0.000000     0.000769   \n",
       "25%     150.000000      3.873157     4.349726     4.000000     2.468225   \n",
       "50%     200.000000      5.169154     5.034905     5.000000     4.214058   \n",
       "75%     300.000000      6.272015     5.716386     7.000000     5.960654   \n",
       "max     550.000000     10.407778     8.405644    12.000000    14.212261   \n",
       "\n",
       "       CustServ Calls  \n",
       "count     5000.000000  \n",
       "mean         5.525800  \n",
       "std          2.041217  \n",
       "min          0.000000  \n",
       "25%          4.000000  \n",
       "50%          6.000000  \n",
       "75%          7.000000  \n",
       "max         13.000000  "
      ]
     },
     "metadata": {},
     "output_type": "display_data"
    },
    {
     "data": {
      "image/png": "[encoded data removed]",
      "text/plain": [
       "<Figure size 720x720 with 16 Axes>"
      ]
     },
     "metadata": {
      "needs_background": "light"
     },
     "output_type": "display_data"
    }
   ],
   "source": [
    "# Frequency tables for each categorical feature\n",
    "# for column in churn.select_dtypes(include=[\"object\"]).columns:\n",
    "#     display(pd.crosstab(index=churn[column], columns=\"% observations\", normalize=\"columns\"))\n",
    "\n",
    "# Histograms for each numeric features\n",
    "display(churn.describe())\n",
    "%matplotlib inline\n",
    "hist = churn.hist(bins=30, sharey=True, figsize=(10, 10))"
   ]
  },
  {
   "cell_type": "markdown",
   "id": "5e0998c7",
   "metadata": {
    "papermill": {
     "duration": 0.022357,
     "end_time": "2021-06-07T00:09:50.685414",
     "exception": false,
     "start_time": "2021-06-07T00:09:50.663057",
     "status": "completed"
    },
    "tags": []
   },
   "source": [
    "방금 분석을 통해 바로 다음을 알 수 있다. \n",
    "\n",
    "- 고객의 `주(state)`는 고르게 분포되어 있다.\n",
    "- `Phone` 속성은 너무 많은 고유값을 가지고 있어서 실용적이지 않다. 자리수 중 일부가 특정 의미를 내포할 가능성은 있지만, 이들 번호가 어떻게 할당되는지 알지 못하는 상황으므로 해당 값은 사용하지 않는 것이 좋을것 같다.\n",
    "- 숫자 속성들 중 대부분은 분포가 고르고 벨모양의 가우시안 분포를 따른다. `음성메일 메시지(VMail Message)` 속성의 분포는 일정하지 않다. \n",
    "- `지역코드(Area Code)` 속성은 숫자가 아닌 명목형 변수로 바뀌어야 할 것 같다.\n"
   ]
  },
  {
   "cell_type": "code",
   "execution_count": 8,
   "id": "36d7ff3d",
   "metadata": {
    "execution": {
     "iopub.execute_input": "2021-06-07T00:09:50.735986Z",
     "iopub.status.busy": "2021-06-07T00:09:50.735386Z",
     "iopub.status.idle": "2021-06-07T00:09:50.737816Z",
     "shell.execute_reply": "2021-06-07T00:09:50.738157Z"
    },
    "papermill": {
     "duration": 0.030406,
     "end_time": "2021-06-07T00:09:50.738287",
     "exception": false,
     "start_time": "2021-06-07T00:09:50.707881",
     "status": "completed"
    },
    "tags": []
   },
   "outputs": [],
   "source": [
    "churn = churn.drop(\"Phone\", axis=1)\n",
    "churn[\"Area Code\"] = churn[\"Area Code\"].astype(object)"
   ]
  },
  {
   "cell_type": "markdown",
   "id": "7b320c5d",
   "metadata": {
    "papermill": {
     "duration": 0.022422,
     "end_time": "2021-06-07T00:09:50.783342",
     "exception": false,
     "start_time": "2021-06-07T00:09:50.760920",
     "status": "completed"
    },
    "tags": []
   },
   "source": [
    "다음은 데이터셋의 각 특성컬럼값들과 목표변수의 관계를 살펴봅니다. "
   ]
  },
  {
   "cell_type": "code",
   "execution_count": 9,
   "id": "691027a6",
   "metadata": {
    "execution": {
     "iopub.execute_input": "2021-06-07T00:09:50.834855Z",
     "iopub.status.busy": "2021-06-07T00:09:50.834376Z",
     "iopub.status.idle": "2021-06-07T00:09:55.450575Z",
     "shell.execute_reply": "2021-06-07T00:09:55.450997Z"
    },
    "papermill": {
     "duration": 4.645229,
     "end_time": "2021-06-07T00:09:55.451149",
     "exception": false,
     "start_time": "2021-06-07T00:09:50.805920",
     "status": "completed"
    },
    "tags": []
   },
   "outputs": [
    {
     "data": {
      "text/html": [
       "<div>\n",
       "<style scoped>\n",
       "    .dataframe tbody tr th:only-of-type {\n",
       "        vertical-align: middle;\n",
       "    }\n",
       "\n",
       "    .dataframe tbody tr th {\n",
       "        vertical-align: top;\n",
       "    }\n",
       "\n",
       "    .dataframe thead th {\n",
       "        text-align: right;\n",
       "    }\n",
       "</style>\n",
       "<table border=\"1\" class=\"dataframe\">\n",
       "  <thead>\n",
       "    <tr style=\"text-align: right;\">\n",
       "      <th>Churn?</th>\n",
       "      <th>False.</th>\n",
       "      <th>True.</th>\n",
       "    </tr>\n",
       "    <tr>\n",
       "      <th>State</th>\n",
       "      <th></th>\n",
       "      <th></th>\n",
       "    </tr>\n",
       "  </thead>\n",
       "  <tbody>\n",
       "    <tr>\n",
       "      <th>AK</th>\n",
       "      <td>0.015588</td>\n",
       "      <td>0.018415</td>\n",
       "    </tr>\n",
       "    <tr>\n",
       "      <th>AL</th>\n",
       "      <td>0.021583</td>\n",
       "      <td>0.018415</td>\n",
       "    </tr>\n",
       "    <tr>\n",
       "      <th>AR</th>\n",
       "      <td>0.022782</td>\n",
       "      <td>0.021217</td>\n",
       "    </tr>\n",
       "    <tr>\n",
       "      <th>AZ</th>\n",
       "      <td>0.015588</td>\n",
       "      <td>0.020416</td>\n",
       "    </tr>\n",
       "    <tr>\n",
       "      <th>CA</th>\n",
       "      <td>0.020384</td>\n",
       "      <td>0.021217</td>\n",
       "    </tr>\n",
       "    <tr>\n",
       "      <th>CO</th>\n",
       "      <td>0.018785</td>\n",
       "      <td>0.017614</td>\n",
       "    </tr>\n",
       "    <tr>\n",
       "      <th>CT</th>\n",
       "      <td>0.015588</td>\n",
       "      <td>0.020016</td>\n",
       "    </tr>\n",
       "    <tr>\n",
       "      <th>DC</th>\n",
       "      <td>0.022382</td>\n",
       "      <td>0.022418</td>\n",
       "    </tr>\n",
       "    <tr>\n",
       "      <th>DE</th>\n",
       "      <td>0.018385</td>\n",
       "      <td>0.018014</td>\n",
       "    </tr>\n",
       "    <tr>\n",
       "      <th>FL</th>\n",
       "      <td>0.019984</td>\n",
       "      <td>0.015612</td>\n",
       "    </tr>\n",
       "    <tr>\n",
       "      <th>GA</th>\n",
       "      <td>0.017986</td>\n",
       "      <td>0.015212</td>\n",
       "    </tr>\n",
       "    <tr>\n",
       "      <th>HI</th>\n",
       "      <td>0.019185</td>\n",
       "      <td>0.018815</td>\n",
       "    </tr>\n",
       "    <tr>\n",
       "      <th>IA</th>\n",
       "      <td>0.018385</td>\n",
       "      <td>0.022818</td>\n",
       "    </tr>\n",
       "    <tr>\n",
       "      <th>ID</th>\n",
       "      <td>0.021583</td>\n",
       "      <td>0.022818</td>\n",
       "    </tr>\n",
       "    <tr>\n",
       "      <th>IL</th>\n",
       "      <td>0.021982</td>\n",
       "      <td>0.017614</td>\n",
       "    </tr>\n",
       "    <tr>\n",
       "      <th>IN</th>\n",
       "      <td>0.021583</td>\n",
       "      <td>0.016413</td>\n",
       "    </tr>\n",
       "    <tr>\n",
       "      <th>KS</th>\n",
       "      <td>0.014788</td>\n",
       "      <td>0.016813</td>\n",
       "    </tr>\n",
       "    <tr>\n",
       "      <th>KY</th>\n",
       "      <td>0.017186</td>\n",
       "      <td>0.019215</td>\n",
       "    </tr>\n",
       "    <tr>\n",
       "      <th>LA</th>\n",
       "      <td>0.020783</td>\n",
       "      <td>0.019616</td>\n",
       "    </tr>\n",
       "    <tr>\n",
       "      <th>MA</th>\n",
       "      <td>0.021183</td>\n",
       "      <td>0.020416</td>\n",
       "    </tr>\n",
       "    <tr>\n",
       "      <th>MD</th>\n",
       "      <td>0.019584</td>\n",
       "      <td>0.025620</td>\n",
       "    </tr>\n",
       "    <tr>\n",
       "      <th>ME</th>\n",
       "      <td>0.013589</td>\n",
       "      <td>0.016013</td>\n",
       "    </tr>\n",
       "    <tr>\n",
       "      <th>MI</th>\n",
       "      <td>0.018785</td>\n",
       "      <td>0.021617</td>\n",
       "    </tr>\n",
       "    <tr>\n",
       "      <th>MN</th>\n",
       "      <td>0.022782</td>\n",
       "      <td>0.021217</td>\n",
       "    </tr>\n",
       "    <tr>\n",
       "      <th>MO</th>\n",
       "      <td>0.020783</td>\n",
       "      <td>0.021617</td>\n",
       "    </tr>\n",
       "    <tr>\n",
       "      <th>MS</th>\n",
       "      <td>0.019584</td>\n",
       "      <td>0.022818</td>\n",
       "    </tr>\n",
       "    <tr>\n",
       "      <th>MT</th>\n",
       "      <td>0.017586</td>\n",
       "      <td>0.018415</td>\n",
       "    </tr>\n",
       "    <tr>\n",
       "      <th>NC</th>\n",
       "      <td>0.017186</td>\n",
       "      <td>0.020817</td>\n",
       "    </tr>\n",
       "    <tr>\n",
       "      <th>ND</th>\n",
       "      <td>0.017186</td>\n",
       "      <td>0.014812</td>\n",
       "    </tr>\n",
       "    <tr>\n",
       "      <th>NE</th>\n",
       "      <td>0.019185</td>\n",
       "      <td>0.024420</td>\n",
       "    </tr>\n",
       "    <tr>\n",
       "      <th>NH</th>\n",
       "      <td>0.019984</td>\n",
       "      <td>0.017614</td>\n",
       "    </tr>\n",
       "    <tr>\n",
       "      <th>NJ</th>\n",
       "      <td>0.022382</td>\n",
       "      <td>0.018014</td>\n",
       "    </tr>\n",
       "    <tr>\n",
       "      <th>NM</th>\n",
       "      <td>0.017186</td>\n",
       "      <td>0.016013</td>\n",
       "    </tr>\n",
       "    <tr>\n",
       "      <th>NV</th>\n",
       "      <td>0.023181</td>\n",
       "      <td>0.016413</td>\n",
       "    </tr>\n",
       "    <tr>\n",
       "      <th>NY</th>\n",
       "      <td>0.015188</td>\n",
       "      <td>0.024019</td>\n",
       "    </tr>\n",
       "    <tr>\n",
       "      <th>OH</th>\n",
       "      <td>0.019185</td>\n",
       "      <td>0.025220</td>\n",
       "    </tr>\n",
       "    <tr>\n",
       "      <th>OK</th>\n",
       "      <td>0.021183</td>\n",
       "      <td>0.016013</td>\n",
       "    </tr>\n",
       "    <tr>\n",
       "      <th>OR</th>\n",
       "      <td>0.019185</td>\n",
       "      <td>0.021617</td>\n",
       "    </tr>\n",
       "    <tr>\n",
       "      <th>PA</th>\n",
       "      <td>0.018785</td>\n",
       "      <td>0.020817</td>\n",
       "    </tr>\n",
       "    <tr>\n",
       "      <th>RI</th>\n",
       "      <td>0.024380</td>\n",
       "      <td>0.023619</td>\n",
       "    </tr>\n",
       "    <tr>\n",
       "      <th>SC</th>\n",
       "      <td>0.021583</td>\n",
       "      <td>0.023619</td>\n",
       "    </tr>\n",
       "    <tr>\n",
       "      <th>SD</th>\n",
       "      <td>0.021583</td>\n",
       "      <td>0.019215</td>\n",
       "    </tr>\n",
       "    <tr>\n",
       "      <th>TN</th>\n",
       "      <td>0.021982</td>\n",
       "      <td>0.016813</td>\n",
       "    </tr>\n",
       "    <tr>\n",
       "      <th>TX</th>\n",
       "      <td>0.019185</td>\n",
       "      <td>0.020016</td>\n",
       "    </tr>\n",
       "    <tr>\n",
       "      <th>UT</th>\n",
       "      <td>0.018385</td>\n",
       "      <td>0.019616</td>\n",
       "    </tr>\n",
       "    <tr>\n",
       "      <th>VA</th>\n",
       "      <td>0.021183</td>\n",
       "      <td>0.018415</td>\n",
       "    </tr>\n",
       "    <tr>\n",
       "      <th>VT</th>\n",
       "      <td>0.022382</td>\n",
       "      <td>0.016413</td>\n",
       "    </tr>\n",
       "    <tr>\n",
       "      <th>WA</th>\n",
       "      <td>0.021982</td>\n",
       "      <td>0.018415</td>\n",
       "    </tr>\n",
       "    <tr>\n",
       "      <th>WI</th>\n",
       "      <td>0.018785</td>\n",
       "      <td>0.015212</td>\n",
       "    </tr>\n",
       "    <tr>\n",
       "      <th>WV</th>\n",
       "      <td>0.019584</td>\n",
       "      <td>0.022018</td>\n",
       "    </tr>\n",
       "    <tr>\n",
       "      <th>WY</th>\n",
       "      <td>0.020783</td>\n",
       "      <td>0.020416</td>\n",
       "    </tr>\n",
       "  </tbody>\n",
       "</table>\n",
       "</div>"
      ],
      "text/plain": [
       "Churn?    False.     True.\n",
       "State                     \n",
       "AK      0.015588  0.018415\n",
       "AL      0.021583  0.018415\n",
       "AR      0.022782  0.021217\n",
       "AZ      0.015588  0.020416\n",
       "CA      0.020384  0.021217\n",
       "CO      0.018785  0.017614\n",
       "CT      0.015588  0.020016\n",
       "DC      0.022382  0.022418\n",
       "DE      0.018385  0.018014\n",
       "FL      0.019984  0.015612\n",
       "GA      0.017986  0.015212\n",
       "HI      0.019185  0.018815\n",
       "IA      0.018385  0.022818\n",
       "ID      0.021583  0.022818\n",
       "IL      0.021982  0.017614\n",
       "IN      0.021583  0.016413\n",
       "KS      0.014788  0.016813\n",
       "KY      0.017186  0.019215\n",
       "LA      0.020783  0.019616\n",
       "MA      0.021183  0.020416\n",
       "MD      0.019584  0.025620\n",
       "ME      0.013589  0.016013\n",
       "MI      0.018785  0.021617\n",
       "MN      0.022782  0.021217\n",
       "MO      0.020783  0.021617\n",
       "MS      0.019584  0.022818\n",
       "MT      0.017586  0.018415\n",
       "NC      0.017186  0.020817\n",
       "ND      0.017186  0.014812\n",
       "NE      0.019185  0.024420\n",
       "NH      0.019984  0.017614\n",
       "NJ      0.022382  0.018014\n",
       "NM      0.017186  0.016013\n",
       "NV      0.023181  0.016413\n",
       "NY      0.015188  0.024019\n",
       "OH      0.019185  0.025220\n",
       "OK      0.021183  0.016013\n",
       "OR      0.019185  0.021617\n",
       "PA      0.018785  0.020817\n",
       "RI      0.024380  0.023619\n",
       "SC      0.021583  0.023619\n",
       "SD      0.021583  0.019215\n",
       "TN      0.021982  0.016813\n",
       "TX      0.019185  0.020016\n",
       "UT      0.018385  0.019616\n",
       "VA      0.021183  0.018415\n",
       "VT      0.022382  0.016413\n",
       "WA      0.021982  0.018415\n",
       "WI      0.018785  0.015212\n",
       "WV      0.019584  0.022018\n",
       "WY      0.020783  0.020416"
      ]
     },
     "metadata": {},
     "output_type": "display_data"
    },
    {
     "data": {
      "text/html": [
       "<div>\n",
       "<style scoped>\n",
       "    .dataframe tbody tr th:only-of-type {\n",
       "        vertical-align: middle;\n",
       "    }\n",
       "\n",
       "    .dataframe tbody tr th {\n",
       "        vertical-align: top;\n",
       "    }\n",
       "\n",
       "    .dataframe thead th {\n",
       "        text-align: right;\n",
       "    }\n",
       "</style>\n",
       "<table border=\"1\" class=\"dataframe\">\n",
       "  <thead>\n",
       "    <tr style=\"text-align: right;\">\n",
       "      <th>Churn?</th>\n",
       "      <th>False.</th>\n",
       "      <th>True.</th>\n",
       "    </tr>\n",
       "    <tr>\n",
       "      <th>Area Code</th>\n",
       "      <th></th>\n",
       "      <th></th>\n",
       "    </tr>\n",
       "  </thead>\n",
       "  <tbody>\n",
       "    <tr>\n",
       "      <th>657</th>\n",
       "      <td>0.037170</td>\n",
       "      <td>0.036829</td>\n",
       "    </tr>\n",
       "    <tr>\n",
       "      <th>658</th>\n",
       "      <td>0.022782</td>\n",
       "      <td>0.021217</td>\n",
       "    </tr>\n",
       "    <tr>\n",
       "      <th>659</th>\n",
       "      <td>0.015588</td>\n",
       "      <td>0.020416</td>\n",
       "    </tr>\n",
       "    <tr>\n",
       "      <th>676</th>\n",
       "      <td>0.020384</td>\n",
       "      <td>0.021217</td>\n",
       "    </tr>\n",
       "    <tr>\n",
       "      <th>677</th>\n",
       "      <td>0.018785</td>\n",
       "      <td>0.017614</td>\n",
       "    </tr>\n",
       "    <tr>\n",
       "      <th>678</th>\n",
       "      <td>0.015588</td>\n",
       "      <td>0.020016</td>\n",
       "    </tr>\n",
       "    <tr>\n",
       "      <th>686</th>\n",
       "      <td>0.040767</td>\n",
       "      <td>0.040432</td>\n",
       "    </tr>\n",
       "    <tr>\n",
       "      <th>707</th>\n",
       "      <td>0.019984</td>\n",
       "      <td>0.015612</td>\n",
       "    </tr>\n",
       "    <tr>\n",
       "      <th>716</th>\n",
       "      <td>0.017986</td>\n",
       "      <td>0.015212</td>\n",
       "    </tr>\n",
       "    <tr>\n",
       "      <th>727</th>\n",
       "      <td>0.019185</td>\n",
       "      <td>0.018815</td>\n",
       "    </tr>\n",
       "    <tr>\n",
       "      <th>736</th>\n",
       "      <td>0.039968</td>\n",
       "      <td>0.045637</td>\n",
       "    </tr>\n",
       "    <tr>\n",
       "      <th>737</th>\n",
       "      <td>0.043565</td>\n",
       "      <td>0.034027</td>\n",
       "    </tr>\n",
       "    <tr>\n",
       "      <th>758</th>\n",
       "      <td>0.031974</td>\n",
       "      <td>0.036029</td>\n",
       "    </tr>\n",
       "    <tr>\n",
       "      <th>766</th>\n",
       "      <td>0.020783</td>\n",
       "      <td>0.019616</td>\n",
       "    </tr>\n",
       "    <tr>\n",
       "      <th>776</th>\n",
       "      <td>0.054357</td>\n",
       "      <td>0.062050</td>\n",
       "    </tr>\n",
       "    <tr>\n",
       "      <th>777</th>\n",
       "      <td>0.062350</td>\n",
       "      <td>0.064452</td>\n",
       "    </tr>\n",
       "    <tr>\n",
       "      <th>778</th>\n",
       "      <td>0.037170</td>\n",
       "      <td>0.041233</td>\n",
       "    </tr>\n",
       "    <tr>\n",
       "      <th>786</th>\n",
       "      <td>0.053557</td>\n",
       "      <td>0.060048</td>\n",
       "    </tr>\n",
       "    <tr>\n",
       "      <th>787</th>\n",
       "      <td>0.059552</td>\n",
       "      <td>0.051641</td>\n",
       "    </tr>\n",
       "    <tr>\n",
       "      <th>788</th>\n",
       "      <td>0.038369</td>\n",
       "      <td>0.040432</td>\n",
       "    </tr>\n",
       "    <tr>\n",
       "      <th>797</th>\n",
       "      <td>0.040368</td>\n",
       "      <td>0.041233</td>\n",
       "    </tr>\n",
       "    <tr>\n",
       "      <th>798</th>\n",
       "      <td>0.019185</td>\n",
       "      <td>0.021617</td>\n",
       "    </tr>\n",
       "    <tr>\n",
       "      <th>806</th>\n",
       "      <td>0.018785</td>\n",
       "      <td>0.020817</td>\n",
       "    </tr>\n",
       "    <tr>\n",
       "      <th>827</th>\n",
       "      <td>0.024380</td>\n",
       "      <td>0.023619</td>\n",
       "    </tr>\n",
       "    <tr>\n",
       "      <th>836</th>\n",
       "      <td>0.043165</td>\n",
       "      <td>0.042834</td>\n",
       "    </tr>\n",
       "    <tr>\n",
       "      <th>847</th>\n",
       "      <td>0.021982</td>\n",
       "      <td>0.016813</td>\n",
       "    </tr>\n",
       "    <tr>\n",
       "      <th>848</th>\n",
       "      <td>0.019185</td>\n",
       "      <td>0.020016</td>\n",
       "    </tr>\n",
       "    <tr>\n",
       "      <th>858</th>\n",
       "      <td>0.018385</td>\n",
       "      <td>0.019616</td>\n",
       "    </tr>\n",
       "    <tr>\n",
       "      <th>866</th>\n",
       "      <td>0.021183</td>\n",
       "      <td>0.018415</td>\n",
       "    </tr>\n",
       "    <tr>\n",
       "      <th>868</th>\n",
       "      <td>0.022382</td>\n",
       "      <td>0.016413</td>\n",
       "    </tr>\n",
       "    <tr>\n",
       "      <th>876</th>\n",
       "      <td>0.021982</td>\n",
       "      <td>0.018415</td>\n",
       "    </tr>\n",
       "    <tr>\n",
       "      <th>877</th>\n",
       "      <td>0.018785</td>\n",
       "      <td>0.015212</td>\n",
       "    </tr>\n",
       "    <tr>\n",
       "      <th>878</th>\n",
       "      <td>0.040368</td>\n",
       "      <td>0.042434</td>\n",
       "    </tr>\n",
       "  </tbody>\n",
       "</table>\n",
       "</div>"
      ],
      "text/plain": [
       "Churn?       False.     True.\n",
       "Area Code                    \n",
       "657        0.037170  0.036829\n",
       "658        0.022782  0.021217\n",
       "659        0.015588  0.020416\n",
       "676        0.020384  0.021217\n",
       "677        0.018785  0.017614\n",
       "678        0.015588  0.020016\n",
       "686        0.040767  0.040432\n",
       "707        0.019984  0.015612\n",
       "716        0.017986  0.015212\n",
       "727        0.019185  0.018815\n",
       "736        0.039968  0.045637\n",
       "737        0.043565  0.034027\n",
       "758        0.031974  0.036029\n",
       "766        0.020783  0.019616\n",
       "776        0.054357  0.062050\n",
       "777        0.062350  0.064452\n",
       "778        0.037170  0.041233\n",
       "786        0.053557  0.060048\n",
       "787        0.059552  0.051641\n",
       "788        0.038369  0.040432\n",
       "797        0.040368  0.041233\n",
       "798        0.019185  0.021617\n",
       "806        0.018785  0.020817\n",
       "827        0.024380  0.023619\n",
       "836        0.043165  0.042834\n",
       "847        0.021982  0.016813\n",
       "848        0.019185  0.020016\n",
       "858        0.018385  0.019616\n",
       "866        0.021183  0.018415\n",
       "868        0.022382  0.016413\n",
       "876        0.021982  0.018415\n",
       "877        0.018785  0.015212\n",
       "878        0.040368  0.042434"
      ]
     },
     "metadata": {},
     "output_type": "display_data"
    },
    {
     "data": {
      "text/html": [
       "<div>\n",
       "<style scoped>\n",
       "    .dataframe tbody tr th:only-of-type {\n",
       "        vertical-align: middle;\n",
       "    }\n",
       "\n",
       "    .dataframe tbody tr th {\n",
       "        vertical-align: top;\n",
       "    }\n",
       "\n",
       "    .dataframe thead th {\n",
       "        text-align: right;\n",
       "    }\n",
       "</style>\n",
       "<table border=\"1\" class=\"dataframe\">\n",
       "  <thead>\n",
       "    <tr style=\"text-align: right;\">\n",
       "      <th>Churn?</th>\n",
       "      <th>False.</th>\n",
       "      <th>True.</th>\n",
       "    </tr>\n",
       "    <tr>\n",
       "      <th>Int'l Plan</th>\n",
       "      <th></th>\n",
       "      <th></th>\n",
       "    </tr>\n",
       "  </thead>\n",
       "  <tbody>\n",
       "    <tr>\n",
       "      <th>no</th>\n",
       "      <td>0.5</td>\n",
       "      <td>0.502802</td>\n",
       "    </tr>\n",
       "    <tr>\n",
       "      <th>yes</th>\n",
       "      <td>0.5</td>\n",
       "      <td>0.497198</td>\n",
       "    </tr>\n",
       "  </tbody>\n",
       "</table>\n",
       "</div>"
      ],
      "text/plain": [
       "Churn?      False.     True.\n",
       "Int'l Plan                  \n",
       "no             0.5  0.502802\n",
       "yes            0.5  0.497198"
      ]
     },
     "metadata": {},
     "output_type": "display_data"
    },
    {
     "data": {
      "text/html": [
       "<div>\n",
       "<style scoped>\n",
       "    .dataframe tbody tr th:only-of-type {\n",
       "        vertical-align: middle;\n",
       "    }\n",
       "\n",
       "    .dataframe tbody tr th {\n",
       "        vertical-align: top;\n",
       "    }\n",
       "\n",
       "    .dataframe thead th {\n",
       "        text-align: right;\n",
       "    }\n",
       "</style>\n",
       "<table border=\"1\" class=\"dataframe\">\n",
       "  <thead>\n",
       "    <tr style=\"text-align: right;\">\n",
       "      <th>Churn?</th>\n",
       "      <th>False.</th>\n",
       "      <th>True.</th>\n",
       "    </tr>\n",
       "    <tr>\n",
       "      <th>VMail Plan</th>\n",
       "      <th></th>\n",
       "      <th></th>\n",
       "    </tr>\n",
       "  </thead>\n",
       "  <tbody>\n",
       "    <tr>\n",
       "      <th>no</th>\n",
       "      <td>0.496403</td>\n",
       "      <td>0.498799</td>\n",
       "    </tr>\n",
       "    <tr>\n",
       "      <th>yes</th>\n",
       "      <td>0.503597</td>\n",
       "      <td>0.501201</td>\n",
       "    </tr>\n",
       "  </tbody>\n",
       "</table>\n",
       "</div>"
      ],
      "text/plain": [
       "Churn?        False.     True.\n",
       "VMail Plan                    \n",
       "no          0.496403  0.498799\n",
       "yes         0.503597  0.501201"
      ]
     },
     "metadata": {},
     "output_type": "display_data"
    },
    {
     "name": "stdout",
     "output_type": "stream",
     "text": [
      "Account Length\n"
     ]
    },
    {
     "data": {
      "image/png": "[encoded data removed]",
      "text/plain": [
       "<Figure size 432x288 with 2 Axes>"
      ]
     },
     "metadata": {
      "needs_background": "light"
     },
     "output_type": "display_data"
    },
    {
     "name": "stdout",
     "output_type": "stream",
     "text": [
      "VMail Message\n"
     ]
    },
    {
     "data": {
      "image/png": "[encoded data removed]",
      "text/plain": [
       "<Figure size 432x288 with 2 Axes>"
      ]
     },
     "metadata": {
      "needs_background": "light"
     },
     "output_type": "display_data"
    },
    {
     "name": "stdout",
     "output_type": "stream",
     "text": [
      "Day Mins\n"
     ]
    },
    {
     "data": {
      "image/png": "[encoded data removed]",
      "text/plain": [
       "<Figure size 432x288 with 2 Axes>"
      ]
     },
     "metadata": {
      "needs_background": "light"
     },
     "output_type": "display_data"
    },
    {
     "name": "stdout",
     "output_type": "stream",
     "text": [
      "Day Calls\n"
     ]
    },
    {
     "data": {
      "image/png": "[encoded data removed]",
      "text/plain": [
       "<Figure size 432x288 with 2 Axes>"
      ]
     },
     "metadata": {
      "needs_background": "light"
     },
     "output_type": "display_data"
    },
    {
     "name": "stdout",
     "output_type": "stream",
     "text": [
      "Day Charge\n"
     ]
    },
    {
     "data": {
      "image/png": "[encoded data removed]",
      "text/plain": [
       "<Figure size 432x288 with 2 Axes>"
      ]
     },
     "metadata": {
      "needs_background": "light"
     },
     "output_type": "display_data"
    },
    {
     "name": "stdout",
     "output_type": "stream",
     "text": [
      "Eve Mins\n"
     ]
    },
    {
     "data": {
      "image/png": "[encoded data removed]",
      "text/plain": [
       "<Figure size 432x288 with 2 Axes>"
      ]
     },
     "metadata": {
      "needs_background": "light"
     },
     "output_type": "display_data"
    },
    {
     "name": "stdout",
     "output_type": "stream",
     "text": [
      "Eve Calls\n"
     ]
    },
    {
     "data": {
      "image/png": "[encoded data removed]",
      "text/plain": [
       "<Figure size 432x288 with 2 Axes>"
      ]
     },
     "metadata": {
      "needs_background": "light"
     },
     "output_type": "display_data"
    },
    {
     "name": "stdout",
     "output_type": "stream",
     "text": [
      "Eve Charge\n"
     ]
    },
    {
     "data": {
      "image/png": "[encoded data removed]",
      "text/plain": [
       "<Figure size 432x288 with 2 Axes>"
      ]
     },
     "metadata": {
      "needs_background": "light"
     },
     "output_type": "display_data"
    },
    {
     "name": "stdout",
     "output_type": "stream",
     "text": [
      "Night Mins\n"
     ]
    },
    {
     "data": {
      "image/png": "[encoded data removed]",
      "text/plain": [
       "<Figure size 432x288 with 2 Axes>"
      ]
     },
     "metadata": {
      "needs_background": "light"
     },
     "output_type": "display_data"
    },
    {
     "name": "stdout",
     "output_type": "stream",
     "text": [
      "Night Calls\n"
     ]
    },
    {
     "data": {
      "image/png": "[encoded data removed]",
      "text/plain": [
       "<Figure size 432x288 with 2 Axes>"
      ]
     },
     "metadata": {
      "needs_background": "light"
     },
     "output_type": "display_data"
    },
    {
     "name": "stdout",
     "output_type": "stream",
     "text": [
      "Night Charge\n"
     ]
    },
    {
     "data": {
      "image/png": "[encoded data removed]",
      "text/plain": [
       "<Figure size 432x288 with 2 Axes>"
      ]
     },
     "metadata": {
      "needs_background": "light"
     },
     "output_type": "display_data"
    },
    {
     "name": "stdout",
     "output_type": "stream",
     "text": [
      "Intl Mins\n"
     ]
    },
    {
     "data": {
      "image/png": "[encoded data removed]",
      "text/plain": [
       "<Figure size 432x288 with 2 Axes>"
      ]
     },
     "metadata": {
      "needs_background": "light"
     },
     "output_type": "display_data"
    },
    {
     "name": "stdout",
     "output_type": "stream",
     "text": [
      "Intl Calls\n"
     ]
    },
    {
     "data": {
      "image/png": "[encoded data removed]",
      "text/plain": [
       "<Figure size 432x288 with 2 Axes>"
      ]
     },
     "metadata": {
      "needs_background": "light"
     },
     "output_type": "display_data"
    },
    {
     "name": "stdout",
     "output_type": "stream",
     "text": [
      "Intl Charge\n"
     ]
    },
    {
     "data": {
      "image/png": "[encoded data removed]",
      "text/plain": [
       "<Figure size 432x288 with 2 Axes>"
      ]
     },
     "metadata": {
      "needs_background": "light"
     },
     "output_type": "display_data"
    },
    {
     "name": "stdout",
     "output_type": "stream",
     "text": [
      "CustServ Calls\n"
     ]
    },
    {
     "data": {
      "image/png": "[encoded data removed]",
      "text/plain": [
       "<Figure size 432x288 with 2 Axes>"
      ]
     },
     "metadata": {
      "needs_background": "light"
     },
     "output_type": "display_data"
    }
   ],
   "source": [
    "for column in churn.select_dtypes(include=[\"object\"]).columns:\n",
    "    if column != \"Churn?\":\n",
    "        display(pd.crosstab(index=churn[column], columns=churn[\"Churn?\"], normalize=\"columns\"))\n",
    "\n",
    "for column in churn.select_dtypes(exclude=[\"object\"]).columns:\n",
    "    print(column)\n",
    "    hist = churn[[column, \"Churn?\"]].hist(by=\"Churn?\", bins=30)\n",
    "    plt.show()"
   ]
  },
  {
   "cell_type": "code",
   "execution_count": 10,
   "id": "76f75909",
   "metadata": {
    "execution": {
     "iopub.execute_input": "2021-06-07T00:09:55.527922Z",
     "iopub.status.busy": "2021-06-07T00:09:55.527458Z",
     "iopub.status.idle": "2021-06-07T00:10:14.041236Z",
     "shell.execute_reply": "2021-06-07T00:10:14.041583Z"
    },
    "papermill": {
     "duration": 18.552066,
     "end_time": "2021-06-07T00:10:14.041717",
     "exception": false,
     "start_time": "2021-06-07T00:09:55.489651",
     "status": "completed"
    },
    "tags": []
   },
   "outputs": [
    {
     "data": {
      "text/html": [
       "<div>\n",
       "<style scoped>\n",
       "    .dataframe tbody tr th:only-of-type {\n",
       "        vertical-align: middle;\n",
       "    }\n",
       "\n",
       "    .dataframe tbody tr th {\n",
       "        vertical-align: top;\n",
       "    }\n",
       "\n",
       "    .dataframe thead th {\n",
       "        text-align: right;\n",
       "    }\n",
       "</style>\n",
       "<table border=\"1\" class=\"dataframe\">\n",
       "  <thead>\n",
       "    <tr style=\"text-align: right;\">\n",
       "      <th></th>\n",
       "      <th>Account Length</th>\n",
       "      <th>VMail Message</th>\n",
       "      <th>Day Mins</th>\n",
       "      <th>Day Calls</th>\n",
       "      <th>Day Charge</th>\n",
       "      <th>Eve Mins</th>\n",
       "      <th>Eve Calls</th>\n",
       "      <th>Eve Charge</th>\n",
       "      <th>Night Mins</th>\n",
       "      <th>Night Calls</th>\n",
       "      <th>Night Charge</th>\n",
       "      <th>Intl Mins</th>\n",
       "      <th>Intl Calls</th>\n",
       "      <th>Intl Charge</th>\n",
       "      <th>CustServ Calls</th>\n",
       "    </tr>\n",
       "  </thead>\n",
       "  <tbody>\n",
       "    <tr>\n",
       "      <th>Account Length</th>\n",
       "      <td>1.000000</td>\n",
       "      <td>-0.009030</td>\n",
       "      <td>-0.015878</td>\n",
       "      <td>0.011659</td>\n",
       "      <td>-0.007468</td>\n",
       "      <td>0.000213</td>\n",
       "      <td>0.026515</td>\n",
       "      <td>-0.012795</td>\n",
       "      <td>0.016400</td>\n",
       "      <td>-0.002383</td>\n",
       "      <td>-0.034925</td>\n",
       "      <td>0.017277</td>\n",
       "      <td>-0.003735</td>\n",
       "      <td>0.028285</td>\n",
       "      <td>-0.036721</td>\n",
       "    </tr>\n",
       "    <tr>\n",
       "      <th>VMail Message</th>\n",
       "      <td>-0.009030</td>\n",
       "      <td>1.000000</td>\n",
       "      <td>-0.143272</td>\n",
       "      <td>0.002762</td>\n",
       "      <td>-0.182712</td>\n",
       "      <td>-0.104667</td>\n",
       "      <td>-0.101240</td>\n",
       "      <td>-0.029212</td>\n",
       "      <td>0.061370</td>\n",
       "      <td>0.135042</td>\n",
       "      <td>-0.155475</td>\n",
       "      <td>-0.015162</td>\n",
       "      <td>0.131964</td>\n",
       "      <td>0.010120</td>\n",
       "      <td>0.068657</td>\n",
       "    </tr>\n",
       "    <tr>\n",
       "      <th>Day Mins</th>\n",
       "      <td>-0.015878</td>\n",
       "      <td>-0.143272</td>\n",
       "      <td>1.000000</td>\n",
       "      <td>-0.087598</td>\n",
       "      <td>0.667941</td>\n",
       "      <td>0.482641</td>\n",
       "      <td>-0.184939</td>\n",
       "      <td>0.766489</td>\n",
       "      <td>0.188190</td>\n",
       "      <td>-0.445212</td>\n",
       "      <td>0.570508</td>\n",
       "      <td>0.001988</td>\n",
       "      <td>0.236131</td>\n",
       "      <td>0.239331</td>\n",
       "      <td>-0.195322</td>\n",
       "    </tr>\n",
       "    <tr>\n",
       "      <th>Day Calls</th>\n",
       "      <td>0.011659</td>\n",
       "      <td>0.002762</td>\n",
       "      <td>-0.087598</td>\n",
       "      <td>1.000000</td>\n",
       "      <td>-0.222556</td>\n",
       "      <td>0.033903</td>\n",
       "      <td>0.185881</td>\n",
       "      <td>-0.052051</td>\n",
       "      <td>-0.085222</td>\n",
       "      <td>-0.083050</td>\n",
       "      <td>0.046641</td>\n",
       "      <td>-0.022548</td>\n",
       "      <td>-0.045671</td>\n",
       "      <td>-0.120064</td>\n",
       "      <td>-0.065518</td>\n",
       "    </tr>\n",
       "    <tr>\n",
       "      <th>Day Charge</th>\n",
       "      <td>-0.007468</td>\n",
       "      <td>-0.182712</td>\n",
       "      <td>0.667941</td>\n",
       "      <td>-0.222556</td>\n",
       "      <td>1.000000</td>\n",
       "      <td>0.574697</td>\n",
       "      <td>0.236626</td>\n",
       "      <td>0.371580</td>\n",
       "      <td>0.150700</td>\n",
       "      <td>-0.130722</td>\n",
       "      <td>0.374861</td>\n",
       "      <td>0.010294</td>\n",
       "      <td>0.119584</td>\n",
       "      <td>0.251748</td>\n",
       "      <td>-0.260945</td>\n",
       "    </tr>\n",
       "    <tr>\n",
       "      <th>Eve Mins</th>\n",
       "      <td>0.000213</td>\n",
       "      <td>-0.104667</td>\n",
       "      <td>0.482641</td>\n",
       "      <td>0.033903</td>\n",
       "      <td>0.574697</td>\n",
       "      <td>1.000000</td>\n",
       "      <td>-0.067123</td>\n",
       "      <td>0.269980</td>\n",
       "      <td>-0.090515</td>\n",
       "      <td>0.067315</td>\n",
       "      <td>0.317481</td>\n",
       "      <td>-0.015678</td>\n",
       "      <td>0.070456</td>\n",
       "      <td>0.448910</td>\n",
       "      <td>-0.167347</td>\n",
       "    </tr>\n",
       "    <tr>\n",
       "      <th>Eve Calls</th>\n",
       "      <td>0.026515</td>\n",
       "      <td>-0.101240</td>\n",
       "      <td>-0.184939</td>\n",
       "      <td>0.185881</td>\n",
       "      <td>0.236626</td>\n",
       "      <td>-0.067123</td>\n",
       "      <td>1.000000</td>\n",
       "      <td>-0.467814</td>\n",
       "      <td>0.221439</td>\n",
       "      <td>0.218149</td>\n",
       "      <td>-0.324936</td>\n",
       "      <td>-0.001593</td>\n",
       "      <td>-0.112062</td>\n",
       "      <td>0.017036</td>\n",
       "      <td>-0.433467</td>\n",
       "    </tr>\n",
       "    <tr>\n",
       "      <th>Eve Charge</th>\n",
       "      <td>-0.012795</td>\n",
       "      <td>-0.029212</td>\n",
       "      <td>0.766489</td>\n",
       "      <td>-0.052051</td>\n",
       "      <td>0.371580</td>\n",
       "      <td>0.269980</td>\n",
       "      <td>-0.467814</td>\n",
       "      <td>1.000000</td>\n",
       "      <td>0.184230</td>\n",
       "      <td>-0.454649</td>\n",
       "      <td>0.546137</td>\n",
       "      <td>-0.003569</td>\n",
       "      <td>0.164104</td>\n",
       "      <td>0.243936</td>\n",
       "      <td>-0.011019</td>\n",
       "    </tr>\n",
       "    <tr>\n",
       "      <th>Night Mins</th>\n",
       "      <td>0.016400</td>\n",
       "      <td>0.061370</td>\n",
       "      <td>0.188190</td>\n",
       "      <td>-0.085222</td>\n",
       "      <td>0.150700</td>\n",
       "      <td>-0.090515</td>\n",
       "      <td>0.221439</td>\n",
       "      <td>0.184230</td>\n",
       "      <td>1.000000</td>\n",
       "      <td>-0.223023</td>\n",
       "      <td>-0.140482</td>\n",
       "      <td>-0.012781</td>\n",
       "      <td>0.038831</td>\n",
       "      <td>0.271179</td>\n",
       "      <td>-0.332802</td>\n",
       "    </tr>\n",
       "    <tr>\n",
       "      <th>Night Calls</th>\n",
       "      <td>-0.002383</td>\n",
       "      <td>0.135042</td>\n",
       "      <td>-0.445212</td>\n",
       "      <td>-0.083050</td>\n",
       "      <td>-0.130722</td>\n",
       "      <td>0.067315</td>\n",
       "      <td>0.218149</td>\n",
       "      <td>-0.454649</td>\n",
       "      <td>-0.223023</td>\n",
       "      <td>1.000000</td>\n",
       "      <td>-0.390333</td>\n",
       "      <td>-0.009821</td>\n",
       "      <td>0.181237</td>\n",
       "      <td>-0.155736</td>\n",
       "      <td>0.110211</td>\n",
       "    </tr>\n",
       "    <tr>\n",
       "      <th>Night Charge</th>\n",
       "      <td>-0.034925</td>\n",
       "      <td>-0.155475</td>\n",
       "      <td>0.570508</td>\n",
       "      <td>0.046641</td>\n",
       "      <td>0.374861</td>\n",
       "      <td>0.317481</td>\n",
       "      <td>-0.324936</td>\n",
       "      <td>0.546137</td>\n",
       "      <td>-0.140482</td>\n",
       "      <td>-0.390333</td>\n",
       "      <td>1.000000</td>\n",
       "      <td>0.012585</td>\n",
       "      <td>-0.009720</td>\n",
       "      <td>-0.330772</td>\n",
       "      <td>0.439805</td>\n",
       "    </tr>\n",
       "    <tr>\n",
       "      <th>Intl Mins</th>\n",
       "      <td>0.017277</td>\n",
       "      <td>-0.015162</td>\n",
       "      <td>0.001988</td>\n",
       "      <td>-0.022548</td>\n",
       "      <td>0.010294</td>\n",
       "      <td>-0.015678</td>\n",
       "      <td>-0.001593</td>\n",
       "      <td>-0.003569</td>\n",
       "      <td>-0.012781</td>\n",
       "      <td>-0.009821</td>\n",
       "      <td>0.012585</td>\n",
       "      <td>1.000000</td>\n",
       "      <td>-0.007220</td>\n",
       "      <td>-0.010907</td>\n",
       "      <td>-0.008672</td>\n",
       "    </tr>\n",
       "    <tr>\n",
       "      <th>Intl Calls</th>\n",
       "      <td>-0.003735</td>\n",
       "      <td>0.131964</td>\n",
       "      <td>0.236131</td>\n",
       "      <td>-0.045671</td>\n",
       "      <td>0.119584</td>\n",
       "      <td>0.070456</td>\n",
       "      <td>-0.112062</td>\n",
       "      <td>0.164104</td>\n",
       "      <td>0.038831</td>\n",
       "      <td>0.181237</td>\n",
       "      <td>-0.009720</td>\n",
       "      <td>-0.007220</td>\n",
       "      <td>1.000000</td>\n",
       "      <td>-0.233809</td>\n",
       "      <td>-0.012260</td>\n",
       "    </tr>\n",
       "    <tr>\n",
       "      <th>Intl Charge</th>\n",
       "      <td>0.028285</td>\n",
       "      <td>0.010120</td>\n",
       "      <td>0.239331</td>\n",
       "      <td>-0.120064</td>\n",
       "      <td>0.251748</td>\n",
       "      <td>0.448910</td>\n",
       "      <td>0.017036</td>\n",
       "      <td>0.243936</td>\n",
       "      <td>0.271179</td>\n",
       "      <td>-0.155736</td>\n",
       "      <td>-0.330772</td>\n",
       "      <td>-0.010907</td>\n",
       "      <td>-0.233809</td>\n",
       "      <td>1.000000</td>\n",
       "      <td>-0.661833</td>\n",
       "    </tr>\n",
       "    <tr>\n",
       "      <th>CustServ Calls</th>\n",
       "      <td>-0.036721</td>\n",
       "      <td>0.068657</td>\n",
       "      <td>-0.195322</td>\n",
       "      <td>-0.065518</td>\n",
       "      <td>-0.260945</td>\n",
       "      <td>-0.167347</td>\n",
       "      <td>-0.433467</td>\n",
       "      <td>-0.011019</td>\n",
       "      <td>-0.332802</td>\n",
       "      <td>0.110211</td>\n",
       "      <td>0.439805</td>\n",
       "      <td>-0.008672</td>\n",
       "      <td>-0.012260</td>\n",
       "      <td>-0.661833</td>\n",
       "      <td>1.000000</td>\n",
       "    </tr>\n",
       "  </tbody>\n",
       "</table>\n",
       "</div>"
      ],
      "text/plain": [
       "                Account Length  VMail Message  Day Mins  Day Calls  \\\n",
       "Account Length        1.000000      -0.009030 -0.015878   0.011659   \n",
       "VMail Message        -0.009030       1.000000 -0.143272   0.002762   \n",
       "Day Mins             -0.015878      -0.143272  1.000000  -0.087598   \n",
       "Day Calls             0.011659       0.002762 -0.087598   1.000000   \n",
       "Day Charge           -0.007468      -0.182712  0.667941  -0.222556   \n",
       "Eve Mins              0.000213      -0.104667  0.482641   0.033903   \n",
       "Eve Calls             0.026515      -0.101240 -0.184939   0.185881   \n",
       "Eve Charge           -0.012795      -0.029212  0.766489  -0.052051   \n",
       "Night Mins            0.016400       0.061370  0.188190  -0.085222   \n",
       "Night Calls          -0.002383       0.135042 -0.445212  -0.083050   \n",
       "Night Charge         -0.034925      -0.155475  0.570508   0.046641   \n",
       "Intl Mins             0.017277      -0.015162  0.001988  -0.022548   \n",
       "Intl Calls           -0.003735       0.131964  0.236131  -0.045671   \n",
       "Intl Charge           0.028285       0.010120  0.239331  -0.120064   \n",
       "CustServ Calls       -0.036721       0.068657 -0.195322  -0.065518   \n",
       "\n",
       "                Day Charge  Eve Mins  Eve Calls  Eve Charge  Night Mins  \\\n",
       "Account Length   -0.007468  0.000213   0.026515   -0.012795    0.016400   \n",
       "VMail Message    -0.182712 -0.104667  -0.101240   -0.029212    0.061370   \n",
       "Day Mins          0.667941  0.482641  -0.184939    0.766489    0.188190   \n",
       "Day Calls        -0.222556  0.033903   0.185881   -0.052051   -0.085222   \n",
       "Day Charge        1.000000  0.574697   0.236626    0.371580    0.150700   \n",
       "Eve Mins          0.574697  1.000000  -0.067123    0.269980   -0.090515   \n",
       "Eve Calls         0.236626 -0.067123   1.000000   -0.467814    0.221439   \n",
       "Eve Charge        0.371580  0.269980  -0.467814    1.000000    0.184230   \n",
       "Night Mins        0.150700 -0.090515   0.221439    0.184230    1.000000   \n",
       "Night Calls      -0.130722  0.067315   0.218149   -0.454649   -0.223023   \n",
       "Night Charge      0.374861  0.317481  -0.324936    0.546137   -0.140482   \n",
       "Intl Mins         0.010294 -0.015678  -0.001593   -0.003569   -0.012781   \n",
       "Intl Calls        0.119584  0.070456  -0.112062    0.164104    0.038831   \n",
       "Intl Charge       0.251748  0.448910   0.017036    0.243936    0.271179   \n",
       "CustServ Calls   -0.260945 -0.167347  -0.433467   -0.011019   -0.332802   \n",
       "\n",
       "                Night Calls  Night Charge  Intl Mins  Intl Calls  Intl Charge  \\\n",
       "Account Length    -0.002383     -0.034925   0.017277   -0.003735     0.028285   \n",
       "VMail Message      0.135042     -0.155475  -0.015162    0.131964     0.010120   \n",
       "Day Mins          -0.445212      0.570508   0.001988    0.236131     0.239331   \n",
       "Day Calls         -0.083050      0.046641  -0.022548   -0.045671    -0.120064   \n",
       "Day Charge        -0.130722      0.374861   0.010294    0.119584     0.251748   \n",
       "Eve Mins           0.067315      0.317481  -0.015678    0.070456     0.448910   \n",
       "Eve Calls          0.218149     -0.324936  -0.001593   -0.112062     0.017036   \n",
       "Eve Charge        -0.454649      0.546137  -0.003569    0.164104     0.243936   \n",
       "Night Mins        -0.223023     -0.140482  -0.012781    0.038831     0.271179   \n",
       "Night Calls        1.000000     -0.390333  -0.009821    0.181237    -0.155736   \n",
       "Night Charge      -0.390333      1.000000   0.012585   -0.009720    -0.330772   \n",
       "Intl Mins         -0.009821      0.012585   1.000000   -0.007220    -0.010907   \n",
       "Intl Calls         0.181237     -0.009720  -0.007220    1.000000    -0.233809   \n",
       "Intl Charge       -0.155736     -0.330772  -0.010907   -0.233809     1.000000   \n",
       "CustServ Calls     0.110211      0.439805  -0.008672   -0.012260    -0.661833   \n",
       "\n",
       "                CustServ Calls  \n",
       "Account Length       -0.036721  \n",
       "VMail Message         0.068657  \n",
       "Day Mins             -0.195322  \n",
       "Day Calls            -0.065518  \n",
       "Day Charge           -0.260945  \n",
       "Eve Mins             -0.167347  \n",
       "Eve Calls            -0.433467  \n",
       "Eve Charge           -0.011019  \n",
       "Night Mins           -0.332802  \n",
       "Night Calls           0.110211  \n",
       "Night Charge          0.439805  \n",
       "Intl Mins            -0.008672  \n",
       "Intl Calls           -0.012260  \n",
       "Intl Charge          -0.661833  \n",
       "CustServ Calls        1.000000  "
      ]
     },
     "metadata": {},
     "output_type": "display_data"
    },
    {
     "data": {
      "text/plain": [
       "<AxesSubplot:>"
      ]
     },
     "execution_count": 10,
     "metadata": {},
     "output_type": "execute_result"
    },
    {
     "data": {
      "image/png": "[encoded data removed]",
      "text/plain": [
       "<Figure size 1080x1080 with 2 Axes>"
      ]
     },
     "metadata": {
      "needs_background": "light"
     },
     "output_type": "display_data"
    }
   ],
   "source": [
    "display(churn.corr())\n",
    "plt.figure(figsize=(15,15))\n",
    "sns.heatmap(data = churn.corr(), annot=True, \n",
    "fmt = '.2f', linewidths=.5, cmap='RdBu_r')"
   ]
  },
  {
   "cell_type": "markdown",
   "id": "cc4f29d9",
   "metadata": {
    "papermill": {
     "duration": 0.050687,
     "end_time": "2021-06-07T00:10:14.143830",
     "exception": false,
     "start_time": "2021-06-07T00:10:14.093143",
     "status": "completed"
    },
    "tags": []
   },
   "source": [
    "몇몇 속성들은 100%에 가까운 상관관계(correlation) 를 가지고 있습니다. 알고리즘에 따라 어떤 머신러닝 알고리즘에서는 이런 특성을 사용시 악영향을 끼칠 수 있으므로 이를 제외하는 것을 검토할 수 있습니다. 본 에제에서는 높은 상관관계를 보이는 컬럼 중 \"Day Charge\", \"Eve Charge\", \"Night Charge\", \"Intl Charge\" 컬럼을 제외하도록 하겠습니다."
   ]
  },
  {
   "cell_type": "code",
   "execution_count": 11,
   "id": "f376ef4a",
   "metadata": {
    "execution": {
     "iopub.execute_input": "2021-06-07T00:10:14.249477Z",
     "iopub.status.busy": "2021-06-07T00:10:14.248826Z",
     "iopub.status.idle": "2021-06-07T00:10:14.250941Z",
     "shell.execute_reply": "2021-06-07T00:10:14.250546Z"
    },
    "papermill": {
     "duration": 0.057009,
     "end_time": "2021-06-07T00:10:14.251061",
     "exception": false,
     "start_time": "2021-06-07T00:10:14.194052",
     "status": "completed"
    },
    "tags": []
   },
   "outputs": [],
   "source": [
    "churn = churn.drop([\"Day Charge\", \"Eve Charge\", \"Night Charge\", \"Intl Charge\"], axis=1)"
   ]
  },
  {
   "cell_type": "code",
   "execution_count": 12,
   "id": "479acfde",
   "metadata": {},
   "outputs": [],
   "source": [
    "churn.to_csv(\"revised_churn.csv\")\n",
    "boto3.Session().resource(\"s3\").Bucket(bucket).Object(\n",
    "    os.path.join(prefix, \"full/revised_churn.csv\")\n",
    ").upload_file(\"revised_churn.csv\")"
   ]
  },
  {
   "cell_type": "markdown",
   "id": "9960f152",
   "metadata": {
    "papermill": {
     "duration": 0.050512,
     "end_time": "2021-06-07T00:10:14.352000",
     "exception": false,
     "start_time": "2021-06-07T00:10:14.301488",
     "status": "completed"
    },
    "tags": []
   },
   "source": [
    "이제 데이터 세트를 정리 했으므로 사용할 알고리즘을 결정하겠습니다. 위에서 살펴보았듯 특정 변수의 값이 (중간이 아닌) 높은 값과 낮은 값일 경우 이탈을 예측하는 변수가 있는 것 같습니다. 선형 회귀와 같은 알고리즘에서 이를 수용하려면 다항식 (또는 버케팅된) 항을 생성해야합니다. 대신 여기서는 그래디언트 부스트 트리를 사용하여이 문제를 모델링 해 보겠습니다. Amazon SageMaker는 분산 학습을 하거나 실시간 예측 엔드 포인트로 호스팅하는 등의 기능을 관리형으로 사용할 수있는 XGBoost 컨테이너를 제공합니다. XGBoost는 기능과 대상 변수 간의 비선형 관계를 자연스럽게 설명하고 기능 간의 복잡한 상호 작용을 수용하는 그래디언트 부스트 트리를 사용합니다.\n",
    "\n",
    "Amazon SageMaker XGBoost는 학습을 위해 CSV 또는 LibSVM 포맷의 데이터를 사용합니다. 본 예제는 CSV를 사용하겠습니다. 데이터셋은 다음 규약을 지켜야 합니다.\n",
    "- 예측변수를 첫번째 컬럼으로 사용합니다.\n",
    "- 헤더를 제외합니다. \n",
    "\n",
    "CSV로 변환하기 전에 카테고리 변수들을 숫자형으로 변환하였습니다.\n"
   ]
  },
  {
   "cell_type": "code",
   "execution_count": 13,
   "id": "9d709655",
   "metadata": {
    "execution": {
     "iopub.execute_input": "2021-06-07T00:10:14.458704Z",
     "iopub.status.busy": "2021-06-07T00:10:14.457928Z",
     "iopub.status.idle": "2021-06-07T00:10:14.472868Z",
     "shell.execute_reply": "2021-06-07T00:10:14.473238Z"
    },
    "papermill": {
     "duration": 0.07096,
     "end_time": "2021-06-07T00:10:14.473383",
     "exception": false,
     "start_time": "2021-06-07T00:10:14.402423",
     "status": "completed"
    },
    "tags": []
   },
   "outputs": [],
   "source": [
    "model_data = pd.get_dummies(churn)\n",
    "model_data = pd.concat(\n",
    "    [model_data[\"Churn?_True.\"], model_data.drop([\"Churn?_False.\", \"Churn?_True.\"], axis=1)], axis=1\n",
    ")"
   ]
  },
  {
   "cell_type": "markdown",
   "id": "b2c23e13",
   "metadata": {
    "papermill": {
     "duration": 0.050777,
     "end_time": "2021-06-07T00:10:14.574494",
     "exception": false,
     "start_time": "2021-06-07T00:10:14.523717",
     "status": "completed"
    },
    "tags": []
   },
   "source": [
    "데이터를 학습, 검증, 테스트셋으로 나눕니다. 이는 모델이 과적합(overfitting)되는 것을 방지해 주고 학습단계에서 사용되지 않았단 데이터로 모델의 정확도를 테스트할 수 있도록 해 줄 것입니다."
   ]
  },
  {
   "cell_type": "code",
   "execution_count": 14,
   "id": "1eb0da64",
   "metadata": {
    "execution": {
     "iopub.execute_input": "2021-06-07T00:10:14.680863Z",
     "iopub.status.busy": "2021-06-07T00:10:14.679915Z",
     "iopub.status.idle": "2021-06-07T00:10:14.871555Z",
     "shell.execute_reply": "2021-06-07T00:10:14.871057Z"
    },
    "papermill": {
     "duration": 0.246303,
     "end_time": "2021-06-07T00:10:14.871668",
     "exception": false,
     "start_time": "2021-06-07T00:10:14.625365",
     "status": "completed"
    },
    "tags": []
   },
   "outputs": [],
   "source": [
    "train_data, validation_data, test_data = np.split(\n",
    "    model_data.sample(frac=1, random_state=1729),\n",
    "    [int(0.7 * len(model_data)), int(0.9 * len(model_data))],\n",
    ")\n",
    "train_data.to_csv(\"train.csv\", header=False, index=False)\n",
    "validation_data.to_csv(\"validation.csv\", header=False, index=False)"
   ]
  },
  {
   "cell_type": "code",
   "execution_count": 15,
   "id": "0c26cdb7",
   "metadata": {},
   "outputs": [
    {
     "data": {
      "text/plain": [
       "100"
      ]
     },
     "execution_count": 15,
     "metadata": {},
     "output_type": "execute_result"
    }
   ],
   "source": [
    "len(train_data.columns)"
   ]
  },
  {
   "cell_type": "markdown",
   "id": "41907f2b",
   "metadata": {
    "papermill": {
     "duration": 0.050591,
     "end_time": "2021-06-07T00:10:14.972677",
     "exception": false,
     "start_time": "2021-06-07T00:10:14.922086",
     "status": "completed"
    },
    "tags": []
   },
   "source": [
    "생성한 파일을 S3로 업로드합니다."
   ]
  },
  {
   "cell_type": "code",
   "execution_count": 16,
   "id": "08a020d5",
   "metadata": {
    "execution": {
     "iopub.execute_input": "2021-06-07T00:10:15.086298Z",
     "iopub.status.busy": "2021-06-07T00:10:15.085825Z",
     "iopub.status.idle": "2021-06-07T00:10:15.817444Z",
     "shell.execute_reply": "2021-06-07T00:10:15.817816Z"
    },
    "papermill": {
     "duration": 0.79455,
     "end_time": "2021-06-07T00:10:15.817950",
     "exception": false,
     "start_time": "2021-06-07T00:10:15.023400",
     "status": "completed"
    },
    "tags": []
   },
   "outputs": [],
   "source": [
    "boto3.Session().resource(\"s3\").Bucket(bucket).Object(\n",
    "    os.path.join(prefix, \"train/train.csv\")\n",
    ").upload_file(\"train.csv\")\n",
    "boto3.Session().resource(\"s3\").Bucket(bucket).Object(\n",
    "    os.path.join(prefix, \"validation/validation.csv\")\n",
    ").upload_file(\"validation.csv\")"
   ]
  },
  {
   "cell_type": "markdown",
   "id": "f7cce1dc",
   "metadata": {
    "papermill": {
     "duration": 0.050157,
     "end_time": "2021-06-07T00:10:15.918579",
     "exception": false,
     "start_time": "2021-06-07T00:10:15.868422",
     "status": "completed"
    },
    "tags": []
   },
   "source": [
    "---\n",
    "## Train\n",
    "\n",
    "학습작업을 위해 XGBoost 알고리즘 컨테이너의 정보를 가져옵니다. (AWS에서 관리형으로 제공되는 알고리즘 컨테이너의 위치를 가져옵니다.)"
   ]
  },
  {
   "cell_type": "code",
   "execution_count": 17,
   "id": "4794da83",
   "metadata": {
    "execution": {
     "iopub.execute_input": "2021-06-07T00:10:16.032320Z",
     "iopub.status.busy": "2021-06-07T00:10:16.031561Z",
     "iopub.status.idle": "2021-06-07T00:10:16.040085Z",
     "shell.execute_reply": "2021-06-07T00:10:16.040485Z"
    },
    "papermill": {
     "duration": 0.071985,
     "end_time": "2021-06-07T00:10:16.040629",
     "exception": false,
     "start_time": "2021-06-07T00:10:15.968644",
     "status": "completed"
    },
    "tags": []
   },
   "outputs": [
    {
     "data": {
      "text/plain": [
       "'433757028032.dkr.ecr.us-west-2.amazonaws.com/xgboost:latest'"
      ]
     },
     "metadata": {},
     "output_type": "display_data"
    }
   ],
   "source": [
    "container = sagemaker.image_uris.retrieve(\"xgboost\", boto3.Session().region_name, \"latest\")\n",
    "display(container)"
   ]
  },
  {
   "cell_type": "markdown",
   "id": "05eb5060",
   "metadata": {
    "papermill": {
     "duration": 0.050814,
     "end_time": "2021-06-07T00:10:16.142405",
     "exception": false,
     "start_time": "2021-06-07T00:10:16.091591",
     "status": "completed"
    },
    "tags": []
   },
   "source": [
    "알고리즘에서 사용할 `TrainingInput` 오브젝트를 생성하면서 조금전 s3로 업로드한 CSV 파일의 정보를 지정합니다. "
   ]
  },
  {
   "cell_type": "code",
   "execution_count": 18,
   "id": "b0e18b17",
   "metadata": {
    "execution": {
     "iopub.execute_input": "2021-06-07T00:10:16.248322Z",
     "iopub.status.busy": "2021-06-07T00:10:16.247652Z",
     "iopub.status.idle": "2021-06-07T00:10:16.249377Z",
     "shell.execute_reply": "2021-06-07T00:10:16.249719Z"
    },
    "papermill": {
     "duration": 0.05658,
     "end_time": "2021-06-07T00:10:16.249848",
     "exception": false,
     "start_time": "2021-06-07T00:10:16.193268",
     "status": "completed"
    },
    "tags": []
   },
   "outputs": [],
   "source": [
    "s3_input_train = TrainingInput(\n",
    "    s3_data=\"s3://{}/{}/train/train.csv\".format(bucket, prefix), content_type=\"csv\"\n",
    ")\n",
    "s3_input_validation = TrainingInput(\n",
    "    s3_data=\"s3://{}/{}/validation/validation.csv\".format(bucket, prefix), content_type=\"csv\"\n",
    ")"
   ]
  },
  {
   "cell_type": "markdown",
   "id": "26cebaa4",
   "metadata": {
    "papermill": {
     "duration": 0.050343,
     "end_time": "2021-06-07T00:10:16.350919",
     "exception": false,
     "start_time": "2021-06-07T00:10:16.300576",
     "status": "completed"
    },
    "tags": []
   },
   "source": [
    "이제 사용하려는 훈련 인스턴스의 유형과 개수와 같은 하이퍼 파라미터와 XGBoost 알고리즘을 위한 하이퍼 파라미터를 지정할 수 있습니다. 몇 가지 주요 하이퍼 파라미터는 다음과 같습니다.\n",
    "\n",
    "- `max_depth` 알고리즘 내에서 각 트리를 구축 할 수있는 깊이를 제어합니다. 트리가 깊으면 예측이 더 정확할 수 있지만 계산 비용이 더 많이 들고 과적합으로 이어질 수 있습니다. 일반적으로 많은 수의 얕은 트리와 적은 수의 더 깊은 트리 사이에서 탐색해야하는 모델 성능에 약간의 절충이 있습니다. \n",
    "- `subsample` 학습데이터의 샘플링을 제어합니다. 이 기법은 과적합을 방지하만 너무 낮은 값을 지정할 경우 모델에 사용되는 데이터가 너무 적어질 수 있습니다. \n",
    "- `num_round` 부스팅 회수를 지정합니다. 이 값은 이전 학습의 잔차(residual)을 이용하는 후속 모델의 수를 제어합니다. 마찬가지로 큰 수를 지정하면 학습데이터를 더 잘 할습할 수 있지만 계산 비용이 많이지고 과적합으로 이어질 수 있습니다. \n",
    "- `eta` 부스팅을 얼마나 공격적으로 진행할 지를 제어합니다. 큰 값으로 지정시 더 보수적인 부스팅이 발생합니다. \n",
    "- `gamma` 얼마나 공격적으로 트리가 성장할지를 제어합니다. 큰 값으로 지정시 보다 보수적인 모델이 생성될 가능성이 높습니다. \n",
    "\n",
    "XGBoost의 하이퍼파라미터에 대한 보다 자세한 정보는 다음 Github 페이지를 참조합니다. [page](https://github.com/dmlc/xgboost/blob/master/doc/parameter.md)."
   ]
  },
  {
   "cell_type": "code",
   "execution_count": 19,
   "id": "049a244a",
   "metadata": {
    "execution": {
     "iopub.execute_input": "2021-06-07T00:10:16.465461Z",
     "iopub.status.busy": "2021-06-07T00:10:16.464830Z",
     "iopub.status.idle": "2021-06-07T00:14:28.436253Z",
     "shell.execute_reply": "2021-06-07T00:14:28.436678Z"
    },
    "papermill": {
     "duration": 252.035305,
     "end_time": "2021-06-07T00:14:28.436818",
     "exception": false,
     "start_time": "2021-06-07T00:10:16.401513",
     "status": "completed"
    },
    "tags": []
   },
   "outputs": [
    {
     "name": "stdout",
     "output_type": "stream",
     "text": [
      "2021-12-05 14:10:52 Starting - Starting the training job...\n",
      "2021-12-05 14:11:15 Starting - Launching requested ML instancesProfilerReport-1638713451: InProgress\n",
      "......\n",
      "2021-12-05 14:12:15 Starting - Preparing the instances for training...............\n",
      "2021-12-05 14:14:38 Downloading - Downloading input data\n",
      "2021-12-05 14:14:38 Training - Downloading the training image..\u001b[34mArguments: train\u001b[0m\n",
      "\u001b[34m[2021-12-05:14:15:00:INFO] Running standalone xgboost training.\u001b[0m\n",
      "\u001b[34m[2021-12-05:14:15:00:INFO] File size need to be processed in the node: 1.16mb. Available memory size in the node: 8325.75mb\u001b[0m\n",
      "\u001b[34m[2021-12-05:14:15:00:INFO] Determined delimiter of CSV input is ','\u001b[0m\n",
      "\u001b[34m[14:15:00] S3DistributionType set as FullyReplicated\u001b[0m\n",
      "\u001b[34m[14:15:00] 3500x99 matrix with 346500 entries loaded from /opt/ml/input/data/train?format=csv&label_column=0&delimiter=,\u001b[0m\n",
      "\u001b[34m[2021-12-05:14:15:00:INFO] Determined delimiter of CSV input is ','\u001b[0m\n",
      "\u001b[34m[14:15:00] S3DistributionType set as FullyReplicated\u001b[0m\n",
      "\u001b[34m[14:15:00] 1000x99 matrix with 99000 entries loaded from /opt/ml/input/data/validation?format=csv&label_column=0&delimiter=,\u001b[0m\n",
      "\u001b[34m[14:15:00] src/tree/updater_prune.cc:74: tree pruning end, 1 roots, 42 extra nodes, 6 pruned nodes, max_depth=5\u001b[0m\n",
      "\u001b[34m[0]#011train-error:0.116857#011validation-error:0.114\u001b[0m\n",
      "\u001b[34m[14:15:00] src/tree/updater_prune.cc:74: tree pruning end, 1 roots, 38 extra nodes, 12 pruned nodes, max_depth=5\u001b[0m\n",
      "\u001b[34m[1]#011train-error:0.102857#011validation-error:0.1\u001b[0m\n",
      "\u001b[34m[14:15:00] src/tree/updater_prune.cc:74: tree pruning end, 1 roots, 40 extra nodes, 8 pruned nodes, max_depth=5\u001b[0m\n",
      "\u001b[34m[2]#011train-error:0.097714#011validation-error:0.095\u001b[0m\n",
      "\u001b[34m[14:15:00] src/tree/updater_prune.cc:74: tree pruning end, 1 roots, 36 extra nodes, 8 pruned nodes, max_depth=5\u001b[0m\n",
      "\u001b[34m[3]#011train-error:0.091714#011validation-error:0.092\u001b[0m\n",
      "\u001b[34m[14:15:00] src/tree/updater_prune.cc:74: tree pruning end, 1 roots, 32 extra nodes, 4 pruned nodes, max_depth=5\u001b[0m\n",
      "\u001b[34m[4]#011train-error:0.083143#011validation-error:0.083\u001b[0m\n",
      "\u001b[34m[14:15:00] src/tree/updater_prune.cc:74: tree pruning end, 1 roots, 36 extra nodes, 4 pruned nodes, max_depth=5\u001b[0m\n",
      "\u001b[34m[5]#011train-error:0.079714#011validation-error:0.084\u001b[0m\n",
      "\u001b[34m[14:15:00] src/tree/updater_prune.cc:74: tree pruning end, 1 roots, 38 extra nodes, 4 pruned nodes, max_depth=5\u001b[0m\n",
      "\u001b[34m[6]#011train-error:0.077429#011validation-error:0.086\u001b[0m\n",
      "\u001b[34m[14:15:00] src/tree/updater_prune.cc:74: tree pruning end, 1 roots, 36 extra nodes, 6 pruned nodes, max_depth=5\u001b[0m\n",
      "\u001b[34m[7]#011train-error:0.076286#011validation-error:0.08\u001b[0m\n",
      "\u001b[34m[14:15:00] src/tree/updater_prune.cc:74: tree pruning end, 1 roots, 28 extra nodes, 10 pruned nodes, max_depth=5\u001b[0m\n",
      "\u001b[34m[8]#011train-error:0.073143#011validation-error:0.077\u001b[0m\n",
      "\u001b[34m[14:15:00] src/tree/updater_prune.cc:74: tree pruning end, 1 roots, 28 extra nodes, 6 pruned nodes, max_depth=5\u001b[0m\n",
      "\u001b[34m[9]#011train-error:0.072286#011validation-error:0.074\u001b[0m\n",
      "\u001b[34m[14:15:00] src/tree/updater_prune.cc:74: tree pruning end, 1 roots, 34 extra nodes, 10 pruned nodes, max_depth=5\u001b[0m\n",
      "\u001b[34m[10]#011train-error:0.068286#011validation-error:0.076\u001b[0m\n",
      "\u001b[34m[14:15:00] src/tree/updater_prune.cc:74: tree pruning end, 1 roots, 20 extra nodes, 4 pruned nodes, max_depth=5\u001b[0m\n",
      "\u001b[34m[11]#011train-error:0.067143#011validation-error:0.076\u001b[0m\n",
      "\u001b[34m[14:15:00] src/tree/updater_prune.cc:74: tree pruning end, 1 roots, 28 extra nodes, 16 pruned nodes, max_depth=5\u001b[0m\n",
      "\u001b[34m[12]#011train-error:0.066286#011validation-error:0.079\u001b[0m\n",
      "\u001b[34m[14:15:00] src/tree/updater_prune.cc:74: tree pruning end, 1 roots, 28 extra nodes, 12 pruned nodes, max_depth=5\u001b[0m\n",
      "\u001b[34m[13]#011train-error:0.064286#011validation-error:0.079\u001b[0m\n",
      "\u001b[34m[14:15:00] src/tree/updater_prune.cc:74: tree pruning end, 1 roots, 30 extra nodes, 18 pruned nodes, max_depth=5\u001b[0m\n",
      "\u001b[34m[14]#011train-error:0.064571#011validation-error:0.081\u001b[0m\n",
      "\u001b[34m[14:15:00] src/tree/updater_prune.cc:74: tree pruning end, 1 roots, 20 extra nodes, 4 pruned nodes, max_depth=5\u001b[0m\n",
      "\u001b[34m[15]#011train-error:0.063143#011validation-error:0.078\u001b[0m\n",
      "\u001b[34m[14:15:00] src/tree/updater_prune.cc:74: tree pruning end, 1 roots, 26 extra nodes, 8 pruned nodes, max_depth=5\u001b[0m\n",
      "\u001b[34m[16]#011train-error:0.062286#011validation-error:0.073\u001b[0m\n",
      "\u001b[34m[14:15:00] src/tree/updater_prune.cc:74: tree pruning end, 1 roots, 24 extra nodes, 4 pruned nodes, max_depth=5\u001b[0m\n",
      "\u001b[34m[17]#011train-error:0.059714#011validation-error:0.072\u001b[0m\n",
      "\u001b[34m[14:15:00] src/tree/updater_prune.cc:74: tree pruning end, 1 roots, 14 extra nodes, 2 pruned nodes, max_depth=5\u001b[0m\n",
      "\u001b[34m[18]#011train-error:0.059429#011validation-error:0.071\u001b[0m\n",
      "\u001b[34m[14:15:00] src/tree/updater_prune.cc:74: tree pruning end, 1 roots, 22 extra nodes, 6 pruned nodes, max_depth=5\u001b[0m\n",
      "\u001b[34m[19]#011train-error:0.058286#011validation-error:0.071\u001b[0m\n",
      "\u001b[34m[14:15:00] src/tree/updater_prune.cc:74: tree pruning end, 1 roots, 24 extra nodes, 10 pruned nodes, max_depth=5\u001b[0m\n",
      "\u001b[34m[20]#011train-error:0.059714#011validation-error:0.07\u001b[0m\n",
      "\u001b[34m[14:15:00] src/tree/updater_prune.cc:74: tree pruning end, 1 roots, 14 extra nodes, 8 pruned nodes, max_depth=5\u001b[0m\n",
      "\u001b[34m[21]#011train-error:0.058857#011validation-error:0.071\u001b[0m\n",
      "\u001b[34m[14:15:00] src/tree/updater_prune.cc:74: tree pruning end, 1 roots, 14 extra nodes, 14 pruned nodes, max_depth=5\u001b[0m\n",
      "\u001b[34m[22]#011train-error:0.058571#011validation-error:0.072\u001b[0m\n",
      "\u001b[34m[14:15:00] src/tree/updater_prune.cc:74: tree pruning end, 1 roots, 14 extra nodes, 4 pruned nodes, max_depth=5\u001b[0m\n",
      "\u001b[34m[23]#011train-error:0.058571#011validation-error:0.069\u001b[0m\n",
      "\u001b[34m[14:15:00] src/tree/updater_prune.cc:74: tree pruning end, 1 roots, 12 extra nodes, 8 pruned nodes, max_depth=5\u001b[0m\n",
      "\u001b[34m[24]#011train-error:0.057143#011validation-error:0.067\u001b[0m\n",
      "\u001b[34m[14:15:00] src/tree/updater_prune.cc:74: tree pruning end, 1 roots, 24 extra nodes, 6 pruned nodes, max_depth=5\u001b[0m\n",
      "\u001b[34m[25]#011train-error:0.051714#011validation-error:0.068\u001b[0m\n",
      "\u001b[34m[14:15:00] src/tree/updater_prune.cc:74: tree pruning end, 1 roots, 18 extra nodes, 10 pruned nodes, max_depth=5\u001b[0m\n",
      "\u001b[34m[26]#011train-error:0.052#011validation-error:0.066\u001b[0m\n",
      "\u001b[34m[14:15:00] src/tree/updater_prune.cc:74: tree pruning end, 1 roots, 18 extra nodes, 4 pruned nodes, max_depth=5\u001b[0m\n",
      "\u001b[34m[27]#011train-error:0.052286#011validation-error:0.065\u001b[0m\n",
      "\u001b[34m[14:15:00] src/tree/updater_prune.cc:74: tree pruning end, 1 roots, 14 extra nodes, 14 pruned nodes, max_depth=4\u001b[0m\n",
      "\u001b[34m[28]#011train-error:0.052#011validation-error:0.063\u001b[0m\n",
      "\u001b[34m[14:15:00] src/tree/updater_prune.cc:74: tree pruning end, 1 roots, 10 extra nodes, 20 pruned nodes, max_depth=4\u001b[0m\n",
      "\u001b[34m[29]#011train-error:0.052286#011validation-error:0.063\u001b[0m\n",
      "\u001b[34m[14:15:00] src/tree/updater_prune.cc:74: tree pruning end, 1 roots, 0 extra nodes, 14 pruned nodes, max_depth=0\u001b[0m\n",
      "\u001b[34m[30]#011train-error:0.052571#011validation-error:0.063\u001b[0m\n",
      "\u001b[34m[14:15:00] src/tree/updater_prune.cc:74: tree pruning end, 1 roots, 14 extra nodes, 10 pruned nodes, max_depth=5\u001b[0m\n",
      "\u001b[34m[31]#011train-error:0.050571#011validation-error:0.065\u001b[0m\n",
      "\u001b[34m[14:15:00] src/tree/updater_prune.cc:74: tree pruning end, 1 roots, 10 extra nodes, 8 pruned nodes, max_depth=5\u001b[0m\n",
      "\u001b[34m[32]#011train-error:0.050286#011validation-error:0.063\u001b[0m\n",
      "\u001b[34m[14:15:00] src/tree/updater_prune.cc:74: tree pruning end, 1 roots, 0 extra nodes, 16 pruned nodes, max_depth=0\u001b[0m\n",
      "\u001b[34m[33]#011train-error:0.050286#011validation-error:0.063\u001b[0m\n",
      "\u001b[34m[14:15:00] src/tree/updater_prune.cc:74: tree pruning end, 1 roots, 0 extra nodes, 26 pruned nodes, max_depth=0\u001b[0m\n",
      "\u001b[34m[34]#011train-error:0.050286#011validation-error:0.063\u001b[0m\n",
      "\u001b[34m[14:15:00] src/tree/updater_prune.cc:74: tree pruning end, 1 roots, 8 extra nodes, 12 pruned nodes, max_depth=4\u001b[0m\n",
      "\u001b[34m[35]#011train-error:0.051143#011validation-error:0.063\u001b[0m\n",
      "\u001b[34m[14:15:00] src/tree/updater_prune.cc:74: tree pruning end, 1 roots, 16 extra nodes, 10 pruned nodes, max_depth=5\u001b[0m\n",
      "\u001b[34m[36]#011train-error:0.050286#011validation-error:0.061\u001b[0m\n",
      "\u001b[34m[14:15:00] src/tree/updater_prune.cc:74: tree pruning end, 1 roots, 10 extra nodes, 16 pruned nodes, max_depth=4\u001b[0m\n",
      "\u001b[34m[37]#011train-error:0.050857#011validation-error:0.061\u001b[0m\n",
      "\u001b[34m[14:15:00] src/tree/updater_prune.cc:74: tree pruning end, 1 roots, 14 extra nodes, 12 pruned nodes, max_depth=5\u001b[0m\n",
      "\u001b[34m[38]#011train-error:0.048857#011validation-error:0.061\u001b[0m\n",
      "\u001b[34m[14:15:00] src/tree/updater_prune.cc:74: tree pruning end, 1 roots, 8 extra nodes, 14 pruned nodes, max_depth=3\u001b[0m\n",
      "\u001b[34m[39]#011train-error:0.049143#011validation-error:0.061\u001b[0m\n",
      "\u001b[34m[14:15:00] src/tree/updater_prune.cc:74: tree pruning end, 1 roots, 12 extra nodes, 10 pruned nodes, max_depth=5\u001b[0m\n",
      "\u001b[34m[40]#011train-error:0.048286#011validation-error:0.062\u001b[0m\n",
      "\u001b[34m[14:15:00] src/tree/updater_prune.cc:74: tree pruning end, 1 roots, 24 extra nodes, 16 pruned nodes, max_depth=5\u001b[0m\n",
      "\u001b[34m[41]#011train-error:0.047714#011validation-error:0.064\u001b[0m\n",
      "\u001b[34m[14:15:00] src/tree/updater_prune.cc:74: tree pruning end, 1 roots, 18 extra nodes, 16 pruned nodes, max_depth=5\u001b[0m\n",
      "\u001b[34m[42]#011train-error:0.047429#011validation-error:0.063\u001b[0m\n",
      "\u001b[34m[14:15:00] src/tree/updater_prune.cc:74: tree pruning end, 1 roots, 10 extra nodes, 24 pruned nodes, max_depth=5\u001b[0m\n",
      "\u001b[34m[43]#011train-error:0.047714#011validation-error:0.066\u001b[0m\n",
      "\u001b[34m[14:15:00] src/tree/updater_prune.cc:74: tree pruning end, 1 roots, 10 extra nodes, 4 pruned nodes, max_depth=5\u001b[0m\n",
      "\u001b[34m[44]#011train-error:0.046571#011validation-error:0.065\u001b[0m\n",
      "\u001b[34m[14:15:00] src/tree/updater_prune.cc:74: tree pruning end, 1 roots, 14 extra nodes, 6 pruned nodes, max_depth=5\u001b[0m\n",
      "\u001b[34m[45]#011train-error:0.046#011validation-error:0.066\u001b[0m\n",
      "\u001b[34m[14:15:00] src/tree/updater_prune.cc:74: tree pruning end, 1 roots, 0 extra nodes, 12 pruned nodes, max_depth=0\u001b[0m\n",
      "\u001b[34m[46]#011train-error:0.046#011validation-error:0.066\u001b[0m\n",
      "\u001b[34m[14:15:00] src/tree/updater_prune.cc:74: tree pruning end, 1 roots, 8 extra nodes, 16 pruned nodes, max_depth=4\u001b[0m\n",
      "\u001b[34m[47]#011train-error:0.046#011validation-error:0.064\u001b[0m\n",
      "\u001b[34m[14:15:00] src/tree/updater_prune.cc:74: tree pruning end, 1 roots, 12 extra nodes, 10 pruned nodes, max_depth=4\u001b[0m\n",
      "\u001b[34m[48]#011train-error:0.045143#011validation-error:0.06\u001b[0m\n",
      "\u001b[34m[14:15:00] src/tree/updater_prune.cc:74: tree pruning end, 1 roots, 4 extra nodes, 26 pruned nodes, max_depth=2\u001b[0m\n",
      "\u001b[34m[49]#011train-error:0.045429#011validation-error:0.06\u001b[0m\n",
      "\u001b[34m[14:15:00] src/tree/updater_prune.cc:74: tree pruning end, 1 roots, 16 extra nodes, 12 pruned nodes, max_depth=5\u001b[0m\n",
      "\u001b[34m[50]#011train-error:0.044#011validation-error:0.061\u001b[0m\n",
      "\u001b[34m[14:15:00] src/tree/updater_prune.cc:74: tree pruning end, 1 roots, 0 extra nodes, 16 pruned nodes, max_depth=0\u001b[0m\n",
      "\u001b[34m[51]#011train-error:0.044571#011validation-error:0.061\u001b[0m\n",
      "\u001b[34m[14:15:00] src/tree/updater_prune.cc:74: tree pruning end, 1 roots, 0 extra nodes, 22 pruned nodes, max_depth=0\u001b[0m\n",
      "\u001b[34m[52]#011train-error:0.044571#011validation-error:0.061\u001b[0m\n",
      "\u001b[34m[14:15:00] src/tree/updater_prune.cc:74: tree pruning end, 1 roots, 6 extra nodes, 14 pruned nodes, max_depth=3\u001b[0m\n",
      "\u001b[34m[53]#011train-error:0.043714#011validation-error:0.061\u001b[0m\n",
      "\u001b[34m[14:15:00] src/tree/updater_prune.cc:74: tree pruning end, 1 roots, 0 extra nodes, 18 pruned nodes, max_depth=0\u001b[0m\n",
      "\u001b[34m[54]#011train-error:0.044#011validation-error:0.063\u001b[0m\n",
      "\u001b[34m[14:15:00] src/tree/updater_prune.cc:74: tree pruning end, 1 roots, 16 extra nodes, 6 pruned nodes, max_depth=5\u001b[0m\n",
      "\u001b[34m[55]#011train-error:0.044#011validation-error:0.061\u001b[0m\n",
      "\u001b[34m[14:15:00] src/tree/updater_prune.cc:74: tree pruning end, 1 roots, 12 extra nodes, 2 pruned nodes, max_depth=5\u001b[0m\n",
      "\u001b[34m[56]#011train-error:0.043143#011validation-error:0.058\u001b[0m\n",
      "\u001b[34m[14:15:00] src/tree/updater_prune.cc:74: tree pruning end, 1 roots, 10 extra nodes, 12 pruned nodes, max_depth=5\u001b[0m\n",
      "\u001b[34m[57]#011train-error:0.042571#011validation-error:0.06\u001b[0m\n",
      "\u001b[34m[14:15:00] src/tree/updater_prune.cc:74: tree pruning end, 1 roots, 0 extra nodes, 12 pruned nodes, max_depth=0\u001b[0m\n",
      "\u001b[34m[58]#011train-error:0.042571#011validation-error:0.06\u001b[0m\n",
      "\u001b[34m[14:15:00] src/tree/updater_prune.cc:74: tree pruning end, 1 roots, 10 extra nodes, 22 pruned nodes, max_depth=4\u001b[0m\n",
      "\u001b[34m[59]#011train-error:0.041714#011validation-error:0.062\u001b[0m\n",
      "\u001b[34m[14:15:00] src/tree/updater_prune.cc:74: tree pruning end, 1 roots, 0 extra nodes, 26 pruned nodes, max_depth=0\u001b[0m\n",
      "\u001b[34m[60]#011train-error:0.041714#011validation-error:0.062\u001b[0m\n",
      "\u001b[34m[14:15:00] src/tree/updater_prune.cc:74: tree pruning end, 1 roots, 0 extra nodes, 14 pruned nodes, max_depth=0\u001b[0m\n",
      "\u001b[34m[61]#011train-error:0.041714#011validation-error:0.062\u001b[0m\n",
      "\u001b[34m[14:15:00] src/tree/updater_prune.cc:74: tree pruning end, 1 roots, 6 extra nodes, 12 pruned nodes, max_depth=3\u001b[0m\n",
      "\u001b[34m[62]#011train-error:0.042286#011validation-error:0.06\u001b[0m\n",
      "\u001b[34m[14:15:00] src/tree/updater_prune.cc:74: tree pruning end, 1 roots, 12 extra nodes, 16 pruned nodes, max_depth=4\u001b[0m\n",
      "\u001b[34m[63]#011train-error:0.042857#011validation-error:0.061\u001b[0m\n",
      "\u001b[34m[14:15:00] src/tree/updater_prune.cc:74: tree pruning end, 1 roots, 0 extra nodes, 16 pruned nodes, max_depth=0\u001b[0m\n",
      "\u001b[34m[64]#011train-error:0.042571#011validation-error:0.061\u001b[0m\n",
      "\u001b[34m[14:15:00] src/tree/updater_prune.cc:74: tree pruning end, 1 roots, 0 extra nodes, 12 pruned nodes, max_depth=0\u001b[0m\n",
      "\u001b[34m[65]#011train-error:0.042857#011validation-error:0.061\u001b[0m\n",
      "\u001b[34m[14:15:00] src/tree/updater_prune.cc:74: tree pruning end, 1 roots, 12 extra nodes, 10 pruned nodes, max_depth=4\u001b[0m\n",
      "\u001b[34m[66]#011train-error:0.041714#011validation-error:0.061\u001b[0m\n",
      "\u001b[34m[14:15:00] src/tree/updater_prune.cc:74: tree pruning end, 1 roots, 10 extra nodes, 8 pruned nodes, max_depth=4\u001b[0m\n",
      "\u001b[34m[67]#011train-error:0.041143#011validation-error:0.063\u001b[0m\n",
      "\u001b[34m[14:15:00] src/tree/updater_prune.cc:74: tree pruning end, 1 roots, 0 extra nodes, 28 pruned nodes, max_depth=0\u001b[0m\n",
      "\u001b[34m[68]#011train-error:0.041143#011validation-error:0.063\u001b[0m\n",
      "\u001b[34m[14:15:00] src/tree/updater_prune.cc:74: tree pruning end, 1 roots, 6 extra nodes, 16 pruned nodes, max_depth=3\u001b[0m\n",
      "\u001b[34m[69]#011train-error:0.040286#011validation-error:0.062\u001b[0m\n",
      "\u001b[34m[14:15:00] src/tree/updater_prune.cc:74: tree pruning end, 1 roots, 0 extra nodes, 14 pruned nodes, max_depth=0\u001b[0m\n",
      "\u001b[34m[70]#011train-error:0.040286#011validation-error:0.062\u001b[0m\n",
      "\u001b[34m[14:15:00] src/tree/updater_prune.cc:74: tree pruning end, 1 roots, 6 extra nodes, 28 pruned nodes, max_depth=3\u001b[0m\n",
      "\u001b[34m[71]#011train-error:0.04#011validation-error:0.061\u001b[0m\n",
      "\u001b[34m[14:15:00] src/tree/updater_prune.cc:74: tree pruning end, 1 roots, 0 extra nodes, 20 pruned nodes, max_depth=0\u001b[0m\n",
      "\u001b[34m[72]#011train-error:0.04#011validation-error:0.06\u001b[0m\n",
      "\u001b[34m[14:15:01] src/tree/updater_prune.cc:74: tree pruning end, 1 roots, 8 extra nodes, 22 pruned nodes, max_depth=4\u001b[0m\n",
      "\u001b[34m[73]#011train-error:0.039429#011validation-error:0.061\u001b[0m\n",
      "\u001b[34m[14:15:01] src/tree/updater_prune.cc:74: tree pruning end, 1 roots, 0 extra nodes, 16 pruned nodes, max_depth=0\u001b[0m\n",
      "\u001b[34m[74]#011train-error:0.04#011validation-error:0.06\u001b[0m\n",
      "\u001b[34m[14:15:01] src/tree/updater_prune.cc:74: tree pruning end, 1 roots, 0 extra nodes, 16 pruned nodes, max_depth=0\u001b[0m\n",
      "\u001b[34m[75]#011train-error:0.039714#011validation-error:0.06\u001b[0m\n",
      "\u001b[34m[14:15:01] src/tree/updater_prune.cc:74: tree pruning end, 1 roots, 6 extra nodes, 24 pruned nodes, max_depth=3\u001b[0m\n",
      "\u001b[34m[76]#011train-error:0.039429#011validation-error:0.06\u001b[0m\n",
      "\u001b[34m[14:15:01] src/tree/updater_prune.cc:74: tree pruning end, 1 roots, 0 extra nodes, 20 pruned nodes, max_depth=0\u001b[0m\n",
      "\u001b[34m[77]#011train-error:0.039143#011validation-error:0.06\u001b[0m\n",
      "\u001b[34m[14:15:01] src/tree/updater_prune.cc:74: tree pruning end, 1 roots, 0 extra nodes, 24 pruned nodes, max_depth=0\u001b[0m\n",
      "\u001b[34m[78]#011train-error:0.039429#011validation-error:0.06\u001b[0m\n",
      "\u001b[34m[14:15:01] src/tree/updater_prune.cc:74: tree pruning end, 1 roots, 12 extra nodes, 2 pruned nodes, max_depth=5\u001b[0m\n",
      "\u001b[34m[79]#011train-error:0.040286#011validation-error:0.062\u001b[0m\n",
      "\u001b[34m[14:15:01] src/tree/updater_prune.cc:74: tree pruning end, 1 roots, 8 extra nodes, 22 pruned nodes, max_depth=4\u001b[0m\n",
      "\u001b[34m[80]#011train-error:0.039429#011validation-error:0.061\u001b[0m\n",
      "\u001b[34m[14:15:01] src/tree/updater_prune.cc:74: tree pruning end, 1 roots, 8 extra nodes, 14 pruned nodes, max_depth=3\u001b[0m\n",
      "\u001b[34m[81]#011train-error:0.039143#011validation-error:0.061\u001b[0m\n",
      "\u001b[34m[14:15:01] src/tree/updater_prune.cc:74: tree pruning end, 1 roots, 0 extra nodes, 30 pruned nodes, max_depth=0\u001b[0m\n",
      "\u001b[34m[82]#011train-error:0.039143#011validation-error:0.062\u001b[0m\n",
      "\u001b[34m[14:15:01] src/tree/updater_prune.cc:74: tree pruning end, 1 roots, 12 extra nodes, 14 pruned nodes, max_depth=5\u001b[0m\n",
      "\u001b[34m[83]#011train-error:0.038857#011validation-error:0.063\u001b[0m\n",
      "\u001b[34m[14:15:01] src/tree/updater_prune.cc:74: tree pruning end, 1 roots, 0 extra nodes, 18 pruned nodes, max_depth=0\u001b[0m\n",
      "\u001b[34m[84]#011train-error:0.038286#011validation-error:0.063\u001b[0m\n",
      "\u001b[34m[14:15:01] src/tree/updater_prune.cc:74: tree pruning end, 1 roots, 0 extra nodes, 18 pruned nodes, max_depth=0\u001b[0m\n",
      "\u001b[34m[85]#011train-error:0.038286#011validation-error:0.063\u001b[0m\n",
      "\u001b[34m[14:15:01] src/tree/updater_prune.cc:74: tree pruning end, 1 roots, 8 extra nodes, 12 pruned nodes, max_depth=4\u001b[0m\n",
      "\u001b[34m[86]#011train-error:0.037714#011validation-error:0.064\u001b[0m\n",
      "\u001b[34m[14:15:01] src/tree/updater_prune.cc:74: tree pruning end, 1 roots, 8 extra nodes, 12 pruned nodes, max_depth=4\u001b[0m\n",
      "\u001b[34m[87]#011train-error:0.037429#011validation-error:0.063\u001b[0m\n",
      "\u001b[34m[14:15:01] src/tree/updater_prune.cc:74: tree pruning end, 1 roots, 8 extra nodes, 18 pruned nodes, max_depth=3\u001b[0m\n",
      "\u001b[34m[88]#011train-error:0.037714#011validation-error:0.062\u001b[0m\n",
      "\u001b[34m[14:15:01] src/tree/updater_prune.cc:74: tree pruning end, 1 roots, 0 extra nodes, 16 pruned nodes, max_depth=0\u001b[0m\n",
      "\u001b[34m[89]#011train-error:0.037714#011validation-error:0.062\u001b[0m\n",
      "\u001b[34m[14:15:01] src/tree/updater_prune.cc:74: tree pruning end, 1 roots, 0 extra nodes, 16 pruned nodes, max_depth=0\u001b[0m\n",
      "\u001b[34m[90]#011train-error:0.037714#011validation-error:0.062\u001b[0m\n",
      "\u001b[34m[14:15:01] src/tree/updater_prune.cc:74: tree pruning end, 1 roots, 10 extra nodes, 12 pruned nodes, max_depth=5\u001b[0m\n",
      "\u001b[34m[91]#011train-error:0.037429#011validation-error:0.064\u001b[0m\n",
      "\u001b[34m[14:15:01] src/tree/updater_prune.cc:74: tree pruning end, 1 roots, 0 extra nodes, 18 pruned nodes, max_depth=0\u001b[0m\n",
      "\u001b[34m[92]#011train-error:0.037429#011validation-error:0.063\u001b[0m\n",
      "\u001b[34m[14:15:01] src/tree/updater_prune.cc:74: tree pruning end, 1 roots, 6 extra nodes, 14 pruned nodes, max_depth=3\u001b[0m\n",
      "\u001b[34m[93]#011train-error:0.038286#011validation-error:0.063\u001b[0m\n",
      "\u001b[34m[14:15:01] src/tree/updater_prune.cc:74: tree pruning end, 1 roots, 10 extra nodes, 20 pruned nodes, max_depth=3\u001b[0m\n",
      "\u001b[34m[94]#011train-error:0.036286#011validation-error:0.061\u001b[0m\n",
      "\u001b[34m[14:15:01] src/tree/updater_prune.cc:74: tree pruning end, 1 roots, 0 extra nodes, 26 pruned nodes, max_depth=0\u001b[0m\n",
      "\u001b[34m[95]#011train-error:0.036286#011validation-error:0.061\u001b[0m\n",
      "\u001b[34m[14:15:01] src/tree/updater_prune.cc:74: tree pruning end, 1 roots, 0 extra nodes, 26 pruned nodes, max_depth=0\u001b[0m\n",
      "\u001b[34m[96]#011train-error:0.036571#011validation-error:0.061\u001b[0m\n",
      "\u001b[34m[14:15:01] src/tree/updater_prune.cc:74: tree pruning end, 1 roots, 14 extra nodes, 8 pruned nodes, max_depth=5\u001b[0m\n",
      "\u001b[34m[97]#011train-error:0.036#011validation-error:0.063\u001b[0m\n",
      "\u001b[34m[14:15:01] src/tree/updater_prune.cc:74: tree pruning end, 1 roots, 0 extra nodes, 20 pruned nodes, max_depth=0\u001b[0m\n",
      "\u001b[34m[98]#011train-error:0.036286#011validation-error:0.063\u001b[0m\n",
      "\u001b[34m[14:15:01] src/tree/updater_prune.cc:74: tree pruning end, 1 roots, 10 extra nodes, 16 pruned nodes, max_depth=5\u001b[0m\n",
      "\u001b[34m[99]#011train-error:0.036286#011validation-error:0.064\u001b[0m\n",
      "\n",
      "2021-12-05 14:15:16 Uploading - Uploading generated training model\n",
      "2021-12-05 14:15:16 Completed - Training job completed\n",
      "Training seconds: 43\n",
      "Billable seconds: 43\n"
     ]
    }
   ],
   "source": [
    "sess = sagemaker.Session()\n",
    "\n",
    "xgb = sagemaker.estimator.Estimator(\n",
    "    container,\n",
    "    role,\n",
    "    instance_count=1,\n",
    "    instance_type=\"ml.m4.xlarge\",\n",
    "    output_path=\"s3://{}/{}/output\".format(bucket, prefix),\n",
    "    sagemaker_session=sess,\n",
    ")\n",
    "xgb.set_hyperparameters(\n",
    "    max_depth=5,\n",
    "    eta=0.2,\n",
    "    gamma=4,\n",
    "    min_child_weight=6,\n",
    "    subsample=0.8,\n",
    "    silent=0,\n",
    "    objective=\"binary:logistic\",\n",
    "    num_round=100,\n",
    ")\n",
    "\n",
    "xgb.fit({\"train\": s3_input_train, \"validation\": s3_input_validation})"
   ]
  },
  {
   "cell_type": "markdown",
   "id": "d3675304",
   "metadata": {
    "papermill": {
     "duration": null,
     "end_time": null,
     "exception": null,
     "start_time": null,
     "status": "pending"
    },
    "tags": []
   },
   "source": [
    "---\n",
    "## Host\n",
    "\n",
    "이제 XGBoost를 이용한 학습이 끝났습니다. 모델을 생성하고 호스팅 엔드포인트로 배포합니다. \n"
   ]
  },
  {
   "cell_type": "code",
   "execution_count": 20,
   "id": "ba10652f",
   "metadata": {
    "papermill": {
     "duration": null,
     "end_time": null,
     "exception": null,
     "start_time": null,
     "status": "pending"
    },
    "tags": []
   },
   "outputs": [
    {
     "name": "stdout",
     "output_type": "stream",
     "text": [
      "------!"
     ]
    }
   ],
   "source": [
    "xgb_predictor = xgb.deploy(\n",
    "    initial_instance_count=1, instance_type=\"ml.m4.xlarge\", serializer=CSVSerializer()\n",
    ")"
   ]
  },
  {
   "cell_type": "markdown",
   "id": "f5d81884",
   "metadata": {
    "papermill": {
     "duration": null,
     "end_time": null,
     "exception": null,
     "start_time": null,
     "status": "pending"
    },
    "tags": []
   },
   "source": [
    "### Evaluate\n",
    "\n",
    "이제 호스팅 된 엔드 포인트가 실행 중이므로 http POST 요청을 작성하여 매우 쉽게 모델에서 실시간 예측을 수행 할 수 있습니다. 그러나 먼저`test_data` NumPy 배열을 엔드 포인트에서 실행중인 모델에 전달하기 위해 직렬화(serializer)와 역직렬화(deserializer)를 설정해야합니다.\n"
   ]
  },
  {
   "cell_type": "markdown",
   "id": "7d31d3ba",
   "metadata": {
    "papermill": {
     "duration": null,
     "end_time": null,
     "exception": null,
     "start_time": null,
     "status": "pending"
    },
    "tags": []
   },
   "source": [
    "이제 간단한 함수를 사용하여 다음을 수행합니다.\n",
    "1. 테스트 데이터 세트를 반복합니다.\n",
    "1. 행의 미니 배치로 분할\n",
    "1. 분할한 미니 배치 배열을 페이로드로 하여 XGBoost 엔드포인트 호출 (예측 실행) \n",
    "1. 예측결과 리턴"
   ]
  },
  {
   "cell_type": "code",
   "execution_count": 21,
   "id": "ea95c8b6",
   "metadata": {
    "papermill": {
     "duration": null,
     "end_time": null,
     "exception": null,
     "start_time": null,
     "status": "pending"
    },
    "tags": []
   },
   "outputs": [],
   "source": [
    "def predict(data, rows=500):\n",
    "    split_array = np.array_split(data, int(data.shape[0] / float(rows) + 1))\n",
    "    predictions = \"\"\n",
    "    for array in split_array:\n",
    "        predictions = \",\".join([predictions, xgb_predictor.predict(array).decode(\"utf-8\")])\n",
    "\n",
    "    return np.fromstring(predictions[1:], sep=\",\")\n",
    "\n",
    "\n",
    "predictions = predict(test_data.to_numpy()[:, 1:])"
   ]
  },
  {
   "cell_type": "code",
   "execution_count": 22,
   "id": "c2b83b11",
   "metadata": {},
   "outputs": [
    {
     "name": "stdout",
     "output_type": "stream",
     "text": [
      "[1.35331511e-01 9.82077539e-01 1.02474750e-03 4.05021757e-03\n",
      " 3.92824411e-01 9.72177207e-01 9.91238415e-01 7.27955222e-01\n",
      " 8.88106227e-01 9.90995705e-01 9.52816725e-01 1.19172679e-02\n",
      " 3.58281261e-03 9.42603052e-01 9.89126205e-01 9.90786612e-01\n",
      " 9.89062250e-01 6.96188286e-02 9.03073490e-01 9.86119509e-01\n",
      " 9.62791502e-01 1.74614764e-03 5.25158504e-03 9.58006740e-01\n",
      " 9.41856503e-01 1.67768657e-01 9.90760803e-01 2.84090172e-03\n",
      " 9.95878816e-01 1.79207008e-02 5.64881638e-02 3.02827973e-02\n",
      " 9.39479709e-01 5.42096049e-03 4.67779767e-03 1.76512660e-03\n",
      " 5.74744403e-01 4.61890012e-01 9.82370138e-01 9.46011901e-01\n",
      " 7.24184453e-01 9.79002118e-01 4.35622185e-01 9.47760344e-01\n",
      " 1.98116549e-03 9.55070615e-01 1.80402584e-03 2.31066555e-01\n",
      " 9.84024167e-01 2.06405832e-03 4.47656447e-03 9.76536214e-01\n",
      " 9.76774156e-01 2.38812685e-01 8.62769634e-02 9.92498100e-01\n",
      " 5.51647916e-02 1.81831885e-03 1.40864691e-02 6.51788637e-02\n",
      " 3.24071288e-01 9.69274342e-01 8.70716691e-01 2.77617481e-02\n",
      " 3.38171422e-03 9.86501753e-01 9.96587396e-01 2.11618710e-02\n",
      " 9.75571871e-01 9.65472043e-01 9.96151865e-01 9.69069004e-01\n",
      " 9.89180505e-01 2.63313879e-03 3.21035296e-01 1.08806137e-02\n",
      " 2.64573544e-02 9.37089503e-01 6.73267897e-03 2.58733481e-01\n",
      " 3.24417472e-01 9.28655446e-01 3.31248250e-03 8.90821934e-01\n",
      " 9.61377740e-01 2.71464825e-01 8.27060938e-02 4.50845510e-02\n",
      " 1.04574696e-03 2.53715012e-02 7.90762436e-03 5.23460889e-03\n",
      " 2.56178831e-03 1.91231240e-02 1.13130454e-02 7.38239754e-03\n",
      " 5.82699895e-01 9.73278880e-01 9.22638085e-03 8.47170115e-01\n",
      " 9.90330100e-01 3.55595469e-01 3.20115268e-01 1.39923133e-02\n",
      " 1.42177224e-01 6.04430676e-01 7.18148589e-01 5.39106596e-03\n",
      " 9.80735362e-01 7.37583041e-01 5.03236465e-02 1.64943077e-02\n",
      " 9.04652297e-01 9.81644273e-01 7.90716231e-01 9.85898018e-01\n",
      " 7.62424946e-01 9.84377503e-01 2.63425987e-03 4.38998500e-03\n",
      " 2.94039130e-01 4.28284109e-02 9.84231472e-01 5.86435676e-01\n",
      " 3.08436388e-03 9.39401984e-01 1.30047444e-02 1.97171748e-01\n",
      " 2.52563730e-02 8.10037076e-01 6.91544730e-03 9.95759904e-01\n",
      " 5.84239900e-01 6.48281515e-01 2.54428573e-03 4.74239998e-02\n",
      " 1.03579066e-03 1.68707268e-03 7.82937527e-01 9.83555257e-01\n",
      " 2.19112285e-03 1.72078947e-03 9.97695029e-01 9.94287312e-01\n",
      " 3.99078667e-01 5.59094250e-01 9.48836029e-01 8.70352332e-03\n",
      " 3.88872786e-03 1.67273183e-03 3.71541269e-02 9.79852796e-01\n",
      " 1.06622964e-01 9.77587759e-01 1.03806876e-01 9.88253295e-01\n",
      " 9.95530903e-01 8.86603259e-03 3.61969098e-02 9.98754025e-01\n",
      " 9.02955353e-01 1.37167017e-03 9.93803740e-01 2.26997677e-02\n",
      " 9.87512410e-01 1.05077840e-01 2.04039039e-03 9.87286270e-01\n",
      " 5.44086145e-03 9.65804696e-01 1.20876392e-03 4.99187075e-02\n",
      " 9.29978013e-01 2.68173255e-02 1.61253046e-02 9.07470047e-01\n",
      " 4.03423654e-03 3.44088417e-03 2.38039996e-02 9.94472027e-01\n",
      " 9.74373102e-01 5.20768529e-03 9.79227364e-01 5.08057186e-03\n",
      " 9.95805264e-01 6.65849864e-01 1.05473526e-01 9.93587852e-01\n",
      " 5.58617711e-01 2.41559744e-02 5.02773046e-01 3.22041893e-03\n",
      " 1.92995416e-03 9.00983155e-01 5.58514297e-01 9.27726090e-01\n",
      " 5.46179354e-01 9.89919186e-01 5.56463718e-01 2.64735380e-03\n",
      " 9.73722637e-01 1.13814147e-02 9.58212733e-01 1.30312620e-02\n",
      " 9.89001274e-01 1.78968444e-01 8.57075810e-01 9.76885080e-01\n",
      " 5.23749273e-03 3.24952036e-01 1.79608092e-02 2.49289963e-02\n",
      " 8.60855356e-03 8.52289140e-01 3.09771717e-01 8.76666784e-01\n",
      " 4.08283435e-02 9.35659528e-01 2.94428766e-01 9.79122996e-01\n",
      " 9.62184668e-01 6.78600371e-03 9.05742466e-01 9.97201800e-01\n",
      " 1.14960328e-01 9.08459008e-01 1.19753112e-03 5.32368302e-01\n",
      " 9.58187222e-01 9.89705026e-01 3.39890003e-01 7.22918008e-03\n",
      " 9.54267502e-01 2.33254582e-01 5.88130299e-03 6.44563744e-03\n",
      " 8.89785029e-03 9.94546056e-01 3.72455828e-03 9.71175611e-01\n",
      " 9.74044800e-01 2.12178566e-03 1.07673155e-02 4.76329684e-01\n",
      " 9.96783376e-01 1.76805198e-01 9.86611724e-01 5.33065759e-03\n",
      " 7.30689906e-04 9.94548619e-01 6.52407229e-01 9.34181631e-01\n",
      " 9.91729438e-01 9.93662238e-01 9.83221948e-01 3.98660809e-01\n",
      " 6.20443141e-03 7.74233043e-01 9.95967031e-01 6.36944234e-01\n",
      " 1.17769570e-03 9.50848639e-01 8.04703474e-01 3.06982826e-03\n",
      " 8.86053592e-03 6.01315558e-01 8.15589039e-04 5.72970212e-01\n",
      " 6.05024816e-03 3.00737917e-01 4.88646049e-03 2.77840160e-03\n",
      " 8.07540655e-01 9.92803991e-01 8.98140490e-01 9.72906947e-01\n",
      " 6.92576945e-01 9.93186355e-01 1.08809747e-01 9.92834687e-01\n",
      " 9.94885147e-01 3.36409220e-03 8.95250499e-01 5.41887462e-01\n",
      " 3.20547223e-02 3.00191017e-03 5.35610989e-02 9.97282743e-01\n",
      " 9.83131170e-01 9.19797793e-02 8.23473513e-01 9.59514558e-01\n",
      " 9.32907164e-01 7.84317493e-01 9.17944372e-01 3.09938975e-02\n",
      " 3.54256898e-01 9.92791533e-01 8.52789164e-01 2.45015230e-03\n",
      " 9.89008367e-01 9.91619706e-01 9.90877688e-01 9.49390650e-01\n",
      " 1.30883142e-01 9.88085508e-01 9.94880915e-01 3.64250340e-03\n",
      " 1.00924395e-01 5.84139954e-04 9.90493596e-01 9.98544216e-01\n",
      " 9.86899495e-01 2.92626163e-03 2.48177201e-01 2.34482929e-01\n",
      " 8.31019282e-01 9.92612481e-01 8.60626280e-01 7.52302110e-01\n",
      " 3.23741376e-01 7.65029073e-01 5.58793452e-03 9.93409157e-01\n",
      " 9.38858867e-01 7.71634397e-04 1.67317316e-02 9.37093079e-01\n",
      " 7.06784369e-04 9.98139381e-01 8.05393100e-01 5.16605470e-03\n",
      " 9.78015721e-01 2.05255556e-03 9.12059784e-01 9.25935686e-01\n",
      " 1.13790333e-02 9.89597142e-01 1.27113104e-01 5.78118026e-01\n",
      " 9.96469259e-01 9.72206831e-01 9.76976454e-01 9.41750944e-01\n",
      " 5.77228487e-01 2.19249935e-03 7.88132489e-01 9.81530845e-01\n",
      " 4.33299989e-02 9.69189465e-01 9.94810939e-01 8.52230430e-01\n",
      " 3.99795204e-01 6.53925359e-01 2.95181237e-02 3.39665934e-02\n",
      " 7.94862688e-01 2.04434637e-02 1.28047034e-01 4.97525007e-01\n",
      " 6.99097216e-01 2.78656930e-03 9.65144753e-01 9.88097727e-01\n",
      " 9.90343571e-01 1.70749594e-02 9.78468716e-01 6.33870484e-04\n",
      " 6.30041352e-03 1.74134392e-02 5.17328441e-01 6.64301068e-02\n",
      " 9.65705335e-01 3.48356972e-03 9.93482172e-01 8.85248363e-01\n",
      " 7.88051486e-01 5.09877980e-04 4.03372422e-02 9.36156988e-01\n",
      " 9.61743534e-01 2.84105301e-01 3.35437730e-02 5.53360462e-01\n",
      " 9.97811019e-01 5.75639447e-03 9.68811095e-01 6.68024877e-03\n",
      " 1.88899226e-02 9.71860945e-01 9.77428854e-01 3.99328908e-03\n",
      " 5.62287215e-03 7.96073318e-01 1.99078992e-02 9.77693915e-01\n",
      " 3.26212645e-01 1.39212295e-01 9.93900180e-01 2.80859950e-03\n",
      " 4.18449134e-01 9.85604823e-01 7.15814114e-01 9.74938989e-01\n",
      " 3.95792350e-03 9.89029527e-01 1.45013705e-01 2.24798415e-02\n",
      " 7.97536910e-01 1.10140465e-01 9.85174477e-01 9.57152069e-01\n",
      " 8.49451423e-02 9.73486364e-01 7.53005641e-03 7.70264864e-01\n",
      " 7.48203993e-01 3.52388084e-01 5.94211340e-01 9.95380521e-01\n",
      " 8.92800987e-01 4.59158495e-02 1.18001075e-02 5.04979268e-02\n",
      " 8.68584573e-01 8.19599867e-01 9.75251377e-01 1.37978035e-03\n",
      " 2.46118824e-03 4.94047582e-01 9.51911092e-01 4.96846557e-01\n",
      " 9.89559054e-01 6.39659760e-04 7.06940293e-02 9.64530110e-01\n",
      " 9.38779950e-01 8.38272832e-03 9.19750333e-01 4.18015569e-02\n",
      " 5.70869744e-01 1.06459521e-01 3.62761080e-01 9.55066621e-01\n",
      " 8.14702332e-01 7.48456717e-02 9.53042647e-04 7.32033730e-01\n",
      " 5.06092459e-02 8.94822478e-01 2.64998395e-02 1.04296561e-02\n",
      " 9.36205387e-01 3.36960889e-03 9.75249887e-01 9.76234794e-01\n",
      " 1.14756696e-01 1.49416341e-03 5.38111746e-01 9.96687353e-01\n",
      " 1.12269195e-02 3.39865126e-02 9.89515066e-01 9.88028944e-01\n",
      " 9.10718925e-03 1.09984174e-01 3.62294354e-03 9.03799057e-01\n",
      " 3.25372512e-03 9.96353388e-01 6.18791813e-03 6.41223550e-01\n",
      " 4.31292877e-03 3.69082741e-03 2.70273089e-02 1.50334686e-02\n",
      " 1.34704104e-02 6.39035776e-02 4.14570980e-02 8.61872971e-01\n",
      " 6.39807759e-03 5.89951640e-03 8.43912712e-04 9.54841495e-01\n",
      " 9.53769982e-01 9.91130114e-01 9.01047885e-01 9.51251447e-01\n",
      " 9.05901670e-01 4.49176356e-02 9.81808484e-01 3.27834845e-01\n",
      " 1.14604257e-01 9.86102939e-01 5.43728583e-02 9.02637482e-01\n",
      " 9.97059226e-01 9.33740377e-01 9.48212445e-01 9.88600552e-01]\n"
     ]
    }
   ],
   "source": [
    "print(predictions)"
   ]
  },
  {
   "cell_type": "markdown",
   "id": "4cdca466",
   "metadata": {
    "papermill": {
     "duration": null,
     "end_time": null,
     "exception": null,
     "start_time": null,
     "status": "pending"
    },
    "tags": []
   },
   "source": [
    "기계 학습 모델의 성능을 비교하는 방법은 여러 가지가 있지만 실제 값과 예측 값을 비교하는 것으로 시작하겠습니다. 이 경우 단순히 고객이 이탈했는지 (`1`) 또는 이탈하지 않았는지 (`0`) 예측하여 간단한 혼동 행렬을 생성합니다.\n"
   ]
  },
  {
   "cell_type": "code",
   "execution_count": 23,
   "id": "1df5877d",
   "metadata": {
    "papermill": {
     "duration": null,
     "end_time": null,
     "exception": null,
     "start_time": null,
     "status": "pending"
    },
    "tags": []
   },
   "outputs": [
    {
     "data": {
      "text/html": [
       "<div>\n",
       "<style scoped>\n",
       "    .dataframe tbody tr th:only-of-type {\n",
       "        vertical-align: middle;\n",
       "    }\n",
       "\n",
       "    .dataframe tbody tr th {\n",
       "        vertical-align: top;\n",
       "    }\n",
       "\n",
       "    .dataframe thead th {\n",
       "        text-align: right;\n",
       "    }\n",
       "</style>\n",
       "<table border=\"1\" class=\"dataframe\">\n",
       "  <thead>\n",
       "    <tr style=\"text-align: right;\">\n",
       "      <th>predictions</th>\n",
       "      <th>0.0</th>\n",
       "      <th>1.0</th>\n",
       "    </tr>\n",
       "    <tr>\n",
       "      <th>actual</th>\n",
       "      <th></th>\n",
       "      <th></th>\n",
       "    </tr>\n",
       "  </thead>\n",
       "  <tbody>\n",
       "    <tr>\n",
       "      <th>0</th>\n",
       "      <td>235</td>\n",
       "      <td>18</td>\n",
       "    </tr>\n",
       "    <tr>\n",
       "      <th>1</th>\n",
       "      <td>9</td>\n",
       "      <td>238</td>\n",
       "    </tr>\n",
       "  </tbody>\n",
       "</table>\n",
       "</div>"
      ],
      "text/plain": [
       "predictions  0.0  1.0\n",
       "actual               \n",
       "0            235   18\n",
       "1              9  238"
      ]
     },
     "execution_count": 23,
     "metadata": {},
     "output_type": "execute_result"
    }
   ],
   "source": [
    "pd.crosstab(\n",
    "    index=test_data.iloc[:, 0],\n",
    "    columns=np.round(predictions),\n",
    "    rownames=[\"actual\"],\n",
    "    colnames=[\"predictions\"],\n",
    ")"
   ]
  },
  {
   "cell_type": "markdown",
   "id": "52ac3c8f",
   "metadata": {
    "papermill": {
     "duration": null,
     "end_time": null,
     "exception": null,
     "start_time": null,
     "status": "pending"
    },
    "tags": []
   },
   "source": [
    "_Note, 알고리즘의 랜덤 요소로 인해 결과가 약간 다를 수 있습니다.._\n",
    "\n",
    "247명 명의 이탈자 중 240 명을 정확하게 예측했습니다 (true positive). 그리고 우리는 15 명의 고객이 이탈 할 것이라고 잘못 예측했습니다. 우리가 이탈이라고 예측하지 않았으나 실제로는 이탈한 7 명의 고객도 있습니다 (false positive).\n",
    "\n",
    "여기서 중요한 점은 위의 np.round () 함수 때문에 0.5의 간단한 임계 값 (또는 컷오프)을 사용하고 있다는 것입니다. xgboost의 예측은 0과 1 사이의 연속 값으로 나오고 우리는 이 값을 예측을 위한 바이너리 클래스로 변환해야 합니다. 하지만 본 경우에서는 이탈하는 고객이 이탈 할 가능성이있는 고객을 사전에 유지하려고하는 것보다 회사에 더 많은 비용이 들 것으로 예상되므로 이 컷오프를 좀 더 보수적으로 조정하는 것이 좋습니다. 이는 거의 확실하게 false positive를 줄이고 true positive의 값을 늘리도록 변화시킬 것입니다. \n",
    "\n",
    "여기서 중요한 점은 위의 np.round () 함수 때문에 0.5의 간단한 임계 값 (또는 컷오프)을 사용하고 있다는 것입니다. xgboost의 예측은 0과 1 사이의 연속 값으로 나오고 시작했던 바이너리 클래스로 강제합니다. 그러나 이탈하는 고객은 이탈 할 가능성이있는 고객을 사전에 유지하려고하는 것보다 회사에 더 많은 비용이들 것으로 예상되므로이 컷오프를 조정하는 것이 좋습니다. 이는 거의 확실하게 위양성 수를 증가시킬 것이지만 참 양성 수를 늘리고 위음성 수를 줄일 수도 있습니다.\n",
    "\n",
    "컨오프를 위한 대략적인 직관을 얻기 위해 예측의 연속 값을 살펴 보겠습니다."
   ]
  },
  {
   "cell_type": "code",
   "execution_count": 24,
   "id": "e16c79a1",
   "metadata": {
    "papermill": {
     "duration": null,
     "end_time": null,
     "exception": null,
     "start_time": null,
     "status": "pending"
    },
    "tags": []
   },
   "outputs": [
    {
     "data": {
      "image/png": "[encoded data removed]",
      "text/plain": [
       "<Figure size 432x288 with 1 Axes>"
      ]
     },
     "metadata": {
      "needs_background": "light"
     },
     "output_type": "display_data"
    }
   ],
   "source": [
    "plt.hist(predictions)\n",
    "plt.show()"
   ]
  },
  {
   "cell_type": "markdown",
   "id": "520a2a1a",
   "metadata": {
    "papermill": {
     "duration": null,
     "end_time": null,
     "exception": null,
     "start_time": null,
     "status": "pending"
    },
    "tags": []
   },
   "source": [
    "모델에서 나오는 예측값이 0 또는 1로 치우치는 경향이 있습니다. 하지만, 0.1에서 0.9 사이에도 충분한 데이터가 있으므로 컷오프를 조정하면 실제로 많은 고객의 예측결과가 바뀔 것입니다. 예를 들면:\n"
   ]
  },
  {
   "cell_type": "code",
   "execution_count": 25,
   "id": "7359f67a",
   "metadata": {
    "papermill": {
     "duration": null,
     "end_time": null,
     "exception": null,
     "start_time": null,
     "status": "pending"
    },
    "tags": []
   },
   "outputs": [
    {
     "data": {
      "text/html": [
       "<div>\n",
       "<style scoped>\n",
       "    .dataframe tbody tr th:only-of-type {\n",
       "        vertical-align: middle;\n",
       "    }\n",
       "\n",
       "    .dataframe tbody tr th {\n",
       "        vertical-align: top;\n",
       "    }\n",
       "\n",
       "    .dataframe thead th {\n",
       "        text-align: right;\n",
       "    }\n",
       "</style>\n",
       "<table border=\"1\" class=\"dataframe\">\n",
       "  <thead>\n",
       "    <tr style=\"text-align: right;\">\n",
       "      <th>col_0</th>\n",
       "      <th>0</th>\n",
       "      <th>1</th>\n",
       "    </tr>\n",
       "    <tr>\n",
       "      <th>Churn?_True.</th>\n",
       "      <th></th>\n",
       "      <th></th>\n",
       "    </tr>\n",
       "  </thead>\n",
       "  <tbody>\n",
       "    <tr>\n",
       "      <th>0</th>\n",
       "      <td>215</td>\n",
       "      <td>38</td>\n",
       "    </tr>\n",
       "    <tr>\n",
       "      <th>1</th>\n",
       "      <td>3</td>\n",
       "      <td>244</td>\n",
       "    </tr>\n",
       "  </tbody>\n",
       "</table>\n",
       "</div>"
      ],
      "text/plain": [
       "col_0           0    1\n",
       "Churn?_True.          \n",
       "0             215   38\n",
       "1               3  244"
      ]
     },
     "execution_count": 25,
     "metadata": {},
     "output_type": "execute_result"
    }
   ],
   "source": [
    "pd.crosstab(index=test_data.iloc[:, 0], columns=np.where(predictions > 0.3, 1, 0))"
   ]
  },
  {
   "cell_type": "markdown",
   "id": "86d363a0",
   "metadata": {
    "papermill": {
     "duration": null,
     "end_time": null,
     "exception": null,
     "start_time": null,
     "status": "pending"
    },
    "tags": []
   },
   "source": [
    "컷오프를 0.5에서 0.3으로 변경하면 5 건의 true positive 증가, 14 건의 false postiive 증가, 5 건의 false negative 감소가 발생함을 알 수 있습니다. 전체적으로 숫자는 작지만, 컷오프 변경으로 인한 변화는 전체 고객의 6 ~ 10 %입니다. 컷오프의 조정은 올바른 결정일까요? 우리는 결국 5 명의 추가 고객을 유지하게 될 수 있지만, 이미 이탈하지 않을 14 명의 고객에게 불필요하게 인센티브를 제공했습니다. 최적의 컷오프를 결정하는 것은 실제 환경에서 머신 러닝을 적절하게 적용하기위한 핵심 단계입니다. 이 문제를 더 광범위하게 논의한 다음 현재 문제에 대해 구체적이고 가설적인 솔루션을 적용 해 보겠습니다.\n",
    "\n",
    "\n",
    "### Relative cost of errors\n",
    "\n",
    "실제 이진 분류 문제는 이와 유사한 민감한 컷오프를 판단해야 할 가능성이 높습니다. 이는 자체로 문제가 되지는 않습니다. 만약 두 클래스의 점수를 분리하기가 정말 쉽다면 문제는 ML 대신 간단한 규칙으로 해결할 수도 있습니다.\n",
    "\n",
    "더 중요한 것은, ML모델을 운영환경에 배치하면 모델이 계속해서 생성하는 false postive와 false negative 때문에 비용이 발생한다는 사실입니다. true postive와 true negative 에 의해 발생하는 비용도 따져야합니다. 컷오프의 변경은 이들 네 통계량에 모두 영향을 미치므로 결국 각 예측에 대한 네 가지 결과 각각에 대해 비즈니스에 대한 상대적 비용을 고려해야합니다.\n",
    "\n",
    "\n",
    "#### Assigning costs\n",
    "\n",
    "이동 통신사 고객 이탈에 따른 비용은 얼마인가요? 물론 비용은 비즈니스에서 어떤 조치를 취하는 지에 따라 다릅니다. 여기서 몇 가지 가정을 합니다.\n",
    "\n",
    "먼저 true negative에 \\$0의 비용을 할당하십시오. 이 경우 모델은 만족스러운 고객을 정확하게 식별했으며 아무것도 할 필요가 없습니다.\n",
    "\n",
    "faluse negative 의 경우 이탈하는 고객을 머무를 것으로 잘못 예측하기 때문에 가장 큰 문제가 됩니다. 우리는 고객을 잃게 되고 이전의 수익, 광고 비용, 관리 비용, POS 비용 및 전화 하드웨어 보조금을 포함하여 대체 고객을 확보하는 데 드는 모든 비용을 지불해야 합니다. 빠르게 인터넷을 검색해 본 결과, 이런 비용은 일반적으로 수백 달러에 이르는 것으로 확인되었습니다. 이 예에서는 500달러라고 가정하겠습니다. \n",
    "\n",
    "마지막으로, 모델이 이탈할 것으로 예측한 고객에 대해 $ 100의 유지 인센티브를 지불한다고 가정 해 보겠습니다. 고객은 이정도 금액이면 이탈하기 전에 두 번 생각할 것입니다. 이것은 true positive 및 false positive의 비용입니다. false positive (고객이 만족하지만 모델이 이탈하는 것으로 잘못 예측 한 경우)의 경우 100 달러 할인을 \"낭비\"합니다. 100 달러를 더 효율적으로 사용할 수 있었을 것입니다.하지만 이미 충성도가 높은 고객의 충성도를 높일 수 있으므로 그렇게 나쁘지 않습니다.\n"
   ]
  },
  {
   "cell_type": "markdown",
   "id": "52849fb7",
   "metadata": {
    "papermill": {
     "duration": null,
     "end_time": null,
     "exception": null,
     "start_time": null,
     "status": "pending"
    },
    "tags": []
   },
   "source": [
    "#### Finding the optimal cutoff\n",
    "\n",
    "false negative는 false positive 보다 훨씬 더 많은 비용이 듭니다. 고객 수에 따라 오류를 최적화하는 대신 다음과 같은 비용 함수를 최소화해야합니다.\n",
    "\n",
    "```txt\n",
    "$500 * FN(C) + $0 * TN(C) + $100 * FP(C) + $100 * TP(C)\n",
    "```\n",
    "\n",
    "함수로 표현된 FN(C)는 false negative 비율이 컷오프 C에 대한 함수임을 나타냅니다. TN, FP, TP 또한 유사합니다. \n",
    "오프 C를 찾아야합니다.\n",
    "\n",
    "적절한 컷오프값을 찾는 간단한 방법은 많은 가능한 컷오프에 대해 시뮬레이션을 실행하는 것입니다. 아래 for 루프에서 가능한 100 개의 값을 테스트합니다."
   ]
  },
  {
   "cell_type": "code",
   "execution_count": 26,
   "id": "fb3b53f5",
   "metadata": {
    "papermill": {
     "duration": null,
     "end_time": null,
     "exception": null,
     "start_time": null,
     "status": "pending"
    },
    "tags": []
   },
   "outputs": [
    {
     "data": {
      "image/png": "[encoded data removed]",
      "text/plain": [
       "<Figure size 432x288 with 1 Axes>"
      ]
     },
     "metadata": {
      "needs_background": "light"
     },
     "output_type": "display_data"
    }
   ],
   "source": [
    "cutoffs = np.arange(0.01, 1, 0.01)\n",
    "costs = []\n",
    "for c in cutoffs:\n",
    "    costs.append(\n",
    "        np.sum(\n",
    "            np.sum(\n",
    "                np.array([[0, 100], [500, 100]])\n",
    "                * pd.crosstab(index=test_data.iloc[:, 0], columns=np.where(predictions > c, 1, 0))\n",
    "            )\n",
    "        )\n",
    "    )\n",
    "\n",
    "costs = np.array(costs)\n",
    "plt.plot(cutoffs, costs)\n",
    "plt.show()"
   ]
  },
  {
   "cell_type": "code",
   "execution_count": 27,
   "id": "e656adde",
   "metadata": {
    "papermill": {
     "duration": null,
     "end_time": null,
     "exception": null,
     "start_time": null,
     "status": "pending"
    },
    "tags": []
   },
   "outputs": [
    {
     "name": "stdout",
     "output_type": "stream",
     "text": [
      "Cost is minimized near a cutoff of: 0.37 for a cost of: 29200\n"
     ]
    }
   ],
   "source": [
    "print(\n",
    "    \"Cost is minimized near a cutoff of:\",\n",
    "    cutoffs[np.argmin(costs)],\n",
    "    \"for a cost of:\",\n",
    "    np.min(costs),\n",
    ")"
   ]
  },
  {
   "cell_type": "markdown",
   "id": "8c1a7002",
   "metadata": {
    "papermill": {
     "duration": null,
     "end_time": null,
     "exception": null,
     "start_time": null,
     "status": "pending"
    },
    "tags": []
   },
   "source": [
    "위의 차트는 임계 값을 너무 낮게 선택하면 모든 고객에게 유지 인센티브가 주어짐에 따라 비용이 급증하는 결과를 보여줍니다. 한편 임계 값을 너무 높게 설정하면 고객을 너무 많이 잃게되어 결국 다시 큰 비용이 들게됩니다. 컷오프를 0.37로 설정하면 전체 비용은 \\$29,200로 최소화 할 수 있습니다.\n"
   ]
  },
  {
   "cell_type": "markdown",
   "id": "77b51142",
   "metadata": {
    "papermill": {
     "duration": null,
     "end_time": null,
     "exception": null,
     "start_time": null,
     "status": "pending"
    },
    "tags": []
   },
   "source": [
    "---\n",
    "## Extensions\n",
    "\n",
    "이 노트북은 고객 이탈 가능성을 예측하는 모델을 구축하는 방법과 true positive, false positive 및 false negative 를 최적으로 설정하는 방법을 보여주었습니다. 이 모델은 다음 내용으로 확장될 수 있습니다. \n",
    "- 유지 인센티브를 받는 고객 중 일부는 여전히 이탈합니다. 인센티브 프로그램에서 인센티브를 받았음에도 불구하고 이탈하는 가능성을 포함시키면 더 나은 ROI를 얻을 수 있습니다.\n",
    "- 저가 요금제로 전환하거나 유료 부가기능을 비활성화 한 고객은 다른 이탈 유형을 나타낸다면 이를 별도의 모델링으로 분리할 수 있습니다. \n",
    "- 고객 행동의 변화를 모델링할 수 있습니다. 사용량이 감소하고 고객서비스에 대한 호출 수가 증가하는 경우 이탈하게될 가능성이 높아진다면 고객 프로필에 행동 트랜드를 추가하여 고려할 수 있습니다.\n",
    "- 실제 비즈니스에서 학습데이터와 비용 할당은 보다 복잡할 것입니다.\n",
    "- 이탈의 유형별로 여러 모델이 필요할 수 있습니다. \n",
    "\n",
    "그리고 이 노트북에서 설명 된 원칙들은 복잡성이 추가되더라도이 유사하게 적용될 수 있습니다."
   ]
  },
  {
   "cell_type": "markdown",
   "id": "81501107",
   "metadata": {},
   "source": [
    "---\n",
    "## Store variables\n",
    "노트북2 실행을 위해 필요한 변수들을 저장한 후 2번 노트북 예제로 이동하여 HPO를 실행합니다."
   ]
  },
  {
   "cell_type": "code",
   "execution_count": 28,
   "id": "a302ed47",
   "metadata": {},
   "outputs": [
    {
     "name": "stdout",
     "output_type": "stream",
     "text": [
      "Stored 's3_input_train' (TrainingInput)\n",
      "Stored 's3_input_validation' (TrainingInput)\n",
      "Stored 'test_data' (DataFrame)\n",
      "Stored 'predictions' (ndarray)\n",
      "Stored 'train_data' (DataFrame)\n",
      "Stored 'validation_data' (DataFrame)\n"
     ]
    }
   ],
   "source": [
    "%store s3_input_train s3_input_validation test_data predictions train_data validation_data"
   ]
  },
  {
   "cell_type": "markdown",
   "id": "90013c64",
   "metadata": {
    "papermill": {
     "duration": null,
     "end_time": null,
     "exception": null,
     "start_time": null,
     "status": "pending"
    },
    "tags": []
   },
   "source": [
    "---\n",
    "### (Optional) Clean-up\n",
    "\n",
    "모든 작업을 완료하였다면 추가 요금발생을 막기 위해 아래 셀을 실행하십시오. 아래 코드는 생성한 호스팅 엔드포인트를 제거합니다. "
   ]
  },
  {
   "cell_type": "code",
   "execution_count": 29,
   "id": "c9922338",
   "metadata": {
    "papermill": {
     "duration": null,
     "end_time": null,
     "exception": null,
     "start_time": null,
     "status": "pending"
    },
    "tags": []
   },
   "outputs": [],
   "source": [
    "xgb_predictor.delete_endpoint()"
   ]
  },
  {
   "cell_type": "code",
   "execution_count": null,
   "id": "82b03f39",
   "metadata": {},
   "outputs": [],
   "source": []
  }
 ],
 "metadata": {
  "celltoolbar": "Tags",
  "kernelspec": {
   "display_name": "conda_python3",
   "language": "python",
   "name": "conda_python3"
  },
  "language_info": {
   "codemirror_mode": {
    "name": "ipython",
    "version": 3
   },
   "file_extension": ".py",
   "mimetype": "text/x-python",
   "name": "python",
   "nbconvert_exporter": "python",
   "pygments_lexer": "ipython3",
   "version": "3.6.13"
  },
  "notice": "Copyright 2017 Amazon.com, Inc. or its affiliates. All Rights Reserved.  Licensed under the Apache License, Version 2.0 (the \"License\"). You may not use this file except in compliance with the License. A copy of the License is located at http://aws.amazon.com/apache2.0/ or in the \"license\" file accompanying this file. This file is distributed on an \"AS IS\" BASIS, WITHOUT WARRANTIES OR CONDITIONS OF ANY KIND, either express or implied. See the License for the specific language governing permissions and limitations under the License.",
  "papermill": {
   "default_parameters": {},
   "duration": 311.728138,
   "end_time": "2021-06-07T00:14:55.273560",
   "environment_variables": {},
   "exception": true,
   "input_path": "xgboost_customer_churn.ipynb",
   "output_path": "/opt/ml/processing/output/xgboost_customer_churn-2021-06-07-00-06-03.ipynb",
   "parameters": {
    "kms_key": "arn:aws:kms:us-west-2:521695447989:key/6e9984db-50cf-4c7e-926c-877ec47a8b25"
   },
   "start_time": "2021-06-07T00:09:43.545422",
   "version": "2.3.3"
  }
 },
 "nbformat": 4,
 "nbformat_minor": 5
}
