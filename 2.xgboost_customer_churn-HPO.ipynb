{
 "cells": [
  {
   "cell_type": "markdown",
   "id": "1b6dbcee",
   "metadata": {
    "papermill": {
     "duration": 0.018505,
     "end_time": "2021-06-07T00:09:44.379517",
     "exception": false,
     "start_time": "2021-06-07T00:09:44.361012",
     "status": "completed"
    },
    "tags": []
   },
   "source": [
    "# HPO for Customer Churn Prediction with XGBoost\n",
    "_**본 노트북은 1번 노트북에서 작업한 고객이탈예측에 하이퍼파라미터 최적화 작업을 수행합니다.**_\n",
    "\n",
    "\n",
    "---\n",
    "#### 주의 : 1번 노트북 작업을 완료후 실행해야 합니다.\n",
    "\n",
    "---\n",
    "\n",
    "## Contents\n",
    "\n",
    "1. [Setup](#Setup)\n",
    "1. [Train with HPO](#Train-with-HPO)\n",
    "1. [Analyze result of HPO job](#Analyze-result-of-HPO-job)\n",
    "1. [Analyze result of HPO parameters](#Analyze-result-of-HPO-parameters)\n",
    "1. [Host](#Host)\n",
    "  1. [Evaluate](#Evaluate)\n",
    "  1. [Compare results](#Compare-results)\n",
    "\n",
    "---\n",
    "\n",
    "## Setup\n",
    "\n",
    "SageMaker SDK를 로드하고 초기변수를 설정합니다. (1번 노트북의 첫단계와 동일합니다.)\n"
   ]
  },
  {
   "cell_type": "code",
   "execution_count": 1,
   "id": "f590866c",
   "metadata": {
    "execution": {
     "iopub.execute_input": "2021-06-07T00:09:44.418703Z",
     "iopub.status.busy": "2021-06-07T00:09:44.418266Z",
     "iopub.status.idle": "2021-06-07T00:09:45.607044Z",
     "shell.execute_reply": "2021-06-07T00:09:45.606579Z"
    },
    "isConfigCell": true,
    "papermill": {
     "duration": 1.209916,
     "end_time": "2021-06-07T00:09:45.607159",
     "exception": false,
     "start_time": "2021-06-07T00:09:44.397243",
     "status": "completed"
    },
    "tags": [
     "parameters"
    ]
   },
   "outputs": [],
   "source": [
    "import sagemaker\n",
    "\n",
    "sess = sagemaker.Session()\n",
    "bucket = sess.default_bucket()\n",
    "prefix = \"sagemaker/DEMO-xgboost-churn\"\n",
    "\n",
    "# Define IAM role\n",
    "import boto3\n",
    "import re\n",
    "from sagemaker import get_execution_role\n",
    "\n",
    "role = get_execution_role()"
   ]
  },
  {
   "cell_type": "markdown",
   "id": "518d848d",
   "metadata": {
    "papermill": {
     "duration": 0.017739,
     "end_time": "2021-06-07T00:09:45.683322",
     "exception": false,
     "start_time": "2021-06-07T00:09:45.665583",
     "status": "completed"
    },
    "tags": []
   },
   "source": [
    "필요한 파이썬 라이브러리를 import 합니다. "
   ]
  },
  {
   "cell_type": "code",
   "execution_count": 2,
   "id": "84a8cae4",
   "metadata": {
    "execution": {
     "iopub.execute_input": "2021-06-07T00:09:45.723197Z",
     "iopub.status.busy": "2021-06-07T00:09:45.722450Z",
     "iopub.status.idle": "2021-06-07T00:09:46.367234Z",
     "shell.execute_reply": "2021-06-07T00:09:46.366826Z"
    },
    "papermill": {
     "duration": 0.666347,
     "end_time": "2021-06-07T00:09:46.367361",
     "exception": false,
     "start_time": "2021-06-07T00:09:45.701014",
     "status": "completed"
    },
    "tags": []
   },
   "outputs": [],
   "source": [
    "import pandas as pd\n",
    "import numpy as np\n",
    "import matplotlib.pyplot as plt\n",
    "import io\n",
    "import os\n",
    "import sys\n",
    "import time\n",
    "import json\n",
    "from IPython.display import display\n",
    "from time import strftime, gmtime\n",
    "from sagemaker.inputs import TrainingInput\n",
    "from sagemaker.serializers import CSVSerializer"
   ]
  },
  {
   "cell_type": "markdown",
   "id": "2769b4f1",
   "metadata": {
    "papermill": {
     "duration": 0.017739,
     "end_time": "2021-06-07T00:09:45.683322",
     "exception": false,
     "start_time": "2021-06-07T00:09:45.665583",
     "status": "completed"
    },
    "tags": []
   },
   "source": [
    "1번 노트북에서 사용한 변수를 리스토어합니다."
   ]
  },
  {
   "cell_type": "code",
   "execution_count": 3,
   "id": "8d6037fd",
   "metadata": {},
   "outputs": [],
   "source": [
    "%store -r s3_input_train s3_input_validation test_data predictions"
   ]
  },
  {
   "cell_type": "code",
   "execution_count": 4,
   "id": "ae82a7c1",
   "metadata": {},
   "outputs": [
    {
     "name": "stdout",
     "output_type": "stream",
     "text": [
      "dict_values([{'S3DataSource': {'S3DataType': 'S3Prefix', 'S3Uri': 's3://sagemaker-us-east-1-307548999884/sagemaker/DEMO-xgboost-churn/train', 'S3DataDistributionType': 'FullyReplicated'}}, 'csv'])\n"
     ]
    }
   ],
   "source": [
    "print(s3_input_train.config.values())"
   ]
  },
  {
   "cell_type": "markdown",
   "id": "01058ba4",
   "metadata": {
    "papermill": {
     "duration": 0.050157,
     "end_time": "2021-06-07T00:10:15.918579",
     "exception": false,
     "start_time": "2021-06-07T00:10:15.868422",
     "status": "completed"
    },
    "tags": []
   },
   "source": [
    "---\n",
    "## Train with HPO\n",
    "\n",
    "HPO 작업을 위해 XGBoost Estimator를 선언합니다. 먼저 XGBoost 컨테이너의 위치를 가져옵니다."
   ]
  },
  {
   "cell_type": "code",
   "execution_count": 5,
   "id": "8b075c8c",
   "metadata": {},
   "outputs": [
    {
     "data": {
      "text/plain": [
       "'811284229777.dkr.ecr.us-east-1.amazonaws.com/xgboost:latest'"
      ]
     },
     "metadata": {},
     "output_type": "display_data"
    }
   ],
   "source": [
    "container = sagemaker.image_uris.retrieve(\"xgboost\", boto3.Session().region_name, \"latest\")\n",
    "display(container)"
   ]
  },
  {
   "cell_type": "markdown",
   "id": "68564905",
   "metadata": {},
   "source": [
    "Estimator의 설정은 1번 단계와 거의 동일하나 몇가지가 달라졌습니다.\n",
    "- hyperparameter를 세팅할 때 max_depth, etc, min_child_weight 값을 설정하지 않았습니다.\n",
    "- xgb.fit()을 바로 실행하지 않았습니다. (대신 바로 다음 스텝에서 Hyperparameter tuning 작업의 매개변수로 전달됩니다.)"
   ]
  },
  {
   "cell_type": "code",
   "execution_count": 6,
   "id": "ec78e6b6",
   "metadata": {},
   "outputs": [],
   "source": [
    "sess = sagemaker.Session()\n",
    "\n",
    "xgb = sagemaker.estimator.Estimator(\n",
    "    container,\n",
    "    role,\n",
    "    instance_count=1,\n",
    "    instance_type=\"ml.m4.xlarge\",\n",
    "    output_path=\"s3://{}/{}/output\".format(bucket, prefix),\n",
    "    sagemaker_session=sess,\n",
    ")\n",
    "xgb.set_hyperparameters(\n",
    "    gamma=4,\n",
    "    subsample=0.8,\n",
    "    silent=0,\n",
    "    objective=\"binary:logistic\",\n",
    "    num_round=100,\n",
    ")\n"
   ]
  },
  {
   "cell_type": "markdown",
   "id": "a32fa83d",
   "metadata": {},
   "source": [
    "아래는 1번 노트북에서 사용한 코드입니다. 어떤 부분이 달려졌는지 비교해 보시기 바랍니다.\n",
    "\n",
    "```\n",
    "sess = sagemaker.Session()\n",
    "\n",
    "xgb = sagemaker.estimator.Estimator(\n",
    "    container,\n",
    "    role,\n",
    "    instance_count=1,\n",
    "    instance_type=\"ml.m4.xlarge\",\n",
    "    output_path=\"s3://{}/{}/output\".format(bucket, prefix),\n",
    "    sagemaker_session=sess,\n",
    ")\n",
    "xgb.set_hyperparameters(\n",
    "    max_depth=5,\n",
    "    eta=0.2,\n",
    "    gamma=4,\n",
    "    min_child_weight=6,\n",
    "    subsample=0.8,\n",
    "    silent=0,\n",
    "    objective=\"binary:logistic\",\n",
    "    num_round=100,\n",
    ")\n",
    "\n",
    "xgb.fit({\"train\": s3_input_train, \"validation\": s3_input_validation})\n",
    "```\n"
   ]
  },
  {
   "cell_type": "markdown",
   "id": "40dbda9b",
   "metadata": {},
   "source": [
    "\n",
    "### SageMaker tunner 선언\n",
    "\n",
    "SageMaker Hypter parameter tunner를 선언합니다.\n",
    "- objective_metric_name : HPO작업에서 최적화할 목표 매트릭을 설정\n",
    "- hyperparameter_ranges : 탐색하고자하는 하이퍼파라미터와 해당 값의 범위를 지정\n",
    "- max_jobs : 총 실행할 작업의 회수\n",
    "- max_parallel_jobs : 동시에 실행할 작업의 회수"
   ]
  },
  {
   "cell_type": "code",
   "execution_count": 7,
   "id": "df39931d",
   "metadata": {},
   "outputs": [],
   "source": [
    "from sagemaker.tuner import (\n",
    "    IntegerParameter,\n",
    "    CategoricalParameter,\n",
    "    ContinuousParameter,\n",
    "    HyperparameterTuner,\n",
    ")\n",
    "\n",
    "objective_metric_name = \"validation:auc\"\n",
    "\n",
    "hyperparameter_ranges = {\n",
    "    \"eta\": ContinuousParameter(0, 1),\n",
    "    \"min_child_weight\": ContinuousParameter(1, 10),\n",
    "    \"max_depth\": IntegerParameter(1, 10),\n",
    "}\n",
    "\n",
    "tuner = HyperparameterTuner(\n",
    "    xgb, objective_metric_name, hyperparameter_ranges, max_jobs=20, max_parallel_jobs=3\n",
    ")\n"
   ]
  },
  {
   "cell_type": "markdown",
   "id": "c5c1365a",
   "metadata": {},
   "source": [
    "### HPO 작업 실행\n",
    "다음 셀을 실행하고 SageMaker 콘솔로 이동하여 Hyperparameter tuning jobs 메뉴를 클릭합니다. 작업이 제출되고 실행되는 것을 모니터링할 수 있습니다. (max_jobs와 max_parallel_jobs 설정이 HPO 작업실행에 어떤 영향을 미치는지 확인해 보세요.)"
   ]
  },
  {
   "cell_type": "code",
   "execution_count": 8,
   "id": "67a7c31c",
   "metadata": {},
   "outputs": [
    {
     "name": "stdout",
     "output_type": "stream",
     "text": [
      "...................................................................................................................................................................................................................................................................................................................................................!\n",
      "CPU times: user 1.75 s, sys: 90.2 ms, total: 1.84 s\n",
      "Wall time: 28min 36s\n"
     ]
    }
   ],
   "source": [
    "%%time\n",
    "tuner.fit({\"train\": s3_input_train, \"validation\": s3_input_validation})"
   ]
  },
  {
   "cell_type": "markdown",
   "id": "ffbc7c04",
   "metadata": {},
   "source": [
    "## Analyze result of HPO job\n",
    "\n",
    "HPO 작업이 완료되면 다음 코드를 이용하여 결과를 탐색해 봅니다.\n",
    "\n",
    "분석 코드는 아래 SageMaker 공식예제로부터 일부 변수값 등을 변형하였습니다.\n",
    "- https://github.com/aws/amazon-sagemaker-examples/blob/master/hyperparameter_tuning/analyze_results/HPO_Analyze_TuningJob_Results.ipynb\n"
   ]
  },
  {
   "cell_type": "code",
   "execution_count": 9,
   "id": "366bfc7d",
   "metadata": {},
   "outputs": [
    {
     "data": {
      "text/plain": [
       "'Completed'"
      ]
     },
     "execution_count": 9,
     "metadata": {},
     "output_type": "execute_result"
    }
   ],
   "source": [
    "tuning_job_name=tuner.latest_tuning_job.job_name\n",
    "\n",
    "boto3.client(\"sagemaker\").describe_hyper_parameter_tuning_job(\n",
    "    HyperParameterTuningJobName=tuning_job_name\n",
    ")[\"HyperParameterTuningJobStatus\"]\n"
   ]
  },
  {
   "cell_type": "markdown",
   "id": "1fe9bdd3",
   "metadata": {},
   "source": [
    "boto3 SDK를 이용하여 작업결과를 가져오고 `tuning_job_result` 로 저장하였습니다. 해당 오브젝트를 살펴보면 실행한 작업의 수 등 HPO작업의 설정 사항과 상태 등을 확인할 수 있습니다.\n"
   ]
  },
  {
   "cell_type": "code",
   "execution_count": 10,
   "id": "49c472c9",
   "metadata": {},
   "outputs": [
    {
     "name": "stdout",
     "output_type": "stream",
     "text": [
      "20 training jobs have completed\n"
     ]
    }
   ],
   "source": [
    "sage_client = boto3.Session().client(\"sagemaker\")\n",
    "# run this cell to check current status of hyperparameter tuning job\n",
    "tuning_job_result = sage_client.describe_hyper_parameter_tuning_job(\n",
    "    HyperParameterTuningJobName=tuning_job_name\n",
    ")\n",
    "\n",
    "status = tuning_job_result[\"HyperParameterTuningJobStatus\"]\n",
    "if status != \"Completed\":\n",
    "    print(\"Reminder: the tuning job has not been completed.\")\n",
    "\n",
    "job_count = tuning_job_result[\"TrainingJobStatusCounters\"][\"Completed\"]\n",
    "print(\"%d training jobs have completed\" % job_count)\n",
    "\n",
    "is_minimize = (\n",
    "    tuning_job_result[\"HyperParameterTuningJobConfig\"][\"HyperParameterTuningJobObjective\"][\"Type\"] != \"Maximize\"\n",
    ")\n",
    "objective_name = tuning_job_result[\"HyperParameterTuningJobConfig\"][\"HyperParameterTuningJobObjective\"][\"MetricName\"]\n"
   ]
  },
  {
   "cell_type": "markdown",
   "id": "8ab704f2",
   "metadata": {},
   "source": [
    "20번의 탐색 중 가장 높은 성능을 보인 작업을 살펴봅니다. 작업실행 시간등의 로그와 함께 탐색대상으로 지정했던 `eta`, `max_depth`, `min_child_weight` 에 대한 최적값을 확인할 수 있습니다. (`TunedHyperParameters`항목을 확인합니다.)"
   ]
  },
  {
   "cell_type": "code",
   "execution_count": 11,
   "id": "a694f339",
   "metadata": {},
   "outputs": [
    {
     "name": "stdout",
     "output_type": "stream",
     "text": [
      "Best model found so far:\n",
      "{'CreationTime': datetime.datetime(2021, 7, 5, 3, 6, 59, tzinfo=tzlocal()),\n",
      " 'FinalHyperParameterTuningJobObjectiveMetric': {'MetricName': 'validation:auc',\n",
      "                                                 'Value': 0.9822180271148682},\n",
      " 'ObjectiveStatus': 'Succeeded',\n",
      " 'TrainingEndTime': datetime.datetime(2021, 7, 5, 3, 10, 31, tzinfo=tzlocal()),\n",
      " 'TrainingJobArn': 'arn:aws:sagemaker:us-east-1:307548999884:training-job/xgboost-210705-0255-010-d5a26636',\n",
      " 'TrainingJobName': 'xgboost-210705-0255-010-d5a26636',\n",
      " 'TrainingJobStatus': 'Completed',\n",
      " 'TrainingStartTime': datetime.datetime(2021, 7, 5, 3, 9, 25, tzinfo=tzlocal()),\n",
      " 'TunedHyperParameters': {'eta': '0.44947758169742635',\n",
      "                          'max_depth': '10',\n",
      "                          'min_child_weight': '9.659935243107048'}}\n"
     ]
    }
   ],
   "source": [
    "from pprint import pprint\n",
    "\n",
    "if tuning_job_result.get(\"BestTrainingJob\", None):\n",
    "    print(\"Best model found so far:\")\n",
    "    pprint(tuning_job_result[\"BestTrainingJob\"])\n",
    "else:\n",
    "    print(\"No training jobs have reported results yet.\")\n"
   ]
  },
  {
   "cell_type": "markdown",
   "id": "10b4bfb2",
   "metadata": {},
   "source": [
    "## Analyze result of HPO parameters\n",
    "\n",
    "SageMaker의 HyperparameterTuningJobAnalytics를 이용하여 하이퍼파라미터 탐색작업에서 실행한 실험의 결과를 살펴봅니다."
   ]
  },
  {
   "cell_type": "code",
   "execution_count": 12,
   "id": "e73f2698",
   "metadata": {},
   "outputs": [
    {
     "name": "stdout",
     "output_type": "stream",
     "text": [
      "Number of training jobs with valid objective: 20\n",
      "{'lowest': 0.9455609917640686, 'highest': 0.9822180271148682}\n"
     ]
    },
    {
     "name": "stderr",
     "output_type": "stream",
     "text": [
      "/home/ec2-user/anaconda3/envs/python3/lib/python3.6/site-packages/ipykernel/__main__.py:10: FutureWarning: Passing a negative integer is deprecated in version 1.0 and will not be supported in future version. Instead, use None to not limit the column width.\n"
     ]
    },
    {
     "data": {
      "text/html": [
       "<div>\n",
       "<style scoped>\n",
       "    .dataframe tbody tr th:only-of-type {\n",
       "        vertical-align: middle;\n",
       "    }\n",
       "\n",
       "    .dataframe tbody tr th {\n",
       "        vertical-align: top;\n",
       "    }\n",
       "\n",
       "    .dataframe thead th {\n",
       "        text-align: right;\n",
       "    }\n",
       "</style>\n",
       "<table border=\"1\" class=\"dataframe\">\n",
       "  <thead>\n",
       "    <tr style=\"text-align: right;\">\n",
       "      <th></th>\n",
       "      <th>eta</th>\n",
       "      <th>max_depth</th>\n",
       "      <th>min_child_weight</th>\n",
       "      <th>TrainingJobName</th>\n",
       "      <th>TrainingJobStatus</th>\n",
       "      <th>FinalObjectiveValue</th>\n",
       "      <th>TrainingStartTime</th>\n",
       "      <th>TrainingEndTime</th>\n",
       "      <th>TrainingElapsedTimeSeconds</th>\n",
       "    </tr>\n",
       "  </thead>\n",
       "  <tbody>\n",
       "    <tr>\n",
       "      <th>10</th>\n",
       "      <td>0.449478</td>\n",
       "      <td>10.0</td>\n",
       "      <td>9.659935</td>\n",
       "      <td>xgboost-210705-0255-010-d5a26636</td>\n",
       "      <td>Completed</td>\n",
       "      <td>0.982218</td>\n",
       "      <td>2021-07-05 03:09:25+00:00</td>\n",
       "      <td>2021-07-05 03:10:31+00:00</td>\n",
       "      <td>66.0</td>\n",
       "    </tr>\n",
       "    <tr>\n",
       "      <th>17</th>\n",
       "      <td>0.302088</td>\n",
       "      <td>7.0</td>\n",
       "      <td>9.412515</td>\n",
       "      <td>xgboost-210705-0255-003-0e4e5a82</td>\n",
       "      <td>Completed</td>\n",
       "      <td>0.982094</td>\n",
       "      <td>2021-07-05 02:58:02+00:00</td>\n",
       "      <td>2021-07-05 02:58:50+00:00</td>\n",
       "      <td>48.0</td>\n",
       "    </tr>\n",
       "    <tr>\n",
       "      <th>2</th>\n",
       "      <td>0.251948</td>\n",
       "      <td>10.0</td>\n",
       "      <td>9.925150</td>\n",
       "      <td>xgboost-210705-0255-018-d2bdd818</td>\n",
       "      <td>Completed</td>\n",
       "      <td>0.981625</td>\n",
       "      <td>2021-07-05 03:19:40+00:00</td>\n",
       "      <td>2021-07-05 03:20:29+00:00</td>\n",
       "      <td>49.0</td>\n",
       "    </tr>\n",
       "    <tr>\n",
       "      <th>3</th>\n",
       "      <td>0.244729</td>\n",
       "      <td>10.0</td>\n",
       "      <td>9.534037</td>\n",
       "      <td>xgboost-210705-0255-017-6676e0ab</td>\n",
       "      <td>Completed</td>\n",
       "      <td>0.981049</td>\n",
       "      <td>2021-07-05 03:17:40+00:00</td>\n",
       "      <td>2021-07-05 03:18:46+00:00</td>\n",
       "      <td>66.0</td>\n",
       "    </tr>\n",
       "    <tr>\n",
       "      <th>14</th>\n",
       "      <td>0.106624</td>\n",
       "      <td>8.0</td>\n",
       "      <td>8.862223</td>\n",
       "      <td>xgboost-210705-0255-006-201ce6db</td>\n",
       "      <td>Completed</td>\n",
       "      <td>0.981037</td>\n",
       "      <td>2021-07-05 03:03:41+00:00</td>\n",
       "      <td>2021-07-05 03:04:56+00:00</td>\n",
       "      <td>75.0</td>\n",
       "    </tr>\n",
       "    <tr>\n",
       "      <th>11</th>\n",
       "      <td>0.098495</td>\n",
       "      <td>10.0</td>\n",
       "      <td>9.969370</td>\n",
       "      <td>xgboost-210705-0255-009-35b3ea4d</td>\n",
       "      <td>Completed</td>\n",
       "      <td>0.980769</td>\n",
       "      <td>2021-07-05 03:07:51+00:00</td>\n",
       "      <td>2021-07-05 03:08:58+00:00</td>\n",
       "      <td>67.0</td>\n",
       "    </tr>\n",
       "    <tr>\n",
       "      <th>0</th>\n",
       "      <td>0.264522</td>\n",
       "      <td>10.0</td>\n",
       "      <td>5.331767</td>\n",
       "      <td>xgboost-210705-0255-020-adcb5ddc</td>\n",
       "      <td>Completed</td>\n",
       "      <td>0.980737</td>\n",
       "      <td>2021-07-05 03:21:55+00:00</td>\n",
       "      <td>2021-07-05 03:22:59+00:00</td>\n",
       "      <td>64.0</td>\n",
       "    </tr>\n",
       "    <tr>\n",
       "      <th>1</th>\n",
       "      <td>0.300399</td>\n",
       "      <td>9.0</td>\n",
       "      <td>4.896060</td>\n",
       "      <td>xgboost-210705-0255-019-eace50e5</td>\n",
       "      <td>Completed</td>\n",
       "      <td>0.980373</td>\n",
       "      <td>2021-07-05 03:21:53+00:00</td>\n",
       "      <td>2021-07-05 03:23:06+00:00</td>\n",
       "      <td>73.0</td>\n",
       "    </tr>\n",
       "    <tr>\n",
       "      <th>4</th>\n",
       "      <td>0.459478</td>\n",
       "      <td>10.0</td>\n",
       "      <td>9.595649</td>\n",
       "      <td>xgboost-210705-0255-016-d121bb32</td>\n",
       "      <td>Completed</td>\n",
       "      <td>0.980129</td>\n",
       "      <td>2021-07-05 03:17:07+00:00</td>\n",
       "      <td>2021-07-05 03:18:56+00:00</td>\n",
       "      <td>109.0</td>\n",
       "    </tr>\n",
       "    <tr>\n",
       "      <th>9</th>\n",
       "      <td>0.175918</td>\n",
       "      <td>10.0</td>\n",
       "      <td>9.899882</td>\n",
       "      <td>xgboost-210705-0255-011-e86ca023</td>\n",
       "      <td>Completed</td>\n",
       "      <td>0.979916</td>\n",
       "      <td>2021-07-05 03:09:49+00:00</td>\n",
       "      <td>2021-07-05 03:10:54+00:00</td>\n",
       "      <td>65.0</td>\n",
       "    </tr>\n",
       "    <tr>\n",
       "      <th>18</th>\n",
       "      <td>0.362631</td>\n",
       "      <td>7.0</td>\n",
       "      <td>9.792372</td>\n",
       "      <td>xgboost-210705-0255-002-420fe8c6</td>\n",
       "      <td>Completed</td>\n",
       "      <td>0.979512</td>\n",
       "      <td>2021-07-05 02:58:03+00:00</td>\n",
       "      <td>2021-07-05 02:58:59+00:00</td>\n",
       "      <td>56.0</td>\n",
       "    </tr>\n",
       "    <tr>\n",
       "      <th>5</th>\n",
       "      <td>0.469478</td>\n",
       "      <td>10.0</td>\n",
       "      <td>9.505649</td>\n",
       "      <td>xgboost-210705-0255-015-527dde8d</td>\n",
       "      <td>Completed</td>\n",
       "      <td>0.979400</td>\n",
       "      <td>2021-07-05 03:15:54+00:00</td>\n",
       "      <td>2021-07-05 03:17:03+00:00</td>\n",
       "      <td>69.0</td>\n",
       "    </tr>\n",
       "    <tr>\n",
       "      <th>12</th>\n",
       "      <td>0.305892</td>\n",
       "      <td>3.0</td>\n",
       "      <td>10.000000</td>\n",
       "      <td>xgboost-210705-0255-008-6837c42b</td>\n",
       "      <td>Completed</td>\n",
       "      <td>0.978564</td>\n",
       "      <td>2021-07-05 03:05:43+00:00</td>\n",
       "      <td>2021-07-05 03:07:07+00:00</td>\n",
       "      <td>84.0</td>\n",
       "    </tr>\n",
       "    <tr>\n",
       "      <th>13</th>\n",
       "      <td>0.705165</td>\n",
       "      <td>10.0</td>\n",
       "      <td>4.988169</td>\n",
       "      <td>xgboost-210705-0255-007-0de7b8db</td>\n",
       "      <td>Completed</td>\n",
       "      <td>0.977647</td>\n",
       "      <td>2021-07-05 03:05:38+00:00</td>\n",
       "      <td>2021-07-05 03:06:40+00:00</td>\n",
       "      <td>62.0</td>\n",
       "    </tr>\n",
       "    <tr>\n",
       "      <th>8</th>\n",
       "      <td>0.023635</td>\n",
       "      <td>10.0</td>\n",
       "      <td>7.491305</td>\n",
       "      <td>xgboost-210705-0255-012-73694630</td>\n",
       "      <td>Completed</td>\n",
       "      <td>0.976056</td>\n",
       "      <td>2021-07-05 03:11:54+00:00</td>\n",
       "      <td>2021-07-05 03:13:00+00:00</td>\n",
       "      <td>66.0</td>\n",
       "    </tr>\n",
       "    <tr>\n",
       "      <th>19</th>\n",
       "      <td>0.321660</td>\n",
       "      <td>2.0</td>\n",
       "      <td>7.638983</td>\n",
       "      <td>xgboost-210705-0255-001-03e624b8</td>\n",
       "      <td>Completed</td>\n",
       "      <td>0.973733</td>\n",
       "      <td>2021-07-05 02:59:43+00:00</td>\n",
       "      <td>2021-07-05 03:00:50+00:00</td>\n",
       "      <td>67.0</td>\n",
       "    </tr>\n",
       "    <tr>\n",
       "      <th>7</th>\n",
       "      <td>0.956904</td>\n",
       "      <td>10.0</td>\n",
       "      <td>5.112040</td>\n",
       "      <td>xgboost-210705-0255-013-b3021c55</td>\n",
       "      <td>Completed</td>\n",
       "      <td>0.973725</td>\n",
       "      <td>2021-07-05 03:13:13+00:00</td>\n",
       "      <td>2021-07-05 03:14:20+00:00</td>\n",
       "      <td>67.0</td>\n",
       "    </tr>\n",
       "    <tr>\n",
       "      <th>6</th>\n",
       "      <td>0.017196</td>\n",
       "      <td>7.0</td>\n",
       "      <td>9.453013</td>\n",
       "      <td>xgboost-210705-0255-014-e7ade42d</td>\n",
       "      <td>Completed</td>\n",
       "      <td>0.973407</td>\n",
       "      <td>2021-07-05 03:13:47+00:00</td>\n",
       "      <td>2021-07-05 03:14:36+00:00</td>\n",
       "      <td>49.0</td>\n",
       "    </tr>\n",
       "    <tr>\n",
       "      <th>16</th>\n",
       "      <td>0.912612</td>\n",
       "      <td>5.0</td>\n",
       "      <td>8.738627</td>\n",
       "      <td>xgboost-210705-0255-004-085381fa</td>\n",
       "      <td>Completed</td>\n",
       "      <td>0.970195</td>\n",
       "      <td>2021-07-05 03:02:01+00:00</td>\n",
       "      <td>2021-07-05 03:03:06+00:00</td>\n",
       "      <td>65.0</td>\n",
       "    </tr>\n",
       "    <tr>\n",
       "      <th>15</th>\n",
       "      <td>0.147537</td>\n",
       "      <td>1.0</td>\n",
       "      <td>1.019259</td>\n",
       "      <td>xgboost-210705-0255-005-1259b83d</td>\n",
       "      <td>Completed</td>\n",
       "      <td>0.945561</td>\n",
       "      <td>2021-07-05 03:01:57+00:00</td>\n",
       "      <td>2021-07-05 03:02:46+00:00</td>\n",
       "      <td>49.0</td>\n",
       "    </tr>\n",
       "  </tbody>\n",
       "</table>\n",
       "</div>"
      ],
      "text/plain": [
       "         eta  max_depth  min_child_weight                   TrainingJobName  \\\n",
       "10  0.449478  10.0       9.659935          xgboost-210705-0255-010-d5a26636   \n",
       "17  0.302088  7.0        9.412515          xgboost-210705-0255-003-0e4e5a82   \n",
       "2   0.251948  10.0       9.925150          xgboost-210705-0255-018-d2bdd818   \n",
       "3   0.244729  10.0       9.534037          xgboost-210705-0255-017-6676e0ab   \n",
       "14  0.106624  8.0        8.862223          xgboost-210705-0255-006-201ce6db   \n",
       "11  0.098495  10.0       9.969370          xgboost-210705-0255-009-35b3ea4d   \n",
       "0   0.264522  10.0       5.331767          xgboost-210705-0255-020-adcb5ddc   \n",
       "1   0.300399  9.0        4.896060          xgboost-210705-0255-019-eace50e5   \n",
       "4   0.459478  10.0       9.595649          xgboost-210705-0255-016-d121bb32   \n",
       "9   0.175918  10.0       9.899882          xgboost-210705-0255-011-e86ca023   \n",
       "18  0.362631  7.0        9.792372          xgboost-210705-0255-002-420fe8c6   \n",
       "5   0.469478  10.0       9.505649          xgboost-210705-0255-015-527dde8d   \n",
       "12  0.305892  3.0        10.000000         xgboost-210705-0255-008-6837c42b   \n",
       "13  0.705165  10.0       4.988169          xgboost-210705-0255-007-0de7b8db   \n",
       "8   0.023635  10.0       7.491305          xgboost-210705-0255-012-73694630   \n",
       "19  0.321660  2.0        7.638983          xgboost-210705-0255-001-03e624b8   \n",
       "7   0.956904  10.0       5.112040          xgboost-210705-0255-013-b3021c55   \n",
       "6   0.017196  7.0        9.453013          xgboost-210705-0255-014-e7ade42d   \n",
       "16  0.912612  5.0        8.738627          xgboost-210705-0255-004-085381fa   \n",
       "15  0.147537  1.0        1.019259          xgboost-210705-0255-005-1259b83d   \n",
       "\n",
       "   TrainingJobStatus  FinalObjectiveValue         TrainingStartTime  \\\n",
       "10  Completed         0.982218            2021-07-05 03:09:25+00:00   \n",
       "17  Completed         0.982094            2021-07-05 02:58:02+00:00   \n",
       "2   Completed         0.981625            2021-07-05 03:19:40+00:00   \n",
       "3   Completed         0.981049            2021-07-05 03:17:40+00:00   \n",
       "14  Completed         0.981037            2021-07-05 03:03:41+00:00   \n",
       "11  Completed         0.980769            2021-07-05 03:07:51+00:00   \n",
       "0   Completed         0.980737            2021-07-05 03:21:55+00:00   \n",
       "1   Completed         0.980373            2021-07-05 03:21:53+00:00   \n",
       "4   Completed         0.980129            2021-07-05 03:17:07+00:00   \n",
       "9   Completed         0.979916            2021-07-05 03:09:49+00:00   \n",
       "18  Completed         0.979512            2021-07-05 02:58:03+00:00   \n",
       "5   Completed         0.979400            2021-07-05 03:15:54+00:00   \n",
       "12  Completed         0.978564            2021-07-05 03:05:43+00:00   \n",
       "13  Completed         0.977647            2021-07-05 03:05:38+00:00   \n",
       "8   Completed         0.976056            2021-07-05 03:11:54+00:00   \n",
       "19  Completed         0.973733            2021-07-05 02:59:43+00:00   \n",
       "7   Completed         0.973725            2021-07-05 03:13:13+00:00   \n",
       "6   Completed         0.973407            2021-07-05 03:13:47+00:00   \n",
       "16  Completed         0.970195            2021-07-05 03:02:01+00:00   \n",
       "15  Completed         0.945561            2021-07-05 03:01:57+00:00   \n",
       "\n",
       "             TrainingEndTime  TrainingElapsedTimeSeconds  \n",
       "10 2021-07-05 03:10:31+00:00  66.0                        \n",
       "17 2021-07-05 02:58:50+00:00  48.0                        \n",
       "2  2021-07-05 03:20:29+00:00  49.0                        \n",
       "3  2021-07-05 03:18:46+00:00  66.0                        \n",
       "14 2021-07-05 03:04:56+00:00  75.0                        \n",
       "11 2021-07-05 03:08:58+00:00  67.0                        \n",
       "0  2021-07-05 03:22:59+00:00  64.0                        \n",
       "1  2021-07-05 03:23:06+00:00  73.0                        \n",
       "4  2021-07-05 03:18:56+00:00  109.0                       \n",
       "9  2021-07-05 03:10:54+00:00  65.0                        \n",
       "18 2021-07-05 02:58:59+00:00  56.0                        \n",
       "5  2021-07-05 03:17:03+00:00  69.0                        \n",
       "12 2021-07-05 03:07:07+00:00  84.0                        \n",
       "13 2021-07-05 03:06:40+00:00  62.0                        \n",
       "8  2021-07-05 03:13:00+00:00  66.0                        \n",
       "19 2021-07-05 03:00:50+00:00  67.0                        \n",
       "7  2021-07-05 03:14:20+00:00  67.0                        \n",
       "6  2021-07-05 03:14:36+00:00  49.0                        \n",
       "16 2021-07-05 03:03:06+00:00  65.0                        \n",
       "15 2021-07-05 03:02:46+00:00  49.0                        "
      ]
     },
     "execution_count": 12,
     "metadata": {},
     "output_type": "execute_result"
    }
   ],
   "source": [
    "tuning_result = sagemaker.HyperparameterTuningJobAnalytics(tuning_job_name)\n",
    "full_df = tuning_result.dataframe()\n",
    "\n",
    "if len(full_df) > 0:\n",
    "    df = full_df[full_df[\"FinalObjectiveValue\"] > -float(\"inf\")]\n",
    "    if len(df) > 0:\n",
    "        df = df.sort_values(\"FinalObjectiveValue\", ascending=is_minimize)\n",
    "        print(\"Number of training jobs with valid objective: %d\" % len(df))\n",
    "        print({\"lowest\": min(df[\"FinalObjectiveValue\"]), \"highest\": max(df[\"FinalObjectiveValue\"])})\n",
    "        pd.set_option(\"display.max_colwidth\", -1)  # Don't truncate TrainingJobName\n",
    "    else:\n",
    "        print(\"No training jobs have reported valid results yet.\")\n",
    "\n",
    "df"
   ]
  },
  {
   "cell_type": "markdown",
   "id": "9f731664",
   "metadata": {},
   "source": [
    "그래프를 통해 작업별 실행한 결과를 확인해 보겠습니다. 그래프상의 관측값에 마우스를 위치시키면 해당 실험이 하이퍼파라미터 범위 중 어떤 값을 사용하였고 그 때의 매트릭이 어떻게 관측되었는지 확인할 수 있습니다."
   ]
  },
  {
   "cell_type": "code",
   "execution_count": 13,
   "id": "d1eda1b0",
   "metadata": {},
   "outputs": [
    {
     "data": {
      "text/html": [
       "\n",
       "    <div class=\"bk-root\">\n",
       "        <a href=\"https://bokeh.org\" target=\"_blank\" class=\"bk-logo bk-logo-small bk-logo-notebook\"></a>\n",
       "        <span id=\"1001\">Loading BokehJS ...</span>\n",
       "    </div>"
      ]
     },
     "metadata": {},
     "output_type": "display_data"
    },
    {
     "data": {
      "application/javascript": [
       "\n",
       "(function(root) {\n",
       "  function now() {\n",
       "    return new Date();\n",
       "  }\n",
       "\n",
       "  var force = true;\n",
       "\n",
       "  if (typeof root._bokeh_onload_callbacks === \"undefined\" || force === true) {\n",
       "    root._bokeh_onload_callbacks = [];\n",
       "    root._bokeh_is_loading = undefined;\n",
       "  }\n",
       "\n",
       "  var JS_MIME_TYPE = 'application/javascript';\n",
       "  var HTML_MIME_TYPE = 'text/html';\n",
       "  var EXEC_MIME_TYPE = 'application/vnd.bokehjs_exec.v0+json';\n",
       "  var CLASS_NAME = 'output_bokeh rendered_html';\n",
       "\n",
       "  /**\n",
       "   * Render data to the DOM node\n",
       "   */\n",
       "  function render(props, node) {\n",
       "    var script = document.createElement(\"script\");\n",
       "    node.appendChild(script);\n",
       "  }\n",
       "\n",
       "  /**\n",
       "   * Handle when an output is cleared or removed\n",
       "   */\n",
       "  function handleClearOutput(event, handle) {\n",
       "    var cell = handle.cell;\n",
       "\n",
       "    var id = cell.output_area._bokeh_element_id;\n",
       "    var server_id = cell.output_area._bokeh_server_id;\n",
       "    // Clean up Bokeh references\n",
       "    if (id != null && id in Bokeh.index) {\n",
       "      Bokeh.index[id].model.document.clear();\n",
       "      delete Bokeh.index[id];\n",
       "    }\n",
       "\n",
       "    if (server_id !== undefined) {\n",
       "      // Clean up Bokeh references\n",
       "      var cmd = \"from bokeh.io.state import curstate; print(curstate().uuid_to_server['\" + server_id + \"'].get_sessions()[0].document.roots[0]._id)\";\n",
       "      cell.notebook.kernel.execute(cmd, {\n",
       "        iopub: {\n",
       "          output: function(msg) {\n",
       "            var id = msg.content.text.trim();\n",
       "            if (id in Bokeh.index) {\n",
       "              Bokeh.index[id].model.document.clear();\n",
       "              delete Bokeh.index[id];\n",
       "            }\n",
       "          }\n",
       "        }\n",
       "      });\n",
       "      // Destroy server and session\n",
       "      var cmd = \"import bokeh.io.notebook as ion; ion.destroy_server('\" + server_id + \"')\";\n",
       "      cell.notebook.kernel.execute(cmd);\n",
       "    }\n",
       "  }\n",
       "\n",
       "  /**\n",
       "   * Handle when a new output is added\n",
       "   */\n",
       "  function handleAddOutput(event, handle) {\n",
       "    var output_area = handle.output_area;\n",
       "    var output = handle.output;\n",
       "\n",
       "    // limit handleAddOutput to display_data with EXEC_MIME_TYPE content only\n",
       "    if ((output.output_type != \"display_data\") || (!output.data.hasOwnProperty(EXEC_MIME_TYPE))) {\n",
       "      return\n",
       "    }\n",
       "\n",
       "    var toinsert = output_area.element.find(\".\" + CLASS_NAME.split(' ')[0]);\n",
       "\n",
       "    if (output.metadata[EXEC_MIME_TYPE][\"id\"] !== undefined) {\n",
       "      toinsert[toinsert.length - 1].firstChild.textContent = output.data[JS_MIME_TYPE];\n",
       "      // store reference to embed id on output_area\n",
       "      output_area._bokeh_element_id = output.metadata[EXEC_MIME_TYPE][\"id\"];\n",
       "    }\n",
       "    if (output.metadata[EXEC_MIME_TYPE][\"server_id\"] !== undefined) {\n",
       "      var bk_div = document.createElement(\"div\");\n",
       "      bk_div.innerHTML = output.data[HTML_MIME_TYPE];\n",
       "      var script_attrs = bk_div.children[0].attributes;\n",
       "      for (var i = 0; i < script_attrs.length; i++) {\n",
       "        toinsert[toinsert.length - 1].firstChild.setAttribute(script_attrs[i].name, script_attrs[i].value);\n",
       "        toinsert[toinsert.length - 1].firstChild.textContent = bk_div.children[0].textContent\n",
       "      }\n",
       "      // store reference to server id on output_area\n",
       "      output_area._bokeh_server_id = output.metadata[EXEC_MIME_TYPE][\"server_id\"];\n",
       "    }\n",
       "  }\n",
       "\n",
       "  function register_renderer(events, OutputArea) {\n",
       "\n",
       "    function append_mime(data, metadata, element) {\n",
       "      // create a DOM node to render to\n",
       "      var toinsert = this.create_output_subarea(\n",
       "        metadata,\n",
       "        CLASS_NAME,\n",
       "        EXEC_MIME_TYPE\n",
       "      );\n",
       "      this.keyboard_manager.register_events(toinsert);\n",
       "      // Render to node\n",
       "      var props = {data: data, metadata: metadata[EXEC_MIME_TYPE]};\n",
       "      render(props, toinsert[toinsert.length - 1]);\n",
       "      element.append(toinsert);\n",
       "      return toinsert\n",
       "    }\n",
       "\n",
       "    /* Handle when an output is cleared or removed */\n",
       "    events.on('clear_output.CodeCell', handleClearOutput);\n",
       "    events.on('delete.Cell', handleClearOutput);\n",
       "\n",
       "    /* Handle when a new output is added */\n",
       "    events.on('output_added.OutputArea', handleAddOutput);\n",
       "\n",
       "    /**\n",
       "     * Register the mime type and append_mime function with output_area\n",
       "     */\n",
       "    OutputArea.prototype.register_mime_type(EXEC_MIME_TYPE, append_mime, {\n",
       "      /* Is output safe? */\n",
       "      safe: true,\n",
       "      /* Index of renderer in `output_area.display_order` */\n",
       "      index: 0\n",
       "    });\n",
       "  }\n",
       "\n",
       "  // register the mime type if in Jupyter Notebook environment and previously unregistered\n",
       "  if (root.Jupyter !== undefined) {\n",
       "    var events = require('base/js/events');\n",
       "    var OutputArea = require('notebook/js/outputarea').OutputArea;\n",
       "\n",
       "    if (OutputArea.prototype.mime_types().indexOf(EXEC_MIME_TYPE) == -1) {\n",
       "      register_renderer(events, OutputArea);\n",
       "    }\n",
       "  }\n",
       "\n",
       "  \n",
       "  if (typeof (root._bokeh_timeout) === \"undefined\" || force === true) {\n",
       "    root._bokeh_timeout = Date.now() + 5000;\n",
       "    root._bokeh_failed_load = false;\n",
       "  }\n",
       "\n",
       "  var NB_LOAD_WARNING = {'data': {'text/html':\n",
       "     \"<div style='background-color: #fdd'>\\n\"+\n",
       "     \"<p>\\n\"+\n",
       "     \"BokehJS does not appear to have successfully loaded. If loading BokehJS from CDN, this \\n\"+\n",
       "     \"may be due to a slow or bad network connection. Possible fixes:\\n\"+\n",
       "     \"</p>\\n\"+\n",
       "     \"<ul>\\n\"+\n",
       "     \"<li>re-rerun `output_notebook()` to attempt to load from CDN again, or</li>\\n\"+\n",
       "     \"<li>use INLINE resources instead, as so:</li>\\n\"+\n",
       "     \"</ul>\\n\"+\n",
       "     \"<code>\\n\"+\n",
       "     \"from bokeh.resources import INLINE\\n\"+\n",
       "     \"output_notebook(resources=INLINE)\\n\"+\n",
       "     \"</code>\\n\"+\n",
       "     \"</div>\"}};\n",
       "\n",
       "  function display_loaded() {\n",
       "    var el = document.getElementById(\"1001\");\n",
       "    if (el != null) {\n",
       "      el.textContent = \"BokehJS is loading...\";\n",
       "    }\n",
       "    if (root.Bokeh !== undefined) {\n",
       "      if (el != null) {\n",
       "        el.textContent = \"BokehJS \" + root.Bokeh.version + \" successfully loaded.\";\n",
       "      }\n",
       "    } else if (Date.now() < root._bokeh_timeout) {\n",
       "      setTimeout(display_loaded, 100)\n",
       "    }\n",
       "  }\n",
       "\n",
       "\n",
       "  function run_callbacks() {\n",
       "    try {\n",
       "      root._bokeh_onload_callbacks.forEach(function(callback) {\n",
       "        if (callback != null)\n",
       "          callback();\n",
       "      });\n",
       "    } finally {\n",
       "      delete root._bokeh_onload_callbacks\n",
       "    }\n",
       "    console.debug(\"Bokeh: all callbacks have finished\");\n",
       "  }\n",
       "\n",
       "  function load_libs(css_urls, js_urls, callback) {\n",
       "    if (css_urls == null) css_urls = [];\n",
       "    if (js_urls == null) js_urls = [];\n",
       "\n",
       "    root._bokeh_onload_callbacks.push(callback);\n",
       "    if (root._bokeh_is_loading > 0) {\n",
       "      console.debug(\"Bokeh: BokehJS is being loaded, scheduling callback at\", now());\n",
       "      return null;\n",
       "    }\n",
       "    if (js_urls == null || js_urls.length === 0) {\n",
       "      run_callbacks();\n",
       "      return null;\n",
       "    }\n",
       "    console.debug(\"Bokeh: BokehJS not loaded, scheduling load and callback at\", now());\n",
       "    root._bokeh_is_loading = css_urls.length + js_urls.length;\n",
       "\n",
       "    function on_load() {\n",
       "      root._bokeh_is_loading--;\n",
       "      if (root._bokeh_is_loading === 0) {\n",
       "        console.debug(\"Bokeh: all BokehJS libraries/stylesheets loaded\");\n",
       "        run_callbacks()\n",
       "      }\n",
       "    }\n",
       "\n",
       "    function on_error() {\n",
       "      console.error(\"failed to load \" + url);\n",
       "    }\n",
       "\n",
       "    for (var i = 0; i < css_urls.length; i++) {\n",
       "      var url = css_urls[i];\n",
       "      const element = document.createElement(\"link\");\n",
       "      element.onload = on_load;\n",
       "      element.onerror = on_error;\n",
       "      element.rel = \"stylesheet\";\n",
       "      element.type = \"text/css\";\n",
       "      element.href = url;\n",
       "      console.debug(\"Bokeh: injecting link tag for BokehJS stylesheet: \", url);\n",
       "      document.body.appendChild(element);\n",
       "    }\n",
       "\n",
       "    const hashes = {\"https://cdn.bokeh.org/bokeh/release/bokeh-2.2.3.min.js\": \"T2yuo9Oe71Cz/I4X9Ac5+gpEa5a8PpJCDlqKYO0CfAuEszu1JrXLl8YugMqYe3sM\", \"https://cdn.bokeh.org/bokeh/release/bokeh-widgets-2.2.3.min.js\": \"98GDGJ0kOMCUMUePhksaQ/GYgB3+NH9h996V88sh3aOiUNX3N+fLXAtry6xctSZ6\", \"https://cdn.bokeh.org/bokeh/release/bokeh-tables-2.2.3.min.js\": \"89bArO+nlbP3sgakeHjCo1JYxYR5wufVgA3IbUvDY+K7w4zyxJqssu7wVnfeKCq8\"};\n",
       "\n",
       "    for (var i = 0; i < js_urls.length; i++) {\n",
       "      var url = js_urls[i];\n",
       "      var element = document.createElement('script');\n",
       "      element.onload = on_load;\n",
       "      element.onerror = on_error;\n",
       "      element.async = false;\n",
       "      element.src = url;\n",
       "      if (url in hashes) {\n",
       "        element.crossOrigin = \"anonymous\";\n",
       "        element.integrity = \"sha384-\" + hashes[url];\n",
       "      }\n",
       "      console.debug(\"Bokeh: injecting script tag for BokehJS library: \", url);\n",
       "      document.head.appendChild(element);\n",
       "    }\n",
       "  };\n",
       "\n",
       "  function inject_raw_css(css) {\n",
       "    const element = document.createElement(\"style\");\n",
       "    element.appendChild(document.createTextNode(css));\n",
       "    document.body.appendChild(element);\n",
       "  }\n",
       "\n",
       "  \n",
       "  var js_urls = [\"https://cdn.bokeh.org/bokeh/release/bokeh-2.2.3.min.js\", \"https://cdn.bokeh.org/bokeh/release/bokeh-widgets-2.2.3.min.js\", \"https://cdn.bokeh.org/bokeh/release/bokeh-tables-2.2.3.min.js\"];\n",
       "  var css_urls = [];\n",
       "  \n",
       "\n",
       "  var inline_js = [\n",
       "    function(Bokeh) {\n",
       "      Bokeh.set_log_level(\"info\");\n",
       "    },\n",
       "    function(Bokeh) {\n",
       "    \n",
       "    \n",
       "    }\n",
       "  ];\n",
       "\n",
       "  function run_inline_js() {\n",
       "    \n",
       "    if (root.Bokeh !== undefined || force === true) {\n",
       "      \n",
       "    for (var i = 0; i < inline_js.length; i++) {\n",
       "      inline_js[i].call(root, root.Bokeh);\n",
       "    }\n",
       "    if (force === true) {\n",
       "        display_loaded();\n",
       "      }} else if (Date.now() < root._bokeh_timeout) {\n",
       "      setTimeout(run_inline_js, 100);\n",
       "    } else if (!root._bokeh_failed_load) {\n",
       "      console.log(\"Bokeh: BokehJS failed to load within specified timeout.\");\n",
       "      root._bokeh_failed_load = true;\n",
       "    } else if (force !== true) {\n",
       "      var cell = $(document.getElementById(\"1001\")).parents('.cell').data().cell;\n",
       "      cell.output_area.append_execute_result(NB_LOAD_WARNING)\n",
       "    }\n",
       "\n",
       "  }\n",
       "\n",
       "  if (root._bokeh_is_loading === 0) {\n",
       "    console.debug(\"Bokeh: BokehJS loaded, going straight to plotting\");\n",
       "    run_inline_js();\n",
       "  } else {\n",
       "    load_libs(css_urls, js_urls, function() {\n",
       "      console.debug(\"Bokeh: BokehJS plotting callback run at\", now());\n",
       "      run_inline_js();\n",
       "    });\n",
       "  }\n",
       "}(window));"
      ],
      "application/vnd.bokehjs_load.v0+json": "\n(function(root) {\n  function now() {\n    return new Date();\n  }\n\n  var force = true;\n\n  if (typeof root._bokeh_onload_callbacks === \"undefined\" || force === true) {\n    root._bokeh_onload_callbacks = [];\n    root._bokeh_is_loading = undefined;\n  }\n\n  \n\n  \n  if (typeof (root._bokeh_timeout) === \"undefined\" || force === true) {\n    root._bokeh_timeout = Date.now() + 5000;\n    root._bokeh_failed_load = false;\n  }\n\n  var NB_LOAD_WARNING = {'data': {'text/html':\n     \"<div style='background-color: #fdd'>\\n\"+\n     \"<p>\\n\"+\n     \"BokehJS does not appear to have successfully loaded. If loading BokehJS from CDN, this \\n\"+\n     \"may be due to a slow or bad network connection. Possible fixes:\\n\"+\n     \"</p>\\n\"+\n     \"<ul>\\n\"+\n     \"<li>re-rerun `output_notebook()` to attempt to load from CDN again, or</li>\\n\"+\n     \"<li>use INLINE resources instead, as so:</li>\\n\"+\n     \"</ul>\\n\"+\n     \"<code>\\n\"+\n     \"from bokeh.resources import INLINE\\n\"+\n     \"output_notebook(resources=INLINE)\\n\"+\n     \"</code>\\n\"+\n     \"</div>\"}};\n\n  function display_loaded() {\n    var el = document.getElementById(\"1001\");\n    if (el != null) {\n      el.textContent = \"BokehJS is loading...\";\n    }\n    if (root.Bokeh !== undefined) {\n      if (el != null) {\n        el.textContent = \"BokehJS \" + root.Bokeh.version + \" successfully loaded.\";\n      }\n    } else if (Date.now() < root._bokeh_timeout) {\n      setTimeout(display_loaded, 100)\n    }\n  }\n\n\n  function run_callbacks() {\n    try {\n      root._bokeh_onload_callbacks.forEach(function(callback) {\n        if (callback != null)\n          callback();\n      });\n    } finally {\n      delete root._bokeh_onload_callbacks\n    }\n    console.debug(\"Bokeh: all callbacks have finished\");\n  }\n\n  function load_libs(css_urls, js_urls, callback) {\n    if (css_urls == null) css_urls = [];\n    if (js_urls == null) js_urls = [];\n\n    root._bokeh_onload_callbacks.push(callback);\n    if (root._bokeh_is_loading > 0) {\n      console.debug(\"Bokeh: BokehJS is being loaded, scheduling callback at\", now());\n      return null;\n    }\n    if (js_urls == null || js_urls.length === 0) {\n      run_callbacks();\n      return null;\n    }\n    console.debug(\"Bokeh: BokehJS not loaded, scheduling load and callback at\", now());\n    root._bokeh_is_loading = css_urls.length + js_urls.length;\n\n    function on_load() {\n      root._bokeh_is_loading--;\n      if (root._bokeh_is_loading === 0) {\n        console.debug(\"Bokeh: all BokehJS libraries/stylesheets loaded\");\n        run_callbacks()\n      }\n    }\n\n    function on_error() {\n      console.error(\"failed to load \" + url);\n    }\n\n    for (var i = 0; i < css_urls.length; i++) {\n      var url = css_urls[i];\n      const element = document.createElement(\"link\");\n      element.onload = on_load;\n      element.onerror = on_error;\n      element.rel = \"stylesheet\";\n      element.type = \"text/css\";\n      element.href = url;\n      console.debug(\"Bokeh: injecting link tag for BokehJS stylesheet: \", url);\n      document.body.appendChild(element);\n    }\n\n    const hashes = {\"https://cdn.bokeh.org/bokeh/release/bokeh-2.2.3.min.js\": \"T2yuo9Oe71Cz/I4X9Ac5+gpEa5a8PpJCDlqKYO0CfAuEszu1JrXLl8YugMqYe3sM\", \"https://cdn.bokeh.org/bokeh/release/bokeh-widgets-2.2.3.min.js\": \"98GDGJ0kOMCUMUePhksaQ/GYgB3+NH9h996V88sh3aOiUNX3N+fLXAtry6xctSZ6\", \"https://cdn.bokeh.org/bokeh/release/bokeh-tables-2.2.3.min.js\": \"89bArO+nlbP3sgakeHjCo1JYxYR5wufVgA3IbUvDY+K7w4zyxJqssu7wVnfeKCq8\"};\n\n    for (var i = 0; i < js_urls.length; i++) {\n      var url = js_urls[i];\n      var element = document.createElement('script');\n      element.onload = on_load;\n      element.onerror = on_error;\n      element.async = false;\n      element.src = url;\n      if (url in hashes) {\n        element.crossOrigin = \"anonymous\";\n        element.integrity = \"sha384-\" + hashes[url];\n      }\n      console.debug(\"Bokeh: injecting script tag for BokehJS library: \", url);\n      document.head.appendChild(element);\n    }\n  };\n\n  function inject_raw_css(css) {\n    const element = document.createElement(\"style\");\n    element.appendChild(document.createTextNode(css));\n    document.body.appendChild(element);\n  }\n\n  \n  var js_urls = [\"https://cdn.bokeh.org/bokeh/release/bokeh-2.2.3.min.js\", \"https://cdn.bokeh.org/bokeh/release/bokeh-widgets-2.2.3.min.js\", \"https://cdn.bokeh.org/bokeh/release/bokeh-tables-2.2.3.min.js\"];\n  var css_urls = [];\n  \n\n  var inline_js = [\n    function(Bokeh) {\n      Bokeh.set_log_level(\"info\");\n    },\n    function(Bokeh) {\n    \n    \n    }\n  ];\n\n  function run_inline_js() {\n    \n    if (root.Bokeh !== undefined || force === true) {\n      \n    for (var i = 0; i < inline_js.length; i++) {\n      inline_js[i].call(root, root.Bokeh);\n    }\n    if (force === true) {\n        display_loaded();\n      }} else if (Date.now() < root._bokeh_timeout) {\n      setTimeout(run_inline_js, 100);\n    } else if (!root._bokeh_failed_load) {\n      console.log(\"Bokeh: BokehJS failed to load within specified timeout.\");\n      root._bokeh_failed_load = true;\n    } else if (force !== true) {\n      var cell = $(document.getElementById(\"1001\")).parents('.cell').data().cell;\n      cell.output_area.append_execute_result(NB_LOAD_WARNING)\n    }\n\n  }\n\n  if (root._bokeh_is_loading === 0) {\n    console.debug(\"Bokeh: BokehJS loaded, going straight to plotting\");\n    run_inline_js();\n  } else {\n    load_libs(css_urls, js_urls, function() {\n      console.debug(\"Bokeh: BokehJS plotting callback run at\", now());\n      run_inline_js();\n    });\n  }\n}(window));"
     },
     "metadata": {},
     "output_type": "display_data"
    },
    {
     "data": {
      "text/html": [
       "\n",
       "\n",
       "\n",
       "\n",
       "\n",
       "\n",
       "  <div class=\"bk-root\" id=\"ffb02785-bc30-47a7-9ac3-b9f72dcb725d\" data-root-id=\"1003\"></div>\n"
      ]
     },
     "metadata": {},
     "output_type": "display_data"
    },
    {
     "data": {
      "application/javascript": [
       "(function(root) {\n",
       "  function embed_document(root) {\n",
       "    \n",
       "  var docs_json = {\"db4e19b4-0be5-49b8-8c8f-a18e99667cbb\":{\"roots\":{\"references\":[{\"attributes\":{\"below\":[{\"id\":\"1012\"}],\"center\":[{\"id\":\"1015\"},{\"id\":\"1019\"}],\"left\":[{\"id\":\"1016\"}],\"plot_height\":400,\"plot_width\":900,\"renderers\":[{\"id\":\"1040\"}],\"title\":{\"id\":\"1043\"},\"toolbar\":{\"id\":\"1027\"},\"x_range\":{\"id\":\"1004\"},\"x_scale\":{\"id\":\"1008\"},\"y_range\":{\"id\":\"1006\"},\"y_scale\":{\"id\":\"1010\"}},\"id\":\"1003\",\"subtype\":\"Figure\",\"type\":\"Plot\"},{\"attributes\":{},\"id\":\"1059\",\"type\":\"YearsTicker\"},{\"attributes\":{},\"id\":\"1060\",\"type\":\"UnionRenderers\"},{\"attributes\":{},\"id\":\"1061\",\"type\":\"Selection\"},{\"attributes\":{},\"id\":\"1044\",\"type\":\"DatetimeTickFormatter\"},{\"attributes\":{},\"id\":\"1004\",\"type\":\"DataRange1d\"},{\"attributes\":{},\"id\":\"1010\",\"type\":\"LinearScale\"},{\"attributes\":{\"text\":\"\"},\"id\":\"1043\",\"type\":\"Title\"},{\"attributes\":{\"source\":{\"id\":\"1036\"}},\"id\":\"1041\",\"type\":\"CDSView\"},{\"attributes\":{},\"id\":\"1046\",\"type\":\"BasicTickFormatter\"},{\"attributes\":{},\"id\":\"1008\",\"type\":\"LinearScale\"},{\"attributes\":{\"mantissas\":[1,2,5],\"max_interval\":500.0,\"num_minor_ticks\":0},\"id\":\"1048\",\"type\":\"AdaptiveTicker\"},{\"attributes\":{},\"id\":\"1020\",\"type\":\"PanTool\"},{\"attributes\":{\"base\":60,\"mantissas\":[1,2,5,10,15,20,30],\"max_interval\":1800000.0,\"min_interval\":1000.0,\"num_minor_ticks\":0},\"id\":\"1049\",\"type\":\"AdaptiveTicker\"},{\"attributes\":{},\"id\":\"1021\",\"type\":\"CrosshairTool\"},{\"attributes\":{\"data_source\":{\"id\":\"1036\"},\"glyph\":{\"id\":\"1038\"},\"hover_glyph\":null,\"muted_glyph\":null,\"nonselection_glyph\":{\"id\":\"1039\"},\"selection_glyph\":null,\"view\":{\"id\":\"1041\"}},\"id\":\"1040\",\"type\":\"GlyphRenderer\"},{\"attributes\":{\"fill_color\":{\"value\":\"#1f77b4\"},\"line_color\":{\"value\":\"#1f77b4\"},\"x\":{\"field\":\"TrainingStartTime\"},\"y\":{\"field\":\"FinalObjectiveValue\"}},\"id\":\"1038\",\"type\":\"Circle\"},{\"attributes\":{\"base\":24,\"mantissas\":[1,2,4,6,8,12],\"max_interval\":43200000.0,\"min_interval\":3600000.0,\"num_minor_ticks\":0},\"id\":\"1050\",\"type\":\"AdaptiveTicker\"},{\"attributes\":{},\"id\":\"1022\",\"type\":\"WheelZoomTool\"},{\"attributes\":{},\"id\":\"1017\",\"type\":\"BasicTicker\"},{\"attributes\":{},\"id\":\"1006\",\"type\":\"DataRange1d\"},{\"attributes\":{\"axis\":{\"id\":\"1016\"},\"dimension\":1,\"ticker\":null},\"id\":\"1019\",\"type\":\"Grid\"},{\"attributes\":{\"days\":[1,2,3,4,5,6,7,8,9,10,11,12,13,14,15,16,17,18,19,20,21,22,23,24,25,26,27,28,29,30,31]},\"id\":\"1051\",\"type\":\"DaysTicker\"},{\"attributes\":{},\"id\":\"1023\",\"type\":\"ZoomInTool\"},{\"attributes\":{\"axis\":{\"id\":\"1012\"},\"ticker\":null},\"id\":\"1015\",\"type\":\"Grid\"},{\"attributes\":{\"days\":[1,4,7,10,13,16,19,22,25,28]},\"id\":\"1052\",\"type\":\"DaysTicker\"},{\"attributes\":{},\"id\":\"1024\",\"type\":\"ZoomOutTool\"},{\"attributes\":{\"days\":[1,8,15,22]},\"id\":\"1053\",\"type\":\"DaysTicker\"},{\"attributes\":{},\"id\":\"1025\",\"type\":\"UndoTool\"},{\"attributes\":{\"formatter\":{\"id\":\"1046\"},\"ticker\":{\"id\":\"1017\"}},\"id\":\"1016\",\"type\":\"LinearAxis\"},{\"attributes\":{\"days\":[1,15]},\"id\":\"1054\",\"type\":\"DaysTicker\"},{\"attributes\":{},\"id\":\"1026\",\"type\":\"ResetTool\"},{\"attributes\":{\"months\":[0,1,2,3,4,5,6,7,8,9,10,11]},\"id\":\"1055\",\"type\":\"MonthsTicker\"},{\"attributes\":{\"data\":{\"FinalObjectiveValue\":{\"__ndarray__\":\"AAAAgFRu7z8AAABgUG3vPwAAAOB4ae8/AAAA4MBk7z8AAADAp2TvPwAAAKB1Yu8/AAAAgDJi7z8AAABAN1/vPwAAAIA3Xe8/AAAAwHhb7z8AAACAKVjvPwAAAKA+V+8/AAAAgGVQ7z8AAABg4kjvPwAAAMDZO+8/AAAAINIo7z8AAABgwSjvPwAAAGAmJu8/AAAAYNYL7z8AAAAgCULuPw==\",\"dtype\":\"float64\",\"order\":\"little\",\"shape\":[20]},\"TrainingElapsedTimeSeconds\":{\"__ndarray__\":\"AAAAAACAUEAAAAAAAABIQAAAAAAAgEhAAAAAAACAUEAAAAAAAMBSQAAAAAAAwFBAAAAAAAAAUEAAAAAAAEBSQAAAAAAAQFtAAAAAAABAUEAAAAAAAABMQAAAAAAAQFFAAAAAAAAAVUAAAAAAAABPQAAAAAAAgFBAAAAAAADAUEAAAAAAAMBQQAAAAAAAgEhAAAAAAABAUEAAAAAAAIBIQA==\",\"dtype\":\"float64\",\"order\":\"little\",\"shape\":[20]},\"TrainingEndTime\":{\"__ndarray__\":\"AICFVUqnd0IAAGGqSad3QgCAhOdKp3dCAABfzkqnd0IAALwDSqd3QgAA0T5Kp3dCAIAjDEund0IAANkNS6d3QgAA0NBKp3dCAAAjW0qnd0IAgJOsSad3QgCAObVKp3dCAIC3I0qnd0IAACAdSqd3QgAA5nlKp3dCAACtx0mnd0IAAG6NSqd3QgAAVpFKp3dCAADh6Emnd0IAAP/jSad3Qg==\",\"dtype\":\"float64\",\"order\":\"little\",\"shape\":[20]},\"TrainingJobName\":[\"xgboost-210705-0255-010-d5a26636\",\"xgboost-210705-0255-003-0e4e5a82\",\"xgboost-210705-0255-018-d2bdd818\",\"xgboost-210705-0255-017-6676e0ab\",\"xgboost-210705-0255-006-201ce6db\",\"xgboost-210705-0255-009-35b3ea4d\",\"xgboost-210705-0255-020-adcb5ddc\",\"xgboost-210705-0255-019-eace50e5\",\"xgboost-210705-0255-016-d121bb32\",\"xgboost-210705-0255-011-e86ca023\",\"xgboost-210705-0255-002-420fe8c6\",\"xgboost-210705-0255-015-527dde8d\",\"xgboost-210705-0255-008-6837c42b\",\"xgboost-210705-0255-007-0de7b8db\",\"xgboost-210705-0255-012-73694630\",\"xgboost-210705-0255-001-03e624b8\",\"xgboost-210705-0255-013-b3021c55\",\"xgboost-210705-0255-014-e7ade42d\",\"xgboost-210705-0255-004-085381fa\",\"xgboost-210705-0255-005-1259b83d\"],\"TrainingJobStatus\":[\"Completed\",\"Completed\",\"Completed\",\"Completed\",\"Completed\",\"Completed\",\"Completed\",\"Completed\",\"Completed\",\"Completed\",\"Completed\",\"Completed\",\"Completed\",\"Completed\",\"Completed\",\"Completed\",\"Completed\",\"Completed\",\"Completed\",\"Completed\"],\"TrainingStartTime\":{\"__ndarray__\":\"AIBoRUqnd0IAAKmeSad3QgAAjttKp3dCAABCvkqnd0IAgGzxSad3QgCAdS5Kp3dCAICD/Eqnd0IAgAb8Sqd3QgCAM7ZKp3dCAIBES0qnd0IAgOeeSad3QgAAYaRKp3dCAIA1D0qnd0IAAP0NSqd3QgAAyWlKp3dCAIBRt0mnd0IAgBJ9Sqd3QgCAX4VKp3dCAIAC2Umnd0IAgAjYSad3Qg==\",\"dtype\":\"float64\",\"order\":\"little\",\"shape\":[20]},\"eta\":{\"__ndarray__\":\"RD1rnj3E3D8wDmu4aVXTP4we5rLrH9A/UaSqQERTzz8vepjLrku7PxH1rHn2Nrk/jB7msuvt0D9EPWuevTnTP+itqKgUaN0/iHrWPHuExj+QEMmzVzXXP4we5rLrC94/RD1rnr2T0z9GD3PZtZDmP0LUs+bZM5g/6K2oqBSW1D9GD3PZ9Z7uP0LUs+bZm5E/op41zx407T+IetY8e+LCPw==\",\"dtype\":\"float64\",\"order\":\"little\",\"shape\":[20]},\"index\":[10,17,2,3,14,11,0,1,4,9,18,5,12,13,8,19,7,6,16,15],\"max_depth\":{\"__ndarray__\":\"AAAAAAAAJEAAAAAAAAAcQAAAAAAAACRAAAAAAAAAJEAAAAAAAAAgQAAAAAAAACRAAAAAAAAAJEAAAAAAAAAiQAAAAAAAACRAAAAAAAAAJEAAAAAAAAAcQAAAAAAAACRAAAAAAAAACEAAAAAAAAAkQAAAAAAAACRAAAAAAAAAAEAAAAAAAAAkQAAAAAAAABxAAAAAAAAAFEAAAAAAAADwPw==\",\"dtype\":\"float64\",\"order\":\"little\",\"shape\":[20]},\"min_child_weight\":{\"__ndarray__\":\"wz49CONRI0A+TZIgNdMiQKJVDVKt2SNAolUNUm0RI0CiVQ1SdbkhQKJVDVJR8CNARasapLpTFUCNjJW4kJUTQPQNLNf4MCNAolUNUr3MI0C53XzQsZUjQEbGSlzkAiNAAAAAAAAAJEBFqxqk4vMTQI2MlbgY9x1A6RtYrlGOHkBFqxqkunIUQKJVDVLx5yJAolUNUi16IUAzMlbi4k7wPw==\",\"dtype\":\"float64\",\"order\":\"little\",\"shape\":[20]}},\"selected\":{\"id\":\"1061\"},\"selection_policy\":{\"id\":\"1060\"}},\"id\":\"1036\",\"type\":\"ColumnDataSource\"},{\"attributes\":{\"active_drag\":\"auto\",\"active_inspect\":\"auto\",\"active_multi\":null,\"active_scroll\":\"auto\",\"active_tap\":\"auto\",\"tools\":[{\"id\":\"1002\"},{\"id\":\"1020\"},{\"id\":\"1021\"},{\"id\":\"1022\"},{\"id\":\"1023\"},{\"id\":\"1024\"},{\"id\":\"1025\"},{\"id\":\"1026\"}]},\"id\":\"1027\",\"type\":\"Toolbar\"},{\"attributes\":{\"callback\":null,\"tooltips\":[[\"FinalObjectiveValue\",\"@FinalObjectiveValue\"],[\"TrainingJobName\",\"@TrainingJobName\"],[\"max_depth\",\"@{max_depth}\"],[\"eta\",\"@{eta}\"],[\"min_child_weight\",\"@{min_child_weight}\"]]},\"id\":\"1002\",\"type\":\"HoverTool\"},{\"attributes\":{\"months\":[0,2,4,6,8,10]},\"id\":\"1056\",\"type\":\"MonthsTicker\"},{\"attributes\":{\"num_minor_ticks\":5,\"tickers\":[{\"id\":\"1048\"},{\"id\":\"1049\"},{\"id\":\"1050\"},{\"id\":\"1051\"},{\"id\":\"1052\"},{\"id\":\"1053\"},{\"id\":\"1054\"},{\"id\":\"1055\"},{\"id\":\"1056\"},{\"id\":\"1057\"},{\"id\":\"1058\"},{\"id\":\"1059\"}]},\"id\":\"1013\",\"type\":\"DatetimeTicker\"},{\"attributes\":{\"formatter\":{\"id\":\"1044\"},\"ticker\":{\"id\":\"1013\"}},\"id\":\"1012\",\"type\":\"DatetimeAxis\"},{\"attributes\":{\"months\":[0,4,8]},\"id\":\"1057\",\"type\":\"MonthsTicker\"},{\"attributes\":{\"fill_alpha\":{\"value\":0.1},\"fill_color\":{\"value\":\"#1f77b4\"},\"line_alpha\":{\"value\":0.1},\"line_color\":{\"value\":\"#1f77b4\"},\"x\":{\"field\":\"TrainingStartTime\"},\"y\":{\"field\":\"FinalObjectiveValue\"}},\"id\":\"1039\",\"type\":\"Circle\"},{\"attributes\":{\"months\":[0,6]},\"id\":\"1058\",\"type\":\"MonthsTicker\"}],\"root_ids\":[\"1003\"]},\"title\":\"Bokeh Application\",\"version\":\"2.2.3\"}};\n",
       "  var render_items = [{\"docid\":\"db4e19b4-0be5-49b8-8c8f-a18e99667cbb\",\"root_ids\":[\"1003\"],\"roots\":{\"1003\":\"ffb02785-bc30-47a7-9ac3-b9f72dcb725d\"}}];\n",
       "  root.Bokeh.embed.embed_items_notebook(docs_json, render_items);\n",
       "\n",
       "  }\n",
       "  if (root.Bokeh !== undefined) {\n",
       "    embed_document(root);\n",
       "  } else {\n",
       "    var attempts = 0;\n",
       "    var timer = setInterval(function(root) {\n",
       "      if (root.Bokeh !== undefined) {\n",
       "        clearInterval(timer);\n",
       "        embed_document(root);\n",
       "      } else {\n",
       "        attempts++;\n",
       "        if (attempts > 100) {\n",
       "          clearInterval(timer);\n",
       "          console.log(\"Bokeh: ERROR: Unable to run BokehJS code because BokehJS library is missing\");\n",
       "        }\n",
       "      }\n",
       "    }, 10, root)\n",
       "  }\n",
       "})(window);"
      ],
      "application/vnd.bokehjs_exec.v0+json": ""
     },
     "metadata": {
      "application/vnd.bokehjs_exec.v0+json": {
       "id": "1003"
      }
     },
     "output_type": "display_data"
    }
   ],
   "source": [
    "import bokeh\n",
    "import bokeh.io\n",
    "\n",
    "bokeh.io.output_notebook()\n",
    "from bokeh.plotting import figure, show\n",
    "from bokeh.models import HoverTool\n",
    "\n",
    "\n",
    "class HoverHelper:\n",
    "    def __init__(self, tuning_analytics):\n",
    "        self.tuner = tuning_analytics\n",
    "\n",
    "    def hovertool(self):\n",
    "        tooltips = [\n",
    "            (\"FinalObjectiveValue\", \"@FinalObjectiveValue\"),\n",
    "            (\"TrainingJobName\", \"@TrainingJobName\"),\n",
    "        ]\n",
    "        for k in self.tuner.tuning_ranges.keys():\n",
    "            tooltips.append((k, \"@{%s}\" % k))\n",
    "\n",
    "        ht = HoverTool(tooltips=tooltips)\n",
    "        return ht\n",
    "\n",
    "    def tools(self, standard_tools=\"pan,crosshair,wheel_zoom,zoom_in,zoom_out,undo,reset\"):\n",
    "        return [self.hovertool(), standard_tools]\n",
    "\n",
    "\n",
    "hover = HoverHelper(tuning_result)\n",
    "\n",
    "p = figure(plot_width=900, plot_height=400, tools=hover.tools(), x_axis_type=\"datetime\")\n",
    "p.circle(source=df, x=\"TrainingStartTime\", y=\"FinalObjectiveValue\")\n",
    "show(p)"
   ]
  },
  {
   "cell_type": "markdown",
   "id": "93ad65bf",
   "metadata": {},
   "source": [
    "유사한 방법으로 탐색대상으로 설정한 하이퍼파라미터별로 매트릭의 결과에 어떤 영향을 미쳤는지 확인해 봅니다."
   ]
  },
  {
   "cell_type": "code",
   "execution_count": 14,
   "id": "c2d56bf2",
   "metadata": {},
   "outputs": [
    {
     "data": {
      "text/html": [
       "\n",
       "\n",
       "\n",
       "\n",
       "\n",
       "\n",
       "  <div class=\"bk-root\" id=\"8870542c-205c-4c89-a5c5-5843dc9ccf7a\" data-root-id=\"1288\"></div>\n"
      ]
     },
     "metadata": {},
     "output_type": "display_data"
    },
    {
     "data": {
      "application/javascript": [
       "(function(root) {\n",
       "  function embed_document(root) {\n",
       "    \n",
       "  var docs_json = {\"c7f21deb-3454-4b7a-a0ba-884cca9f514f\":{\"roots\":{\"references\":[{\"attributes\":{\"children\":[{\"id\":\"1163\"},{\"id\":\"1205\"},{\"id\":\"1247\"}]},\"id\":\"1288\",\"type\":\"Column\"},{\"attributes\":{},\"id\":\"1230\",\"type\":\"ResetTool\"},{\"attributes\":{},\"id\":\"1320\",\"type\":\"BasicTickFormatter\"},{\"attributes\":{},\"id\":\"1252\",\"type\":\"DataRange1d\"},{\"attributes\":{\"active_drag\":\"auto\",\"active_inspect\":\"auto\",\"active_multi\":null,\"active_scroll\":\"auto\",\"active_tap\":\"auto\",\"tools\":[{\"id\":\"1204\"},{\"id\":\"1224\"},{\"id\":\"1225\"},{\"id\":\"1226\"},{\"id\":\"1227\"},{\"id\":\"1228\"},{\"id\":\"1229\"},{\"id\":\"1230\"}]},\"id\":\"1231\",\"type\":\"Toolbar\"},{\"attributes\":{},\"id\":\"1322\",\"type\":\"BasicTickFormatter\"},{\"attributes\":{},\"id\":\"1250\",\"type\":\"DataRange1d\"},{\"attributes\":{\"source\":{\"id\":\"1282\"}},\"id\":\"1287\",\"type\":\"CDSView\"},{\"attributes\":{},\"id\":\"1329\",\"type\":\"Selection\"},{\"attributes\":{\"below\":[{\"id\":\"1258\"}],\"center\":[{\"id\":\"1261\"},{\"id\":\"1265\"}],\"left\":[{\"id\":\"1262\"}],\"plot_height\":500,\"plot_width\":500,\"renderers\":[{\"id\":\"1286\"}],\"title\":{\"id\":\"1248\"},\"toolbar\":{\"id\":\"1273\"},\"x_range\":{\"id\":\"1250\"},\"x_scale\":{\"id\":\"1254\"},\"y_range\":{\"id\":\"1252\"},\"y_scale\":{\"id\":\"1256\"}},\"id\":\"1247\",\"subtype\":\"Figure\",\"type\":\"Plot\"},{\"attributes\":{\"text\":\"Objective vs min_child_weight\"},\"id\":\"1248\",\"type\":\"Title\"},{\"attributes\":{},\"id\":\"1254\",\"type\":\"LinearScale\"},{\"attributes\":{},\"id\":\"1256\",\"type\":\"LinearScale\"},{\"attributes\":{\"axis_label\":\"min_child_weight\",\"formatter\":{\"id\":\"1320\"},\"ticker\":{\"id\":\"1259\"}},\"id\":\"1258\",\"type\":\"LinearAxis\"},{\"attributes\":{},\"id\":\"1259\",\"type\":\"BasicTicker\"},{\"attributes\":{\"axis\":{\"id\":\"1258\"},\"ticker\":null},\"id\":\"1261\",\"type\":\"Grid\"},{\"attributes\":{\"axis_label\":\"validation:auc\",\"formatter\":{\"id\":\"1322\"},\"ticker\":{\"id\":\"1263\"}},\"id\":\"1262\",\"type\":\"LinearAxis\"},{\"attributes\":{},\"id\":\"1263\",\"type\":\"BasicTicker\"},{\"attributes\":{\"axis\":{\"id\":\"1262\"},\"dimension\":1,\"ticker\":null},\"id\":\"1265\",\"type\":\"Grid\"},{\"attributes\":{},\"id\":\"1266\",\"type\":\"PanTool\"},{\"attributes\":{},\"id\":\"1267\",\"type\":\"CrosshairTool\"},{\"attributes\":{},\"id\":\"1268\",\"type\":\"WheelZoomTool\"},{\"attributes\":{},\"id\":\"1269\",\"type\":\"ZoomInTool\"},{\"attributes\":{},\"id\":\"1270\",\"type\":\"ZoomOutTool\"},{\"attributes\":{},\"id\":\"1271\",\"type\":\"UndoTool\"},{\"attributes\":{},\"id\":\"1272\",\"type\":\"ResetTool\"},{\"attributes\":{},\"id\":\"1314\",\"type\":\"BasicTickFormatter\"},{\"attributes\":{},\"id\":\"1326\",\"type\":\"UnionRenderers\"},{\"attributes\":{},\"id\":\"1325\",\"type\":\"Selection\"},{\"attributes\":{},\"id\":\"1327\",\"type\":\"Selection\"},{\"attributes\":{\"data_source\":{\"id\":\"1282\"},\"glyph\":{\"id\":\"1284\"},\"hover_glyph\":null,\"muted_glyph\":null,\"nonselection_glyph\":{\"id\":\"1285\"},\"selection_glyph\":null,\"view\":{\"id\":\"1287\"}},\"id\":\"1286\",\"type\":\"GlyphRenderer\"},{\"attributes\":{\"fill_alpha\":{\"value\":0.1},\"fill_color\":{\"value\":\"#1f77b4\"},\"line_alpha\":{\"value\":0.1},\"line_color\":{\"value\":\"#1f77b4\"},\"x\":{\"field\":\"min_child_weight\"},\"y\":{\"field\":\"FinalObjectiveValue\"}},\"id\":\"1285\",\"type\":\"Circle\"},{\"attributes\":{},\"id\":\"1312\",\"type\":\"BasicTickFormatter\"},{\"attributes\":{\"fill_color\":{\"value\":\"#1f77b4\"},\"line_color\":{\"value\":\"#1f77b4\"},\"x\":{\"field\":\"min_child_weight\"},\"y\":{\"field\":\"FinalObjectiveValue\"}},\"id\":\"1284\",\"type\":\"Circle\"},{\"attributes\":{},\"id\":\"1324\",\"type\":\"UnionRenderers\"},{\"attributes\":{},\"id\":\"1316\",\"type\":\"BasicTickFormatter\"},{\"attributes\":{},\"id\":\"1318\",\"type\":\"BasicTickFormatter\"},{\"attributes\":{\"text\":\"Objective vs max_depth\"},\"id\":\"1164\",\"type\":\"Title\"},{\"attributes\":{},\"id\":\"1175\",\"type\":\"BasicTicker\"},{\"attributes\":{\"fill_color\":{\"value\":\"#1f77b4\"},\"line_color\":{\"value\":\"#1f77b4\"},\"x\":{\"field\":\"max_depth\"},\"y\":{\"field\":\"FinalObjectiveValue\"}},\"id\":\"1200\",\"type\":\"Circle\"},{\"attributes\":{\"below\":[{\"id\":\"1174\"}],\"center\":[{\"id\":\"1177\"},{\"id\":\"1181\"}],\"left\":[{\"id\":\"1178\"}],\"plot_height\":500,\"plot_width\":500,\"renderers\":[{\"id\":\"1202\"}],\"title\":{\"id\":\"1164\"},\"toolbar\":{\"id\":\"1189\"},\"x_range\":{\"id\":\"1166\"},\"x_scale\":{\"id\":\"1170\"},\"y_range\":{\"id\":\"1168\"},\"y_scale\":{\"id\":\"1172\"}},\"id\":\"1163\",\"subtype\":\"Figure\",\"type\":\"Plot\"},{\"attributes\":{\"source\":{\"id\":\"1240\"}},\"id\":\"1245\",\"type\":\"CDSView\"},{\"attributes\":{\"data_source\":{\"id\":\"1240\"},\"glyph\":{\"id\":\"1242\"},\"hover_glyph\":null,\"muted_glyph\":null,\"nonselection_glyph\":{\"id\":\"1243\"},\"selection_glyph\":null,\"view\":{\"id\":\"1245\"}},\"id\":\"1244\",\"type\":\"GlyphRenderer\"},{\"attributes\":{\"callback\":null,\"tooltips\":[[\"FinalObjectiveValue\",\"@FinalObjectiveValue\"],[\"TrainingJobName\",\"@TrainingJobName\"],[\"max_depth\",\"@{max_depth}\"],[\"eta\",\"@{eta}\"],[\"min_child_weight\",\"@{min_child_weight}\"]]},\"id\":\"1162\",\"type\":\"HoverTool\"},{\"attributes\":{\"data_source\":{\"id\":\"1198\"},\"glyph\":{\"id\":\"1200\"},\"hover_glyph\":null,\"muted_glyph\":null,\"nonselection_glyph\":{\"id\":\"1201\"},\"selection_glyph\":null,\"view\":{\"id\":\"1203\"}},\"id\":\"1202\",\"type\":\"GlyphRenderer\"},{\"attributes\":{\"axis\":{\"id\":\"1174\"},\"ticker\":null},\"id\":\"1177\",\"type\":\"Grid\"},{\"attributes\":{\"text\":\"Objective vs eta\"},\"id\":\"1206\",\"type\":\"Title\"},{\"attributes\":{\"axis_label\":\"max_depth\",\"formatter\":{\"id\":\"1312\"},\"ticker\":{\"id\":\"1175\"}},\"id\":\"1174\",\"type\":\"LinearAxis\"},{\"attributes\":{\"below\":[{\"id\":\"1216\"}],\"center\":[{\"id\":\"1219\"},{\"id\":\"1223\"}],\"left\":[{\"id\":\"1220\"}],\"plot_height\":500,\"plot_width\":500,\"renderers\":[{\"id\":\"1244\"}],\"title\":{\"id\":\"1206\"},\"toolbar\":{\"id\":\"1231\"},\"x_range\":{\"id\":\"1208\"},\"x_scale\":{\"id\":\"1212\"},\"y_range\":{\"id\":\"1210\"},\"y_scale\":{\"id\":\"1214\"}},\"id\":\"1205\",\"subtype\":\"Figure\",\"type\":\"Plot\"},{\"attributes\":{\"active_drag\":\"auto\",\"active_inspect\":\"auto\",\"active_multi\":null,\"active_scroll\":\"auto\",\"active_tap\":\"auto\",\"tools\":[{\"id\":\"1246\"},{\"id\":\"1266\"},{\"id\":\"1267\"},{\"id\":\"1268\"},{\"id\":\"1269\"},{\"id\":\"1270\"},{\"id\":\"1271\"},{\"id\":\"1272\"}]},\"id\":\"1273\",\"type\":\"Toolbar\"},{\"attributes\":{},\"id\":\"1168\",\"type\":\"DataRange1d\"},{\"attributes\":{},\"id\":\"1170\",\"type\":\"LinearScale\"},{\"attributes\":{},\"id\":\"1166\",\"type\":\"DataRange1d\"},{\"attributes\":{},\"id\":\"1172\",\"type\":\"LinearScale\"},{\"attributes\":{\"data\":{\"FinalObjectiveValue\":{\"__ndarray__\":\"AAAAgFRu7z8AAABgUG3vPwAAAOB4ae8/AAAA4MBk7z8AAADAp2TvPwAAAKB1Yu8/AAAAgDJi7z8AAABAN1/vPwAAAIA3Xe8/AAAAwHhb7z8AAACAKVjvPwAAAKA+V+8/AAAAgGVQ7z8AAABg4kjvPwAAAMDZO+8/AAAAINIo7z8AAABgwSjvPwAAAGAmJu8/AAAAYNYL7z8AAAAgCULuPw==\",\"dtype\":\"float64\",\"order\":\"little\",\"shape\":[20]},\"TrainingElapsedTimeSeconds\":{\"__ndarray__\":\"AAAAAACAUEAAAAAAAABIQAAAAAAAgEhAAAAAAACAUEAAAAAAAMBSQAAAAAAAwFBAAAAAAAAAUEAAAAAAAEBSQAAAAAAAQFtAAAAAAABAUEAAAAAAAABMQAAAAAAAQFFAAAAAAAAAVUAAAAAAAABPQAAAAAAAgFBAAAAAAADAUEAAAAAAAMBQQAAAAAAAgEhAAAAAAABAUEAAAAAAAIBIQA==\",\"dtype\":\"float64\",\"order\":\"little\",\"shape\":[20]},\"TrainingEndTime\":{\"__ndarray__\":\"AICFVUqnd0IAAGGqSad3QgCAhOdKp3dCAABfzkqnd0IAALwDSqd3QgAA0T5Kp3dCAIAjDEund0IAANkNS6d3QgAA0NBKp3dCAAAjW0qnd0IAgJOsSad3QgCAObVKp3dCAIC3I0qnd0IAACAdSqd3QgAA5nlKp3dCAACtx0mnd0IAAG6NSqd3QgAAVpFKp3dCAADh6Emnd0IAAP/jSad3Qg==\",\"dtype\":\"float64\",\"order\":\"little\",\"shape\":[20]},\"TrainingJobName\":[\"xgboost-210705-0255-010-d5a26636\",\"xgboost-210705-0255-003-0e4e5a82\",\"xgboost-210705-0255-018-d2bdd818\",\"xgboost-210705-0255-017-6676e0ab\",\"xgboost-210705-0255-006-201ce6db\",\"xgboost-210705-0255-009-35b3ea4d\",\"xgboost-210705-0255-020-adcb5ddc\",\"xgboost-210705-0255-019-eace50e5\",\"xgboost-210705-0255-016-d121bb32\",\"xgboost-210705-0255-011-e86ca023\",\"xgboost-210705-0255-002-420fe8c6\",\"xgboost-210705-0255-015-527dde8d\",\"xgboost-210705-0255-008-6837c42b\",\"xgboost-210705-0255-007-0de7b8db\",\"xgboost-210705-0255-012-73694630\",\"xgboost-210705-0255-001-03e624b8\",\"xgboost-210705-0255-013-b3021c55\",\"xgboost-210705-0255-014-e7ade42d\",\"xgboost-210705-0255-004-085381fa\",\"xgboost-210705-0255-005-1259b83d\"],\"TrainingJobStatus\":[\"Completed\",\"Completed\",\"Completed\",\"Completed\",\"Completed\",\"Completed\",\"Completed\",\"Completed\",\"Completed\",\"Completed\",\"Completed\",\"Completed\",\"Completed\",\"Completed\",\"Completed\",\"Completed\",\"Completed\",\"Completed\",\"Completed\",\"Completed\"],\"TrainingStartTime\":{\"__ndarray__\":\"AIBoRUqnd0IAAKmeSad3QgAAjttKp3dCAABCvkqnd0IAgGzxSad3QgCAdS5Kp3dCAICD/Eqnd0IAgAb8Sqd3QgCAM7ZKp3dCAIBES0qnd0IAgOeeSad3QgAAYaRKp3dCAIA1D0qnd0IAAP0NSqd3QgAAyWlKp3dCAIBRt0mnd0IAgBJ9Sqd3QgCAX4VKp3dCAIAC2Umnd0IAgAjYSad3Qg==\",\"dtype\":\"float64\",\"order\":\"little\",\"shape\":[20]},\"eta\":{\"__ndarray__\":\"RD1rnj3E3D8wDmu4aVXTP4we5rLrH9A/UaSqQERTzz8vepjLrku7PxH1rHn2Nrk/jB7msuvt0D9EPWuevTnTP+itqKgUaN0/iHrWPHuExj+QEMmzVzXXP4we5rLrC94/RD1rnr2T0z9GD3PZtZDmP0LUs+bZM5g/6K2oqBSW1D9GD3PZ9Z7uP0LUs+bZm5E/op41zx407T+IetY8e+LCPw==\",\"dtype\":\"float64\",\"order\":\"little\",\"shape\":[20]},\"index\":[10,17,2,3,14,11,0,1,4,9,18,5,12,13,8,19,7,6,16,15],\"max_depth\":{\"__ndarray__\":\"AAAAAAAAJEAAAAAAAAAcQAAAAAAAACRAAAAAAAAAJEAAAAAAAAAgQAAAAAAAACRAAAAAAAAAJEAAAAAAAAAiQAAAAAAAACRAAAAAAAAAJEAAAAAAAAAcQAAAAAAAACRAAAAAAAAACEAAAAAAAAAkQAAAAAAAACRAAAAAAAAAAEAAAAAAAAAkQAAAAAAAABxAAAAAAAAAFEAAAAAAAADwPw==\",\"dtype\":\"float64\",\"order\":\"little\",\"shape\":[20]},\"min_child_weight\":{\"__ndarray__\":\"wz49CONRI0A+TZIgNdMiQKJVDVKt2SNAolUNUm0RI0CiVQ1SdbkhQKJVDVJR8CNARasapLpTFUCNjJW4kJUTQPQNLNf4MCNAolUNUr3MI0C53XzQsZUjQEbGSlzkAiNAAAAAAAAAJEBFqxqk4vMTQI2MlbgY9x1A6RtYrlGOHkBFqxqkunIUQKJVDVLx5yJAolUNUi16IUAzMlbi4k7wPw==\",\"dtype\":\"float64\",\"order\":\"little\",\"shape\":[20]}},\"selected\":{\"id\":\"1329\"},\"selection_policy\":{\"id\":\"1328\"}},\"id\":\"1282\",\"type\":\"ColumnDataSource\"},{\"attributes\":{\"axis_label\":\"validation:auc\",\"formatter\":{\"id\":\"1314\"},\"ticker\":{\"id\":\"1179\"}},\"id\":\"1178\",\"type\":\"LinearAxis\"},{\"attributes\":{\"callback\":null,\"tooltips\":[[\"FinalObjectiveValue\",\"@FinalObjectiveValue\"],[\"TrainingJobName\",\"@TrainingJobName\"],[\"max_depth\",\"@{max_depth}\"],[\"eta\",\"@{eta}\"],[\"min_child_weight\",\"@{min_child_weight}\"]]},\"id\":\"1204\",\"type\":\"HoverTool\"},{\"attributes\":{\"data\":{\"FinalObjectiveValue\":{\"__ndarray__\":\"AAAAgFRu7z8AAABgUG3vPwAAAOB4ae8/AAAA4MBk7z8AAADAp2TvPwAAAKB1Yu8/AAAAgDJi7z8AAABAN1/vPwAAAIA3Xe8/AAAAwHhb7z8AAACAKVjvPwAAAKA+V+8/AAAAgGVQ7z8AAABg4kjvPwAAAMDZO+8/AAAAINIo7z8AAABgwSjvPwAAAGAmJu8/AAAAYNYL7z8AAAAgCULuPw==\",\"dtype\":\"float64\",\"order\":\"little\",\"shape\":[20]},\"TrainingElapsedTimeSeconds\":{\"__ndarray__\":\"AAAAAACAUEAAAAAAAABIQAAAAAAAgEhAAAAAAACAUEAAAAAAAMBSQAAAAAAAwFBAAAAAAAAAUEAAAAAAAEBSQAAAAAAAQFtAAAAAAABAUEAAAAAAAABMQAAAAAAAQFFAAAAAAAAAVUAAAAAAAABPQAAAAAAAgFBAAAAAAADAUEAAAAAAAMBQQAAAAAAAgEhAAAAAAABAUEAAAAAAAIBIQA==\",\"dtype\":\"float64\",\"order\":\"little\",\"shape\":[20]},\"TrainingEndTime\":{\"__ndarray__\":\"AICFVUqnd0IAAGGqSad3QgCAhOdKp3dCAABfzkqnd0IAALwDSqd3QgAA0T5Kp3dCAIAjDEund0IAANkNS6d3QgAA0NBKp3dCAAAjW0qnd0IAgJOsSad3QgCAObVKp3dCAIC3I0qnd0IAACAdSqd3QgAA5nlKp3dCAACtx0mnd0IAAG6NSqd3QgAAVpFKp3dCAADh6Emnd0IAAP/jSad3Qg==\",\"dtype\":\"float64\",\"order\":\"little\",\"shape\":[20]},\"TrainingJobName\":[\"xgboost-210705-0255-010-d5a26636\",\"xgboost-210705-0255-003-0e4e5a82\",\"xgboost-210705-0255-018-d2bdd818\",\"xgboost-210705-0255-017-6676e0ab\",\"xgboost-210705-0255-006-201ce6db\",\"xgboost-210705-0255-009-35b3ea4d\",\"xgboost-210705-0255-020-adcb5ddc\",\"xgboost-210705-0255-019-eace50e5\",\"xgboost-210705-0255-016-d121bb32\",\"xgboost-210705-0255-011-e86ca023\",\"xgboost-210705-0255-002-420fe8c6\",\"xgboost-210705-0255-015-527dde8d\",\"xgboost-210705-0255-008-6837c42b\",\"xgboost-210705-0255-007-0de7b8db\",\"xgboost-210705-0255-012-73694630\",\"xgboost-210705-0255-001-03e624b8\",\"xgboost-210705-0255-013-b3021c55\",\"xgboost-210705-0255-014-e7ade42d\",\"xgboost-210705-0255-004-085381fa\",\"xgboost-210705-0255-005-1259b83d\"],\"TrainingJobStatus\":[\"Completed\",\"Completed\",\"Completed\",\"Completed\",\"Completed\",\"Completed\",\"Completed\",\"Completed\",\"Completed\",\"Completed\",\"Completed\",\"Completed\",\"Completed\",\"Completed\",\"Completed\",\"Completed\",\"Completed\",\"Completed\",\"Completed\",\"Completed\"],\"TrainingStartTime\":{\"__ndarray__\":\"AIBoRUqnd0IAAKmeSad3QgAAjttKp3dCAABCvkqnd0IAgGzxSad3QgCAdS5Kp3dCAICD/Eqnd0IAgAb8Sqd3QgCAM7ZKp3dCAIBES0qnd0IAgOeeSad3QgAAYaRKp3dCAIA1D0qnd0IAAP0NSqd3QgAAyWlKp3dCAIBRt0mnd0IAgBJ9Sqd3QgCAX4VKp3dCAIAC2Umnd0IAgAjYSad3Qg==\",\"dtype\":\"float64\",\"order\":\"little\",\"shape\":[20]},\"eta\":{\"__ndarray__\":\"RD1rnj3E3D8wDmu4aVXTP4we5rLrH9A/UaSqQERTzz8vepjLrku7PxH1rHn2Nrk/jB7msuvt0D9EPWuevTnTP+itqKgUaN0/iHrWPHuExj+QEMmzVzXXP4we5rLrC94/RD1rnr2T0z9GD3PZtZDmP0LUs+bZM5g/6K2oqBSW1D9GD3PZ9Z7uP0LUs+bZm5E/op41zx407T+IetY8e+LCPw==\",\"dtype\":\"float64\",\"order\":\"little\",\"shape\":[20]},\"index\":[10,17,2,3,14,11,0,1,4,9,18,5,12,13,8,19,7,6,16,15],\"max_depth\":{\"__ndarray__\":\"AAAAAAAAJEAAAAAAAAAcQAAAAAAAACRAAAAAAAAAJEAAAAAAAAAgQAAAAAAAACRAAAAAAAAAJEAAAAAAAAAiQAAAAAAAACRAAAAAAAAAJEAAAAAAAAAcQAAAAAAAACRAAAAAAAAACEAAAAAAAAAkQAAAAAAAACRAAAAAAAAAAEAAAAAAAAAkQAAAAAAAABxAAAAAAAAAFEAAAAAAAADwPw==\",\"dtype\":\"float64\",\"order\":\"little\",\"shape\":[20]},\"min_child_weight\":{\"__ndarray__\":\"wz49CONRI0A+TZIgNdMiQKJVDVKt2SNAolUNUm0RI0CiVQ1SdbkhQKJVDVJR8CNARasapLpTFUCNjJW4kJUTQPQNLNf4MCNAolUNUr3MI0C53XzQsZUjQEbGSlzkAiNAAAAAAAAAJEBFqxqk4vMTQI2MlbgY9x1A6RtYrlGOHkBFqxqkunIUQKJVDVLx5yJAolUNUi16IUAzMlbi4k7wPw==\",\"dtype\":\"float64\",\"order\":\"little\",\"shape\":[20]}},\"selected\":{\"id\":\"1327\"},\"selection_policy\":{\"id\":\"1326\"}},\"id\":\"1240\",\"type\":\"ColumnDataSource\"},{\"attributes\":{},\"id\":\"1179\",\"type\":\"BasicTicker\"},{\"attributes\":{\"source\":{\"id\":\"1198\"}},\"id\":\"1203\",\"type\":\"CDSView\"},{\"attributes\":{\"axis\":{\"id\":\"1178\"},\"dimension\":1,\"ticker\":null},\"id\":\"1181\",\"type\":\"Grid\"},{\"attributes\":{\"fill_alpha\":{\"value\":0.1},\"fill_color\":{\"value\":\"#1f77b4\"},\"line_alpha\":{\"value\":0.1},\"line_color\":{\"value\":\"#1f77b4\"},\"x\":{\"field\":\"max_depth\"},\"y\":{\"field\":\"FinalObjectiveValue\"}},\"id\":\"1201\",\"type\":\"Circle\"},{\"attributes\":{},\"id\":\"1208\",\"type\":\"DataRange1d\"},{\"attributes\":{\"data\":{\"FinalObjectiveValue\":{\"__ndarray__\":\"AAAAgFRu7z8AAABgUG3vPwAAAOB4ae8/AAAA4MBk7z8AAADAp2TvPwAAAKB1Yu8/AAAAgDJi7z8AAABAN1/vPwAAAIA3Xe8/AAAAwHhb7z8AAACAKVjvPwAAAKA+V+8/AAAAgGVQ7z8AAABg4kjvPwAAAMDZO+8/AAAAINIo7z8AAABgwSjvPwAAAGAmJu8/AAAAYNYL7z8AAAAgCULuPw==\",\"dtype\":\"float64\",\"order\":\"little\",\"shape\":[20]},\"TrainingElapsedTimeSeconds\":{\"__ndarray__\":\"AAAAAACAUEAAAAAAAABIQAAAAAAAgEhAAAAAAACAUEAAAAAAAMBSQAAAAAAAwFBAAAAAAAAAUEAAAAAAAEBSQAAAAAAAQFtAAAAAAABAUEAAAAAAAABMQAAAAAAAQFFAAAAAAAAAVUAAAAAAAABPQAAAAAAAgFBAAAAAAADAUEAAAAAAAMBQQAAAAAAAgEhAAAAAAABAUEAAAAAAAIBIQA==\",\"dtype\":\"float64\",\"order\":\"little\",\"shape\":[20]},\"TrainingEndTime\":{\"__ndarray__\":\"AICFVUqnd0IAAGGqSad3QgCAhOdKp3dCAABfzkqnd0IAALwDSqd3QgAA0T5Kp3dCAIAjDEund0IAANkNS6d3QgAA0NBKp3dCAAAjW0qnd0IAgJOsSad3QgCAObVKp3dCAIC3I0qnd0IAACAdSqd3QgAA5nlKp3dCAACtx0mnd0IAAG6NSqd3QgAAVpFKp3dCAADh6Emnd0IAAP/jSad3Qg==\",\"dtype\":\"float64\",\"order\":\"little\",\"shape\":[20]},\"TrainingJobName\":[\"xgboost-210705-0255-010-d5a26636\",\"xgboost-210705-0255-003-0e4e5a82\",\"xgboost-210705-0255-018-d2bdd818\",\"xgboost-210705-0255-017-6676e0ab\",\"xgboost-210705-0255-006-201ce6db\",\"xgboost-210705-0255-009-35b3ea4d\",\"xgboost-210705-0255-020-adcb5ddc\",\"xgboost-210705-0255-019-eace50e5\",\"xgboost-210705-0255-016-d121bb32\",\"xgboost-210705-0255-011-e86ca023\",\"xgboost-210705-0255-002-420fe8c6\",\"xgboost-210705-0255-015-527dde8d\",\"xgboost-210705-0255-008-6837c42b\",\"xgboost-210705-0255-007-0de7b8db\",\"xgboost-210705-0255-012-73694630\",\"xgboost-210705-0255-001-03e624b8\",\"xgboost-210705-0255-013-b3021c55\",\"xgboost-210705-0255-014-e7ade42d\",\"xgboost-210705-0255-004-085381fa\",\"xgboost-210705-0255-005-1259b83d\"],\"TrainingJobStatus\":[\"Completed\",\"Completed\",\"Completed\",\"Completed\",\"Completed\",\"Completed\",\"Completed\",\"Completed\",\"Completed\",\"Completed\",\"Completed\",\"Completed\",\"Completed\",\"Completed\",\"Completed\",\"Completed\",\"Completed\",\"Completed\",\"Completed\",\"Completed\"],\"TrainingStartTime\":{\"__ndarray__\":\"AIBoRUqnd0IAAKmeSad3QgAAjttKp3dCAABCvkqnd0IAgGzxSad3QgCAdS5Kp3dCAICD/Eqnd0IAgAb8Sqd3QgCAM7ZKp3dCAIBES0qnd0IAgOeeSad3QgAAYaRKp3dCAIA1D0qnd0IAAP0NSqd3QgAAyWlKp3dCAIBRt0mnd0IAgBJ9Sqd3QgCAX4VKp3dCAIAC2Umnd0IAgAjYSad3Qg==\",\"dtype\":\"float64\",\"order\":\"little\",\"shape\":[20]},\"eta\":{\"__ndarray__\":\"RD1rnj3E3D8wDmu4aVXTP4we5rLrH9A/UaSqQERTzz8vepjLrku7PxH1rHn2Nrk/jB7msuvt0D9EPWuevTnTP+itqKgUaN0/iHrWPHuExj+QEMmzVzXXP4we5rLrC94/RD1rnr2T0z9GD3PZtZDmP0LUs+bZM5g/6K2oqBSW1D9GD3PZ9Z7uP0LUs+bZm5E/op41zx407T+IetY8e+LCPw==\",\"dtype\":\"float64\",\"order\":\"little\",\"shape\":[20]},\"index\":[10,17,2,3,14,11,0,1,4,9,18,5,12,13,8,19,7,6,16,15],\"max_depth\":{\"__ndarray__\":\"AAAAAAAAJEAAAAAAAAAcQAAAAAAAACRAAAAAAAAAJEAAAAAAAAAgQAAAAAAAACRAAAAAAAAAJEAAAAAAAAAiQAAAAAAAACRAAAAAAAAAJEAAAAAAAAAcQAAAAAAAACRAAAAAAAAACEAAAAAAAAAkQAAAAAAAACRAAAAAAAAAAEAAAAAAAAAkQAAAAAAAABxAAAAAAAAAFEAAAAAAAADwPw==\",\"dtype\":\"float64\",\"order\":\"little\",\"shape\":[20]},\"min_child_weight\":{\"__ndarray__\":\"wz49CONRI0A+TZIgNdMiQKJVDVKt2SNAolUNUm0RI0CiVQ1SdbkhQKJVDVJR8CNARasapLpTFUCNjJW4kJUTQPQNLNf4MCNAolUNUr3MI0C53XzQsZUjQEbGSlzkAiNAAAAAAAAAJEBFqxqk4vMTQI2MlbgY9x1A6RtYrlGOHkBFqxqkunIUQKJVDVLx5yJAolUNUi16IUAzMlbi4k7wPw==\",\"dtype\":\"float64\",\"order\":\"little\",\"shape\":[20]}},\"selected\":{\"id\":\"1325\"},\"selection_policy\":{\"id\":\"1324\"}},\"id\":\"1198\",\"type\":\"ColumnDataSource\"},{\"attributes\":{},\"id\":\"1210\",\"type\":\"DataRange1d\"},{\"attributes\":{},\"id\":\"1212\",\"type\":\"LinearScale\"},{\"attributes\":{},\"id\":\"1182\",\"type\":\"PanTool\"},{\"attributes\":{},\"id\":\"1214\",\"type\":\"LinearScale\"},{\"attributes\":{},\"id\":\"1184\",\"type\":\"WheelZoomTool\"},{\"attributes\":{\"axis_label\":\"eta\",\"formatter\":{\"id\":\"1316\"},\"ticker\":{\"id\":\"1217\"}},\"id\":\"1216\",\"type\":\"LinearAxis\"},{\"attributes\":{},\"id\":\"1183\",\"type\":\"CrosshairTool\"},{\"attributes\":{},\"id\":\"1186\",\"type\":\"ZoomOutTool\"},{\"attributes\":{},\"id\":\"1217\",\"type\":\"BasicTicker\"},{\"attributes\":{\"axis\":{\"id\":\"1216\"},\"ticker\":null},\"id\":\"1219\",\"type\":\"Grid\"},{\"attributes\":{},\"id\":\"1185\",\"type\":\"ZoomInTool\"},{\"attributes\":{\"axis_label\":\"validation:auc\",\"formatter\":{\"id\":\"1318\"},\"ticker\":{\"id\":\"1221\"}},\"id\":\"1220\",\"type\":\"LinearAxis\"},{\"attributes\":{},\"id\":\"1188\",\"type\":\"ResetTool\"},{\"attributes\":{},\"id\":\"1221\",\"type\":\"BasicTicker\"},{\"attributes\":{\"axis\":{\"id\":\"1220\"},\"dimension\":1,\"ticker\":null},\"id\":\"1223\",\"type\":\"Grid\"},{\"attributes\":{},\"id\":\"1187\",\"type\":\"UndoTool\"},{\"attributes\":{\"fill_alpha\":{\"value\":0.1},\"fill_color\":{\"value\":\"#1f77b4\"},\"line_alpha\":{\"value\":0.1},\"line_color\":{\"value\":\"#1f77b4\"},\"x\":{\"field\":\"eta\"},\"y\":{\"field\":\"FinalObjectiveValue\"}},\"id\":\"1243\",\"type\":\"Circle\"},{\"attributes\":{\"fill_color\":{\"value\":\"#1f77b4\"},\"line_color\":{\"value\":\"#1f77b4\"},\"x\":{\"field\":\"eta\"},\"y\":{\"field\":\"FinalObjectiveValue\"}},\"id\":\"1242\",\"type\":\"Circle\"},{\"attributes\":{\"callback\":null,\"tooltips\":[[\"FinalObjectiveValue\",\"@FinalObjectiveValue\"],[\"TrainingJobName\",\"@TrainingJobName\"],[\"max_depth\",\"@{max_depth}\"],[\"eta\",\"@{eta}\"],[\"min_child_weight\",\"@{min_child_weight}\"]]},\"id\":\"1246\",\"type\":\"HoverTool\"},{\"attributes\":{},\"id\":\"1224\",\"type\":\"PanTool\"},{\"attributes\":{},\"id\":\"1225\",\"type\":\"CrosshairTool\"},{\"attributes\":{},\"id\":\"1226\",\"type\":\"WheelZoomTool\"},{\"attributes\":{\"active_drag\":\"auto\",\"active_inspect\":\"auto\",\"active_multi\":null,\"active_scroll\":\"auto\",\"active_tap\":\"auto\",\"tools\":[{\"id\":\"1162\"},{\"id\":\"1182\"},{\"id\":\"1183\"},{\"id\":\"1184\"},{\"id\":\"1185\"},{\"id\":\"1186\"},{\"id\":\"1187\"},{\"id\":\"1188\"}]},\"id\":\"1189\",\"type\":\"Toolbar\"},{\"attributes\":{},\"id\":\"1227\",\"type\":\"ZoomInTool\"},{\"attributes\":{},\"id\":\"1228\",\"type\":\"ZoomOutTool\"},{\"attributes\":{},\"id\":\"1328\",\"type\":\"UnionRenderers\"},{\"attributes\":{},\"id\":\"1229\",\"type\":\"UndoTool\"}],\"root_ids\":[\"1288\"]},\"title\":\"Bokeh Application\",\"version\":\"2.2.3\"}};\n",
       "  var render_items = [{\"docid\":\"c7f21deb-3454-4b7a-a0ba-884cca9f514f\",\"root_ids\":[\"1288\"],\"roots\":{\"1288\":\"8870542c-205c-4c89-a5c5-5843dc9ccf7a\"}}];\n",
       "  root.Bokeh.embed.embed_items_notebook(docs_json, render_items);\n",
       "\n",
       "  }\n",
       "  if (root.Bokeh !== undefined) {\n",
       "    embed_document(root);\n",
       "  } else {\n",
       "    var attempts = 0;\n",
       "    var timer = setInterval(function(root) {\n",
       "      if (root.Bokeh !== undefined) {\n",
       "        clearInterval(timer);\n",
       "        embed_document(root);\n",
       "      } else {\n",
       "        attempts++;\n",
       "        if (attempts > 100) {\n",
       "          clearInterval(timer);\n",
       "          console.log(\"Bokeh: ERROR: Unable to run BokehJS code because BokehJS library is missing\");\n",
       "        }\n",
       "      }\n",
       "    }, 10, root)\n",
       "  }\n",
       "})(window);"
      ],
      "application/vnd.bokehjs_exec.v0+json": ""
     },
     "metadata": {
      "application/vnd.bokehjs_exec.v0+json": {
       "id": "1288"
      }
     },
     "output_type": "display_data"
    }
   ],
   "source": [
    "ranges = tuning_result.tuning_ranges\n",
    "figures = []\n",
    "for hp_name, hp_range in ranges.items():\n",
    "    categorical_args = {}\n",
    "    if hp_range.get(\"Values\"):\n",
    "        # This is marked as categorical.  Check if all options are actually numbers.\n",
    "        def is_num(x):\n",
    "            try:\n",
    "                float(x)\n",
    "                return 1\n",
    "            except:\n",
    "                return 0\n",
    "\n",
    "        vals = hp_range[\"Values\"]\n",
    "        if sum([is_num(x) for x in vals]) == len(vals):\n",
    "            # Bokeh has issues plotting a \"categorical\" range that's actually numeric, so plot as numeric\n",
    "            print(\"Hyperparameter %s is tuned as categorical, but all values are numeric\" % hp_name)\n",
    "        else:\n",
    "            # Set up extra options for plotting categoricals.  A bit tricky when they're actually numbers.\n",
    "            categorical_args[\"x_range\"] = vals\n",
    "\n",
    "    # Now plot it\n",
    "    p = figure(\n",
    "        plot_width=500,\n",
    "        plot_height=500,\n",
    "        title=\"Objective vs %s\" % hp_name,\n",
    "        tools=hover.tools(),\n",
    "        x_axis_label=hp_name,\n",
    "        y_axis_label=objective_name,\n",
    "        **categorical_args,\n",
    "    )\n",
    "    p.circle(source=df, x=hp_name, y=\"FinalObjectiveValue\")\n",
    "    figures.append(p)\n",
    "show(bokeh.layouts.Column(*figures))"
   ]
  },
  {
   "cell_type": "markdown",
   "id": "ab6b0937",
   "metadata": {
    "papermill": {
     "duration": null,
     "end_time": null,
     "exception": null,
     "start_time": null,
     "status": "pending"
    },
    "tags": []
   },
   "source": [
    "---\n",
    "## Host\n",
    "\n",
    "HPO작업을 통해 찾아낸 최적의 하이퍼파라미터를 이용하여 모델을 생성하고 호스팅 엔드포인트로 배포합니다. \n"
   ]
  },
  {
   "cell_type": "code",
   "execution_count": 15,
   "id": "0360a32d",
   "metadata": {
    "papermill": {
     "duration": null,
     "end_time": null,
     "exception": null,
     "start_time": null,
     "status": "pending"
    },
    "tags": []
   },
   "outputs": [
    {
     "name": "stdout",
     "output_type": "stream",
     "text": [
      "\n",
      "2021-07-05 03:10:31 Starting - Preparing the instances for training\n",
      "2021-07-05 03:10:31 Downloading - Downloading input data\n",
      "2021-07-05 03:10:31 Training - Training image download completed. Training in progress.\n",
      "2021-07-05 03:10:31 Uploading - Uploading generated training model\n",
      "2021-07-05 03:10:31 Completed - Training job completed\n",
      "-----------------!"
     ]
    }
   ],
   "source": [
    "hpo_predictor = tuner.deploy(\n",
    "    initial_instance_count=1, instance_type=\"ml.m4.xlarge\", serializer=CSVSerializer()\n",
    ")"
   ]
  },
  {
   "cell_type": "markdown",
   "id": "325a3f0e",
   "metadata": {
    "papermill": {
     "duration": null,
     "end_time": null,
     "exception": null,
     "start_time": null,
     "status": "pending"
    },
    "tags": []
   },
   "source": [
    "### Evaluate\n",
    "\n",
    "1번 노트북에서 실행했던 것과 유사한 방법으로 테스트데이터에 대한 예측을 실행하과 1번 작업의 결과와 비교해 보겠습니다.\n"
   ]
  },
  {
   "cell_type": "code",
   "execution_count": 16,
   "id": "4df398b9",
   "metadata": {
    "papermill": {
     "duration": null,
     "end_time": null,
     "exception": null,
     "start_time": null,
     "status": "pending"
    },
    "tags": []
   },
   "outputs": [],
   "source": [
    "def predict(data, rows=500):\n",
    "    split_array = np.array_split(data, int(data.shape[0] / float(rows) + 1))\n",
    "    predictions = \"\"\n",
    "    for array in split_array:\n",
    "        predictions = \",\".join([predictions, hpo_predictor.predict(array).decode(\"utf-8\")])\n",
    "\n",
    "    return np.fromstring(predictions[1:], sep=\",\")\n",
    "\n",
    "\n",
    "predictions_hpo = predict(test_data.to_numpy()[:, 1:])"
   ]
  },
  {
   "cell_type": "markdown",
   "id": "58e81c6d",
   "metadata": {
    "papermill": {
     "duration": null,
     "end_time": null,
     "exception": null,
     "start_time": null,
     "status": "pending"
    },
    "tags": []
   },
   "source": [
    "### Compare results\n",
    "\n",
    "이번에는 sklearn에서 제공하는 classification_report 기능을 이용하여 결과를 확인하겠습니다. 편의상 0.5를 컷오프로 지정하였습니다. \n"
   ]
  },
  {
   "cell_type": "code",
   "execution_count": 17,
   "id": "a065dcb7",
   "metadata": {
    "papermill": {
     "duration": null,
     "end_time": null,
     "exception": null,
     "start_time": null,
     "status": "pending"
    },
    "tags": []
   },
   "outputs": [
    {
     "name": "stdout",
     "output_type": "stream",
     "text": [
      "              precision    recall  f1-score   support\n",
      "\n",
      "           0       0.96      0.93      0.95       253\n",
      "           1       0.93      0.96      0.95       247\n",
      "\n",
      "    accuracy                           0.95       500\n",
      "   macro avg       0.95      0.95      0.95       500\n",
      "weighted avg       0.95      0.95      0.95       500\n",
      "\n"
     ]
    }
   ],
   "source": [
    "from sklearn.metrics import classification_report\n",
    "print(classification_report(test_data.iloc[:, 0], np.round(predictions)))"
   ]
  },
  {
   "cell_type": "markdown",
   "id": "789144c3",
   "metadata": {},
   "source": [
    "다음은 HPO로 찾아낸 하이퍼파라미터로 작업한 결과입니다. 전체적으로 이전 모델의 성능과 유사하나 0번 분류에 대한 precision과 recall 값이 조금 상승하였습니다.  "
   ]
  },
  {
   "cell_type": "code",
   "execution_count": 18,
   "id": "b221816d",
   "metadata": {
    "papermill": {
     "duration": null,
     "end_time": null,
     "exception": null,
     "start_time": null,
     "status": "pending"
    },
    "tags": []
   },
   "outputs": [
    {
     "name": "stdout",
     "output_type": "stream",
     "text": [
      "              precision    recall  f1-score   support\n",
      "\n",
      "           0       0.94      0.94      0.94       253\n",
      "           1       0.94      0.94      0.94       247\n",
      "\n",
      "    accuracy                           0.94       500\n",
      "   macro avg       0.94      0.94      0.94       500\n",
      "weighted avg       0.94      0.94      0.94       500\n",
      "\n"
     ]
    }
   ],
   "source": [
    "from sklearn.metrics import classification_report\n",
    "print(classification_report(test_data.iloc[:, 0], np.round(predictions_hpo)))"
   ]
  },
  {
   "cell_type": "markdown",
   "id": "7eafc7c7",
   "metadata": {
    "papermill": {
     "duration": null,
     "end_time": null,
     "exception": null,
     "start_time": null,
     "status": "pending"
    },
    "tags": []
   },
   "source": [
    "### (Optional) Clean-up\n",
    "\n",
    "모든 작업을 완료하였다면 추가 요금발생을 막기 위해 아래 셀을 실행하십시오. 아래 코드는 생성한 호스팅 엔드포인트를 제거합니다. "
   ]
  },
  {
   "cell_type": "code",
   "execution_count": 19,
   "id": "64c955bf",
   "metadata": {
    "papermill": {
     "duration": null,
     "end_time": null,
     "exception": null,
     "start_time": null,
     "status": "pending"
    },
    "tags": []
   },
   "outputs": [],
   "source": [
    "hpo_predictor.delete_endpoint()"
   ]
  },
  {
   "cell_type": "code",
   "execution_count": null,
   "id": "88470061",
   "metadata": {},
   "outputs": [],
   "source": []
  },
  {
   "cell_type": "code",
   "execution_count": null,
   "id": "5b5e5ee1",
   "metadata": {},
   "outputs": [],
   "source": []
  }
 ],
 "metadata": {
  "celltoolbar": "Tags",
  "kernelspec": {
   "display_name": "conda_python3",
   "language": "python",
   "name": "conda_python3"
  },
  "language_info": {
   "codemirror_mode": {
    "name": "ipython",
    "version": 3
   },
   "file_extension": ".py",
   "mimetype": "text/x-python",
   "name": "python",
   "nbconvert_exporter": "python",
   "pygments_lexer": "ipython3",
   "version": "3.6.13"
  },
  "notice": "Copyright 2017 Amazon.com, Inc. or its affiliates. All Rights Reserved.  Licensed under the Apache License, Version 2.0 (the \"License\"). You may not use this file except in compliance with the License. A copy of the License is located at http://aws.amazon.com/apache2.0/ or in the \"license\" file accompanying this file. This file is distributed on an \"AS IS\" BASIS, WITHOUT WARRANTIES OR CONDITIONS OF ANY KIND, either express or implied. See the License for the specific language governing permissions and limitations under the License.",
  "papermill": {
   "default_parameters": {},
   "duration": 311.728138,
   "end_time": "2021-06-07T00:14:55.273560",
   "environment_variables": {},
   "exception": true,
   "input_path": "xgboost_customer_churn.ipynb",
   "output_path": "/opt/ml/processing/output/xgboost_customer_churn-2021-06-07-00-06-03.ipynb",
   "parameters": {
    "kms_key": "arn:aws:kms:us-west-2:521695447989:key/6e9984db-50cf-4c7e-926c-877ec47a8b25"
   },
   "start_time": "2021-06-07T00:09:43.545422",
   "version": "2.3.3"
  }
 },
 "nbformat": 4,
 "nbformat_minor": 5
}
