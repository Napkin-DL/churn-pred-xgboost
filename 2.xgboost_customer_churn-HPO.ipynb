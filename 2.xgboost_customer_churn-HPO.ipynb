{
 "cells": [
  {
   "cell_type": "markdown",
   "id": "1e6a0bdd",
   "metadata": {
    "papermill": {
     "duration": 0.018505,
     "end_time": "2021-06-07T00:09:44.379517",
     "exception": false,
     "start_time": "2021-06-07T00:09:44.361012",
     "status": "completed"
    },
    "tags": []
   },
   "source": [
    "# HPO for Customer Churn Prediction with XGBoost\n",
    "_**본 노트북은 1번 노트북에서 작업한 고객이탈예측에 하이퍼파라미터 최적화 작업을 수행합니다.**_\n",
    "\n",
    "\n",
    "---\n",
    "#### 주의 : 1번 노트북 작업을 완료후 실행해야 합니다.\n",
    "\n",
    "---\n",
    "\n",
    "## Contents\n",
    "\n",
    "1. [Setup](#Setup)\n",
    "1. [Train with HPO](#Train-with-HPO)\n",
    "1. [Analyze result of HPO job](#Analyze-result-of-HPO-job)\n",
    "1. [Analyze result of HPO parameters](#Analyze-result-of-HPO-parameters)\n",
    "1. [Host](#Host)\n",
    "  1. [Evaluate](#Evaluate)\n",
    "  1. [Compare results](#Compare-results)\n",
    "\n",
    "---\n",
    "\n",
    "## Setup\n",
    "\n",
    "SageMaker SDK를 로드하고 초기변수를 설정합니다. (1번 노트북의 첫단계와 동일합니다.)\n"
   ]
  },
  {
   "cell_type": "code",
   "execution_count": 1,
   "id": "700994d9",
   "metadata": {
    "execution": {
     "iopub.execute_input": "2021-06-07T00:09:44.418703Z",
     "iopub.status.busy": "2021-06-07T00:09:44.418266Z",
     "iopub.status.idle": "2021-06-07T00:09:45.607044Z",
     "shell.execute_reply": "2021-06-07T00:09:45.606579Z"
    },
    "isConfigCell": true,
    "papermill": {
     "duration": 1.209916,
     "end_time": "2021-06-07T00:09:45.607159",
     "exception": false,
     "start_time": "2021-06-07T00:09:44.397243",
     "status": "completed"
    },
    "tags": [
     "parameters"
    ]
   },
   "outputs": [],
   "source": [
    "import sagemaker\n",
    "\n",
    "sess = sagemaker.Session()\n",
    "bucket = sess.default_bucket()\n",
    "prefix = \"sagemaker/DEMO-xgboost-churn\"\n",
    "\n",
    "# Define IAM role\n",
    "import boto3\n",
    "import re\n",
    "from sagemaker import get_execution_role\n",
    "\n",
    "role = get_execution_role()"
   ]
  },
  {
   "cell_type": "markdown",
   "id": "8a930afb",
   "metadata": {
    "papermill": {
     "duration": 0.017739,
     "end_time": "2021-06-07T00:09:45.683322",
     "exception": false,
     "start_time": "2021-06-07T00:09:45.665583",
     "status": "completed"
    },
    "tags": []
   },
   "source": [
    "필요한 파이썬 라이브러리를 import 합니다. "
   ]
  },
  {
   "cell_type": "code",
   "execution_count": 2,
   "id": "4da959dd",
   "metadata": {
    "execution": {
     "iopub.execute_input": "2021-06-07T00:09:45.723197Z",
     "iopub.status.busy": "2021-06-07T00:09:45.722450Z",
     "iopub.status.idle": "2021-06-07T00:09:46.367234Z",
     "shell.execute_reply": "2021-06-07T00:09:46.366826Z"
    },
    "papermill": {
     "duration": 0.666347,
     "end_time": "2021-06-07T00:09:46.367361",
     "exception": false,
     "start_time": "2021-06-07T00:09:45.701014",
     "status": "completed"
    },
    "tags": []
   },
   "outputs": [],
   "source": [
    "import pandas as pd\n",
    "import numpy as np\n",
    "import matplotlib.pyplot as plt\n",
    "import io\n",
    "import os\n",
    "import sys\n",
    "import time\n",
    "import json\n",
    "from IPython.display import display\n",
    "from time import strftime, gmtime\n",
    "from sagemaker.inputs import TrainingInput\n",
    "from sagemaker.serializers import CSVSerializer"
   ]
  },
  {
   "cell_type": "markdown",
   "id": "61126ca9",
   "metadata": {
    "papermill": {
     "duration": 0.017739,
     "end_time": "2021-06-07T00:09:45.683322",
     "exception": false,
     "start_time": "2021-06-07T00:09:45.665583",
     "status": "completed"
    },
    "tags": []
   },
   "source": [
    "1번 노트북에서 사용한 변수를 리스토어합니다."
   ]
  },
  {
   "cell_type": "code",
   "execution_count": 3,
   "id": "c272c642",
   "metadata": {},
   "outputs": [],
   "source": [
    "%store -r s3_input_train s3_input_validation test_data predictions"
   ]
  },
  {
   "cell_type": "code",
   "execution_count": 4,
   "id": "a072b977",
   "metadata": {},
   "outputs": [
    {
     "name": "stdout",
     "output_type": "stream",
     "text": [
      "dict_values([{'S3DataSource': {'S3DataType': 'S3Prefix', 'S3Uri': 's3://sagemaker-us-west-2-322537213286/sagemaker/DEMO-xgboost-churn/train', 'S3DataDistributionType': 'FullyReplicated'}}, 'csv'])\n"
     ]
    }
   ],
   "source": [
    "print(s3_input_train.config.values())"
   ]
  },
  {
   "cell_type": "markdown",
   "id": "75f52dcd",
   "metadata": {
    "papermill": {
     "duration": 0.050157,
     "end_time": "2021-06-07T00:10:15.918579",
     "exception": false,
     "start_time": "2021-06-07T00:10:15.868422",
     "status": "completed"
    },
    "tags": []
   },
   "source": [
    "---\n",
    "## Train with HPO\n",
    "\n",
    "HPO 작업을 위해 XGBoost Estimator를 선언합니다. 먼저 XGBoost 컨테이너의 위치를 가져옵니다."
   ]
  },
  {
   "cell_type": "code",
   "execution_count": 5,
   "id": "1cb9404b",
   "metadata": {},
   "outputs": [
    {
     "data": {
      "text/plain": [
       "'433757028032.dkr.ecr.us-west-2.amazonaws.com/xgboost:latest'"
      ]
     },
     "metadata": {},
     "output_type": "display_data"
    }
   ],
   "source": [
    "container = sagemaker.image_uris.retrieve(\"xgboost\", boto3.Session().region_name, \"latest\")\n",
    "display(container)"
   ]
  },
  {
   "cell_type": "markdown",
   "id": "1006bfcb",
   "metadata": {},
   "source": [
    "Estimator의 설정은 1번 단계와 거의 동일하나 몇가지가 달라졌습니다.\n",
    "- hyperparameter를 세팅할 때 max_depth, etc, min_child_weight 값을 설정하지 않았습니다.\n",
    "- xgb.fit()을 바로 실행하지 않았습니다. (대신 바로 다음 스텝에서 Hyperparameter tuning 작업의 매개변수로 전달됩니다.)"
   ]
  },
  {
   "cell_type": "code",
   "execution_count": 6,
   "id": "61dd16dd",
   "metadata": {},
   "outputs": [],
   "source": [
    "sess = sagemaker.Session()\n",
    "\n",
    "xgb = sagemaker.estimator.Estimator(\n",
    "    container,\n",
    "    role,\n",
    "    instance_count=1,\n",
    "    instance_type=\"ml.m4.xlarge\",\n",
    "    output_path=\"s3://{}/{}/output\".format(bucket, prefix),\n",
    "    sagemaker_session=sess,\n",
    ")\n",
    "xgb.set_hyperparameters(\n",
    "    gamma=4,\n",
    "    subsample=0.8,\n",
    "    silent=0,\n",
    "    objective=\"binary:logistic\",\n",
    "    num_round=100,\n",
    ")\n"
   ]
  },
  {
   "cell_type": "markdown",
   "id": "282ac6d3",
   "metadata": {},
   "source": [
    "아래는 1번 노트북에서 사용한 코드입니다. 어떤 부분이 달려졌는지 비교해 보시기 바랍니다.\n",
    "\n",
    "```\n",
    "sess = sagemaker.Session()\n",
    "\n",
    "xgb = sagemaker.estimator.Estimator(\n",
    "    container,\n",
    "    role,\n",
    "    instance_count=1,\n",
    "    instance_type=\"ml.m4.xlarge\",\n",
    "    output_path=\"s3://{}/{}/output\".format(bucket, prefix),\n",
    "    sagemaker_session=sess,\n",
    ")\n",
    "xgb.set_hyperparameters(\n",
    "    max_depth=5,\n",
    "    eta=0.2,\n",
    "    gamma=4,\n",
    "    min_child_weight=6,\n",
    "    subsample=0.8,\n",
    "    silent=0,\n",
    "    objective=\"binary:logistic\",\n",
    "    num_round=100,\n",
    ")\n",
    "\n",
    "xgb.fit({\"train\": s3_input_train, \"validation\": s3_input_validation})\n",
    "```\n"
   ]
  },
  {
   "cell_type": "markdown",
   "id": "170d95bf",
   "metadata": {},
   "source": [
    "\n",
    "### SageMaker tunner 선언\n",
    "\n",
    "SageMaker Hypter parameter tunner를 선언합니다.\n",
    "- objective_metric_name : HPO작업에서 최적화할 목표 매트릭을 설정\n",
    "- hyperparameter_ranges : 탐색하고자하는 하이퍼파라미터와 해당 값의 범위를 지정\n",
    "- max_jobs : 총 실행할 작업의 회수\n",
    "- max_parallel_jobs : 동시에 실행할 작업의 회수"
   ]
  },
  {
   "cell_type": "code",
   "execution_count": 7,
   "id": "0d7b8383",
   "metadata": {},
   "outputs": [],
   "source": [
    "from sagemaker.tuner import (\n",
    "    IntegerParameter,\n",
    "    CategoricalParameter,\n",
    "    ContinuousParameter,\n",
    "    HyperparameterTuner,\n",
    ")\n",
    "\n",
    "objective_metric_name = \"validation:auc\"\n",
    "\n",
    "hyperparameter_ranges = {\n",
    "    \"eta\": ContinuousParameter(0, 1),\n",
    "    \"min_child_weight\": ContinuousParameter(1, 10),\n",
    "    \"max_depth\": IntegerParameter(1, 10),\n",
    "}\n",
    "\n",
    "tuner = HyperparameterTuner(\n",
    "    xgb, objective_metric_name, hyperparameter_ranges, max_jobs=20, max_parallel_jobs=3\n",
    ")\n"
   ]
  },
  {
   "cell_type": "markdown",
   "id": "f317925d",
   "metadata": {},
   "source": [
    "### HPO 작업 실행\n",
    "다음 셀을 실행하고 SageMaker 콘솔로 이동하여 Hyperparameter tuning jobs 메뉴를 클릭합니다. 작업이 제출되고 실행되는 것을 모니터링할 수 있습니다. (max_jobs와 max_parallel_jobs 설정이 HPO 작업실행에 어떤 영향을 미치는지 확인해 보세요.)"
   ]
  },
  {
   "cell_type": "code",
   "execution_count": 8,
   "id": "7b51cd88",
   "metadata": {},
   "outputs": [
    {
     "name": "stdout",
     "output_type": "stream",
     "text": [
      "............................................................................................................................................................................................................................................................................................................................................................!\n",
      "CPU times: user 1.16 s, sys: 122 ms, total: 1.28 s\n",
      "Wall time: 29min 20s\n"
     ]
    }
   ],
   "source": [
    "%%time\n",
    "tuner.fit({\"train\": s3_input_train, \"validation\": s3_input_validation})"
   ]
  },
  {
   "cell_type": "markdown",
   "id": "01058365",
   "metadata": {},
   "source": [
    "## Analyze result of HPO job\n",
    "\n",
    "HPO 작업이 완료되면 다음 코드를 이용하여 결과를 탐색해 봅니다.\n",
    "\n",
    "분석 코드는 아래 SageMaker 공식예제로부터 일부 변수값 등을 변형하였습니다.\n",
    "- https://github.com/aws/amazon-sagemaker-examples/blob/master/hyperparameter_tuning/analyze_results/HPO_Analyze_TuningJob_Results.ipynb\n"
   ]
  },
  {
   "cell_type": "code",
   "execution_count": 9,
   "id": "72054c0c",
   "metadata": {},
   "outputs": [
    {
     "data": {
      "text/plain": [
       "'Completed'"
      ]
     },
     "execution_count": 9,
     "metadata": {},
     "output_type": "execute_result"
    }
   ],
   "source": [
    "tuning_job_name=tuner.latest_tuning_job.job_name\n",
    "\n",
    "boto3.client(\"sagemaker\").describe_hyper_parameter_tuning_job(\n",
    "    HyperParameterTuningJobName=tuning_job_name\n",
    ")[\"HyperParameterTuningJobStatus\"]\n"
   ]
  },
  {
   "cell_type": "markdown",
   "id": "fa40b851",
   "metadata": {},
   "source": [
    "boto3 SDK를 이용하여 작업결과를 가져오고 `tuning_job_result` 로 저장하였습니다. 해당 오브젝트를 살펴보면 실행한 작업의 수 등 HPO작업의 설정 사항과 상태 등을 확인할 수 있습니다.\n"
   ]
  },
  {
   "cell_type": "code",
   "execution_count": 10,
   "id": "27ee73c6",
   "metadata": {},
   "outputs": [
    {
     "name": "stdout",
     "output_type": "stream",
     "text": [
      "20 training jobs have completed\n"
     ]
    }
   ],
   "source": [
    "sage_client = boto3.Session().client(\"sagemaker\")\n",
    "# run this cell to check current status of hyperparameter tuning job\n",
    "tuning_job_result = sage_client.describe_hyper_parameter_tuning_job(\n",
    "    HyperParameterTuningJobName=tuning_job_name\n",
    ")\n",
    "\n",
    "status = tuning_job_result[\"HyperParameterTuningJobStatus\"]\n",
    "if status != \"Completed\":\n",
    "    print(\"Reminder: the tuning job has not been completed.\")\n",
    "\n",
    "job_count = tuning_job_result[\"TrainingJobStatusCounters\"][\"Completed\"]\n",
    "print(\"%d training jobs have completed\" % job_count)\n",
    "\n",
    "is_minimize = (\n",
    "    tuning_job_result[\"HyperParameterTuningJobConfig\"][\"HyperParameterTuningJobObjective\"][\"Type\"] != \"Maximize\"\n",
    ")\n",
    "objective_name = tuning_job_result[\"HyperParameterTuningJobConfig\"][\"HyperParameterTuningJobObjective\"][\"MetricName\"]\n"
   ]
  },
  {
   "cell_type": "markdown",
   "id": "dda1b9c0",
   "metadata": {},
   "source": [
    "20번의 탐색 중 가장 높은 성능을 보인 작업을 살펴봅니다. 작업실행 시간등의 로그와 함께 탐색대상으로 지정했던 `eta`, `max_depth`, `min_child_weight` 에 대한 최적값을 확인할 수 있습니다. (`TunedHyperParameters`항목을 확인합니다.)"
   ]
  },
  {
   "cell_type": "code",
   "execution_count": 11,
   "id": "0ad844ef",
   "metadata": {},
   "outputs": [
    {
     "name": "stdout",
     "output_type": "stream",
     "text": [
      "Best model found so far:\n",
      "{'CreationTime': datetime.datetime(2021, 12, 4, 8, 8, 52, tzinfo=tzlocal()),\n",
      " 'FinalHyperParameterTuningJobObjectiveMetric': {'MetricName': 'validation:auc',\n",
      "                                                 'Value': 0.9807050228118896},\n",
      " 'ObjectiveStatus': 'Succeeded',\n",
      " 'TrainingEndTime': datetime.datetime(2021, 12, 4, 8, 12, 37, tzinfo=tzlocal()),\n",
      " 'TrainingJobArn': 'arn:aws:sagemaker:us-west-2:322537213286:training-job/xgboost-211204-0804-004-08937735',\n",
      " 'TrainingJobName': 'xgboost-211204-0804-004-08937735',\n",
      " 'TrainingJobStatus': 'Completed',\n",
      " 'TrainingStartTime': datetime.datetime(2021, 12, 4, 8, 11, 45, tzinfo=tzlocal()),\n",
      " 'TunedHyperParameters': {'eta': '0.09163922653817737',\n",
      "                          'max_depth': '5',\n",
      "                          'min_child_weight': '1.276436568789253'}}\n"
     ]
    }
   ],
   "source": [
    "from pprint import pprint\n",
    "\n",
    "if tuning_job_result.get(\"BestTrainingJob\", None):\n",
    "    print(\"Best model found so far:\")\n",
    "    pprint(tuning_job_result[\"BestTrainingJob\"])\n",
    "else:\n",
    "    print(\"No training jobs have reported results yet.\")\n"
   ]
  },
  {
   "cell_type": "markdown",
   "id": "beb2250e",
   "metadata": {},
   "source": [
    "## Analyze result of HPO parameters\n",
    "\n",
    "SageMaker의 HyperparameterTuningJobAnalytics를 이용하여 하이퍼파라미터 탐색작업에서 실행한 실험의 결과를 살펴봅니다."
   ]
  },
  {
   "cell_type": "code",
   "execution_count": 12,
   "id": "52476295",
   "metadata": {},
   "outputs": [
    {
     "name": "stdout",
     "output_type": "stream",
     "text": [
      "Number of training jobs with valid objective: 20\n",
      "{'lowest': 0.9398990273475647, 'highest': 0.9807050228118896}\n"
     ]
    },
    {
     "name": "stderr",
     "output_type": "stream",
     "text": [
      "/home/ec2-user/anaconda3/envs/python3/lib/python3.6/site-packages/ipykernel/__main__.py:10: FutureWarning: Passing a negative integer is deprecated in version 1.0 and will not be supported in future version. Instead, use None to not limit the column width.\n"
     ]
    },
    {
     "data": {
      "text/html": [
       "<div>\n",
       "<style scoped>\n",
       "    .dataframe tbody tr th:only-of-type {\n",
       "        vertical-align: middle;\n",
       "    }\n",
       "\n",
       "    .dataframe tbody tr th {\n",
       "        vertical-align: top;\n",
       "    }\n",
       "\n",
       "    .dataframe thead th {\n",
       "        text-align: right;\n",
       "    }\n",
       "</style>\n",
       "<table border=\"1\" class=\"dataframe\">\n",
       "  <thead>\n",
       "    <tr style=\"text-align: right;\">\n",
       "      <th></th>\n",
       "      <th>eta</th>\n",
       "      <th>max_depth</th>\n",
       "      <th>min_child_weight</th>\n",
       "      <th>TrainingJobName</th>\n",
       "      <th>TrainingJobStatus</th>\n",
       "      <th>FinalObjectiveValue</th>\n",
       "      <th>TrainingStartTime</th>\n",
       "      <th>TrainingEndTime</th>\n",
       "      <th>TrainingElapsedTimeSeconds</th>\n",
       "    </tr>\n",
       "  </thead>\n",
       "  <tbody>\n",
       "    <tr>\n",
       "      <th>16</th>\n",
       "      <td>0.091639</td>\n",
       "      <td>5.0</td>\n",
       "      <td>1.276437</td>\n",
       "      <td>xgboost-211204-0804-004-08937735</td>\n",
       "      <td>Completed</td>\n",
       "      <td>0.980705</td>\n",
       "      <td>2021-12-04 08:11:45+00:00</td>\n",
       "      <td>2021-12-04 08:12:37+00:00</td>\n",
       "      <td>52.0</td>\n",
       "    </tr>\n",
       "    <tr>\n",
       "      <th>7</th>\n",
       "      <td>0.200770</td>\n",
       "      <td>4.0</td>\n",
       "      <td>5.971817</td>\n",
       "      <td>xgboost-211204-0804-013-ab276950</td>\n",
       "      <td>Completed</td>\n",
       "      <td>0.980581</td>\n",
       "      <td>2021-12-04 08:23:41+00:00</td>\n",
       "      <td>2021-12-04 08:24:33+00:00</td>\n",
       "      <td>52.0</td>\n",
       "    </tr>\n",
       "    <tr>\n",
       "      <th>6</th>\n",
       "      <td>0.246669</td>\n",
       "      <td>10.0</td>\n",
       "      <td>4.130685</td>\n",
       "      <td>xgboost-211204-0804-014-15f97d30</td>\n",
       "      <td>Completed</td>\n",
       "      <td>0.980241</td>\n",
       "      <td>2021-12-04 08:24:22+00:00</td>\n",
       "      <td>2021-12-04 08:25:14+00:00</td>\n",
       "      <td>52.0</td>\n",
       "    </tr>\n",
       "    <tr>\n",
       "      <th>15</th>\n",
       "      <td>0.091639</td>\n",
       "      <td>5.0</td>\n",
       "      <td>1.456437</td>\n",
       "      <td>xgboost-211204-0804-005-110a3493</td>\n",
       "      <td>Completed</td>\n",
       "      <td>0.979896</td>\n",
       "      <td>2021-12-04 08:11:49+00:00</td>\n",
       "      <td>2021-12-04 08:12:41+00:00</td>\n",
       "      <td>52.0</td>\n",
       "    </tr>\n",
       "    <tr>\n",
       "      <th>9</th>\n",
       "      <td>0.096949</td>\n",
       "      <td>5.0</td>\n",
       "      <td>7.492875</td>\n",
       "      <td>xgboost-211204-0804-011-f6fcb6ee</td>\n",
       "      <td>Completed</td>\n",
       "      <td>0.979760</td>\n",
       "      <td>2021-12-04 08:20:11+00:00</td>\n",
       "      <td>2021-12-04 08:21:13+00:00</td>\n",
       "      <td>62.0</td>\n",
       "    </tr>\n",
       "    <tr>\n",
       "      <th>8</th>\n",
       "      <td>0.215022</td>\n",
       "      <td>4.0</td>\n",
       "      <td>9.999680</td>\n",
       "      <td>xgboost-211204-0804-012-0994e863</td>\n",
       "      <td>Completed</td>\n",
       "      <td>0.979540</td>\n",
       "      <td>2021-12-04 08:20:31+00:00</td>\n",
       "      <td>2021-12-04 08:21:24+00:00</td>\n",
       "      <td>53.0</td>\n",
       "    </tr>\n",
       "    <tr>\n",
       "      <th>3</th>\n",
       "      <td>0.044612</td>\n",
       "      <td>9.0</td>\n",
       "      <td>1.579934</td>\n",
       "      <td>xgboost-211204-0804-017-9dfb91b9</td>\n",
       "      <td>Completed</td>\n",
       "      <td>0.979048</td>\n",
       "      <td>2021-12-04 08:28:13+00:00</td>\n",
       "      <td>2021-12-04 08:30:10+00:00</td>\n",
       "      <td>117.0</td>\n",
       "    </tr>\n",
       "    <tr>\n",
       "      <th>5</th>\n",
       "      <td>0.337225</td>\n",
       "      <td>4.0</td>\n",
       "      <td>1.619210</td>\n",
       "      <td>xgboost-211204-0804-015-13d55ff6</td>\n",
       "      <td>Completed</td>\n",
       "      <td>0.978912</td>\n",
       "      <td>2021-12-04 08:24:29+00:00</td>\n",
       "      <td>2021-12-04 08:25:35+00:00</td>\n",
       "      <td>66.0</td>\n",
       "    </tr>\n",
       "    <tr>\n",
       "      <th>18</th>\n",
       "      <td>0.173270</td>\n",
       "      <td>7.0</td>\n",
       "      <td>2.663128</td>\n",
       "      <td>xgboost-211204-0804-002-7b738a8d</td>\n",
       "      <td>Completed</td>\n",
       "      <td>0.978712</td>\n",
       "      <td>2021-12-04 08:07:49+00:00</td>\n",
       "      <td>2021-12-04 08:08:53+00:00</td>\n",
       "      <td>64.0</td>\n",
       "    </tr>\n",
       "    <tr>\n",
       "      <th>2</th>\n",
       "      <td>0.054612</td>\n",
       "      <td>9.0</td>\n",
       "      <td>1.669934</td>\n",
       "      <td>xgboost-211204-0804-018-dc9ed238</td>\n",
       "      <td>Completed</td>\n",
       "      <td>0.978576</td>\n",
       "      <td>2021-12-04 08:28:28+00:00</td>\n",
       "      <td>2021-12-04 08:29:26+00:00</td>\n",
       "      <td>58.0</td>\n",
       "    </tr>\n",
       "    <tr>\n",
       "      <th>19</th>\n",
       "      <td>0.500687</td>\n",
       "      <td>3.0</td>\n",
       "      <td>9.356793</td>\n",
       "      <td>xgboost-211204-0804-001-ab5ae8d4</td>\n",
       "      <td>Completed</td>\n",
       "      <td>0.978512</td>\n",
       "      <td>2021-12-04 08:07:55+00:00</td>\n",
       "      <td>2021-12-04 08:08:59+00:00</td>\n",
       "      <td>64.0</td>\n",
       "    </tr>\n",
       "    <tr>\n",
       "      <th>1</th>\n",
       "      <td>0.050593</td>\n",
       "      <td>10.0</td>\n",
       "      <td>1.044900</td>\n",
       "      <td>xgboost-211204-0804-019-5c8da696</td>\n",
       "      <td>Completed</td>\n",
       "      <td>0.978071</td>\n",
       "      <td>2021-12-04 08:31:50+00:00</td>\n",
       "      <td>2021-12-04 08:32:49+00:00</td>\n",
       "      <td>59.0</td>\n",
       "    </tr>\n",
       "    <tr>\n",
       "      <th>0</th>\n",
       "      <td>0.082331</td>\n",
       "      <td>4.0</td>\n",
       "      <td>4.775857</td>\n",
       "      <td>xgboost-211204-0804-020-ef94b71e</td>\n",
       "      <td>Completed</td>\n",
       "      <td>0.977427</td>\n",
       "      <td>2021-12-04 08:32:54+00:00</td>\n",
       "      <td>2021-12-04 08:33:53+00:00</td>\n",
       "      <td>59.0</td>\n",
       "    </tr>\n",
       "    <tr>\n",
       "      <th>14</th>\n",
       "      <td>0.027308</td>\n",
       "      <td>9.0</td>\n",
       "      <td>8.308609</td>\n",
       "      <td>xgboost-211204-0804-006-773691f1</td>\n",
       "      <td>Completed</td>\n",
       "      <td>0.976683</td>\n",
       "      <td>2021-12-04 08:12:00+00:00</td>\n",
       "      <td>2021-12-04 08:12:51+00:00</td>\n",
       "      <td>51.0</td>\n",
       "    </tr>\n",
       "    <tr>\n",
       "      <th>17</th>\n",
       "      <td>0.769806</td>\n",
       "      <td>5.0</td>\n",
       "      <td>8.430151</td>\n",
       "      <td>xgboost-211204-0804-003-aa8ab24e</td>\n",
       "      <td>Completed</td>\n",
       "      <td>0.976222</td>\n",
       "      <td>2021-12-04 08:07:40+00:00</td>\n",
       "      <td>2021-12-04 08:08:30+00:00</td>\n",
       "      <td>50.0</td>\n",
       "    </tr>\n",
       "    <tr>\n",
       "      <th>4</th>\n",
       "      <td>0.902044</td>\n",
       "      <td>3.0</td>\n",
       "      <td>2.795846</td>\n",
       "      <td>xgboost-211204-0804-016-89539578</td>\n",
       "      <td>Completed</td>\n",
       "      <td>0.974637</td>\n",
       "      <td>2021-12-04 08:27:38+00:00</td>\n",
       "      <td>2021-12-04 08:28:41+00:00</td>\n",
       "      <td>63.0</td>\n",
       "    </tr>\n",
       "    <tr>\n",
       "      <th>10</th>\n",
       "      <td>0.949469</td>\n",
       "      <td>7.0</td>\n",
       "      <td>2.298714</td>\n",
       "      <td>xgboost-211204-0804-010-ecaedfe7</td>\n",
       "      <td>Completed</td>\n",
       "      <td>0.973673</td>\n",
       "      <td>2021-12-04 08:19:43+00:00</td>\n",
       "      <td>2021-12-04 08:20:37+00:00</td>\n",
       "      <td>54.0</td>\n",
       "    </tr>\n",
       "    <tr>\n",
       "      <th>12</th>\n",
       "      <td>0.110901</td>\n",
       "      <td>2.0</td>\n",
       "      <td>2.022782</td>\n",
       "      <td>xgboost-211204-0804-008-6268d939</td>\n",
       "      <td>Completed</td>\n",
       "      <td>0.963887</td>\n",
       "      <td>2021-12-04 08:15:56+00:00</td>\n",
       "      <td>2021-12-04 08:17:12+00:00</td>\n",
       "      <td>76.0</td>\n",
       "    </tr>\n",
       "    <tr>\n",
       "      <th>13</th>\n",
       "      <td>0.326564</td>\n",
       "      <td>1.0</td>\n",
       "      <td>2.917069</td>\n",
       "      <td>xgboost-211204-0804-007-6d133c30</td>\n",
       "      <td>Completed</td>\n",
       "      <td>0.945841</td>\n",
       "      <td>2021-12-04 08:16:22+00:00</td>\n",
       "      <td>2021-12-04 08:17:28+00:00</td>\n",
       "      <td>66.0</td>\n",
       "    </tr>\n",
       "    <tr>\n",
       "      <th>11</th>\n",
       "      <td>0.084112</td>\n",
       "      <td>1.0</td>\n",
       "      <td>1.948075</td>\n",
       "      <td>xgboost-211204-0804-009-7a1fb05f</td>\n",
       "      <td>Completed</td>\n",
       "      <td>0.939899</td>\n",
       "      <td>2021-12-04 08:15:53+00:00</td>\n",
       "      <td>2021-12-04 08:16:43+00:00</td>\n",
       "      <td>50.0</td>\n",
       "    </tr>\n",
       "  </tbody>\n",
       "</table>\n",
       "</div>"
      ],
      "text/plain": [
       "         eta  max_depth  min_child_weight                   TrainingJobName  \\\n",
       "16  0.091639  5.0        1.276437          xgboost-211204-0804-004-08937735   \n",
       "7   0.200770  4.0        5.971817          xgboost-211204-0804-013-ab276950   \n",
       "6   0.246669  10.0       4.130685          xgboost-211204-0804-014-15f97d30   \n",
       "15  0.091639  5.0        1.456437          xgboost-211204-0804-005-110a3493   \n",
       "9   0.096949  5.0        7.492875          xgboost-211204-0804-011-f6fcb6ee   \n",
       "8   0.215022  4.0        9.999680          xgboost-211204-0804-012-0994e863   \n",
       "3   0.044612  9.0        1.579934          xgboost-211204-0804-017-9dfb91b9   \n",
       "5   0.337225  4.0        1.619210          xgboost-211204-0804-015-13d55ff6   \n",
       "18  0.173270  7.0        2.663128          xgboost-211204-0804-002-7b738a8d   \n",
       "2   0.054612  9.0        1.669934          xgboost-211204-0804-018-dc9ed238   \n",
       "19  0.500687  3.0        9.356793          xgboost-211204-0804-001-ab5ae8d4   \n",
       "1   0.050593  10.0       1.044900          xgboost-211204-0804-019-5c8da696   \n",
       "0   0.082331  4.0        4.775857          xgboost-211204-0804-020-ef94b71e   \n",
       "14  0.027308  9.0        8.308609          xgboost-211204-0804-006-773691f1   \n",
       "17  0.769806  5.0        8.430151          xgboost-211204-0804-003-aa8ab24e   \n",
       "4   0.902044  3.0        2.795846          xgboost-211204-0804-016-89539578   \n",
       "10  0.949469  7.0        2.298714          xgboost-211204-0804-010-ecaedfe7   \n",
       "12  0.110901  2.0        2.022782          xgboost-211204-0804-008-6268d939   \n",
       "13  0.326564  1.0        2.917069          xgboost-211204-0804-007-6d133c30   \n",
       "11  0.084112  1.0        1.948075          xgboost-211204-0804-009-7a1fb05f   \n",
       "\n",
       "   TrainingJobStatus  FinalObjectiveValue         TrainingStartTime  \\\n",
       "16  Completed         0.980705            2021-12-04 08:11:45+00:00   \n",
       "7   Completed         0.980581            2021-12-04 08:23:41+00:00   \n",
       "6   Completed         0.980241            2021-12-04 08:24:22+00:00   \n",
       "15  Completed         0.979896            2021-12-04 08:11:49+00:00   \n",
       "9   Completed         0.979760            2021-12-04 08:20:11+00:00   \n",
       "8   Completed         0.979540            2021-12-04 08:20:31+00:00   \n",
       "3   Completed         0.979048            2021-12-04 08:28:13+00:00   \n",
       "5   Completed         0.978912            2021-12-04 08:24:29+00:00   \n",
       "18  Completed         0.978712            2021-12-04 08:07:49+00:00   \n",
       "2   Completed         0.978576            2021-12-04 08:28:28+00:00   \n",
       "19  Completed         0.978512            2021-12-04 08:07:55+00:00   \n",
       "1   Completed         0.978071            2021-12-04 08:31:50+00:00   \n",
       "0   Completed         0.977427            2021-12-04 08:32:54+00:00   \n",
       "14  Completed         0.976683            2021-12-04 08:12:00+00:00   \n",
       "17  Completed         0.976222            2021-12-04 08:07:40+00:00   \n",
       "4   Completed         0.974637            2021-12-04 08:27:38+00:00   \n",
       "10  Completed         0.973673            2021-12-04 08:19:43+00:00   \n",
       "12  Completed         0.963887            2021-12-04 08:15:56+00:00   \n",
       "13  Completed         0.945841            2021-12-04 08:16:22+00:00   \n",
       "11  Completed         0.939899            2021-12-04 08:15:53+00:00   \n",
       "\n",
       "             TrainingEndTime  TrainingElapsedTimeSeconds  \n",
       "16 2021-12-04 08:12:37+00:00  52.0                        \n",
       "7  2021-12-04 08:24:33+00:00  52.0                        \n",
       "6  2021-12-04 08:25:14+00:00  52.0                        \n",
       "15 2021-12-04 08:12:41+00:00  52.0                        \n",
       "9  2021-12-04 08:21:13+00:00  62.0                        \n",
       "8  2021-12-04 08:21:24+00:00  53.0                        \n",
       "3  2021-12-04 08:30:10+00:00  117.0                       \n",
       "5  2021-12-04 08:25:35+00:00  66.0                        \n",
       "18 2021-12-04 08:08:53+00:00  64.0                        \n",
       "2  2021-12-04 08:29:26+00:00  58.0                        \n",
       "19 2021-12-04 08:08:59+00:00  64.0                        \n",
       "1  2021-12-04 08:32:49+00:00  59.0                        \n",
       "0  2021-12-04 08:33:53+00:00  59.0                        \n",
       "14 2021-12-04 08:12:51+00:00  51.0                        \n",
       "17 2021-12-04 08:08:30+00:00  50.0                        \n",
       "4  2021-12-04 08:28:41+00:00  63.0                        \n",
       "10 2021-12-04 08:20:37+00:00  54.0                        \n",
       "12 2021-12-04 08:17:12+00:00  76.0                        \n",
       "13 2021-12-04 08:17:28+00:00  66.0                        \n",
       "11 2021-12-04 08:16:43+00:00  50.0                        "
      ]
     },
     "execution_count": 12,
     "metadata": {},
     "output_type": "execute_result"
    }
   ],
   "source": [
    "tuning_result = sagemaker.HyperparameterTuningJobAnalytics(tuning_job_name)\n",
    "full_df = tuning_result.dataframe()\n",
    "\n",
    "if len(full_df) > 0:\n",
    "    df = full_df[full_df[\"FinalObjectiveValue\"] > -float(\"inf\")]\n",
    "    if len(df) > 0:\n",
    "        df = df.sort_values(\"FinalObjectiveValue\", ascending=is_minimize)\n",
    "        print(\"Number of training jobs with valid objective: %d\" % len(df))\n",
    "        print({\"lowest\": min(df[\"FinalObjectiveValue\"]), \"highest\": max(df[\"FinalObjectiveValue\"])})\n",
    "        pd.set_option(\"display.max_colwidth\", -1)  # Don't truncate TrainingJobName\n",
    "    else:\n",
    "        print(\"No training jobs have reported valid results yet.\")\n",
    "\n",
    "df"
   ]
  },
  {
   "cell_type": "markdown",
   "id": "65b96783",
   "metadata": {},
   "source": [
    "그래프를 통해 작업별 실행한 결과를 확인해 보겠습니다. 그래프상의 관측값에 마우스를 위치시키면 해당 실험이 하이퍼파라미터 범위 중 어떤 값을 사용하였고 그 때의 매트릭이 어떻게 관측되었는지 확인할 수 있습니다."
   ]
  },
  {
   "cell_type": "code",
   "execution_count": 13,
   "id": "e879bbaf",
   "metadata": {},
   "outputs": [
    {
     "data": {
      "text/html": [
       "\n",
       "    <div class=\"bk-root\">\n",
       "        <a href=\"https://bokeh.org\" target=\"_blank\" class=\"bk-logo bk-logo-small bk-logo-notebook\"></a>\n",
       "        <span id=\"1001\">Loading BokehJS ...</span>\n",
       "    </div>"
      ]
     },
     "metadata": {},
     "output_type": "display_data"
    },
    {
     "data": {
      "application/javascript": [
       "\n",
       "(function(root) {\n",
       "  function now() {\n",
       "    return new Date();\n",
       "  }\n",
       "\n",
       "  var force = true;\n",
       "\n",
       "  if (typeof root._bokeh_onload_callbacks === \"undefined\" || force === true) {\n",
       "    root._bokeh_onload_callbacks = [];\n",
       "    root._bokeh_is_loading = undefined;\n",
       "  }\n",
       "\n",
       "  var JS_MIME_TYPE = 'application/javascript';\n",
       "  var HTML_MIME_TYPE = 'text/html';\n",
       "  var EXEC_MIME_TYPE = 'application/vnd.bokehjs_exec.v0+json';\n",
       "  var CLASS_NAME = 'output_bokeh rendered_html';\n",
       "\n",
       "  /**\n",
       "   * Render data to the DOM node\n",
       "   */\n",
       "  function render(props, node) {\n",
       "    var script = document.createElement(\"script\");\n",
       "    node.appendChild(script);\n",
       "  }\n",
       "\n",
       "  /**\n",
       "   * Handle when an output is cleared or removed\n",
       "   */\n",
       "  function handleClearOutput(event, handle) {\n",
       "    var cell = handle.cell;\n",
       "\n",
       "    var id = cell.output_area._bokeh_element_id;\n",
       "    var server_id = cell.output_area._bokeh_server_id;\n",
       "    // Clean up Bokeh references\n",
       "    if (id != null && id in Bokeh.index) {\n",
       "      Bokeh.index[id].model.document.clear();\n",
       "      delete Bokeh.index[id];\n",
       "    }\n",
       "\n",
       "    if (server_id !== undefined) {\n",
       "      // Clean up Bokeh references\n",
       "      var cmd = \"from bokeh.io.state import curstate; print(curstate().uuid_to_server['\" + server_id + \"'].get_sessions()[0].document.roots[0]._id)\";\n",
       "      cell.notebook.kernel.execute(cmd, {\n",
       "        iopub: {\n",
       "          output: function(msg) {\n",
       "            var id = msg.content.text.trim();\n",
       "            if (id in Bokeh.index) {\n",
       "              Bokeh.index[id].model.document.clear();\n",
       "              delete Bokeh.index[id];\n",
       "            }\n",
       "          }\n",
       "        }\n",
       "      });\n",
       "      // Destroy server and session\n",
       "      var cmd = \"import bokeh.io.notebook as ion; ion.destroy_server('\" + server_id + \"')\";\n",
       "      cell.notebook.kernel.execute(cmd);\n",
       "    }\n",
       "  }\n",
       "\n",
       "  /**\n",
       "   * Handle when a new output is added\n",
       "   */\n",
       "  function handleAddOutput(event, handle) {\n",
       "    var output_area = handle.output_area;\n",
       "    var output = handle.output;\n",
       "\n",
       "    // limit handleAddOutput to display_data with EXEC_MIME_TYPE content only\n",
       "    if ((output.output_type != \"display_data\") || (!output.data.hasOwnProperty(EXEC_MIME_TYPE))) {\n",
       "      return\n",
       "    }\n",
       "\n",
       "    var toinsert = output_area.element.find(\".\" + CLASS_NAME.split(' ')[0]);\n",
       "\n",
       "    if (output.metadata[EXEC_MIME_TYPE][\"id\"] !== undefined) {\n",
       "      toinsert[toinsert.length - 1].firstChild.textContent = output.data[JS_MIME_TYPE];\n",
       "      // store reference to embed id on output_area\n",
       "      output_area._bokeh_element_id = output.metadata[EXEC_MIME_TYPE][\"id\"];\n",
       "    }\n",
       "    if (output.metadata[EXEC_MIME_TYPE][\"server_id\"] !== undefined) {\n",
       "      var bk_div = document.createElement(\"div\");\n",
       "      bk_div.innerHTML = output.data[HTML_MIME_TYPE];\n",
       "      var script_attrs = bk_div.children[0].attributes;\n",
       "      for (var i = 0; i < script_attrs.length; i++) {\n",
       "        toinsert[toinsert.length - 1].firstChild.setAttribute(script_attrs[i].name, script_attrs[i].value);\n",
       "        toinsert[toinsert.length - 1].firstChild.textContent = bk_div.children[0].textContent\n",
       "      }\n",
       "      // store reference to server id on output_area\n",
       "      output_area._bokeh_server_id = output.metadata[EXEC_MIME_TYPE][\"server_id\"];\n",
       "    }\n",
       "  }\n",
       "\n",
       "  function register_renderer(events, OutputArea) {\n",
       "\n",
       "    function append_mime(data, metadata, element) {\n",
       "      // create a DOM node to render to\n",
       "      var toinsert = this.create_output_subarea(\n",
       "        metadata,\n",
       "        CLASS_NAME,\n",
       "        EXEC_MIME_TYPE\n",
       "      );\n",
       "      this.keyboard_manager.register_events(toinsert);\n",
       "      // Render to node\n",
       "      var props = {data: data, metadata: metadata[EXEC_MIME_TYPE]};\n",
       "      render(props, toinsert[toinsert.length - 1]);\n",
       "      element.append(toinsert);\n",
       "      return toinsert\n",
       "    }\n",
       "\n",
       "    /* Handle when an output is cleared or removed */\n",
       "    events.on('clear_output.CodeCell', handleClearOutput);\n",
       "    events.on('delete.Cell', handleClearOutput);\n",
       "\n",
       "    /* Handle when a new output is added */\n",
       "    events.on('output_added.OutputArea', handleAddOutput);\n",
       "\n",
       "    /**\n",
       "     * Register the mime type and append_mime function with output_area\n",
       "     */\n",
       "    OutputArea.prototype.register_mime_type(EXEC_MIME_TYPE, append_mime, {\n",
       "      /* Is output safe? */\n",
       "      safe: true,\n",
       "      /* Index of renderer in `output_area.display_order` */\n",
       "      index: 0\n",
       "    });\n",
       "  }\n",
       "\n",
       "  // register the mime type if in Jupyter Notebook environment and previously unregistered\n",
       "  if (root.Jupyter !== undefined) {\n",
       "    var events = require('base/js/events');\n",
       "    var OutputArea = require('notebook/js/outputarea').OutputArea;\n",
       "\n",
       "    if (OutputArea.prototype.mime_types().indexOf(EXEC_MIME_TYPE) == -1) {\n",
       "      register_renderer(events, OutputArea);\n",
       "    }\n",
       "  }\n",
       "\n",
       "  \n",
       "  if (typeof (root._bokeh_timeout) === \"undefined\" || force === true) {\n",
       "    root._bokeh_timeout = Date.now() + 5000;\n",
       "    root._bokeh_failed_load = false;\n",
       "  }\n",
       "\n",
       "  var NB_LOAD_WARNING = {'data': {'text/html':\n",
       "     \"<div style='background-color: #fdd'>\\n\"+\n",
       "     \"<p>\\n\"+\n",
       "     \"BokehJS does not appear to have successfully loaded. If loading BokehJS from CDN, this \\n\"+\n",
       "     \"may be due to a slow or bad network connection. Possible fixes:\\n\"+\n",
       "     \"</p>\\n\"+\n",
       "     \"<ul>\\n\"+\n",
       "     \"<li>re-rerun `output_notebook()` to attempt to load from CDN again, or</li>\\n\"+\n",
       "     \"<li>use INLINE resources instead, as so:</li>\\n\"+\n",
       "     \"</ul>\\n\"+\n",
       "     \"<code>\\n\"+\n",
       "     \"from bokeh.resources import INLINE\\n\"+\n",
       "     \"output_notebook(resources=INLINE)\\n\"+\n",
       "     \"</code>\\n\"+\n",
       "     \"</div>\"}};\n",
       "\n",
       "  function display_loaded() {\n",
       "    var el = document.getElementById(\"1001\");\n",
       "    if (el != null) {\n",
       "      el.textContent = \"BokehJS is loading...\";\n",
       "    }\n",
       "    if (root.Bokeh !== undefined) {\n",
       "      if (el != null) {\n",
       "        el.textContent = \"BokehJS \" + root.Bokeh.version + \" successfully loaded.\";\n",
       "      }\n",
       "    } else if (Date.now() < root._bokeh_timeout) {\n",
       "      setTimeout(display_loaded, 100)\n",
       "    }\n",
       "  }\n",
       "\n",
       "\n",
       "  function run_callbacks() {\n",
       "    try {\n",
       "      root._bokeh_onload_callbacks.forEach(function(callback) {\n",
       "        if (callback != null)\n",
       "          callback();\n",
       "      });\n",
       "    } finally {\n",
       "      delete root._bokeh_onload_callbacks\n",
       "    }\n",
       "    console.debug(\"Bokeh: all callbacks have finished\");\n",
       "  }\n",
       "\n",
       "  function load_libs(css_urls, js_urls, callback) {\n",
       "    if (css_urls == null) css_urls = [];\n",
       "    if (js_urls == null) js_urls = [];\n",
       "\n",
       "    root._bokeh_onload_callbacks.push(callback);\n",
       "    if (root._bokeh_is_loading > 0) {\n",
       "      console.debug(\"Bokeh: BokehJS is being loaded, scheduling callback at\", now());\n",
       "      return null;\n",
       "    }\n",
       "    if (js_urls == null || js_urls.length === 0) {\n",
       "      run_callbacks();\n",
       "      return null;\n",
       "    }\n",
       "    console.debug(\"Bokeh: BokehJS not loaded, scheduling load and callback at\", now());\n",
       "    root._bokeh_is_loading = css_urls.length + js_urls.length;\n",
       "\n",
       "    function on_load() {\n",
       "      root._bokeh_is_loading--;\n",
       "      if (root._bokeh_is_loading === 0) {\n",
       "        console.debug(\"Bokeh: all BokehJS libraries/stylesheets loaded\");\n",
       "        run_callbacks()\n",
       "      }\n",
       "    }\n",
       "\n",
       "    function on_error() {\n",
       "      console.error(\"failed to load \" + url);\n",
       "    }\n",
       "\n",
       "    for (var i = 0; i < css_urls.length; i++) {\n",
       "      var url = css_urls[i];\n",
       "      const element = document.createElement(\"link\");\n",
       "      element.onload = on_load;\n",
       "      element.onerror = on_error;\n",
       "      element.rel = \"stylesheet\";\n",
       "      element.type = \"text/css\";\n",
       "      element.href = url;\n",
       "      console.debug(\"Bokeh: injecting link tag for BokehJS stylesheet: \", url);\n",
       "      document.body.appendChild(element);\n",
       "    }\n",
       "\n",
       "    const hashes = {\"https://cdn.bokeh.org/bokeh/release/bokeh-2.2.3.min.js\": \"T2yuo9Oe71Cz/I4X9Ac5+gpEa5a8PpJCDlqKYO0CfAuEszu1JrXLl8YugMqYe3sM\", \"https://cdn.bokeh.org/bokeh/release/bokeh-widgets-2.2.3.min.js\": \"98GDGJ0kOMCUMUePhksaQ/GYgB3+NH9h996V88sh3aOiUNX3N+fLXAtry6xctSZ6\", \"https://cdn.bokeh.org/bokeh/release/bokeh-tables-2.2.3.min.js\": \"89bArO+nlbP3sgakeHjCo1JYxYR5wufVgA3IbUvDY+K7w4zyxJqssu7wVnfeKCq8\"};\n",
       "\n",
       "    for (var i = 0; i < js_urls.length; i++) {\n",
       "      var url = js_urls[i];\n",
       "      var element = document.createElement('script');\n",
       "      element.onload = on_load;\n",
       "      element.onerror = on_error;\n",
       "      element.async = false;\n",
       "      element.src = url;\n",
       "      if (url in hashes) {\n",
       "        element.crossOrigin = \"anonymous\";\n",
       "        element.integrity = \"sha384-\" + hashes[url];\n",
       "      }\n",
       "      console.debug(\"Bokeh: injecting script tag for BokehJS library: \", url);\n",
       "      document.head.appendChild(element);\n",
       "    }\n",
       "  };\n",
       "\n",
       "  function inject_raw_css(css) {\n",
       "    const element = document.createElement(\"style\");\n",
       "    element.appendChild(document.createTextNode(css));\n",
       "    document.body.appendChild(element);\n",
       "  }\n",
       "\n",
       "  \n",
       "  var js_urls = [\"https://cdn.bokeh.org/bokeh/release/bokeh-2.2.3.min.js\", \"https://cdn.bokeh.org/bokeh/release/bokeh-widgets-2.2.3.min.js\", \"https://cdn.bokeh.org/bokeh/release/bokeh-tables-2.2.3.min.js\"];\n",
       "  var css_urls = [];\n",
       "  \n",
       "\n",
       "  var inline_js = [\n",
       "    function(Bokeh) {\n",
       "      Bokeh.set_log_level(\"info\");\n",
       "    },\n",
       "    function(Bokeh) {\n",
       "    \n",
       "    \n",
       "    }\n",
       "  ];\n",
       "\n",
       "  function run_inline_js() {\n",
       "    \n",
       "    if (root.Bokeh !== undefined || force === true) {\n",
       "      \n",
       "    for (var i = 0; i < inline_js.length; i++) {\n",
       "      inline_js[i].call(root, root.Bokeh);\n",
       "    }\n",
       "    if (force === true) {\n",
       "        display_loaded();\n",
       "      }} else if (Date.now() < root._bokeh_timeout) {\n",
       "      setTimeout(run_inline_js, 100);\n",
       "    } else if (!root._bokeh_failed_load) {\n",
       "      console.log(\"Bokeh: BokehJS failed to load within specified timeout.\");\n",
       "      root._bokeh_failed_load = true;\n",
       "    } else if (force !== true) {\n",
       "      var cell = $(document.getElementById(\"1001\")).parents('.cell').data().cell;\n",
       "      cell.output_area.append_execute_result(NB_LOAD_WARNING)\n",
       "    }\n",
       "\n",
       "  }\n",
       "\n",
       "  if (root._bokeh_is_loading === 0) {\n",
       "    console.debug(\"Bokeh: BokehJS loaded, going straight to plotting\");\n",
       "    run_inline_js();\n",
       "  } else {\n",
       "    load_libs(css_urls, js_urls, function() {\n",
       "      console.debug(\"Bokeh: BokehJS plotting callback run at\", now());\n",
       "      run_inline_js();\n",
       "    });\n",
       "  }\n",
       "}(window));"
      ],
      "application/vnd.bokehjs_load.v0+json": "\n(function(root) {\n  function now() {\n    return new Date();\n  }\n\n  var force = true;\n\n  if (typeof root._bokeh_onload_callbacks === \"undefined\" || force === true) {\n    root._bokeh_onload_callbacks = [];\n    root._bokeh_is_loading = undefined;\n  }\n\n  \n\n  \n  if (typeof (root._bokeh_timeout) === \"undefined\" || force === true) {\n    root._bokeh_timeout = Date.now() + 5000;\n    root._bokeh_failed_load = false;\n  }\n\n  var NB_LOAD_WARNING = {'data': {'text/html':\n     \"<div style='background-color: #fdd'>\\n\"+\n     \"<p>\\n\"+\n     \"BokehJS does not appear to have successfully loaded. If loading BokehJS from CDN, this \\n\"+\n     \"may be due to a slow or bad network connection. Possible fixes:\\n\"+\n     \"</p>\\n\"+\n     \"<ul>\\n\"+\n     \"<li>re-rerun `output_notebook()` to attempt to load from CDN again, or</li>\\n\"+\n     \"<li>use INLINE resources instead, as so:</li>\\n\"+\n     \"</ul>\\n\"+\n     \"<code>\\n\"+\n     \"from bokeh.resources import INLINE\\n\"+\n     \"output_notebook(resources=INLINE)\\n\"+\n     \"</code>\\n\"+\n     \"</div>\"}};\n\n  function display_loaded() {\n    var el = document.getElementById(\"1001\");\n    if (el != null) {\n      el.textContent = \"BokehJS is loading...\";\n    }\n    if (root.Bokeh !== undefined) {\n      if (el != null) {\n        el.textContent = \"BokehJS \" + root.Bokeh.version + \" successfully loaded.\";\n      }\n    } else if (Date.now() < root._bokeh_timeout) {\n      setTimeout(display_loaded, 100)\n    }\n  }\n\n\n  function run_callbacks() {\n    try {\n      root._bokeh_onload_callbacks.forEach(function(callback) {\n        if (callback != null)\n          callback();\n      });\n    } finally {\n      delete root._bokeh_onload_callbacks\n    }\n    console.debug(\"Bokeh: all callbacks have finished\");\n  }\n\n  function load_libs(css_urls, js_urls, callback) {\n    if (css_urls == null) css_urls = [];\n    if (js_urls == null) js_urls = [];\n\n    root._bokeh_onload_callbacks.push(callback);\n    if (root._bokeh_is_loading > 0) {\n      console.debug(\"Bokeh: BokehJS is being loaded, scheduling callback at\", now());\n      return null;\n    }\n    if (js_urls == null || js_urls.length === 0) {\n      run_callbacks();\n      return null;\n    }\n    console.debug(\"Bokeh: BokehJS not loaded, scheduling load and callback at\", now());\n    root._bokeh_is_loading = css_urls.length + js_urls.length;\n\n    function on_load() {\n      root._bokeh_is_loading--;\n      if (root._bokeh_is_loading === 0) {\n        console.debug(\"Bokeh: all BokehJS libraries/stylesheets loaded\");\n        run_callbacks()\n      }\n    }\n\n    function on_error() {\n      console.error(\"failed to load \" + url);\n    }\n\n    for (var i = 0; i < css_urls.length; i++) {\n      var url = css_urls[i];\n      const element = document.createElement(\"link\");\n      element.onload = on_load;\n      element.onerror = on_error;\n      element.rel = \"stylesheet\";\n      element.type = \"text/css\";\n      element.href = url;\n      console.debug(\"Bokeh: injecting link tag for BokehJS stylesheet: \", url);\n      document.body.appendChild(element);\n    }\n\n    const hashes = {\"https://cdn.bokeh.org/bokeh/release/bokeh-2.2.3.min.js\": \"T2yuo9Oe71Cz/I4X9Ac5+gpEa5a8PpJCDlqKYO0CfAuEszu1JrXLl8YugMqYe3sM\", \"https://cdn.bokeh.org/bokeh/release/bokeh-widgets-2.2.3.min.js\": \"98GDGJ0kOMCUMUePhksaQ/GYgB3+NH9h996V88sh3aOiUNX3N+fLXAtry6xctSZ6\", \"https://cdn.bokeh.org/bokeh/release/bokeh-tables-2.2.3.min.js\": \"89bArO+nlbP3sgakeHjCo1JYxYR5wufVgA3IbUvDY+K7w4zyxJqssu7wVnfeKCq8\"};\n\n    for (var i = 0; i < js_urls.length; i++) {\n      var url = js_urls[i];\n      var element = document.createElement('script');\n      element.onload = on_load;\n      element.onerror = on_error;\n      element.async = false;\n      element.src = url;\n      if (url in hashes) {\n        element.crossOrigin = \"anonymous\";\n        element.integrity = \"sha384-\" + hashes[url];\n      }\n      console.debug(\"Bokeh: injecting script tag for BokehJS library: \", url);\n      document.head.appendChild(element);\n    }\n  };\n\n  function inject_raw_css(css) {\n    const element = document.createElement(\"style\");\n    element.appendChild(document.createTextNode(css));\n    document.body.appendChild(element);\n  }\n\n  \n  var js_urls = [\"https://cdn.bokeh.org/bokeh/release/bokeh-2.2.3.min.js\", \"https://cdn.bokeh.org/bokeh/release/bokeh-widgets-2.2.3.min.js\", \"https://cdn.bokeh.org/bokeh/release/bokeh-tables-2.2.3.min.js\"];\n  var css_urls = [];\n  \n\n  var inline_js = [\n    function(Bokeh) {\n      Bokeh.set_log_level(\"info\");\n    },\n    function(Bokeh) {\n    \n    \n    }\n  ];\n\n  function run_inline_js() {\n    \n    if (root.Bokeh !== undefined || force === true) {\n      \n    for (var i = 0; i < inline_js.length; i++) {\n      inline_js[i].call(root, root.Bokeh);\n    }\n    if (force === true) {\n        display_loaded();\n      }} else if (Date.now() < root._bokeh_timeout) {\n      setTimeout(run_inline_js, 100);\n    } else if (!root._bokeh_failed_load) {\n      console.log(\"Bokeh: BokehJS failed to load within specified timeout.\");\n      root._bokeh_failed_load = true;\n    } else if (force !== true) {\n      var cell = $(document.getElementById(\"1001\")).parents('.cell').data().cell;\n      cell.output_area.append_execute_result(NB_LOAD_WARNING)\n    }\n\n  }\n\n  if (root._bokeh_is_loading === 0) {\n    console.debug(\"Bokeh: BokehJS loaded, going straight to plotting\");\n    run_inline_js();\n  } else {\n    load_libs(css_urls, js_urls, function() {\n      console.debug(\"Bokeh: BokehJS plotting callback run at\", now());\n      run_inline_js();\n    });\n  }\n}(window));"
     },
     "metadata": {},
     "output_type": "display_data"
    },
    {
     "data": {
      "text/html": [
       "\n",
       "\n",
       "\n",
       "\n",
       "\n",
       "\n",
       "  <div class=\"bk-root\" id=\"11868585-ef2f-4906-9d9c-6be7d01bcad0\" data-root-id=\"1003\"></div>\n"
      ]
     },
     "metadata": {},
     "output_type": "display_data"
    },
    {
     "data": {
      "application/javascript": [
       "(function(root) {\n",
       "  function embed_document(root) {\n",
       "    \n",
       "  var docs_json = {\"5b0c70f0-51fc-4982-b5d1-fc0e4dd0b5d2\":{\"roots\":{\"references\":[{\"attributes\":{\"below\":[{\"id\":\"1012\"}],\"center\":[{\"id\":\"1015\"},{\"id\":\"1019\"}],\"left\":[{\"id\":\"1016\"}],\"plot_height\":400,\"plot_width\":900,\"renderers\":[{\"id\":\"1040\"}],\"title\":{\"id\":\"1042\"},\"toolbar\":{\"id\":\"1027\"},\"x_range\":{\"id\":\"1004\"},\"x_scale\":{\"id\":\"1008\"},\"y_range\":{\"id\":\"1006\"},\"y_scale\":{\"id\":\"1010\"}},\"id\":\"1003\",\"subtype\":\"Figure\",\"type\":\"Plot\"},{\"attributes\":{},\"id\":\"1022\",\"type\":\"WheelZoomTool\"},{\"attributes\":{\"months\":[0,6]},\"id\":\"1060\",\"type\":\"MonthsTicker\"},{\"attributes\":{},\"id\":\"1023\",\"type\":\"ZoomInTool\"},{\"attributes\":{},\"id\":\"1061\",\"type\":\"YearsTicker\"},{\"attributes\":{\"months\":[0,4,8]},\"id\":\"1059\",\"type\":\"MonthsTicker\"},{\"attributes\":{},\"id\":\"1017\",\"type\":\"BasicTicker\"},{\"attributes\":{},\"id\":\"1024\",\"type\":\"ZoomOutTool\"},{\"attributes\":{},\"id\":\"1025\",\"type\":\"UndoTool\"},{\"attributes\":{\"num_minor_ticks\":5,\"tickers\":[{\"id\":\"1050\"},{\"id\":\"1051\"},{\"id\":\"1052\"},{\"id\":\"1053\"},{\"id\":\"1054\"},{\"id\":\"1055\"},{\"id\":\"1056\"},{\"id\":\"1057\"},{\"id\":\"1058\"},{\"id\":\"1059\"},{\"id\":\"1060\"},{\"id\":\"1061\"}]},\"id\":\"1013\",\"type\":\"DatetimeTicker\"},{\"attributes\":{},\"id\":\"1047\",\"type\":\"BasicTickFormatter\"},{\"attributes\":{\"data_source\":{\"id\":\"1036\"},\"glyph\":{\"id\":\"1038\"},\"hover_glyph\":null,\"muted_glyph\":null,\"nonselection_glyph\":{\"id\":\"1039\"},\"selection_glyph\":null,\"view\":{\"id\":\"1041\"}},\"id\":\"1040\",\"type\":\"GlyphRenderer\"},{\"attributes\":{\"axis\":{\"id\":\"1012\"},\"ticker\":null},\"id\":\"1015\",\"type\":\"Grid\"},{\"attributes\":{},\"id\":\"1026\",\"type\":\"ResetTool\"},{\"attributes\":{\"formatter\":{\"id\":\"1047\"},\"ticker\":{\"id\":\"1017\"}},\"id\":\"1016\",\"type\":\"LinearAxis\"},{\"attributes\":{},\"id\":\"1004\",\"type\":\"DataRange1d\"},{\"attributes\":{\"formatter\":{\"id\":\"1045\"},\"ticker\":{\"id\":\"1013\"}},\"id\":\"1012\",\"type\":\"DatetimeAxis\"},{\"attributes\":{},\"id\":\"1048\",\"type\":\"Selection\"},{\"attributes\":{\"active_drag\":\"auto\",\"active_inspect\":\"auto\",\"active_multi\":null,\"active_scroll\":\"auto\",\"active_tap\":\"auto\",\"tools\":[{\"id\":\"1002\"},{\"id\":\"1020\"},{\"id\":\"1021\"},{\"id\":\"1022\"},{\"id\":\"1023\"},{\"id\":\"1024\"},{\"id\":\"1025\"},{\"id\":\"1026\"}]},\"id\":\"1027\",\"type\":\"Toolbar\"},{\"attributes\":{\"callback\":null,\"tooltips\":[[\"FinalObjectiveValue\",\"@FinalObjectiveValue\"],[\"TrainingJobName\",\"@TrainingJobName\"],[\"max_depth\",\"@{max_depth}\"],[\"eta\",\"@{eta}\"],[\"min_child_weight\",\"@{min_child_weight}\"]]},\"id\":\"1002\",\"type\":\"HoverTool\"},{\"attributes\":{},\"id\":\"1049\",\"type\":\"UnionRenderers\"},{\"attributes\":{\"fill_color\":{\"value\":\"#1f77b4\"},\"line_color\":{\"value\":\"#1f77b4\"},\"x\":{\"field\":\"TrainingStartTime\"},\"y\":{\"field\":\"FinalObjectiveValue\"}},\"id\":\"1038\",\"type\":\"Circle\"},{\"attributes\":{\"mantissas\":[1,2,5],\"max_interval\":500.0,\"num_minor_ticks\":0},\"id\":\"1050\",\"type\":\"AdaptiveTicker\"},{\"attributes\":{\"text\":\"\"},\"id\":\"1042\",\"type\":\"Title\"},{\"attributes\":{\"fill_alpha\":{\"value\":0.1},\"fill_color\":{\"value\":\"#1f77b4\"},\"line_alpha\":{\"value\":0.1},\"line_color\":{\"value\":\"#1f77b4\"},\"x\":{\"field\":\"TrainingStartTime\"},\"y\":{\"field\":\"FinalObjectiveValue\"}},\"id\":\"1039\",\"type\":\"Circle\"},{\"attributes\":{\"base\":60,\"mantissas\":[1,2,5,10,15,20,30],\"max_interval\":1800000.0,\"min_interval\":1000.0,\"num_minor_ticks\":0},\"id\":\"1051\",\"type\":\"AdaptiveTicker\"},{\"attributes\":{},\"id\":\"1006\",\"type\":\"DataRange1d\"},{\"attributes\":{\"base\":24,\"mantissas\":[1,2,4,6,8,12],\"max_interval\":43200000.0,\"min_interval\":3600000.0,\"num_minor_ticks\":0},\"id\":\"1052\",\"type\":\"AdaptiveTicker\"},{\"attributes\":{\"data\":{\"FinalObjectiveValue\":{\"__ndarray__\":\"AAAAgO9h7z8AAABg62DvPwAAAGAiXu8/AAAA4E5b7z8AAACgMVrvPwAAAEBkWO8/AAAAgFxU7z8AAABAP1PvPwAAAOCbUe8/AAAAoH5Q7z8AAABg+E/vPwAAAIBbTO8/AAAAABVH7z8AAADA/EDvPwAAAOA1Pe8/AAAA4Dkw7z8AAABAVCjvPwAAAIAp2O4/AAAAYFRE7j8AAAAgpxPuPw==\",\"dtype\":\"float64\",\"order\":\"little\",\"shape\":[20]},\"TrainingElapsedTimeSeconds\":{\"__ndarray__\":\"AAAAAAAASkAAAAAAAABKQAAAAAAAAEpAAAAAAAAASkAAAAAAAABPQAAAAAAAgEpAAAAAAABAXUAAAAAAAIBQQAAAAAAAAFBAAAAAAAAATUAAAAAAAABQQAAAAAAAgE1AAAAAAACATUAAAAAAAIBJQAAAAAAAAElAAAAAAACAT0AAAAAAAABLQAAAAAAAAFNAAAAAAACAUEAAAAAAAABJQA==\",\"dtype\":\"float64\",\"order\":\"little\",\"shape\":[20]},\"TrainingEndTime\":{\"__ndarray__\":\"AIDQCEjYd0IAgJ63SNh3QgAAocFI2HdCAIDKCUjYd0IAgMqGSNh3QgAAeolI2HdCAADlCUnYd0IAgMHGSNh3QgCAINJH2HdCAAAn/0jYd0IAgJfTR9h3QgCAtjBJ2HdCAIBWQEnYd0IAgDsMSNh3QgAAg8xH2HdCAIAq9EjYd0IAgAB+SNh3QgAA9EtI2HdCAADcT0jYd0IAgN9ESNh3Qg==\",\"dtype\":\"float64\",\"order\":\"little\",\"shape\":[20]},\"TrainingJobName\":[\"xgboost-211204-0804-004-08937735\",\"xgboost-211204-0804-013-ab276950\",\"xgboost-211204-0804-014-15f97d30\",\"xgboost-211204-0804-005-110a3493\",\"xgboost-211204-0804-011-f6fcb6ee\",\"xgboost-211204-0804-012-0994e863\",\"xgboost-211204-0804-017-9dfb91b9\",\"xgboost-211204-0804-015-13d55ff6\",\"xgboost-211204-0804-002-7b738a8d\",\"xgboost-211204-0804-018-dc9ed238\",\"xgboost-211204-0804-001-ab5ae8d4\",\"xgboost-211204-0804-019-5c8da696\",\"xgboost-211204-0804-020-ef94b71e\",\"xgboost-211204-0804-006-773691f1\",\"xgboost-211204-0804-003-aa8ab24e\",\"xgboost-211204-0804-016-89539578\",\"xgboost-211204-0804-010-ecaedfe7\",\"xgboost-211204-0804-008-6268d939\",\"xgboost-211204-0804-007-6d133c30\",\"xgboost-211204-0804-009-7a1fb05f\"],\"TrainingJobStatus\":[\"Completed\",\"Completed\",\"Completed\",\"Completed\",\"Completed\",\"Completed\",\"Completed\",\"Completed\",\"Completed\",\"Completed\",\"Completed\",\"Completed\",\"Completed\",\"Completed\",\"Completed\",\"Completed\",\"Completed\",\"Completed\",\"Completed\",\"Completed\"],\"TrainingStartTime\":{\"__ndarray__\":\"AIAe/EfYd0IAgOyqSNh3QgAA77RI2HdCAIAY/UfYd0IAgKd3SNh3QgCAiXxI2HdCAIBU7UjYd0IAgKS2SNh3QgCAgMJH2HdCAAD+8EjYd0IAgPfDR9h3QgAATyJJ2HdCAADvMUnYd0IAAMj/R9h3QgAATsBH2HdCAADJ5EjYd0IAgNFwSNh3QgAAZjlI2HdCAAC/P0jYd0IAgKo4SNh3Qg==\",\"dtype\":\"float64\",\"order\":\"little\",\"shape\":[20]},\"eta\":{\"__ndarray__\":\"ASADGat1tz8AkIGM1bLJPwCQgYzVks8/ASADGat1tz8BIAMZq9G4PwCQgYzVhcs/AUAGMlbXpj9IqbvaGJXVP+gAg2GyLcY/IMXxgw72qz9SHD/ooAXgPwFABjJW56k/ASADGasTtT8CgAxkrPabP3SrnDhBoug/pNRdbYzd7D+k1F1tDGLuPypmaW7/Y7w/AMhAxmrm1D8fpe5qY4i1Pw==\",\"dtype\":\"float64\",\"order\":\"little\",\"shape\":[20]},\"index\":[16,7,6,15,9,8,3,5,18,2,19,1,0,14,17,4,10,12,13,11],\"max_depth\":{\"__ndarray__\":\"AAAAAAAAFEAAAAAAAAAQQAAAAAAAACRAAAAAAAAAFEAAAAAAAAAUQAAAAAAAABBAAAAAAAAAIkAAAAAAAAAQQAAAAAAAABxAAAAAAAAAIkAAAAAAAAAIQAAAAAAAACRAAAAAAAAAEEAAAAAAAAAiQAAAAAAAABRAAAAAAAAACEAAAAAAAAAcQAAAAAAAAABAAAAAAAAA8D8AAAAAAADwPw==\",\"dtype\":\"float64\",\"order\":\"little\",\"shape\":[20]},\"min_child_weight\":{\"__ndarray__\":\"iuRlwEhs9D/bl54bJOMXQCJ5GTDShRBAbF96bpBN9z/bl54btPgdQO1Lzw3W/yNAiuRlwGhH+T+K5GXASOj5PzNmxvgVTgVA+yFwlwy4+j8/BO6SrbYiQIrkZcDot/A/InkZMHoaE0DuS88NAp4gQBYSe8Y83CBARvIyYORdBkBG8jJgxGMCQLYvPTeoLgBAti89NyhWB0BsX3puUCv/Pw==\",\"dtype\":\"float64\",\"order\":\"little\",\"shape\":[20]}},\"selected\":{\"id\":\"1048\"},\"selection_policy\":{\"id\":\"1049\"}},\"id\":\"1036\",\"type\":\"ColumnDataSource\"},{\"attributes\":{\"days\":[1,2,3,4,5,6,7,8,9,10,11,12,13,14,15,16,17,18,19,20,21,22,23,24,25,26,27,28,29,30,31]},\"id\":\"1053\",\"type\":\"DaysTicker\"},{\"attributes\":{\"days\":[1,4,7,10,13,16,19,22,25,28]},\"id\":\"1054\",\"type\":\"DaysTicker\"},{\"attributes\":{\"source\":{\"id\":\"1036\"}},\"id\":\"1041\",\"type\":\"CDSView\"},{\"attributes\":{\"days\":[1,8,15,22]},\"id\":\"1055\",\"type\":\"DaysTicker\"},{\"attributes\":{},\"id\":\"1008\",\"type\":\"LinearScale\"},{\"attributes\":{\"days\":[1,15]},\"id\":\"1056\",\"type\":\"DaysTicker\"},{\"attributes\":{},\"id\":\"1010\",\"type\":\"LinearScale\"},{\"attributes\":{},\"id\":\"1045\",\"type\":\"DatetimeTickFormatter\"},{\"attributes\":{\"months\":[0,1,2,3,4,5,6,7,8,9,10,11]},\"id\":\"1057\",\"type\":\"MonthsTicker\"},{\"attributes\":{\"axis\":{\"id\":\"1016\"},\"dimension\":1,\"ticker\":null},\"id\":\"1019\",\"type\":\"Grid\"},{\"attributes\":{},\"id\":\"1020\",\"type\":\"PanTool\"},{\"attributes\":{\"months\":[0,2,4,6,8,10]},\"id\":\"1058\",\"type\":\"MonthsTicker\"},{\"attributes\":{},\"id\":\"1021\",\"type\":\"CrosshairTool\"}],\"root_ids\":[\"1003\"]},\"title\":\"Bokeh Application\",\"version\":\"2.2.3\"}};\n",
       "  var render_items = [{\"docid\":\"5b0c70f0-51fc-4982-b5d1-fc0e4dd0b5d2\",\"root_ids\":[\"1003\"],\"roots\":{\"1003\":\"11868585-ef2f-4906-9d9c-6be7d01bcad0\"}}];\n",
       "  root.Bokeh.embed.embed_items_notebook(docs_json, render_items);\n",
       "\n",
       "  }\n",
       "  if (root.Bokeh !== undefined) {\n",
       "    embed_document(root);\n",
       "  } else {\n",
       "    var attempts = 0;\n",
       "    var timer = setInterval(function(root) {\n",
       "      if (root.Bokeh !== undefined) {\n",
       "        clearInterval(timer);\n",
       "        embed_document(root);\n",
       "      } else {\n",
       "        attempts++;\n",
       "        if (attempts > 100) {\n",
       "          clearInterval(timer);\n",
       "          console.log(\"Bokeh: ERROR: Unable to run BokehJS code because BokehJS library is missing\");\n",
       "        }\n",
       "      }\n",
       "    }, 10, root)\n",
       "  }\n",
       "})(window);"
      ],
      "application/vnd.bokehjs_exec.v0+json": ""
     },
     "metadata": {
      "application/vnd.bokehjs_exec.v0+json": {
       "id": "1003"
      }
     },
     "output_type": "display_data"
    }
   ],
   "source": [
    "import bokeh\n",
    "import bokeh.io\n",
    "\n",
    "bokeh.io.output_notebook()\n",
    "from bokeh.plotting import figure, show\n",
    "from bokeh.models import HoverTool\n",
    "\n",
    "\n",
    "class HoverHelper:\n",
    "    def __init__(self, tuning_analytics):\n",
    "        self.tuner = tuning_analytics\n",
    "\n",
    "    def hovertool(self):\n",
    "        tooltips = [\n",
    "            (\"FinalObjectiveValue\", \"@FinalObjectiveValue\"),\n",
    "            (\"TrainingJobName\", \"@TrainingJobName\"),\n",
    "        ]\n",
    "        for k in self.tuner.tuning_ranges.keys():\n",
    "            tooltips.append((k, \"@{%s}\" % k))\n",
    "\n",
    "        ht = HoverTool(tooltips=tooltips)\n",
    "        return ht\n",
    "\n",
    "    def tools(self, standard_tools=\"pan,crosshair,wheel_zoom,zoom_in,zoom_out,undo,reset\"):\n",
    "        return [self.hovertool(), standard_tools]\n",
    "\n",
    "\n",
    "hover = HoverHelper(tuning_result)\n",
    "\n",
    "p = figure(plot_width=900, plot_height=400, tools=hover.tools(), x_axis_type=\"datetime\")\n",
    "p.circle(source=df, x=\"TrainingStartTime\", y=\"FinalObjectiveValue\")\n",
    "show(p)"
   ]
  },
  {
   "cell_type": "markdown",
   "id": "9fce455d",
   "metadata": {},
   "source": [
    "유사한 방법으로 탐색대상으로 설정한 하이퍼파라미터별로 매트릭의 결과에 어떤 영향을 미쳤는지 확인해 봅니다."
   ]
  },
  {
   "cell_type": "code",
   "execution_count": 14,
   "id": "6b1c4788",
   "metadata": {},
   "outputs": [
    {
     "data": {
      "text/html": [
       "\n",
       "\n",
       "\n",
       "\n",
       "\n",
       "\n",
       "  <div class=\"bk-root\" id=\"c658f1a0-7f76-4bd6-b6a7-4e7f86e24d39\" data-root-id=\"1288\"></div>\n"
      ]
     },
     "metadata": {},
     "output_type": "display_data"
    },
    {
     "data": {
      "application/javascript": [
       "(function(root) {\n",
       "  function embed_document(root) {\n",
       "    \n",
       "  var docs_json = {\"acdcac58-8ffc-4362-ac8a-89c2da13ab33\":{\"roots\":{\"references\":[{\"attributes\":{\"children\":[{\"id\":\"1163\"},{\"id\":\"1205\"},{\"id\":\"1247\"}]},\"id\":\"1288\",\"type\":\"Column\"},{\"attributes\":{},\"id\":\"1186\",\"type\":\"ZoomOutTool\"},{\"attributes\":{},\"id\":\"1185\",\"type\":\"ZoomInTool\"},{\"attributes\":{},\"id\":\"1187\",\"type\":\"UndoTool\"},{\"attributes\":{},\"id\":\"1188\",\"type\":\"ResetTool\"},{\"attributes\":{\"active_drag\":\"auto\",\"active_inspect\":\"auto\",\"active_multi\":null,\"active_scroll\":\"auto\",\"active_tap\":\"auto\",\"tools\":[{\"id\":\"1162\"},{\"id\":\"1182\"},{\"id\":\"1183\"},{\"id\":\"1184\"},{\"id\":\"1185\"},{\"id\":\"1186\"},{\"id\":\"1187\"},{\"id\":\"1188\"}]},\"id\":\"1189\",\"type\":\"Toolbar\"},{\"attributes\":{},\"id\":\"1184\",\"type\":\"WheelZoomTool\"},{\"attributes\":{},\"id\":\"1183\",\"type\":\"CrosshairTool\"},{\"attributes\":{},\"id\":\"1208\",\"type\":\"DataRange1d\"},{\"attributes\":{\"data_source\":{\"id\":\"1240\"},\"glyph\":{\"id\":\"1242\"},\"hover_glyph\":null,\"muted_glyph\":null,\"nonselection_glyph\":{\"id\":\"1243\"},\"selection_glyph\":null,\"view\":{\"id\":\"1245\"}},\"id\":\"1244\",\"type\":\"GlyphRenderer\"},{\"attributes\":{\"data\":{\"FinalObjectiveValue\":{\"__ndarray__\":\"AAAAgO9h7z8AAABg62DvPwAAAGAiXu8/AAAA4E5b7z8AAACgMVrvPwAAAEBkWO8/AAAAgFxU7z8AAABAP1PvPwAAAOCbUe8/AAAAoH5Q7z8AAABg+E/vPwAAAIBbTO8/AAAAABVH7z8AAADA/EDvPwAAAOA1Pe8/AAAA4Dkw7z8AAABAVCjvPwAAAIAp2O4/AAAAYFRE7j8AAAAgpxPuPw==\",\"dtype\":\"float64\",\"order\":\"little\",\"shape\":[20]},\"TrainingElapsedTimeSeconds\":{\"__ndarray__\":\"AAAAAAAASkAAAAAAAABKQAAAAAAAAEpAAAAAAAAASkAAAAAAAABPQAAAAAAAgEpAAAAAAABAXUAAAAAAAIBQQAAAAAAAAFBAAAAAAAAATUAAAAAAAABQQAAAAAAAgE1AAAAAAACATUAAAAAAAIBJQAAAAAAAAElAAAAAAACAT0AAAAAAAABLQAAAAAAAAFNAAAAAAACAUEAAAAAAAABJQA==\",\"dtype\":\"float64\",\"order\":\"little\",\"shape\":[20]},\"TrainingEndTime\":{\"__ndarray__\":\"AIDQCEjYd0IAgJ63SNh3QgAAocFI2HdCAIDKCUjYd0IAgMqGSNh3QgAAeolI2HdCAADlCUnYd0IAgMHGSNh3QgCAINJH2HdCAAAn/0jYd0IAgJfTR9h3QgCAtjBJ2HdCAIBWQEnYd0IAgDsMSNh3QgAAg8xH2HdCAIAq9EjYd0IAgAB+SNh3QgAA9EtI2HdCAADcT0jYd0IAgN9ESNh3Qg==\",\"dtype\":\"float64\",\"order\":\"little\",\"shape\":[20]},\"TrainingJobName\":[\"xgboost-211204-0804-004-08937735\",\"xgboost-211204-0804-013-ab276950\",\"xgboost-211204-0804-014-15f97d30\",\"xgboost-211204-0804-005-110a3493\",\"xgboost-211204-0804-011-f6fcb6ee\",\"xgboost-211204-0804-012-0994e863\",\"xgboost-211204-0804-017-9dfb91b9\",\"xgboost-211204-0804-015-13d55ff6\",\"xgboost-211204-0804-002-7b738a8d\",\"xgboost-211204-0804-018-dc9ed238\",\"xgboost-211204-0804-001-ab5ae8d4\",\"xgboost-211204-0804-019-5c8da696\",\"xgboost-211204-0804-020-ef94b71e\",\"xgboost-211204-0804-006-773691f1\",\"xgboost-211204-0804-003-aa8ab24e\",\"xgboost-211204-0804-016-89539578\",\"xgboost-211204-0804-010-ecaedfe7\",\"xgboost-211204-0804-008-6268d939\",\"xgboost-211204-0804-007-6d133c30\",\"xgboost-211204-0804-009-7a1fb05f\"],\"TrainingJobStatus\":[\"Completed\",\"Completed\",\"Completed\",\"Completed\",\"Completed\",\"Completed\",\"Completed\",\"Completed\",\"Completed\",\"Completed\",\"Completed\",\"Completed\",\"Completed\",\"Completed\",\"Completed\",\"Completed\",\"Completed\",\"Completed\",\"Completed\",\"Completed\"],\"TrainingStartTime\":{\"__ndarray__\":\"AIAe/EfYd0IAgOyqSNh3QgAA77RI2HdCAIAY/UfYd0IAgKd3SNh3QgCAiXxI2HdCAIBU7UjYd0IAgKS2SNh3QgCAgMJH2HdCAAD+8EjYd0IAgPfDR9h3QgAATyJJ2HdCAADvMUnYd0IAAMj/R9h3QgAATsBH2HdCAADJ5EjYd0IAgNFwSNh3QgAAZjlI2HdCAAC/P0jYd0IAgKo4SNh3Qg==\",\"dtype\":\"float64\",\"order\":\"little\",\"shape\":[20]},\"eta\":{\"__ndarray__\":\"ASADGat1tz8AkIGM1bLJPwCQgYzVks8/ASADGat1tz8BIAMZq9G4PwCQgYzVhcs/AUAGMlbXpj9IqbvaGJXVP+gAg2GyLcY/IMXxgw72qz9SHD/ooAXgPwFABjJW56k/ASADGasTtT8CgAxkrPabP3SrnDhBoug/pNRdbYzd7D+k1F1tDGLuPypmaW7/Y7w/AMhAxmrm1D8fpe5qY4i1Pw==\",\"dtype\":\"float64\",\"order\":\"little\",\"shape\":[20]},\"index\":[16,7,6,15,9,8,3,5,18,2,19,1,0,14,17,4,10,12,13,11],\"max_depth\":{\"__ndarray__\":\"AAAAAAAAFEAAAAAAAAAQQAAAAAAAACRAAAAAAAAAFEAAAAAAAAAUQAAAAAAAABBAAAAAAAAAIkAAAAAAAAAQQAAAAAAAABxAAAAAAAAAIkAAAAAAAAAIQAAAAAAAACRAAAAAAAAAEEAAAAAAAAAiQAAAAAAAABRAAAAAAAAACEAAAAAAAAAcQAAAAAAAAABAAAAAAAAA8D8AAAAAAADwPw==\",\"dtype\":\"float64\",\"order\":\"little\",\"shape\":[20]},\"min_child_weight\":{\"__ndarray__\":\"iuRlwEhs9D/bl54bJOMXQCJ5GTDShRBAbF96bpBN9z/bl54btPgdQO1Lzw3W/yNAiuRlwGhH+T+K5GXASOj5PzNmxvgVTgVA+yFwlwy4+j8/BO6SrbYiQIrkZcDot/A/InkZMHoaE0DuS88NAp4gQBYSe8Y83CBARvIyYORdBkBG8jJgxGMCQLYvPTeoLgBAti89NyhWB0BsX3puUCv/Pw==\",\"dtype\":\"float64\",\"order\":\"little\",\"shape\":[20]}},\"selected\":{\"id\":\"1326\"},\"selection_policy\":{\"id\":\"1327\"}},\"id\":\"1240\",\"type\":\"ColumnDataSource\"},{\"attributes\":{\"fill_alpha\":{\"value\":0.1},\"fill_color\":{\"value\":\"#1f77b4\"},\"line_alpha\":{\"value\":0.1},\"line_color\":{\"value\":\"#1f77b4\"},\"x\":{\"field\":\"eta\"},\"y\":{\"field\":\"FinalObjectiveValue\"}},\"id\":\"1243\",\"type\":\"Circle\"},{\"attributes\":{},\"id\":\"1170\",\"type\":\"LinearScale\"},{\"attributes\":{\"data_source\":{\"id\":\"1198\"},\"glyph\":{\"id\":\"1200\"},\"hover_glyph\":null,\"muted_glyph\":null,\"nonselection_glyph\":{\"id\":\"1201\"},\"selection_glyph\":null,\"view\":{\"id\":\"1203\"}},\"id\":\"1202\",\"type\":\"GlyphRenderer\"},{\"attributes\":{\"fill_color\":{\"value\":\"#1f77b4\"},\"line_color\":{\"value\":\"#1f77b4\"},\"x\":{\"field\":\"eta\"},\"y\":{\"field\":\"FinalObjectiveValue\"}},\"id\":\"1242\",\"type\":\"Circle\"},{\"attributes\":{},\"id\":\"1313\",\"type\":\"BasicTickFormatter\"},{\"attributes\":{\"below\":[{\"id\":\"1216\"}],\"center\":[{\"id\":\"1219\"},{\"id\":\"1223\"}],\"left\":[{\"id\":\"1220\"}],\"plot_height\":500,\"plot_width\":500,\"renderers\":[{\"id\":\"1244\"}],\"title\":{\"id\":\"1206\"},\"toolbar\":{\"id\":\"1231\"},\"x_range\":{\"id\":\"1208\"},\"x_scale\":{\"id\":\"1212\"},\"y_range\":{\"id\":\"1210\"},\"y_scale\":{\"id\":\"1214\"}},\"id\":\"1205\",\"subtype\":\"Figure\",\"type\":\"Plot\"},{\"attributes\":{},\"id\":\"1324\",\"type\":\"Selection\"},{\"attributes\":{\"fill_alpha\":{\"value\":0.1},\"fill_color\":{\"value\":\"#1f77b4\"},\"line_alpha\":{\"value\":0.1},\"line_color\":{\"value\":\"#1f77b4\"},\"x\":{\"field\":\"max_depth\"},\"y\":{\"field\":\"FinalObjectiveValue\"}},\"id\":\"1201\",\"type\":\"Circle\"},{\"attributes\":{\"callback\":null,\"tooltips\":[[\"FinalObjectiveValue\",\"@FinalObjectiveValue\"],[\"TrainingJobName\",\"@TrainingJobName\"],[\"max_depth\",\"@{max_depth}\"],[\"eta\",\"@{eta}\"],[\"min_child_weight\",\"@{min_child_weight}\"]]},\"id\":\"1204\",\"type\":\"HoverTool\"},{\"attributes\":{\"source\":{\"id\":\"1198\"}},\"id\":\"1203\",\"type\":\"CDSView\"},{\"attributes\":{\"fill_color\":{\"value\":\"#1f77b4\"},\"line_color\":{\"value\":\"#1f77b4\"},\"x\":{\"field\":\"max_depth\"},\"y\":{\"field\":\"FinalObjectiveValue\"}},\"id\":\"1200\",\"type\":\"Circle\"},{\"attributes\":{\"text\":\"Objective vs eta\"},\"id\":\"1206\",\"type\":\"Title\"},{\"attributes\":{},\"id\":\"1210\",\"type\":\"DataRange1d\"},{\"attributes\":{},\"id\":\"1268\",\"type\":\"WheelZoomTool\"},{\"attributes\":{},\"id\":\"1212\",\"type\":\"LinearScale\"},{\"attributes\":{},\"id\":\"1269\",\"type\":\"ZoomInTool\"},{\"attributes\":{},\"id\":\"1214\",\"type\":\"LinearScale\"},{\"attributes\":{},\"id\":\"1270\",\"type\":\"ZoomOutTool\"},{\"attributes\":{\"axis_label\":\"eta\",\"formatter\":{\"id\":\"1317\"},\"ticker\":{\"id\":\"1217\"}},\"id\":\"1216\",\"type\":\"LinearAxis\"},{\"attributes\":{},\"id\":\"1271\",\"type\":\"UndoTool\"},{\"attributes\":{\"axis\":{\"id\":\"1174\"},\"ticker\":null},\"id\":\"1177\",\"type\":\"Grid\"},{\"attributes\":{},\"id\":\"1217\",\"type\":\"BasicTicker\"},{\"attributes\":{},\"id\":\"1272\",\"type\":\"ResetTool\"},{\"attributes\":{\"axis\":{\"id\":\"1216\"},\"ticker\":null},\"id\":\"1219\",\"type\":\"Grid\"},{\"attributes\":{\"active_drag\":\"auto\",\"active_inspect\":\"auto\",\"active_multi\":null,\"active_scroll\":\"auto\",\"active_tap\":\"auto\",\"tools\":[{\"id\":\"1246\"},{\"id\":\"1266\"},{\"id\":\"1267\"},{\"id\":\"1268\"},{\"id\":\"1269\"},{\"id\":\"1270\"},{\"id\":\"1271\"},{\"id\":\"1272\"}]},\"id\":\"1273\",\"type\":\"Toolbar\"},{\"attributes\":{\"axis_label\":\"validation:auc\",\"formatter\":{\"id\":\"1319\"},\"ticker\":{\"id\":\"1221\"}},\"id\":\"1220\",\"type\":\"LinearAxis\"},{\"attributes\":{\"axis_label\":\"validation:auc\",\"formatter\":{\"id\":\"1315\"},\"ticker\":{\"id\":\"1179\"}},\"id\":\"1178\",\"type\":\"LinearAxis\"},{\"attributes\":{},\"id\":\"1175\",\"type\":\"BasicTicker\"},{\"attributes\":{},\"id\":\"1221\",\"type\":\"BasicTicker\"},{\"attributes\":{},\"id\":\"1326\",\"type\":\"Selection\"},{\"attributes\":{\"text\":\"Objective vs max_depth\"},\"id\":\"1164\",\"type\":\"Title\"},{\"attributes\":{\"axis\":{\"id\":\"1220\"},\"dimension\":1,\"ticker\":null},\"id\":\"1223\",\"type\":\"Grid\"},{\"attributes\":{},\"id\":\"1325\",\"type\":\"UnionRenderers\"},{\"attributes\":{},\"id\":\"1166\",\"type\":\"DataRange1d\"},{\"attributes\":{},\"id\":\"1327\",\"type\":\"UnionRenderers\"},{\"attributes\":{\"callback\":null,\"tooltips\":[[\"FinalObjectiveValue\",\"@FinalObjectiveValue\"],[\"TrainingJobName\",\"@TrainingJobName\"],[\"max_depth\",\"@{max_depth}\"],[\"eta\",\"@{eta}\"],[\"min_child_weight\",\"@{min_child_weight}\"]]},\"id\":\"1246\",\"type\":\"HoverTool\"},{\"attributes\":{},\"id\":\"1168\",\"type\":\"DataRange1d\"},{\"attributes\":{\"text\":\"Objective vs min_child_weight\"},\"id\":\"1248\",\"type\":\"Title\"},{\"attributes\":{},\"id\":\"1317\",\"type\":\"BasicTickFormatter\"},{\"attributes\":{},\"id\":\"1315\",\"type\":\"BasicTickFormatter\"},{\"attributes\":{},\"id\":\"1172\",\"type\":\"LinearScale\"},{\"attributes\":{},\"id\":\"1254\",\"type\":\"LinearScale\"},{\"attributes\":{},\"id\":\"1224\",\"type\":\"PanTool\"},{\"attributes\":{\"axis_label\":\"max_depth\",\"formatter\":{\"id\":\"1313\"},\"ticker\":{\"id\":\"1175\"}},\"id\":\"1174\",\"type\":\"LinearAxis\"},{\"attributes\":{\"fill_alpha\":{\"value\":0.1},\"fill_color\":{\"value\":\"#1f77b4\"},\"line_alpha\":{\"value\":0.1},\"line_color\":{\"value\":\"#1f77b4\"},\"x\":{\"field\":\"min_child_weight\"},\"y\":{\"field\":\"FinalObjectiveValue\"}},\"id\":\"1285\",\"type\":\"Circle\"},{\"attributes\":{},\"id\":\"1225\",\"type\":\"CrosshairTool\"},{\"attributes\":{},\"id\":\"1226\",\"type\":\"WheelZoomTool\"},{\"attributes\":{},\"id\":\"1179\",\"type\":\"BasicTicker\"},{\"attributes\":{\"source\":{\"id\":\"1282\"}},\"id\":\"1287\",\"type\":\"CDSView\"},{\"attributes\":{},\"id\":\"1227\",\"type\":\"ZoomInTool\"},{\"attributes\":{\"axis\":{\"id\":\"1178\"},\"dimension\":1,\"ticker\":null},\"id\":\"1181\",\"type\":\"Grid\"},{\"attributes\":{\"data_source\":{\"id\":\"1282\"},\"glyph\":{\"id\":\"1284\"},\"hover_glyph\":null,\"muted_glyph\":null,\"nonselection_glyph\":{\"id\":\"1285\"},\"selection_glyph\":null,\"view\":{\"id\":\"1287\"}},\"id\":\"1286\",\"type\":\"GlyphRenderer\"},{\"attributes\":{},\"id\":\"1228\",\"type\":\"ZoomOutTool\"},{\"attributes\":{},\"id\":\"1319\",\"type\":\"BasicTickFormatter\"},{\"attributes\":{},\"id\":\"1229\",\"type\":\"UndoTool\"},{\"attributes\":{},\"id\":\"1321\",\"type\":\"BasicTickFormatter\"},{\"attributes\":{\"data\":{\"FinalObjectiveValue\":{\"__ndarray__\":\"AAAAgO9h7z8AAABg62DvPwAAAGAiXu8/AAAA4E5b7z8AAACgMVrvPwAAAEBkWO8/AAAAgFxU7z8AAABAP1PvPwAAAOCbUe8/AAAAoH5Q7z8AAABg+E/vPwAAAIBbTO8/AAAAABVH7z8AAADA/EDvPwAAAOA1Pe8/AAAA4Dkw7z8AAABAVCjvPwAAAIAp2O4/AAAAYFRE7j8AAAAgpxPuPw==\",\"dtype\":\"float64\",\"order\":\"little\",\"shape\":[20]},\"TrainingElapsedTimeSeconds\":{\"__ndarray__\":\"AAAAAAAASkAAAAAAAABKQAAAAAAAAEpAAAAAAAAASkAAAAAAAABPQAAAAAAAgEpAAAAAAABAXUAAAAAAAIBQQAAAAAAAAFBAAAAAAAAATUAAAAAAAABQQAAAAAAAgE1AAAAAAACATUAAAAAAAIBJQAAAAAAAAElAAAAAAACAT0AAAAAAAABLQAAAAAAAAFNAAAAAAACAUEAAAAAAAABJQA==\",\"dtype\":\"float64\",\"order\":\"little\",\"shape\":[20]},\"TrainingEndTime\":{\"__ndarray__\":\"AIDQCEjYd0IAgJ63SNh3QgAAocFI2HdCAIDKCUjYd0IAgMqGSNh3QgAAeolI2HdCAADlCUnYd0IAgMHGSNh3QgCAINJH2HdCAAAn/0jYd0IAgJfTR9h3QgCAtjBJ2HdCAIBWQEnYd0IAgDsMSNh3QgAAg8xH2HdCAIAq9EjYd0IAgAB+SNh3QgAA9EtI2HdCAADcT0jYd0IAgN9ESNh3Qg==\",\"dtype\":\"float64\",\"order\":\"little\",\"shape\":[20]},\"TrainingJobName\":[\"xgboost-211204-0804-004-08937735\",\"xgboost-211204-0804-013-ab276950\",\"xgboost-211204-0804-014-15f97d30\",\"xgboost-211204-0804-005-110a3493\",\"xgboost-211204-0804-011-f6fcb6ee\",\"xgboost-211204-0804-012-0994e863\",\"xgboost-211204-0804-017-9dfb91b9\",\"xgboost-211204-0804-015-13d55ff6\",\"xgboost-211204-0804-002-7b738a8d\",\"xgboost-211204-0804-018-dc9ed238\",\"xgboost-211204-0804-001-ab5ae8d4\",\"xgboost-211204-0804-019-5c8da696\",\"xgboost-211204-0804-020-ef94b71e\",\"xgboost-211204-0804-006-773691f1\",\"xgboost-211204-0804-003-aa8ab24e\",\"xgboost-211204-0804-016-89539578\",\"xgboost-211204-0804-010-ecaedfe7\",\"xgboost-211204-0804-008-6268d939\",\"xgboost-211204-0804-007-6d133c30\",\"xgboost-211204-0804-009-7a1fb05f\"],\"TrainingJobStatus\":[\"Completed\",\"Completed\",\"Completed\",\"Completed\",\"Completed\",\"Completed\",\"Completed\",\"Completed\",\"Completed\",\"Completed\",\"Completed\",\"Completed\",\"Completed\",\"Completed\",\"Completed\",\"Completed\",\"Completed\",\"Completed\",\"Completed\",\"Completed\"],\"TrainingStartTime\":{\"__ndarray__\":\"AIAe/EfYd0IAgOyqSNh3QgAA77RI2HdCAIAY/UfYd0IAgKd3SNh3QgCAiXxI2HdCAIBU7UjYd0IAgKS2SNh3QgCAgMJH2HdCAAD+8EjYd0IAgPfDR9h3QgAATyJJ2HdCAADvMUnYd0IAAMj/R9h3QgAATsBH2HdCAADJ5EjYd0IAgNFwSNh3QgAAZjlI2HdCAAC/P0jYd0IAgKo4SNh3Qg==\",\"dtype\":\"float64\",\"order\":\"little\",\"shape\":[20]},\"eta\":{\"__ndarray__\":\"ASADGat1tz8AkIGM1bLJPwCQgYzVks8/ASADGat1tz8BIAMZq9G4PwCQgYzVhcs/AUAGMlbXpj9IqbvaGJXVP+gAg2GyLcY/IMXxgw72qz9SHD/ooAXgPwFABjJW56k/ASADGasTtT8CgAxkrPabP3SrnDhBoug/pNRdbYzd7D+k1F1tDGLuPypmaW7/Y7w/AMhAxmrm1D8fpe5qY4i1Pw==\",\"dtype\":\"float64\",\"order\":\"little\",\"shape\":[20]},\"index\":[16,7,6,15,9,8,3,5,18,2,19,1,0,14,17,4,10,12,13,11],\"max_depth\":{\"__ndarray__\":\"AAAAAAAAFEAAAAAAAAAQQAAAAAAAACRAAAAAAAAAFEAAAAAAAAAUQAAAAAAAABBAAAAAAAAAIkAAAAAAAAAQQAAAAAAAABxAAAAAAAAAIkAAAAAAAAAIQAAAAAAAACRAAAAAAAAAEEAAAAAAAAAiQAAAAAAAABRAAAAAAAAACEAAAAAAAAAcQAAAAAAAAABAAAAAAAAA8D8AAAAAAADwPw==\",\"dtype\":\"float64\",\"order\":\"little\",\"shape\":[20]},\"min_child_weight\":{\"__ndarray__\":\"iuRlwEhs9D/bl54bJOMXQCJ5GTDShRBAbF96bpBN9z/bl54btPgdQO1Lzw3W/yNAiuRlwGhH+T+K5GXASOj5PzNmxvgVTgVA+yFwlwy4+j8/BO6SrbYiQIrkZcDot/A/InkZMHoaE0DuS88NAp4gQBYSe8Y83CBARvIyYORdBkBG8jJgxGMCQLYvPTeoLgBAti89NyhWB0BsX3puUCv/Pw==\",\"dtype\":\"float64\",\"order\":\"little\",\"shape\":[20]}},\"selected\":{\"id\":\"1324\"},\"selection_policy\":{\"id\":\"1325\"}},\"id\":\"1198\",\"type\":\"ColumnDataSource\"},{\"attributes\":{},\"id\":\"1182\",\"type\":\"PanTool\"},{\"attributes\":{},\"id\":\"1230\",\"type\":\"ResetTool\"},{\"attributes\":{},\"id\":\"1328\",\"type\":\"Selection\"},{\"attributes\":{},\"id\":\"1256\",\"type\":\"LinearScale\"},{\"attributes\":{\"active_drag\":\"auto\",\"active_inspect\":\"auto\",\"active_multi\":null,\"active_scroll\":\"auto\",\"active_tap\":\"auto\",\"tools\":[{\"id\":\"1204\"},{\"id\":\"1224\"},{\"id\":\"1225\"},{\"id\":\"1226\"},{\"id\":\"1227\"},{\"id\":\"1228\"},{\"id\":\"1229\"},{\"id\":\"1230\"}]},\"id\":\"1231\",\"type\":\"Toolbar\"},{\"attributes\":{},\"id\":\"1329\",\"type\":\"UnionRenderers\"},{\"attributes\":{},\"id\":\"1252\",\"type\":\"DataRange1d\"},{\"attributes\":{},\"id\":\"1250\",\"type\":\"DataRange1d\"},{\"attributes\":{},\"id\":\"1323\",\"type\":\"BasicTickFormatter\"},{\"attributes\":{\"below\":[{\"id\":\"1258\"}],\"center\":[{\"id\":\"1261\"},{\"id\":\"1265\"}],\"left\":[{\"id\":\"1262\"}],\"plot_height\":500,\"plot_width\":500,\"renderers\":[{\"id\":\"1286\"}],\"title\":{\"id\":\"1248\"},\"toolbar\":{\"id\":\"1273\"},\"x_range\":{\"id\":\"1250\"},\"x_scale\":{\"id\":\"1254\"},\"y_range\":{\"id\":\"1252\"},\"y_scale\":{\"id\":\"1256\"}},\"id\":\"1247\",\"subtype\":\"Figure\",\"type\":\"Plot\"},{\"attributes\":{\"source\":{\"id\":\"1240\"}},\"id\":\"1245\",\"type\":\"CDSView\"},{\"attributes\":{\"axis_label\":\"min_child_weight\",\"formatter\":{\"id\":\"1321\"},\"ticker\":{\"id\":\"1259\"}},\"id\":\"1258\",\"type\":\"LinearAxis\"},{\"attributes\":{},\"id\":\"1259\",\"type\":\"BasicTicker\"},{\"attributes\":{\"axis\":{\"id\":\"1258\"},\"ticker\":null},\"id\":\"1261\",\"type\":\"Grid\"},{\"attributes\":{\"axis_label\":\"validation:auc\",\"formatter\":{\"id\":\"1323\"},\"ticker\":{\"id\":\"1263\"}},\"id\":\"1262\",\"type\":\"LinearAxis\"},{\"attributes\":{},\"id\":\"1263\",\"type\":\"BasicTicker\"},{\"attributes\":{\"axis\":{\"id\":\"1262\"},\"dimension\":1,\"ticker\":null},\"id\":\"1265\",\"type\":\"Grid\"},{\"attributes\":{\"callback\":null,\"tooltips\":[[\"FinalObjectiveValue\",\"@FinalObjectiveValue\"],[\"TrainingJobName\",\"@TrainingJobName\"],[\"max_depth\",\"@{max_depth}\"],[\"eta\",\"@{eta}\"],[\"min_child_weight\",\"@{min_child_weight}\"]]},\"id\":\"1162\",\"type\":\"HoverTool\"},{\"attributes\":{\"fill_color\":{\"value\":\"#1f77b4\"},\"line_color\":{\"value\":\"#1f77b4\"},\"x\":{\"field\":\"min_child_weight\"},\"y\":{\"field\":\"FinalObjectiveValue\"}},\"id\":\"1284\",\"type\":\"Circle\"},{\"attributes\":{\"data\":{\"FinalObjectiveValue\":{\"__ndarray__\":\"AAAAgO9h7z8AAABg62DvPwAAAGAiXu8/AAAA4E5b7z8AAACgMVrvPwAAAEBkWO8/AAAAgFxU7z8AAABAP1PvPwAAAOCbUe8/AAAAoH5Q7z8AAABg+E/vPwAAAIBbTO8/AAAAABVH7z8AAADA/EDvPwAAAOA1Pe8/AAAA4Dkw7z8AAABAVCjvPwAAAIAp2O4/AAAAYFRE7j8AAAAgpxPuPw==\",\"dtype\":\"float64\",\"order\":\"little\",\"shape\":[20]},\"TrainingElapsedTimeSeconds\":{\"__ndarray__\":\"AAAAAAAASkAAAAAAAABKQAAAAAAAAEpAAAAAAAAASkAAAAAAAABPQAAAAAAAgEpAAAAAAABAXUAAAAAAAIBQQAAAAAAAAFBAAAAAAAAATUAAAAAAAABQQAAAAAAAgE1AAAAAAACATUAAAAAAAIBJQAAAAAAAAElAAAAAAACAT0AAAAAAAABLQAAAAAAAAFNAAAAAAACAUEAAAAAAAABJQA==\",\"dtype\":\"float64\",\"order\":\"little\",\"shape\":[20]},\"TrainingEndTime\":{\"__ndarray__\":\"AIDQCEjYd0IAgJ63SNh3QgAAocFI2HdCAIDKCUjYd0IAgMqGSNh3QgAAeolI2HdCAADlCUnYd0IAgMHGSNh3QgCAINJH2HdCAAAn/0jYd0IAgJfTR9h3QgCAtjBJ2HdCAIBWQEnYd0IAgDsMSNh3QgAAg8xH2HdCAIAq9EjYd0IAgAB+SNh3QgAA9EtI2HdCAADcT0jYd0IAgN9ESNh3Qg==\",\"dtype\":\"float64\",\"order\":\"little\",\"shape\":[20]},\"TrainingJobName\":[\"xgboost-211204-0804-004-08937735\",\"xgboost-211204-0804-013-ab276950\",\"xgboost-211204-0804-014-15f97d30\",\"xgboost-211204-0804-005-110a3493\",\"xgboost-211204-0804-011-f6fcb6ee\",\"xgboost-211204-0804-012-0994e863\",\"xgboost-211204-0804-017-9dfb91b9\",\"xgboost-211204-0804-015-13d55ff6\",\"xgboost-211204-0804-002-7b738a8d\",\"xgboost-211204-0804-018-dc9ed238\",\"xgboost-211204-0804-001-ab5ae8d4\",\"xgboost-211204-0804-019-5c8da696\",\"xgboost-211204-0804-020-ef94b71e\",\"xgboost-211204-0804-006-773691f1\",\"xgboost-211204-0804-003-aa8ab24e\",\"xgboost-211204-0804-016-89539578\",\"xgboost-211204-0804-010-ecaedfe7\",\"xgboost-211204-0804-008-6268d939\",\"xgboost-211204-0804-007-6d133c30\",\"xgboost-211204-0804-009-7a1fb05f\"],\"TrainingJobStatus\":[\"Completed\",\"Completed\",\"Completed\",\"Completed\",\"Completed\",\"Completed\",\"Completed\",\"Completed\",\"Completed\",\"Completed\",\"Completed\",\"Completed\",\"Completed\",\"Completed\",\"Completed\",\"Completed\",\"Completed\",\"Completed\",\"Completed\",\"Completed\"],\"TrainingStartTime\":{\"__ndarray__\":\"AIAe/EfYd0IAgOyqSNh3QgAA77RI2HdCAIAY/UfYd0IAgKd3SNh3QgCAiXxI2HdCAIBU7UjYd0IAgKS2SNh3QgCAgMJH2HdCAAD+8EjYd0IAgPfDR9h3QgAATyJJ2HdCAADvMUnYd0IAAMj/R9h3QgAATsBH2HdCAADJ5EjYd0IAgNFwSNh3QgAAZjlI2HdCAAC/P0jYd0IAgKo4SNh3Qg==\",\"dtype\":\"float64\",\"order\":\"little\",\"shape\":[20]},\"eta\":{\"__ndarray__\":\"ASADGat1tz8AkIGM1bLJPwCQgYzVks8/ASADGat1tz8BIAMZq9G4PwCQgYzVhcs/AUAGMlbXpj9IqbvaGJXVP+gAg2GyLcY/IMXxgw72qz9SHD/ooAXgPwFABjJW56k/ASADGasTtT8CgAxkrPabP3SrnDhBoug/pNRdbYzd7D+k1F1tDGLuPypmaW7/Y7w/AMhAxmrm1D8fpe5qY4i1Pw==\",\"dtype\":\"float64\",\"order\":\"little\",\"shape\":[20]},\"index\":[16,7,6,15,9,8,3,5,18,2,19,1,0,14,17,4,10,12,13,11],\"max_depth\":{\"__ndarray__\":\"AAAAAAAAFEAAAAAAAAAQQAAAAAAAACRAAAAAAAAAFEAAAAAAAAAUQAAAAAAAABBAAAAAAAAAIkAAAAAAAAAQQAAAAAAAABxAAAAAAAAAIkAAAAAAAAAIQAAAAAAAACRAAAAAAAAAEEAAAAAAAAAiQAAAAAAAABRAAAAAAAAACEAAAAAAAAAcQAAAAAAAAABAAAAAAAAA8D8AAAAAAADwPw==\",\"dtype\":\"float64\",\"order\":\"little\",\"shape\":[20]},\"min_child_weight\":{\"__ndarray__\":\"iuRlwEhs9D/bl54bJOMXQCJ5GTDShRBAbF96bpBN9z/bl54btPgdQO1Lzw3W/yNAiuRlwGhH+T+K5GXASOj5PzNmxvgVTgVA+yFwlwy4+j8/BO6SrbYiQIrkZcDot/A/InkZMHoaE0DuS88NAp4gQBYSe8Y83CBARvIyYORdBkBG8jJgxGMCQLYvPTeoLgBAti89NyhWB0BsX3puUCv/Pw==\",\"dtype\":\"float64\",\"order\":\"little\",\"shape\":[20]}},\"selected\":{\"id\":\"1328\"},\"selection_policy\":{\"id\":\"1329\"}},\"id\":\"1282\",\"type\":\"ColumnDataSource\"},{\"attributes\":{},\"id\":\"1266\",\"type\":\"PanTool\"},{\"attributes\":{\"below\":[{\"id\":\"1174\"}],\"center\":[{\"id\":\"1177\"},{\"id\":\"1181\"}],\"left\":[{\"id\":\"1178\"}],\"plot_height\":500,\"plot_width\":500,\"renderers\":[{\"id\":\"1202\"}],\"title\":{\"id\":\"1164\"},\"toolbar\":{\"id\":\"1189\"},\"x_range\":{\"id\":\"1166\"},\"x_scale\":{\"id\":\"1170\"},\"y_range\":{\"id\":\"1168\"},\"y_scale\":{\"id\":\"1172\"}},\"id\":\"1163\",\"subtype\":\"Figure\",\"type\":\"Plot\"},{\"attributes\":{},\"id\":\"1267\",\"type\":\"CrosshairTool\"}],\"root_ids\":[\"1288\"]},\"title\":\"Bokeh Application\",\"version\":\"2.2.3\"}};\n",
       "  var render_items = [{\"docid\":\"acdcac58-8ffc-4362-ac8a-89c2da13ab33\",\"root_ids\":[\"1288\"],\"roots\":{\"1288\":\"c658f1a0-7f76-4bd6-b6a7-4e7f86e24d39\"}}];\n",
       "  root.Bokeh.embed.embed_items_notebook(docs_json, render_items);\n",
       "\n",
       "  }\n",
       "  if (root.Bokeh !== undefined) {\n",
       "    embed_document(root);\n",
       "  } else {\n",
       "    var attempts = 0;\n",
       "    var timer = setInterval(function(root) {\n",
       "      if (root.Bokeh !== undefined) {\n",
       "        clearInterval(timer);\n",
       "        embed_document(root);\n",
       "      } else {\n",
       "        attempts++;\n",
       "        if (attempts > 100) {\n",
       "          clearInterval(timer);\n",
       "          console.log(\"Bokeh: ERROR: Unable to run BokehJS code because BokehJS library is missing\");\n",
       "        }\n",
       "      }\n",
       "    }, 10, root)\n",
       "  }\n",
       "})(window);"
      ],
      "application/vnd.bokehjs_exec.v0+json": ""
     },
     "metadata": {
      "application/vnd.bokehjs_exec.v0+json": {
       "id": "1288"
      }
     },
     "output_type": "display_data"
    }
   ],
   "source": [
    "ranges = tuning_result.tuning_ranges\n",
    "figures = []\n",
    "for hp_name, hp_range in ranges.items():\n",
    "    categorical_args = {}\n",
    "    if hp_range.get(\"Values\"):\n",
    "        # This is marked as categorical.  Check if all options are actually numbers.\n",
    "        def is_num(x):\n",
    "            try:\n",
    "                float(x)\n",
    "                return 1\n",
    "            except:\n",
    "                return 0\n",
    "\n",
    "        vals = hp_range[\"Values\"]\n",
    "        if sum([is_num(x) for x in vals]) == len(vals):\n",
    "            # Bokeh has issues plotting a \"categorical\" range that's actually numeric, so plot as numeric\n",
    "            print(\"Hyperparameter %s is tuned as categorical, but all values are numeric\" % hp_name)\n",
    "        else:\n",
    "            # Set up extra options for plotting categoricals.  A bit tricky when they're actually numbers.\n",
    "            categorical_args[\"x_range\"] = vals\n",
    "\n",
    "    # Now plot it\n",
    "    p = figure(\n",
    "        plot_width=500,\n",
    "        plot_height=500,\n",
    "        title=\"Objective vs %s\" % hp_name,\n",
    "        tools=hover.tools(),\n",
    "        x_axis_label=hp_name,\n",
    "        y_axis_label=objective_name,\n",
    "        **categorical_args,\n",
    "    )\n",
    "    p.circle(source=df, x=hp_name, y=\"FinalObjectiveValue\")\n",
    "    figures.append(p)\n",
    "show(bokeh.layouts.Column(*figures))"
   ]
  },
  {
   "cell_type": "markdown",
   "id": "cbe0e933",
   "metadata": {
    "papermill": {
     "duration": null,
     "end_time": null,
     "exception": null,
     "start_time": null,
     "status": "pending"
    },
    "tags": []
   },
   "source": [
    "---\n",
    "## Host\n",
    "\n",
    "HPO작업을 통해 찾아낸 최적의 하이퍼파라미터를 이용하여 모델을 생성하고 호스팅 엔드포인트로 배포합니다. \n"
   ]
  },
  {
   "cell_type": "code",
   "execution_count": 15,
   "id": "b60d7b35",
   "metadata": {
    "papermill": {
     "duration": null,
     "end_time": null,
     "exception": null,
     "start_time": null,
     "status": "pending"
    },
    "tags": []
   },
   "outputs": [
    {
     "name": "stdout",
     "output_type": "stream",
     "text": [
      "\n",
      "2021-12-04 08:12:37 Starting - Preparing the instances for training\n",
      "2021-12-04 08:12:37 Downloading - Downloading input data\n",
      "2021-12-04 08:12:37 Training - Training image download completed. Training in progress.\n",
      "2021-12-04 08:12:37 Uploading - Uploading generated training model\n",
      "2021-12-04 08:12:37 Completed - Training job completed\n",
      "------!"
     ]
    }
   ],
   "source": [
    "hpo_predictor = tuner.deploy(\n",
    "    initial_instance_count=1, instance_type=\"ml.m4.xlarge\", serializer=CSVSerializer()\n",
    ")"
   ]
  },
  {
   "cell_type": "markdown",
   "id": "89f3eb43",
   "metadata": {
    "papermill": {
     "duration": null,
     "end_time": null,
     "exception": null,
     "start_time": null,
     "status": "pending"
    },
    "tags": []
   },
   "source": [
    "### Evaluate\n",
    "\n",
    "1번 노트북에서 실행했던 것과 유사한 방법으로 테스트데이터에 대한 예측을 실행하과 1번 작업의 결과와 비교해 보겠습니다.\n"
   ]
  },
  {
   "cell_type": "code",
   "execution_count": 16,
   "id": "106f48df",
   "metadata": {
    "papermill": {
     "duration": null,
     "end_time": null,
     "exception": null,
     "start_time": null,
     "status": "pending"
    },
    "tags": []
   },
   "outputs": [],
   "source": [
    "def predict(data, rows=500):\n",
    "    split_array = np.array_split(data, int(data.shape[0] / float(rows) + 1))\n",
    "    predictions = \"\"\n",
    "    for array in split_array:\n",
    "        predictions = \",\".join([predictions, hpo_predictor.predict(array).decode(\"utf-8\")])\n",
    "\n",
    "    return np.fromstring(predictions[1:], sep=\",\")\n",
    "\n",
    "\n",
    "predictions_hpo = predict(test_data.to_numpy()[:, 1:])"
   ]
  },
  {
   "cell_type": "markdown",
   "id": "e8a64ec8",
   "metadata": {
    "papermill": {
     "duration": null,
     "end_time": null,
     "exception": null,
     "start_time": null,
     "status": "pending"
    },
    "tags": []
   },
   "source": [
    "### Compare results\n",
    "\n",
    "이번에는 sklearn에서 제공하는 classification_report 기능을 이용하여 결과를 확인하겠습니다. 편의상 0.5를 컷오프로 지정하였습니다. \n"
   ]
  },
  {
   "cell_type": "code",
   "execution_count": 17,
   "id": "17e882c6",
   "metadata": {
    "papermill": {
     "duration": null,
     "end_time": null,
     "exception": null,
     "start_time": null,
     "status": "pending"
    },
    "tags": []
   },
   "outputs": [
    {
     "name": "stdout",
     "output_type": "stream",
     "text": [
      "              precision    recall  f1-score   support\n",
      "\n",
      "           0       0.96      0.92      0.94       253\n",
      "           1       0.92      0.96      0.94       247\n",
      "\n",
      "    accuracy                           0.94       500\n",
      "   macro avg       0.94      0.94      0.94       500\n",
      "weighted avg       0.94      0.94      0.94       500\n",
      "\n"
     ]
    }
   ],
   "source": [
    "from sklearn.metrics import classification_report\n",
    "print(classification_report(test_data.iloc[:, 0], np.round(predictions)))"
   ]
  },
  {
   "cell_type": "markdown",
   "id": "10c4ec3f",
   "metadata": {},
   "source": [
    "다음은 HPO로 찾아낸 하이퍼파라미터로 작업한 결과입니다. 전체적으로 이전 모델의 성능과 유사하나 0번 분류에 대한 precision과 recall 값이 조금 상승하였습니다.  "
   ]
  },
  {
   "cell_type": "code",
   "execution_count": 18,
   "id": "ce662b9f",
   "metadata": {
    "papermill": {
     "duration": null,
     "end_time": null,
     "exception": null,
     "start_time": null,
     "status": "pending"
    },
    "tags": []
   },
   "outputs": [
    {
     "name": "stdout",
     "output_type": "stream",
     "text": [
      "              precision    recall  f1-score   support\n",
      "\n",
      "           0       0.96      0.93      0.95       253\n",
      "           1       0.93      0.96      0.95       247\n",
      "\n",
      "    accuracy                           0.95       500\n",
      "   macro avg       0.95      0.95      0.95       500\n",
      "weighted avg       0.95      0.95      0.95       500\n",
      "\n"
     ]
    }
   ],
   "source": [
    "from sklearn.metrics import classification_report\n",
    "print(classification_report(test_data.iloc[:, 0], np.round(predictions_hpo)))"
   ]
  },
  {
   "cell_type": "markdown",
   "id": "9f636219",
   "metadata": {
    "papermill": {
     "duration": null,
     "end_time": null,
     "exception": null,
     "start_time": null,
     "status": "pending"
    },
    "tags": []
   },
   "source": [
    "### (Optional) Clean-up\n",
    "\n",
    "모든 작업을 완료하였다면 추가 요금발생을 막기 위해 아래 셀을 실행하십시오. 아래 코드는 생성한 호스팅 엔드포인트를 제거합니다. "
   ]
  },
  {
   "cell_type": "code",
   "execution_count": 19,
   "id": "db6db89d",
   "metadata": {
    "papermill": {
     "duration": null,
     "end_time": null,
     "exception": null,
     "start_time": null,
     "status": "pending"
    },
    "tags": []
   },
   "outputs": [],
   "source": [
    "hpo_predictor.delete_endpoint()"
   ]
  },
  {
   "cell_type": "code",
   "execution_count": null,
   "id": "0d9bef8b",
   "metadata": {},
   "outputs": [],
   "source": []
  },
  {
   "cell_type": "code",
   "execution_count": null,
   "id": "0f20fe3e",
   "metadata": {},
   "outputs": [],
   "source": []
  }
 ],
 "metadata": {
  "celltoolbar": "Tags",
  "kernelspec": {
   "display_name": "conda_python3",
   "language": "python",
   "name": "conda_python3"
  },
  "language_info": {
   "codemirror_mode": {
    "name": "ipython",
    "version": 3
   },
   "file_extension": ".py",
   "mimetype": "text/x-python",
   "name": "python",
   "nbconvert_exporter": "python",
   "pygments_lexer": "ipython3",
   "version": "3.6.13"
  },
  "notice": "Copyright 2017 Amazon.com, Inc. or its affiliates. All Rights Reserved.  Licensed under the Apache License, Version 2.0 (the \"License\"). You may not use this file except in compliance with the License. A copy of the License is located at http://aws.amazon.com/apache2.0/ or in the \"license\" file accompanying this file. This file is distributed on an \"AS IS\" BASIS, WITHOUT WARRANTIES OR CONDITIONS OF ANY KIND, either express or implied. See the License for the specific language governing permissions and limitations under the License.",
  "papermill": {
   "default_parameters": {},
   "duration": 311.728138,
   "end_time": "2021-06-07T00:14:55.273560",
   "environment_variables": {},
   "exception": true,
   "input_path": "xgboost_customer_churn.ipynb",
   "output_path": "/opt/ml/processing/output/xgboost_customer_churn-2021-06-07-00-06-03.ipynb",
   "parameters": {
    "kms_key": "arn:aws:kms:us-west-2:521695447989:key/6e9984db-50cf-4c7e-926c-877ec47a8b25"
   },
   "start_time": "2021-06-07T00:09:43.545422",
   "version": "2.3.3"
  }
 },
 "nbformat": 4,
 "nbformat_minor": 5
}
