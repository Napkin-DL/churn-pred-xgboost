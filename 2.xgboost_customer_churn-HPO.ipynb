{
 "cells": [
  {
   "cell_type": "markdown",
   "id": "03da55e5",
   "metadata": {
    "papermill": {
     "duration": 0.018505,
     "end_time": "2021-06-07T00:09:44.379517",
     "exception": false,
     "start_time": "2021-06-07T00:09:44.361012",
     "status": "completed"
    },
    "tags": []
   },
   "source": [
    "# HPO for Customer Churn Prediction with XGBoost\n",
    "_**본 노트북은 1번 노트북에서 작업한 고객이탈예측에 하이퍼파라미터 최적화 작업을 수행합니다.**_\n",
    "\n",
    "\n",
    "---\n",
    "#### 주의 : 1번 노트북 작업을 완료후 실행해야 합니다.\n",
    "\n",
    "---\n",
    "\n",
    "## Contents\n",
    "\n",
    "1. [Setup](#Setup)\n",
    "1. [Train with HPO](#Train-with-HPO)\n",
    "1. [Analyze result of HPO job](#Analyze-result-of-HPO-job)\n",
    "1. [Analyze result of HPO parameters](#Analyze-result-of-HPO-parameters)\n",
    "1. [Host](#Host)\n",
    "  1. [Evaluate](#Evaluate)\n",
    "  1. [Compare results](#Compare-results)\n",
    "\n",
    "---\n",
    "\n",
    "## Setup\n",
    "\n",
    "SageMaker SDK를 로드하고 초기변수를 설정합니다. (1번 노트북의 첫단계와 동일합니다.)\n"
   ]
  },
  {
   "cell_type": "code",
   "execution_count": 8,
   "id": "82c05e77",
   "metadata": {
    "execution": {
     "iopub.execute_input": "2021-06-07T00:09:44.418703Z",
     "iopub.status.busy": "2021-06-07T00:09:44.418266Z",
     "iopub.status.idle": "2021-06-07T00:09:45.607044Z",
     "shell.execute_reply": "2021-06-07T00:09:45.606579Z"
    },
    "isConfigCell": true,
    "papermill": {
     "duration": 1.209916,
     "end_time": "2021-06-07T00:09:45.607159",
     "exception": false,
     "start_time": "2021-06-07T00:09:44.397243",
     "status": "completed"
    },
    "tags": [
     "parameters"
    ]
   },
   "outputs": [],
   "source": [
    "import sagemaker\n",
    "\n",
    "sess = sagemaker.Session()\n",
    "bucket = sess.default_bucket()\n",
    "prefix = \"sagemaker/DEMO-xgboost-churn\"\n",
    "\n",
    "# Define IAM role\n",
    "import boto3\n",
    "import re\n",
    "from sagemaker import get_execution_role\n",
    "\n",
    "role = get_execution_role()"
   ]
  },
  {
   "cell_type": "markdown",
   "id": "812c1c10",
   "metadata": {
    "papermill": {
     "duration": 0.017739,
     "end_time": "2021-06-07T00:09:45.683322",
     "exception": false,
     "start_time": "2021-06-07T00:09:45.665583",
     "status": "completed"
    },
    "tags": []
   },
   "source": [
    "필요한 파이썬 라이브러리를 import 합니다. "
   ]
  },
  {
   "cell_type": "code",
   "execution_count": 9,
   "id": "a9d05cb9",
   "metadata": {
    "execution": {
     "iopub.execute_input": "2021-06-07T00:09:45.723197Z",
     "iopub.status.busy": "2021-06-07T00:09:45.722450Z",
     "iopub.status.idle": "2021-06-07T00:09:46.367234Z",
     "shell.execute_reply": "2021-06-07T00:09:46.366826Z"
    },
    "papermill": {
     "duration": 0.666347,
     "end_time": "2021-06-07T00:09:46.367361",
     "exception": false,
     "start_time": "2021-06-07T00:09:45.701014",
     "status": "completed"
    },
    "tags": []
   },
   "outputs": [],
   "source": [
    "import pandas as pd\n",
    "import numpy as np\n",
    "import matplotlib.pyplot as plt\n",
    "import io\n",
    "import os\n",
    "import sys\n",
    "import time\n",
    "import json\n",
    "from IPython.display import display\n",
    "from time import strftime, gmtime\n",
    "from sagemaker.inputs import TrainingInput\n",
    "from sagemaker.serializers import CSVSerializer"
   ]
  },
  {
   "cell_type": "markdown",
   "id": "c3f46a69",
   "metadata": {
    "papermill": {
     "duration": 0.017739,
     "end_time": "2021-06-07T00:09:45.683322",
     "exception": false,
     "start_time": "2021-06-07T00:09:45.665583",
     "status": "completed"
    },
    "tags": []
   },
   "source": [
    "1번 노트북에서 사용한 변수를 리스토어합니다."
   ]
  },
  {
   "cell_type": "code",
   "execution_count": 10,
   "id": "05e3118b",
   "metadata": {},
   "outputs": [],
   "source": [
    "%store -r s3_input_train s3_input_validation test_data predictions"
   ]
  },
  {
   "cell_type": "code",
   "execution_count": 65,
   "id": "3279e3d3",
   "metadata": {},
   "outputs": [
    {
     "name": "stdout",
     "output_type": "stream",
     "text": [
      "dict_values([{'S3DataSource': {'S3DataType': 'S3Prefix', 'S3Uri': 's3://sagemaker-ap-northeast-1-308961792850/sagemaker/DEMO-xgboost-churn/train', 'S3DataDistributionType': 'FullyReplicated'}}, 'csv'])\n"
     ]
    }
   ],
   "source": [
    "print(s3_input_train.config.values())"
   ]
  },
  {
   "cell_type": "markdown",
   "id": "35024349",
   "metadata": {
    "papermill": {
     "duration": 0.050157,
     "end_time": "2021-06-07T00:10:15.918579",
     "exception": false,
     "start_time": "2021-06-07T00:10:15.868422",
     "status": "completed"
    },
    "tags": []
   },
   "source": [
    "---\n",
    "## Train with HPO\n",
    "\n",
    "HPO 작업을 위해 XGBoost Estimator를 선언합니다. 먼저 XGBoost 컨테이너의 위치를 가져옵니다."
   ]
  },
  {
   "cell_type": "code",
   "execution_count": 11,
   "id": "1228cf55",
   "metadata": {},
   "outputs": [
    {
     "data": {
      "text/plain": [
       "'501404015308.dkr.ecr.ap-northeast-1.amazonaws.com/xgboost:latest'"
      ]
     },
     "metadata": {},
     "output_type": "display_data"
    }
   ],
   "source": [
    "container = sagemaker.image_uris.retrieve(\"xgboost\", boto3.Session().region_name, \"latest\")\n",
    "display(container)"
   ]
  },
  {
   "cell_type": "markdown",
   "id": "be8518d0",
   "metadata": {},
   "source": [
    "Estimator의 설정은 1번 단계와 거의 동일하나 몇가지가 달라졌습니다.\n",
    "- hyperparameter를 세팅할 때 max_depth, etc, min_child_weight 값을 설정하지 않았습니다.\n",
    "- xgb.fit()을 바로 실행하지 않았습니다. (대신 바로 다음 스텝에서 Hyperparameter tuning 작업의 매개변수로 전달됩니다.)"
   ]
  },
  {
   "cell_type": "code",
   "execution_count": 66,
   "id": "0698da9e",
   "metadata": {},
   "outputs": [],
   "source": [
    "sess = sagemaker.Session()\n",
    "\n",
    "xgb = sagemaker.estimator.Estimator(\n",
    "    container,\n",
    "    role,\n",
    "    instance_count=1,\n",
    "    instance_type=\"ml.m4.xlarge\",\n",
    "    output_path=\"s3://{}/{}/output\".format(bucket, prefix),\n",
    "    sagemaker_session=sess,\n",
    ")\n",
    "xgb.set_hyperparameters(\n",
    "    gamma=4,\n",
    "    subsample=0.8,\n",
    "    silent=0,\n",
    "    objective=\"binary:logistic\",\n",
    "    num_round=100,\n",
    ")\n"
   ]
  },
  {
   "cell_type": "markdown",
   "id": "e1cd8c32",
   "metadata": {},
   "source": [
    "아래는 1번 노트북에서 사용한 코드입니다. 어떤 부분이 달려졌는지 비교해 보시기 바랍니다.\n",
    "\n",
    "```\n",
    "sess = sagemaker.Session()\n",
    "\n",
    "xgb = sagemaker.estimator.Estimator(\n",
    "    container,\n",
    "    role,\n",
    "    instance_count=1,\n",
    "    instance_type=\"ml.m4.xlarge\",\n",
    "    output_path=\"s3://{}/{}/output\".format(bucket, prefix),\n",
    "    sagemaker_session=sess,\n",
    ")\n",
    "xgb.set_hyperparameters(\n",
    "    max_depth=5,\n",
    "    eta=0.2,\n",
    "    gamma=4,\n",
    "    min_child_weight=6,\n",
    "    subsample=0.8,\n",
    "    silent=0,\n",
    "    objective=\"binary:logistic\",\n",
    "    num_round=100,\n",
    ")\n",
    "\n",
    "xgb.fit({\"train\": s3_input_train, \"validation\": s3_input_validation})\n",
    "```\n"
   ]
  },
  {
   "cell_type": "markdown",
   "id": "4d4a648f",
   "metadata": {},
   "source": [
    "\n",
    "### SageMaker tunner 선언\n",
    "\n",
    "SageMaker Hypter parameter tunner를 선언합니다.\n",
    "- objective_metric_name : HPO작업에서 최적화할 목표 매트릭을 설정\n",
    "- hyperparameter_ranges : 탐색하고자하는 하이퍼파라미터와 해당 값의 범위를 지정\n",
    "- max_jobs : 총 실행할 작업의 회수\n",
    "- max_parallel_jobs : 동시에 실행할 작업의 회수"
   ]
  },
  {
   "cell_type": "code",
   "execution_count": 17,
   "id": "820485f8",
   "metadata": {},
   "outputs": [],
   "source": [
    "from sagemaker.tuner import (\n",
    "    IntegerParameter,\n",
    "    CategoricalParameter,\n",
    "    ContinuousParameter,\n",
    "    HyperparameterTuner,\n",
    ")\n",
    "\n",
    "objective_metric_name = \"validation:auc\"\n",
    "\n",
    "hyperparameter_ranges = {\n",
    "    \"eta\": ContinuousParameter(0, 1),\n",
    "    \"min_child_weight\": ContinuousParameter(1, 10),\n",
    "    \"max_depth\": IntegerParameter(1, 10),\n",
    "}\n",
    "\n",
    "tuner = HyperparameterTuner(\n",
    "    xgb, objective_metric_name, hyperparameter_ranges, max_jobs=20, max_parallel_jobs=3\n",
    ")\n"
   ]
  },
  {
   "cell_type": "markdown",
   "id": "31b1b890",
   "metadata": {},
   "source": [
    "### HPO 작업 실행\n",
    "다음 셀을 실행하고 SageMaker 콘솔로 이동하여 Hyperparameter tuning jobs 메뉴를 클릭합니다. 작업이 제출되고 실행되는 것을 모니터링할 수 있습니다. (max_jobs와 max_parallel_jobs 설정이 HPO 작업실행에 어떤 영향을 미치는지 확인해 보세요.)"
   ]
  },
  {
   "cell_type": "code",
   "execution_count": 20,
   "id": "f3967beb",
   "metadata": {},
   "outputs": [
    {
     "name": "stdout",
     "output_type": "stream",
     "text": [
      "............................................................................................................................................................................................................................................................................................................................................................!\n"
     ]
    }
   ],
   "source": [
    "%%time\n",
    "tuner.fit({\"train\": s3_input_train, \"validation\": s3_input_validation})"
   ]
  },
  {
   "cell_type": "markdown",
   "id": "d5f964b2",
   "metadata": {},
   "source": [
    "## Analyze result of HPO job\n",
    "\n",
    "HPO 작업이 완료되면 다음 코드를 이용하여 결과를 탐색해 봅니다.\n",
    "\n",
    "분석 코드는 아래 SageMaker 공식예제로부터 일부 변수값 등을 변형하였습니다.\n",
    "- https://github.com/aws/amazon-sagemaker-examples/blob/master/hyperparameter_tuning/analyze_results/HPO_Analyze_TuningJob_Results.ipynb\n"
   ]
  },
  {
   "cell_type": "code",
   "execution_count": 21,
   "id": "32ea66df",
   "metadata": {},
   "outputs": [
    {
     "data": {
      "text/plain": [
       "'Completed'"
      ]
     },
     "execution_count": 21,
     "metadata": {},
     "output_type": "execute_result"
    }
   ],
   "source": [
    "tuning_job_name=tuner.latest_tuning_job.job_name\n",
    "\n",
    "boto3.client(\"sagemaker\").describe_hyper_parameter_tuning_job(\n",
    "    HyperParameterTuningJobName=tuning_job_name\n",
    ")[\"HyperParameterTuningJobStatus\"]\n"
   ]
  },
  {
   "cell_type": "markdown",
   "id": "4fe8f5ed",
   "metadata": {},
   "source": [
    "boto3 SDK를 이용하여 작업결과를 가져오고 `tuning_job_result` 로 저장하였습니다. 해당 오브젝트를 살펴보면 실행한 작업의 수 등 HPO작업의 설정 사항과 상태 등을 확인할 수 있습니다.\n"
   ]
  },
  {
   "cell_type": "code",
   "execution_count": 67,
   "id": "929369bd",
   "metadata": {},
   "outputs": [
    {
     "name": "stdout",
     "output_type": "stream",
     "text": [
      "20 training jobs have completed\n"
     ]
    }
   ],
   "source": [
    "sage_client = boto3.Session().client(\"sagemaker\")\n",
    "# run this cell to check current status of hyperparameter tuning job\n",
    "tuning_job_result = sage_client.describe_hyper_parameter_tuning_job(\n",
    "    HyperParameterTuningJobName=tuning_job_name\n",
    ")\n",
    "\n",
    "status = tuning_job_result[\"HyperParameterTuningJobStatus\"]\n",
    "if status != \"Completed\":\n",
    "    print(\"Reminder: the tuning job has not been completed.\")\n",
    "\n",
    "job_count = tuning_job_result[\"TrainingJobStatusCounters\"][\"Completed\"]\n",
    "print(\"%d training jobs have completed\" % job_count)\n",
    "\n",
    "is_minimize = (\n",
    "    tuning_job_result[\"HyperParameterTuningJobConfig\"][\"HyperParameterTuningJobObjective\"][\"Type\"] != \"Maximize\"\n",
    ")\n",
    "objective_name = tuning_job_result[\"HyperParameterTuningJobConfig\"][\"HyperParameterTuningJobObjective\"][\"MetricName\"]\n"
   ]
  },
  {
   "cell_type": "markdown",
   "id": "eaca0b07",
   "metadata": {},
   "source": [
    "20번의 탐색 중 가장 높은 성능을 보인 작업을 살펴봅니다. 작업실행 시간등의 로그와 함께 탐색대상으로 지정했던 `eta`, `max_depth`, `min_child_weight` 에 대한 최적값을 확인할 수 있습니다. (`TunedHyperParameters`항목을 확인합니다.)"
   ]
  },
  {
   "cell_type": "code",
   "execution_count": 35,
   "id": "0e07fa4b",
   "metadata": {},
   "outputs": [
    {
     "name": "stdout",
     "output_type": "stream",
     "text": [
      "Best model found so far:\n",
      "{'CreationTime': datetime.datetime(2021, 7, 4, 6, 45, 48, tzinfo=tzlocal()),\n",
      " 'FinalHyperParameterTuningJobObjectiveMetric': {'MetricName': 'validation:auc',\n",
      "                                                 'Value': 0.9860320091247559},\n",
      " 'ObjectiveStatus': 'Succeeded',\n",
      " 'TrainingEndTime': datetime.datetime(2021, 7, 4, 6, 49, 55, tzinfo=tzlocal()),\n",
      " 'TrainingJobArn': 'arn:aws:sagemaker:ap-northeast-1:308961792850:training-job/xgboost-210704-0625-017-27f78aa1',\n",
      " 'TrainingJobName': 'xgboost-210704-0625-017-27f78aa1',\n",
      " 'TrainingJobStatus': 'Completed',\n",
      " 'TrainingStartTime': datetime.datetime(2021, 7, 4, 6, 48, 30, tzinfo=tzlocal()),\n",
      " 'TunedHyperParameters': {'eta': '0.09557658233972222',\n",
      "                          'max_depth': '10',\n",
      "                          'min_child_weight': '8.868466891754721'}}\n"
     ]
    }
   ],
   "source": [
    "from pprint import pprint\n",
    "\n",
    "if tuning_job_result.get(\"BestTrainingJob\", None):\n",
    "    print(\"Best model found so far:\")\n",
    "    pprint(tuning_job_result[\"BestTrainingJob\"])\n",
    "else:\n",
    "    print(\"No training jobs have reported results yet.\")\n"
   ]
  },
  {
   "cell_type": "markdown",
   "id": "4ee62a93",
   "metadata": {},
   "source": [
    "## Analyze result of HPO parameters\n",
    "\n",
    "SageMaker의 HyperparameterTuningJobAnalytics를 이용하여 하이퍼파라미터 탐색작업에서 실행한 실험의 결과를 살펴봅니다."
   ]
  },
  {
   "cell_type": "code",
   "execution_count": 51,
   "id": "92135eee",
   "metadata": {},
   "outputs": [
    {
     "name": "stdout",
     "output_type": "stream",
     "text": [
      "Number of training jobs with valid objective: 20\n",
      "{'lowest': 0.9763540029525757, 'highest': 0.9860320091247559}\n"
     ]
    },
    {
     "name": "stderr",
     "output_type": "stream",
     "text": [
      "/home/ec2-user/anaconda3/envs/python3/lib/python3.6/site-packages/ipykernel/__main__.py:10: FutureWarning: Passing a negative integer is deprecated in version 1.0 and will not be supported in future version. Instead, use None to not limit the column width.\n"
     ]
    },
    {
     "data": {
      "text/html": [
       "<div>\n",
       "<style scoped>\n",
       "    .dataframe tbody tr th:only-of-type {\n",
       "        vertical-align: middle;\n",
       "    }\n",
       "\n",
       "    .dataframe tbody tr th {\n",
       "        vertical-align: top;\n",
       "    }\n",
       "\n",
       "    .dataframe thead th {\n",
       "        text-align: right;\n",
       "    }\n",
       "</style>\n",
       "<table border=\"1\" class=\"dataframe\">\n",
       "  <thead>\n",
       "    <tr style=\"text-align: right;\">\n",
       "      <th></th>\n",
       "      <th>eta</th>\n",
       "      <th>max_depth</th>\n",
       "      <th>min_child_weight</th>\n",
       "      <th>TrainingJobName</th>\n",
       "      <th>TrainingJobStatus</th>\n",
       "      <th>FinalObjectiveValue</th>\n",
       "      <th>TrainingStartTime</th>\n",
       "      <th>TrainingEndTime</th>\n",
       "      <th>TrainingElapsedTimeSeconds</th>\n",
       "    </tr>\n",
       "  </thead>\n",
       "  <tbody>\n",
       "    <tr>\n",
       "      <th>3</th>\n",
       "      <td>0.095577</td>\n",
       "      <td>10.0</td>\n",
       "      <td>8.868467</td>\n",
       "      <td>xgboost-210704-0625-017-27f78aa1</td>\n",
       "      <td>Completed</td>\n",
       "      <td>0.986032</td>\n",
       "      <td>2021-07-04 06:48:30+00:00</td>\n",
       "      <td>2021-07-04 06:49:55+00:00</td>\n",
       "      <td>85.0</td>\n",
       "    </tr>\n",
       "    <tr>\n",
       "      <th>13</th>\n",
       "      <td>0.372165</td>\n",
       "      <td>6.0</td>\n",
       "      <td>5.109769</td>\n",
       "      <td>xgboost-210704-0625-007-f2e6155f</td>\n",
       "      <td>Completed</td>\n",
       "      <td>0.985996</td>\n",
       "      <td>2021-07-04 06:35:37+00:00</td>\n",
       "      <td>2021-07-04 06:36:35+00:00</td>\n",
       "      <td>58.0</td>\n",
       "    </tr>\n",
       "    <tr>\n",
       "      <th>4</th>\n",
       "      <td>0.089938</td>\n",
       "      <td>8.0</td>\n",
       "      <td>7.952855</td>\n",
       "      <td>xgboost-210704-0625-016-8971e77c</td>\n",
       "      <td>Completed</td>\n",
       "      <td>0.985283</td>\n",
       "      <td>2021-07-04 06:48:22+00:00</td>\n",
       "      <td>2021-07-04 06:49:08+00:00</td>\n",
       "      <td>46.0</td>\n",
       "    </tr>\n",
       "    <tr>\n",
       "      <th>2</th>\n",
       "      <td>0.089084</td>\n",
       "      <td>10.0</td>\n",
       "      <td>6.947606</td>\n",
       "      <td>xgboost-210704-0625-018-4c1f4abf</td>\n",
       "      <td>Completed</td>\n",
       "      <td>0.985147</td>\n",
       "      <td>2021-07-04 06:48:29+00:00</td>\n",
       "      <td>2021-07-04 06:49:36+00:00</td>\n",
       "      <td>67.0</td>\n",
       "    </tr>\n",
       "    <tr>\n",
       "      <th>17</th>\n",
       "      <td>0.535116</td>\n",
       "      <td>4.0</td>\n",
       "      <td>5.268480</td>\n",
       "      <td>xgboost-210704-0625-003-cd562b3e</td>\n",
       "      <td>Completed</td>\n",
       "      <td>0.984967</td>\n",
       "      <td>2021-07-04 06:27:44+00:00</td>\n",
       "      <td>2021-07-04 06:28:50+00:00</td>\n",
       "      <td>66.0</td>\n",
       "    </tr>\n",
       "    <tr>\n",
       "      <th>18</th>\n",
       "      <td>0.722963</td>\n",
       "      <td>8.0</td>\n",
       "      <td>7.836629</td>\n",
       "      <td>xgboost-210704-0625-002-1f4cc2cb</td>\n",
       "      <td>Completed</td>\n",
       "      <td>0.984823</td>\n",
       "      <td>2021-07-04 06:27:45+00:00</td>\n",
       "      <td>2021-07-04 06:28:34+00:00</td>\n",
       "      <td>49.0</td>\n",
       "    </tr>\n",
       "    <tr>\n",
       "      <th>0</th>\n",
       "      <td>0.110877</td>\n",
       "      <td>10.0</td>\n",
       "      <td>9.048467</td>\n",
       "      <td>xgboost-210704-0625-020-72def18a</td>\n",
       "      <td>Completed</td>\n",
       "      <td>0.984771</td>\n",
       "      <td>2021-07-04 06:52:43+00:00</td>\n",
       "      <td>2021-07-04 06:53:30+00:00</td>\n",
       "      <td>47.0</td>\n",
       "    </tr>\n",
       "    <tr>\n",
       "      <th>7</th>\n",
       "      <td>0.086734</td>\n",
       "      <td>6.0</td>\n",
       "      <td>1.057188</td>\n",
       "      <td>xgboost-210704-0625-013-c1788ff7</td>\n",
       "      <td>Completed</td>\n",
       "      <td>0.984699</td>\n",
       "      <td>2021-07-04 06:44:11+00:00</td>\n",
       "      <td>2021-07-04 06:45:21+00:00</td>\n",
       "      <td>70.0</td>\n",
       "    </tr>\n",
       "    <tr>\n",
       "      <th>5</th>\n",
       "      <td>0.329765</td>\n",
       "      <td>9.0</td>\n",
       "      <td>1.940763</td>\n",
       "      <td>xgboost-210704-0625-015-e89dbe4d</td>\n",
       "      <td>Completed</td>\n",
       "      <td>0.984351</td>\n",
       "      <td>2021-07-04 06:44:14+00:00</td>\n",
       "      <td>2021-07-04 06:45:02+00:00</td>\n",
       "      <td>48.0</td>\n",
       "    </tr>\n",
       "    <tr>\n",
       "      <th>11</th>\n",
       "      <td>0.746569</td>\n",
       "      <td>8.0</td>\n",
       "      <td>1.116063</td>\n",
       "      <td>xgboost-210704-0625-009-7e5e42c6</td>\n",
       "      <td>Completed</td>\n",
       "      <td>0.983334</td>\n",
       "      <td>2021-07-04 06:35:51+00:00</td>\n",
       "      <td>2021-07-04 06:36:38+00:00</td>\n",
       "      <td>47.0</td>\n",
       "    </tr>\n",
       "    <tr>\n",
       "      <th>19</th>\n",
       "      <td>0.043317</td>\n",
       "      <td>7.0</td>\n",
       "      <td>4.501039</td>\n",
       "      <td>xgboost-210704-0625-001-87941a28</td>\n",
       "      <td>Completed</td>\n",
       "      <td>0.982742</td>\n",
       "      <td>2021-07-04 06:27:44+00:00</td>\n",
       "      <td>2021-07-04 06:28:33+00:00</td>\n",
       "      <td>49.0</td>\n",
       "    </tr>\n",
       "    <tr>\n",
       "      <th>9</th>\n",
       "      <td>0.284091</td>\n",
       "      <td>4.0</td>\n",
       "      <td>2.528798</td>\n",
       "      <td>xgboost-210704-0625-011-c5e1042f</td>\n",
       "      <td>Completed</td>\n",
       "      <td>0.982662</td>\n",
       "      <td>2021-07-04 06:39:45+00:00</td>\n",
       "      <td>2021-07-04 06:40:31+00:00</td>\n",
       "      <td>46.0</td>\n",
       "    </tr>\n",
       "    <tr>\n",
       "      <th>6</th>\n",
       "      <td>0.049167</td>\n",
       "      <td>6.0</td>\n",
       "      <td>2.360990</td>\n",
       "      <td>xgboost-210704-0625-014-ba565761</td>\n",
       "      <td>Completed</td>\n",
       "      <td>0.982626</td>\n",
       "      <td>2021-07-04 06:44:08+00:00</td>\n",
       "      <td>2021-07-04 06:44:56+00:00</td>\n",
       "      <td>48.0</td>\n",
       "    </tr>\n",
       "    <tr>\n",
       "      <th>10</th>\n",
       "      <td>0.374961</td>\n",
       "      <td>10.0</td>\n",
       "      <td>2.350103</td>\n",
       "      <td>xgboost-210704-0625-010-0df917e0</td>\n",
       "      <td>Completed</td>\n",
       "      <td>0.982350</td>\n",
       "      <td>2021-07-04 06:39:50+00:00</td>\n",
       "      <td>2021-07-04 06:40:38+00:00</td>\n",
       "      <td>48.0</td>\n",
       "    </tr>\n",
       "    <tr>\n",
       "      <th>16</th>\n",
       "      <td>0.634269</td>\n",
       "      <td>9.0</td>\n",
       "      <td>5.420682</td>\n",
       "      <td>xgboost-210704-0625-004-75217b6a</td>\n",
       "      <td>Completed</td>\n",
       "      <td>0.982270</td>\n",
       "      <td>2021-07-04 06:31:39+00:00</td>\n",
       "      <td>2021-07-04 06:32:28+00:00</td>\n",
       "      <td>49.0</td>\n",
       "    </tr>\n",
       "    <tr>\n",
       "      <th>8</th>\n",
       "      <td>0.223331</td>\n",
       "      <td>3.0</td>\n",
       "      <td>5.010991</td>\n",
       "      <td>xgboost-210704-0625-012-5e783729</td>\n",
       "      <td>Completed</td>\n",
       "      <td>0.980701</td>\n",
       "      <td>2021-07-04 06:39:42+00:00</td>\n",
       "      <td>2021-07-04 06:40:30+00:00</td>\n",
       "      <td>48.0</td>\n",
       "    </tr>\n",
       "    <tr>\n",
       "      <th>1</th>\n",
       "      <td>0.031944</td>\n",
       "      <td>9.0</td>\n",
       "      <td>8.302495</td>\n",
       "      <td>xgboost-210704-0625-019-bbae0eba</td>\n",
       "      <td>Completed</td>\n",
       "      <td>0.980105</td>\n",
       "      <td>2021-07-04 06:52:38+00:00</td>\n",
       "      <td>2021-07-04 06:53:44+00:00</td>\n",
       "      <td>66.0</td>\n",
       "    </tr>\n",
       "    <tr>\n",
       "      <th>15</th>\n",
       "      <td>0.889194</td>\n",
       "      <td>5.0</td>\n",
       "      <td>6.881315</td>\n",
       "      <td>xgboost-210704-0625-005-d7064cb2</td>\n",
       "      <td>Completed</td>\n",
       "      <td>0.979836</td>\n",
       "      <td>2021-07-04 06:31:54+00:00</td>\n",
       "      <td>2021-07-04 06:32:50+00:00</td>\n",
       "      <td>56.0</td>\n",
       "    </tr>\n",
       "    <tr>\n",
       "      <th>14</th>\n",
       "      <td>0.620761</td>\n",
       "      <td>2.0</td>\n",
       "      <td>9.420079</td>\n",
       "      <td>xgboost-210704-0625-006-e55cb9d3</td>\n",
       "      <td>Completed</td>\n",
       "      <td>0.978768</td>\n",
       "      <td>2021-07-04 06:31:51+00:00</td>\n",
       "      <td>2021-07-04 06:32:55+00:00</td>\n",
       "      <td>64.0</td>\n",
       "    </tr>\n",
       "    <tr>\n",
       "      <th>12</th>\n",
       "      <td>0.736198</td>\n",
       "      <td>2.0</td>\n",
       "      <td>8.513334</td>\n",
       "      <td>xgboost-210704-0625-008-0933b845</td>\n",
       "      <td>Completed</td>\n",
       "      <td>0.976354</td>\n",
       "      <td>2021-07-04 06:35:55+00:00</td>\n",
       "      <td>2021-07-04 06:37:00+00:00</td>\n",
       "      <td>65.0</td>\n",
       "    </tr>\n",
       "  </tbody>\n",
       "</table>\n",
       "</div>"
      ],
      "text/plain": [
       "         eta  max_depth  min_child_weight                   TrainingJobName  \\\n",
       "3   0.095577  10.0       8.868467          xgboost-210704-0625-017-27f78aa1   \n",
       "13  0.372165  6.0        5.109769          xgboost-210704-0625-007-f2e6155f   \n",
       "4   0.089938  8.0        7.952855          xgboost-210704-0625-016-8971e77c   \n",
       "2   0.089084  10.0       6.947606          xgboost-210704-0625-018-4c1f4abf   \n",
       "17  0.535116  4.0        5.268480          xgboost-210704-0625-003-cd562b3e   \n",
       "18  0.722963  8.0        7.836629          xgboost-210704-0625-002-1f4cc2cb   \n",
       "0   0.110877  10.0       9.048467          xgboost-210704-0625-020-72def18a   \n",
       "7   0.086734  6.0        1.057188          xgboost-210704-0625-013-c1788ff7   \n",
       "5   0.329765  9.0        1.940763          xgboost-210704-0625-015-e89dbe4d   \n",
       "11  0.746569  8.0        1.116063          xgboost-210704-0625-009-7e5e42c6   \n",
       "19  0.043317  7.0        4.501039          xgboost-210704-0625-001-87941a28   \n",
       "9   0.284091  4.0        2.528798          xgboost-210704-0625-011-c5e1042f   \n",
       "6   0.049167  6.0        2.360990          xgboost-210704-0625-014-ba565761   \n",
       "10  0.374961  10.0       2.350103          xgboost-210704-0625-010-0df917e0   \n",
       "16  0.634269  9.0        5.420682          xgboost-210704-0625-004-75217b6a   \n",
       "8   0.223331  3.0        5.010991          xgboost-210704-0625-012-5e783729   \n",
       "1   0.031944  9.0        8.302495          xgboost-210704-0625-019-bbae0eba   \n",
       "15  0.889194  5.0        6.881315          xgboost-210704-0625-005-d7064cb2   \n",
       "14  0.620761  2.0        9.420079          xgboost-210704-0625-006-e55cb9d3   \n",
       "12  0.736198  2.0        8.513334          xgboost-210704-0625-008-0933b845   \n",
       "\n",
       "   TrainingJobStatus  FinalObjectiveValue         TrainingStartTime  \\\n",
       "3   Completed         0.986032            2021-07-04 06:48:30+00:00   \n",
       "13  Completed         0.985996            2021-07-04 06:35:37+00:00   \n",
       "4   Completed         0.985283            2021-07-04 06:48:22+00:00   \n",
       "2   Completed         0.985147            2021-07-04 06:48:29+00:00   \n",
       "17  Completed         0.984967            2021-07-04 06:27:44+00:00   \n",
       "18  Completed         0.984823            2021-07-04 06:27:45+00:00   \n",
       "0   Completed         0.984771            2021-07-04 06:52:43+00:00   \n",
       "7   Completed         0.984699            2021-07-04 06:44:11+00:00   \n",
       "5   Completed         0.984351            2021-07-04 06:44:14+00:00   \n",
       "11  Completed         0.983334            2021-07-04 06:35:51+00:00   \n",
       "19  Completed         0.982742            2021-07-04 06:27:44+00:00   \n",
       "9   Completed         0.982662            2021-07-04 06:39:45+00:00   \n",
       "6   Completed         0.982626            2021-07-04 06:44:08+00:00   \n",
       "10  Completed         0.982350            2021-07-04 06:39:50+00:00   \n",
       "16  Completed         0.982270            2021-07-04 06:31:39+00:00   \n",
       "8   Completed         0.980701            2021-07-04 06:39:42+00:00   \n",
       "1   Completed         0.980105            2021-07-04 06:52:38+00:00   \n",
       "15  Completed         0.979836            2021-07-04 06:31:54+00:00   \n",
       "14  Completed         0.978768            2021-07-04 06:31:51+00:00   \n",
       "12  Completed         0.976354            2021-07-04 06:35:55+00:00   \n",
       "\n",
       "             TrainingEndTime  TrainingElapsedTimeSeconds  \n",
       "3  2021-07-04 06:49:55+00:00  85.0                        \n",
       "13 2021-07-04 06:36:35+00:00  58.0                        \n",
       "4  2021-07-04 06:49:08+00:00  46.0                        \n",
       "2  2021-07-04 06:49:36+00:00  67.0                        \n",
       "17 2021-07-04 06:28:50+00:00  66.0                        \n",
       "18 2021-07-04 06:28:34+00:00  49.0                        \n",
       "0  2021-07-04 06:53:30+00:00  47.0                        \n",
       "7  2021-07-04 06:45:21+00:00  70.0                        \n",
       "5  2021-07-04 06:45:02+00:00  48.0                        \n",
       "11 2021-07-04 06:36:38+00:00  47.0                        \n",
       "19 2021-07-04 06:28:33+00:00  49.0                        \n",
       "9  2021-07-04 06:40:31+00:00  46.0                        \n",
       "6  2021-07-04 06:44:56+00:00  48.0                        \n",
       "10 2021-07-04 06:40:38+00:00  48.0                        \n",
       "16 2021-07-04 06:32:28+00:00  49.0                        \n",
       "8  2021-07-04 06:40:30+00:00  48.0                        \n",
       "1  2021-07-04 06:53:44+00:00  66.0                        \n",
       "15 2021-07-04 06:32:50+00:00  56.0                        \n",
       "14 2021-07-04 06:32:55+00:00  64.0                        \n",
       "12 2021-07-04 06:37:00+00:00  65.0                        "
      ]
     },
     "execution_count": 51,
     "metadata": {},
     "output_type": "execute_result"
    }
   ],
   "source": [
    "tuning_result = sagemaker.HyperparameterTuningJobAnalytics(tuning_job_name)\n",
    "full_df = tuning_result.dataframe()\n",
    "\n",
    "if len(full_df) > 0:\n",
    "    df = full_df[full_df[\"FinalObjectiveValue\"] > -float(\"inf\")]\n",
    "    if len(df) > 0:\n",
    "        df = df.sort_values(\"FinalObjectiveValue\", ascending=is_minimize)\n",
    "        print(\"Number of training jobs with valid objective: %d\" % len(df))\n",
    "        print({\"lowest\": min(df[\"FinalObjectiveValue\"]), \"highest\": max(df[\"FinalObjectiveValue\"])})\n",
    "        pd.set_option(\"display.max_colwidth\", -1)  # Don't truncate TrainingJobName\n",
    "    else:\n",
    "        print(\"No training jobs have reported valid results yet.\")\n",
    "\n",
    "df"
   ]
  },
  {
   "cell_type": "markdown",
   "id": "bb275322",
   "metadata": {},
   "source": [
    "그래프를 통해 작업별 실행한 결과를 확인해 보겠습니다. 그래프상의 관측값에 마우스를 위치시키면 해당 실험이 하이퍼파라미터 범위 중 어떤 값을 사용하였고 그 때의 매트릭이 어떻게 관측되었는지 확인할 수 있습니다."
   ]
  },
  {
   "cell_type": "code",
   "execution_count": 68,
   "id": "97a06a2c",
   "metadata": {},
   "outputs": [
    {
     "data": {
      "text/html": [
       "\n",
       "    <div class=\"bk-root\">\n",
       "        <a href=\"https://bokeh.org\" target=\"_blank\" class=\"bk-logo bk-logo-small bk-logo-notebook\"></a>\n",
       "        <span id=\"1475\">Loading BokehJS ...</span>\n",
       "    </div>"
      ]
     },
     "metadata": {},
     "output_type": "display_data"
    },
    {
     "data": {
      "application/javascript": [
       "\n",
       "(function(root) {\n",
       "  function now() {\n",
       "    return new Date();\n",
       "  }\n",
       "\n",
       "  var force = true;\n",
       "\n",
       "  if (typeof root._bokeh_onload_callbacks === \"undefined\" || force === true) {\n",
       "    root._bokeh_onload_callbacks = [];\n",
       "    root._bokeh_is_loading = undefined;\n",
       "  }\n",
       "\n",
       "  var JS_MIME_TYPE = 'application/javascript';\n",
       "  var HTML_MIME_TYPE = 'text/html';\n",
       "  var EXEC_MIME_TYPE = 'application/vnd.bokehjs_exec.v0+json';\n",
       "  var CLASS_NAME = 'output_bokeh rendered_html';\n",
       "\n",
       "  /**\n",
       "   * Render data to the DOM node\n",
       "   */\n",
       "  function render(props, node) {\n",
       "    var script = document.createElement(\"script\");\n",
       "    node.appendChild(script);\n",
       "  }\n",
       "\n",
       "  /**\n",
       "   * Handle when an output is cleared or removed\n",
       "   */\n",
       "  function handleClearOutput(event, handle) {\n",
       "    var cell = handle.cell;\n",
       "\n",
       "    var id = cell.output_area._bokeh_element_id;\n",
       "    var server_id = cell.output_area._bokeh_server_id;\n",
       "    // Clean up Bokeh references\n",
       "    if (id != null && id in Bokeh.index) {\n",
       "      Bokeh.index[id].model.document.clear();\n",
       "      delete Bokeh.index[id];\n",
       "    }\n",
       "\n",
       "    if (server_id !== undefined) {\n",
       "      // Clean up Bokeh references\n",
       "      var cmd = \"from bokeh.io.state import curstate; print(curstate().uuid_to_server['\" + server_id + \"'].get_sessions()[0].document.roots[0]._id)\";\n",
       "      cell.notebook.kernel.execute(cmd, {\n",
       "        iopub: {\n",
       "          output: function(msg) {\n",
       "            var id = msg.content.text.trim();\n",
       "            if (id in Bokeh.index) {\n",
       "              Bokeh.index[id].model.document.clear();\n",
       "              delete Bokeh.index[id];\n",
       "            }\n",
       "          }\n",
       "        }\n",
       "      });\n",
       "      // Destroy server and session\n",
       "      var cmd = \"import bokeh.io.notebook as ion; ion.destroy_server('\" + server_id + \"')\";\n",
       "      cell.notebook.kernel.execute(cmd);\n",
       "    }\n",
       "  }\n",
       "\n",
       "  /**\n",
       "   * Handle when a new output is added\n",
       "   */\n",
       "  function handleAddOutput(event, handle) {\n",
       "    var output_area = handle.output_area;\n",
       "    var output = handle.output;\n",
       "\n",
       "    // limit handleAddOutput to display_data with EXEC_MIME_TYPE content only\n",
       "    if ((output.output_type != \"display_data\") || (!output.data.hasOwnProperty(EXEC_MIME_TYPE))) {\n",
       "      return\n",
       "    }\n",
       "\n",
       "    var toinsert = output_area.element.find(\".\" + CLASS_NAME.split(' ')[0]);\n",
       "\n",
       "    if (output.metadata[EXEC_MIME_TYPE][\"id\"] !== undefined) {\n",
       "      toinsert[toinsert.length - 1].firstChild.textContent = output.data[JS_MIME_TYPE];\n",
       "      // store reference to embed id on output_area\n",
       "      output_area._bokeh_element_id = output.metadata[EXEC_MIME_TYPE][\"id\"];\n",
       "    }\n",
       "    if (output.metadata[EXEC_MIME_TYPE][\"server_id\"] !== undefined) {\n",
       "      var bk_div = document.createElement(\"div\");\n",
       "      bk_div.innerHTML = output.data[HTML_MIME_TYPE];\n",
       "      var script_attrs = bk_div.children[0].attributes;\n",
       "      for (var i = 0; i < script_attrs.length; i++) {\n",
       "        toinsert[toinsert.length - 1].firstChild.setAttribute(script_attrs[i].name, script_attrs[i].value);\n",
       "        toinsert[toinsert.length - 1].firstChild.textContent = bk_div.children[0].textContent\n",
       "      }\n",
       "      // store reference to server id on output_area\n",
       "      output_area._bokeh_server_id = output.metadata[EXEC_MIME_TYPE][\"server_id\"];\n",
       "    }\n",
       "  }\n",
       "\n",
       "  function register_renderer(events, OutputArea) {\n",
       "\n",
       "    function append_mime(data, metadata, element) {\n",
       "      // create a DOM node to render to\n",
       "      var toinsert = this.create_output_subarea(\n",
       "        metadata,\n",
       "        CLASS_NAME,\n",
       "        EXEC_MIME_TYPE\n",
       "      );\n",
       "      this.keyboard_manager.register_events(toinsert);\n",
       "      // Render to node\n",
       "      var props = {data: data, metadata: metadata[EXEC_MIME_TYPE]};\n",
       "      render(props, toinsert[toinsert.length - 1]);\n",
       "      element.append(toinsert);\n",
       "      return toinsert\n",
       "    }\n",
       "\n",
       "    /* Handle when an output is cleared or removed */\n",
       "    events.on('clear_output.CodeCell', handleClearOutput);\n",
       "    events.on('delete.Cell', handleClearOutput);\n",
       "\n",
       "    /* Handle when a new output is added */\n",
       "    events.on('output_added.OutputArea', handleAddOutput);\n",
       "\n",
       "    /**\n",
       "     * Register the mime type and append_mime function with output_area\n",
       "     */\n",
       "    OutputArea.prototype.register_mime_type(EXEC_MIME_TYPE, append_mime, {\n",
       "      /* Is output safe? */\n",
       "      safe: true,\n",
       "      /* Index of renderer in `output_area.display_order` */\n",
       "      index: 0\n",
       "    });\n",
       "  }\n",
       "\n",
       "  // register the mime type if in Jupyter Notebook environment and previously unregistered\n",
       "  if (root.Jupyter !== undefined) {\n",
       "    var events = require('base/js/events');\n",
       "    var OutputArea = require('notebook/js/outputarea').OutputArea;\n",
       "\n",
       "    if (OutputArea.prototype.mime_types().indexOf(EXEC_MIME_TYPE) == -1) {\n",
       "      register_renderer(events, OutputArea);\n",
       "    }\n",
       "  }\n",
       "\n",
       "  \n",
       "  if (typeof (root._bokeh_timeout) === \"undefined\" || force === true) {\n",
       "    root._bokeh_timeout = Date.now() + 5000;\n",
       "    root._bokeh_failed_load = false;\n",
       "  }\n",
       "\n",
       "  var NB_LOAD_WARNING = {'data': {'text/html':\n",
       "     \"<div style='background-color: #fdd'>\\n\"+\n",
       "     \"<p>\\n\"+\n",
       "     \"BokehJS does not appear to have successfully loaded. If loading BokehJS from CDN, this \\n\"+\n",
       "     \"may be due to a slow or bad network connection. Possible fixes:\\n\"+\n",
       "     \"</p>\\n\"+\n",
       "     \"<ul>\\n\"+\n",
       "     \"<li>re-rerun `output_notebook()` to attempt to load from CDN again, or</li>\\n\"+\n",
       "     \"<li>use INLINE resources instead, as so:</li>\\n\"+\n",
       "     \"</ul>\\n\"+\n",
       "     \"<code>\\n\"+\n",
       "     \"from bokeh.resources import INLINE\\n\"+\n",
       "     \"output_notebook(resources=INLINE)\\n\"+\n",
       "     \"</code>\\n\"+\n",
       "     \"</div>\"}};\n",
       "\n",
       "  function display_loaded() {\n",
       "    var el = document.getElementById(\"1475\");\n",
       "    if (el != null) {\n",
       "      el.textContent = \"BokehJS is loading...\";\n",
       "    }\n",
       "    if (root.Bokeh !== undefined) {\n",
       "      if (el != null) {\n",
       "        el.textContent = \"BokehJS \" + root.Bokeh.version + \" successfully loaded.\";\n",
       "      }\n",
       "    } else if (Date.now() < root._bokeh_timeout) {\n",
       "      setTimeout(display_loaded, 100)\n",
       "    }\n",
       "  }\n",
       "\n",
       "\n",
       "  function run_callbacks() {\n",
       "    try {\n",
       "      root._bokeh_onload_callbacks.forEach(function(callback) {\n",
       "        if (callback != null)\n",
       "          callback();\n",
       "      });\n",
       "    } finally {\n",
       "      delete root._bokeh_onload_callbacks\n",
       "    }\n",
       "    console.debug(\"Bokeh: all callbacks have finished\");\n",
       "  }\n",
       "\n",
       "  function load_libs(css_urls, js_urls, callback) {\n",
       "    if (css_urls == null) css_urls = [];\n",
       "    if (js_urls == null) js_urls = [];\n",
       "\n",
       "    root._bokeh_onload_callbacks.push(callback);\n",
       "    if (root._bokeh_is_loading > 0) {\n",
       "      console.debug(\"Bokeh: BokehJS is being loaded, scheduling callback at\", now());\n",
       "      return null;\n",
       "    }\n",
       "    if (js_urls == null || js_urls.length === 0) {\n",
       "      run_callbacks();\n",
       "      return null;\n",
       "    }\n",
       "    console.debug(\"Bokeh: BokehJS not loaded, scheduling load and callback at\", now());\n",
       "    root._bokeh_is_loading = css_urls.length + js_urls.length;\n",
       "\n",
       "    function on_load() {\n",
       "      root._bokeh_is_loading--;\n",
       "      if (root._bokeh_is_loading === 0) {\n",
       "        console.debug(\"Bokeh: all BokehJS libraries/stylesheets loaded\");\n",
       "        run_callbacks()\n",
       "      }\n",
       "    }\n",
       "\n",
       "    function on_error() {\n",
       "      console.error(\"failed to load \" + url);\n",
       "    }\n",
       "\n",
       "    for (var i = 0; i < css_urls.length; i++) {\n",
       "      var url = css_urls[i];\n",
       "      const element = document.createElement(\"link\");\n",
       "      element.onload = on_load;\n",
       "      element.onerror = on_error;\n",
       "      element.rel = \"stylesheet\";\n",
       "      element.type = \"text/css\";\n",
       "      element.href = url;\n",
       "      console.debug(\"Bokeh: injecting link tag for BokehJS stylesheet: \", url);\n",
       "      document.body.appendChild(element);\n",
       "    }\n",
       "\n",
       "    const hashes = {\"https://cdn.bokeh.org/bokeh/release/bokeh-2.2.3.min.js\": \"T2yuo9Oe71Cz/I4X9Ac5+gpEa5a8PpJCDlqKYO0CfAuEszu1JrXLl8YugMqYe3sM\", \"https://cdn.bokeh.org/bokeh/release/bokeh-widgets-2.2.3.min.js\": \"98GDGJ0kOMCUMUePhksaQ/GYgB3+NH9h996V88sh3aOiUNX3N+fLXAtry6xctSZ6\", \"https://cdn.bokeh.org/bokeh/release/bokeh-tables-2.2.3.min.js\": \"89bArO+nlbP3sgakeHjCo1JYxYR5wufVgA3IbUvDY+K7w4zyxJqssu7wVnfeKCq8\"};\n",
       "\n",
       "    for (var i = 0; i < js_urls.length; i++) {\n",
       "      var url = js_urls[i];\n",
       "      var element = document.createElement('script');\n",
       "      element.onload = on_load;\n",
       "      element.onerror = on_error;\n",
       "      element.async = false;\n",
       "      element.src = url;\n",
       "      if (url in hashes) {\n",
       "        element.crossOrigin = \"anonymous\";\n",
       "        element.integrity = \"sha384-\" + hashes[url];\n",
       "      }\n",
       "      console.debug(\"Bokeh: injecting script tag for BokehJS library: \", url);\n",
       "      document.head.appendChild(element);\n",
       "    }\n",
       "  };\n",
       "\n",
       "  function inject_raw_css(css) {\n",
       "    const element = document.createElement(\"style\");\n",
       "    element.appendChild(document.createTextNode(css));\n",
       "    document.body.appendChild(element);\n",
       "  }\n",
       "\n",
       "  \n",
       "  var js_urls = [\"https://cdn.bokeh.org/bokeh/release/bokeh-2.2.3.min.js\", \"https://cdn.bokeh.org/bokeh/release/bokeh-widgets-2.2.3.min.js\", \"https://cdn.bokeh.org/bokeh/release/bokeh-tables-2.2.3.min.js\"];\n",
       "  var css_urls = [];\n",
       "  \n",
       "\n",
       "  var inline_js = [\n",
       "    function(Bokeh) {\n",
       "      Bokeh.set_log_level(\"info\");\n",
       "    },\n",
       "    function(Bokeh) {\n",
       "    \n",
       "    \n",
       "    }\n",
       "  ];\n",
       "\n",
       "  function run_inline_js() {\n",
       "    \n",
       "    if (root.Bokeh !== undefined || force === true) {\n",
       "      \n",
       "    for (var i = 0; i < inline_js.length; i++) {\n",
       "      inline_js[i].call(root, root.Bokeh);\n",
       "    }\n",
       "    if (force === true) {\n",
       "        display_loaded();\n",
       "      }} else if (Date.now() < root._bokeh_timeout) {\n",
       "      setTimeout(run_inline_js, 100);\n",
       "    } else if (!root._bokeh_failed_load) {\n",
       "      console.log(\"Bokeh: BokehJS failed to load within specified timeout.\");\n",
       "      root._bokeh_failed_load = true;\n",
       "    } else if (force !== true) {\n",
       "      var cell = $(document.getElementById(\"1475\")).parents('.cell').data().cell;\n",
       "      cell.output_area.append_execute_result(NB_LOAD_WARNING)\n",
       "    }\n",
       "\n",
       "  }\n",
       "\n",
       "  if (root._bokeh_is_loading === 0) {\n",
       "    console.debug(\"Bokeh: BokehJS loaded, going straight to plotting\");\n",
       "    run_inline_js();\n",
       "  } else {\n",
       "    load_libs(css_urls, js_urls, function() {\n",
       "      console.debug(\"Bokeh: BokehJS plotting callback run at\", now());\n",
       "      run_inline_js();\n",
       "    });\n",
       "  }\n",
       "}(window));"
      ],
      "application/vnd.bokehjs_load.v0+json": "\n(function(root) {\n  function now() {\n    return new Date();\n  }\n\n  var force = true;\n\n  if (typeof root._bokeh_onload_callbacks === \"undefined\" || force === true) {\n    root._bokeh_onload_callbacks = [];\n    root._bokeh_is_loading = undefined;\n  }\n\n  \n\n  \n  if (typeof (root._bokeh_timeout) === \"undefined\" || force === true) {\n    root._bokeh_timeout = Date.now() + 5000;\n    root._bokeh_failed_load = false;\n  }\n\n  var NB_LOAD_WARNING = {'data': {'text/html':\n     \"<div style='background-color: #fdd'>\\n\"+\n     \"<p>\\n\"+\n     \"BokehJS does not appear to have successfully loaded. If loading BokehJS from CDN, this \\n\"+\n     \"may be due to a slow or bad network connection. Possible fixes:\\n\"+\n     \"</p>\\n\"+\n     \"<ul>\\n\"+\n     \"<li>re-rerun `output_notebook()` to attempt to load from CDN again, or</li>\\n\"+\n     \"<li>use INLINE resources instead, as so:</li>\\n\"+\n     \"</ul>\\n\"+\n     \"<code>\\n\"+\n     \"from bokeh.resources import INLINE\\n\"+\n     \"output_notebook(resources=INLINE)\\n\"+\n     \"</code>\\n\"+\n     \"</div>\"}};\n\n  function display_loaded() {\n    var el = document.getElementById(\"1475\");\n    if (el != null) {\n      el.textContent = \"BokehJS is loading...\";\n    }\n    if (root.Bokeh !== undefined) {\n      if (el != null) {\n        el.textContent = \"BokehJS \" + root.Bokeh.version + \" successfully loaded.\";\n      }\n    } else if (Date.now() < root._bokeh_timeout) {\n      setTimeout(display_loaded, 100)\n    }\n  }\n\n\n  function run_callbacks() {\n    try {\n      root._bokeh_onload_callbacks.forEach(function(callback) {\n        if (callback != null)\n          callback();\n      });\n    } finally {\n      delete root._bokeh_onload_callbacks\n    }\n    console.debug(\"Bokeh: all callbacks have finished\");\n  }\n\n  function load_libs(css_urls, js_urls, callback) {\n    if (css_urls == null) css_urls = [];\n    if (js_urls == null) js_urls = [];\n\n    root._bokeh_onload_callbacks.push(callback);\n    if (root._bokeh_is_loading > 0) {\n      console.debug(\"Bokeh: BokehJS is being loaded, scheduling callback at\", now());\n      return null;\n    }\n    if (js_urls == null || js_urls.length === 0) {\n      run_callbacks();\n      return null;\n    }\n    console.debug(\"Bokeh: BokehJS not loaded, scheduling load and callback at\", now());\n    root._bokeh_is_loading = css_urls.length + js_urls.length;\n\n    function on_load() {\n      root._bokeh_is_loading--;\n      if (root._bokeh_is_loading === 0) {\n        console.debug(\"Bokeh: all BokehJS libraries/stylesheets loaded\");\n        run_callbacks()\n      }\n    }\n\n    function on_error() {\n      console.error(\"failed to load \" + url);\n    }\n\n    for (var i = 0; i < css_urls.length; i++) {\n      var url = css_urls[i];\n      const element = document.createElement(\"link\");\n      element.onload = on_load;\n      element.onerror = on_error;\n      element.rel = \"stylesheet\";\n      element.type = \"text/css\";\n      element.href = url;\n      console.debug(\"Bokeh: injecting link tag for BokehJS stylesheet: \", url);\n      document.body.appendChild(element);\n    }\n\n    const hashes = {\"https://cdn.bokeh.org/bokeh/release/bokeh-2.2.3.min.js\": \"T2yuo9Oe71Cz/I4X9Ac5+gpEa5a8PpJCDlqKYO0CfAuEszu1JrXLl8YugMqYe3sM\", \"https://cdn.bokeh.org/bokeh/release/bokeh-widgets-2.2.3.min.js\": \"98GDGJ0kOMCUMUePhksaQ/GYgB3+NH9h996V88sh3aOiUNX3N+fLXAtry6xctSZ6\", \"https://cdn.bokeh.org/bokeh/release/bokeh-tables-2.2.3.min.js\": \"89bArO+nlbP3sgakeHjCo1JYxYR5wufVgA3IbUvDY+K7w4zyxJqssu7wVnfeKCq8\"};\n\n    for (var i = 0; i < js_urls.length; i++) {\n      var url = js_urls[i];\n      var element = document.createElement('script');\n      element.onload = on_load;\n      element.onerror = on_error;\n      element.async = false;\n      element.src = url;\n      if (url in hashes) {\n        element.crossOrigin = \"anonymous\";\n        element.integrity = \"sha384-\" + hashes[url];\n      }\n      console.debug(\"Bokeh: injecting script tag for BokehJS library: \", url);\n      document.head.appendChild(element);\n    }\n  };\n\n  function inject_raw_css(css) {\n    const element = document.createElement(\"style\");\n    element.appendChild(document.createTextNode(css));\n    document.body.appendChild(element);\n  }\n\n  \n  var js_urls = [\"https://cdn.bokeh.org/bokeh/release/bokeh-2.2.3.min.js\", \"https://cdn.bokeh.org/bokeh/release/bokeh-widgets-2.2.3.min.js\", \"https://cdn.bokeh.org/bokeh/release/bokeh-tables-2.2.3.min.js\"];\n  var css_urls = [];\n  \n\n  var inline_js = [\n    function(Bokeh) {\n      Bokeh.set_log_level(\"info\");\n    },\n    function(Bokeh) {\n    \n    \n    }\n  ];\n\n  function run_inline_js() {\n    \n    if (root.Bokeh !== undefined || force === true) {\n      \n    for (var i = 0; i < inline_js.length; i++) {\n      inline_js[i].call(root, root.Bokeh);\n    }\n    if (force === true) {\n        display_loaded();\n      }} else if (Date.now() < root._bokeh_timeout) {\n      setTimeout(run_inline_js, 100);\n    } else if (!root._bokeh_failed_load) {\n      console.log(\"Bokeh: BokehJS failed to load within specified timeout.\");\n      root._bokeh_failed_load = true;\n    } else if (force !== true) {\n      var cell = $(document.getElementById(\"1475\")).parents('.cell').data().cell;\n      cell.output_area.append_execute_result(NB_LOAD_WARNING)\n    }\n\n  }\n\n  if (root._bokeh_is_loading === 0) {\n    console.debug(\"Bokeh: BokehJS loaded, going straight to plotting\");\n    run_inline_js();\n  } else {\n    load_libs(css_urls, js_urls, function() {\n      console.debug(\"Bokeh: BokehJS plotting callback run at\", now());\n      run_inline_js();\n    });\n  }\n}(window));"
     },
     "metadata": {},
     "output_type": "display_data"
    },
    {
     "data": {
      "text/html": [
       "\n",
       "\n",
       "\n",
       "\n",
       "\n",
       "\n",
       "  <div class=\"bk-root\" id=\"33fb6117-aac1-4023-bbd9-6b141d323498\" data-root-id=\"1477\"></div>\n"
      ]
     },
     "metadata": {},
     "output_type": "display_data"
    },
    {
     "data": {
      "application/javascript": [
       "(function(root) {\n",
       "  function embed_document(root) {\n",
       "    \n",
       "  var docs_json = {\"02189a6c-bbe7-4581-9be5-d0f9a84f6b83\":{\"roots\":{\"references\":[{\"attributes\":{\"below\":[{\"id\":\"1486\"}],\"center\":[{\"id\":\"1489\"},{\"id\":\"1493\"}],\"left\":[{\"id\":\"1490\"}],\"plot_height\":400,\"plot_width\":900,\"renderers\":[{\"id\":\"1514\"}],\"title\":{\"id\":\"1557\"},\"toolbar\":{\"id\":\"1501\"},\"x_range\":{\"id\":\"1478\"},\"x_scale\":{\"id\":\"1482\"},\"y_range\":{\"id\":\"1480\"},\"y_scale\":{\"id\":\"1484\"}},\"id\":\"1477\",\"subtype\":\"Figure\",\"type\":\"Plot\"},{\"attributes\":{},\"id\":\"1500\",\"type\":\"ResetTool\"},{\"attributes\":{},\"id\":\"1499\",\"type\":\"UndoTool\"},{\"attributes\":{},\"id\":\"1482\",\"type\":\"LinearScale\"},{\"attributes\":{},\"id\":\"1498\",\"type\":\"ZoomOutTool\"},{\"attributes\":{},\"id\":\"1497\",\"type\":\"ZoomInTool\"},{\"attributes\":{\"axis\":{\"id\":\"1490\"},\"dimension\":1,\"ticker\":null},\"id\":\"1493\",\"type\":\"Grid\"},{\"attributes\":{},\"id\":\"1574\",\"type\":\"YearsTicker\"},{\"attributes\":{\"data\":{\"FinalObjectiveValue\":{\"__ndarray__\":\"AAAAAJON7z8AAACAR43vPwAAAEBwh+8/AAAAAFOG7z8AAACA2YTvPwAAAICrg+8/AAAAgD6D7z8AAACAp4LvPwAAAKDNf+8/AAAA4Hh37z8AAABgn3LvPwAAAKD3ce8/AAAAIKxx7z8AAABAaW/vPwAAAIDBbu8/AAAAIOdh7z8AAAAgBV3vPwAAAADRWu8/AAAAQBFS7z8AAADASj7vPw==\",\"dtype\":\"float64\",\"order\":\"little\",\"shape\":[20]},\"TrainingElapsedTimeSeconds\":{\"__ndarray__\":\"AAAAAABAVUAAAAAAAABNQAAAAAAAAEdAAAAAAADAUEAAAAAAAIBQQAAAAAAAgEhAAAAAAACAR0AAAAAAAIBRQAAAAAAAAEhAAAAAAACAR0AAAAAAAIBIQAAAAAAAAEdAAAAAAAAASEAAAAAAAABIQAAAAAAAgEhAAAAAAAAASEAAAAAAAIBQQAAAAAAAAExAAAAAAAAAUEAAAAAAAEBQQA==\",\"dtype\":\"float64\",\"order\":\"little\",\"shape\":[20]},\"TrainingEndTime\":{\"__ndarray__\":\"AICjfQSnd0IAgFO6A6d3QgAAKnIEp3dCAAAAeQSnd0IAAM1IA6d3QgAA5UQDp3dCAAAhsgSnd0IAgL46BKd3QgAAGzYEp3dCAAAPuwOnd0IAgKZEA6d3QgCA8fMDp3dCAACkNASnd0IAAKf1A6d3QgAABn4Dp3dCAACz8wOnd0IAAIy1BKd3QgAAZYMDp3dCAICdhAOnd0IAAG7AA6d3Qg==\",\"dtype\":\"float64\",\"order\":\"little\",\"shape\":[20]},\"TrainingJobName\":[\"xgboost-210704-0625-017-27f78aa1\",\"xgboost-210704-0625-007-f2e6155f\",\"xgboost-210704-0625-016-8971e77c\",\"xgboost-210704-0625-018-4c1f4abf\",\"xgboost-210704-0625-003-cd562b3e\",\"xgboost-210704-0625-002-1f4cc2cb\",\"xgboost-210704-0625-020-72def18a\",\"xgboost-210704-0625-013-c1788ff7\",\"xgboost-210704-0625-015-e89dbe4d\",\"xgboost-210704-0625-009-7e5e42c6\",\"xgboost-210704-0625-001-87941a28\",\"xgboost-210704-0625-011-c5e1042f\",\"xgboost-210704-0625-014-ba565761\",\"xgboost-210704-0625-010-0df917e0\",\"xgboost-210704-0625-004-75217b6a\",\"xgboost-210704-0625-012-5e783729\",\"xgboost-210704-0625-019-bbae0eba\",\"xgboost-210704-0625-005-d7064cb2\",\"xgboost-210704-0625-006-e55cb9d3\",\"xgboost-210704-0625-008-0933b845\"],\"TrainingJobStatus\":[\"Completed\",\"Completed\",\"Completed\",\"Completed\",\"Completed\",\"Completed\",\"Completed\",\"Completed\",\"Completed\",\"Completed\",\"Completed\",\"Completed\",\"Completed\",\"Completed\",\"Completed\",\"Completed\",\"Completed\",\"Completed\",\"Completed\",\"Completed\"],\"TrainingStartTime\":{\"__ndarray__\":\"AADjaASnd0IAgCqsA6d3QgAA72YEp3dCAICkaASnd0IAALA4A6d3QgCA7jgDp3dCAICnpgSnd0IAgKcpBKd3QgAAYyoEp3dCAICVrwOnd0IAALA4A6d3QgCAtugDp3dCAADsKASnd0IAAO/pA6d3QgCAD3IDp3dCAAD75wOnd0IAAG+lBKd3QgAAuXUDp3dCAID9dAOnd0IAgI+wA6d3Qg==\",\"dtype\":\"float64\",\"order\":\"little\",\"shape\":[20]},\"eta\":{\"__ndarray__\":\"aJ1p97R3uD8w3xZfjNHXP798W3wxBrc/v3xbfDHOtj9EWYiJrB/hP0qHZ5yDIuc/1z2gbXdivD+/fFt8MTS2P+j9m0reGtU/VGghdOTj5z9gdMumqi2mPzDfFl+MLtI/f/m2+GIsqT/o/ZtKXv/XP/T+TSXvS+Q/YL4tvhiWzD9B799U8lqgP5hviy9GdOw/mG+LL0bd4z/0/k0l747nPw==\",\"dtype\":\"float64\",\"order\":\"little\",\"shape\":[20]},\"index\":[3,13,4,2,17,18,0,7,5,11,19,9,6,10,16,8,1,15,14,12],\"max_depth\":{\"__ndarray__\":\"AAAAAAAAJEAAAAAAAAAYQAAAAAAAACBAAAAAAAAAJEAAAAAAAAAQQAAAAAAAACBAAAAAAAAAJEAAAAAAAAAYQAAAAAAAACJAAAAAAAAAIEAAAAAAAAAcQAAAAAAAABBAAAAAAAAAGEAAAAAAAAAkQAAAAAAAACJAAAAAAAAACEAAAAAAAAAiQAAAAAAAABRAAAAAAAAAAEAAAAAAAAAAQA==\",\"dtype\":\"float64\",\"order\":\"little\",\"shape\":[20]},\"min_child_weight\":{\"__ndarray__\":\"mH1Dsae8IUAu+4ZiZ3AUQOcZDE65zx9A5xkMTlnKG0C5PRdX7BIVQAKpjDC1WB9A9AwGp9AYIkC67BuKPerwP7zsG4pdDf8/nGcwOGXb8T+LiklYEAESQKKt0DH6OgRAXvYNxU7jAkDOMxicAs0CQC77hmLHrhVA5xkMTkELFED0DAan4JogQC77hmJ3hhtA8wwGpxTXIkCYfUOx0wYhQA==\",\"dtype\":\"float64\",\"order\":\"little\",\"shape\":[20]}},\"selected\":{\"id\":\"1575\"},\"selection_policy\":{\"id\":\"1576\"}},\"id\":\"1510\",\"type\":\"ColumnDataSource\"},{\"attributes\":{\"num_minor_ticks\":5,\"tickers\":[{\"id\":\"1563\"},{\"id\":\"1564\"},{\"id\":\"1565\"},{\"id\":\"1566\"},{\"id\":\"1567\"},{\"id\":\"1568\"},{\"id\":\"1569\"},{\"id\":\"1570\"},{\"id\":\"1571\"},{\"id\":\"1572\"},{\"id\":\"1573\"},{\"id\":\"1574\"}]},\"id\":\"1487\",\"type\":\"DatetimeTicker\"},{\"attributes\":{\"text\":\"\"},\"id\":\"1557\",\"type\":\"Title\"},{\"attributes\":{\"fill_alpha\":{\"value\":0.1},\"fill_color\":{\"value\":\"#1f77b4\"},\"line_alpha\":{\"value\":0.1},\"line_color\":{\"value\":\"#1f77b4\"},\"x\":{\"field\":\"TrainingStartTime\"},\"y\":{\"field\":\"FinalObjectiveValue\"}},\"id\":\"1513\",\"type\":\"Circle\"},{\"attributes\":{},\"id\":\"1576\",\"type\":\"UnionRenderers\"},{\"attributes\":{\"source\":{\"id\":\"1510\"}},\"id\":\"1515\",\"type\":\"CDSView\"},{\"attributes\":{},\"id\":\"1575\",\"type\":\"Selection\"},{\"attributes\":{},\"id\":\"1478\",\"type\":\"DataRange1d\"},{\"attributes\":{\"months\":[0,6]},\"id\":\"1573\",\"type\":\"MonthsTicker\"},{\"attributes\":{},\"id\":\"1496\",\"type\":\"WheelZoomTool\"},{\"attributes\":{\"days\":[1,2,3,4,5,6,7,8,9,10,11,12,13,14,15,16,17,18,19,20,21,22,23,24,25,26,27,28,29,30,31]},\"id\":\"1566\",\"type\":\"DaysTicker\"},{\"attributes\":{},\"id\":\"1494\",\"type\":\"PanTool\"},{\"attributes\":{\"months\":[0,4,8]},\"id\":\"1572\",\"type\":\"MonthsTicker\"},{\"attributes\":{\"formatter\":{\"id\":\"1560\"},\"ticker\":{\"id\":\"1487\"}},\"id\":\"1486\",\"type\":\"DatetimeAxis\"},{\"attributes\":{\"callback\":null,\"tooltips\":[[\"FinalObjectiveValue\",\"@FinalObjectiveValue\"],[\"TrainingJobName\",\"@TrainingJobName\"],[\"max_depth\",\"@{max_depth}\"],[\"eta\",\"@{eta}\"],[\"min_child_weight\",\"@{min_child_weight}\"]]},\"id\":\"1476\",\"type\":\"HoverTool\"},{\"attributes\":{},\"id\":\"1495\",\"type\":\"CrosshairTool\"},{\"attributes\":{\"months\":[0,2,4,6,8,10]},\"id\":\"1571\",\"type\":\"MonthsTicker\"},{\"attributes\":{},\"id\":\"1480\",\"type\":\"DataRange1d\"},{\"attributes\":{\"formatter\":{\"id\":\"1562\"},\"ticker\":{\"id\":\"1491\"}},\"id\":\"1490\",\"type\":\"LinearAxis\"},{\"attributes\":{\"months\":[0,1,2,3,4,5,6,7,8,9,10,11]},\"id\":\"1570\",\"type\":\"MonthsTicker\"},{\"attributes\":{\"mantissas\":[1,2,5],\"max_interval\":500.0,\"num_minor_ticks\":0},\"id\":\"1563\",\"type\":\"AdaptiveTicker\"},{\"attributes\":{\"days\":[1,15]},\"id\":\"1569\",\"type\":\"DaysTicker\"},{\"attributes\":{\"base\":60,\"mantissas\":[1,2,5,10,15,20,30],\"max_interval\":1800000.0,\"min_interval\":1000.0,\"num_minor_ticks\":0},\"id\":\"1564\",\"type\":\"AdaptiveTicker\"},{\"attributes\":{},\"id\":\"1484\",\"type\":\"LinearScale\"},{\"attributes\":{\"days\":[1,8,15,22]},\"id\":\"1568\",\"type\":\"DaysTicker\"},{\"attributes\":{\"data_source\":{\"id\":\"1510\"},\"glyph\":{\"id\":\"1512\"},\"hover_glyph\":null,\"muted_glyph\":null,\"nonselection_glyph\":{\"id\":\"1513\"},\"selection_glyph\":null,\"view\":{\"id\":\"1515\"}},\"id\":\"1514\",\"type\":\"GlyphRenderer\"},{\"attributes\":{},\"id\":\"1562\",\"type\":\"BasicTickFormatter\"},{\"attributes\":{\"days\":[1,4,7,10,13,16,19,22,25,28]},\"id\":\"1567\",\"type\":\"DaysTicker\"},{\"attributes\":{},\"id\":\"1491\",\"type\":\"BasicTicker\"},{\"attributes\":{\"fill_color\":{\"value\":\"#1f77b4\"},\"line_color\":{\"value\":\"#1f77b4\"},\"x\":{\"field\":\"TrainingStartTime\"},\"y\":{\"field\":\"FinalObjectiveValue\"}},\"id\":\"1512\",\"type\":\"Circle\"},{\"attributes\":{\"base\":24,\"mantissas\":[1,2,4,6,8,12],\"max_interval\":43200000.0,\"min_interval\":3600000.0,\"num_minor_ticks\":0},\"id\":\"1565\",\"type\":\"AdaptiveTicker\"},{\"attributes\":{\"axis\":{\"id\":\"1486\"},\"ticker\":null},\"id\":\"1489\",\"type\":\"Grid\"},{\"attributes\":{\"active_drag\":\"auto\",\"active_inspect\":\"auto\",\"active_multi\":null,\"active_scroll\":\"auto\",\"active_tap\":\"auto\",\"tools\":[{\"id\":\"1476\"},{\"id\":\"1494\"},{\"id\":\"1495\"},{\"id\":\"1496\"},{\"id\":\"1497\"},{\"id\":\"1498\"},{\"id\":\"1499\"},{\"id\":\"1500\"}]},\"id\":\"1501\",\"type\":\"Toolbar\"},{\"attributes\":{},\"id\":\"1560\",\"type\":\"DatetimeTickFormatter\"}],\"root_ids\":[\"1477\"]},\"title\":\"Bokeh Application\",\"version\":\"2.2.3\"}};\n",
       "  var render_items = [{\"docid\":\"02189a6c-bbe7-4581-9be5-d0f9a84f6b83\",\"root_ids\":[\"1477\"],\"roots\":{\"1477\":\"33fb6117-aac1-4023-bbd9-6b141d323498\"}}];\n",
       "  root.Bokeh.embed.embed_items_notebook(docs_json, render_items);\n",
       "\n",
       "  }\n",
       "  if (root.Bokeh !== undefined) {\n",
       "    embed_document(root);\n",
       "  } else {\n",
       "    var attempts = 0;\n",
       "    var timer = setInterval(function(root) {\n",
       "      if (root.Bokeh !== undefined) {\n",
       "        clearInterval(timer);\n",
       "        embed_document(root);\n",
       "      } else {\n",
       "        attempts++;\n",
       "        if (attempts > 100) {\n",
       "          clearInterval(timer);\n",
       "          console.log(\"Bokeh: ERROR: Unable to run BokehJS code because BokehJS library is missing\");\n",
       "        }\n",
       "      }\n",
       "    }, 10, root)\n",
       "  }\n",
       "})(window);"
      ],
      "application/vnd.bokehjs_exec.v0+json": ""
     },
     "metadata": {
      "application/vnd.bokehjs_exec.v0+json": {
       "id": "1477"
      }
     },
     "output_type": "display_data"
    }
   ],
   "source": [
    "import bokeh\n",
    "import bokeh.io\n",
    "\n",
    "bokeh.io.output_notebook()\n",
    "from bokeh.plotting import figure, show\n",
    "from bokeh.models import HoverTool\n",
    "\n",
    "\n",
    "class HoverHelper:\n",
    "    def __init__(self, tuning_analytics):\n",
    "        self.tuner = tuning_analytics\n",
    "\n",
    "    def hovertool(self):\n",
    "        tooltips = [\n",
    "            (\"FinalObjectiveValue\", \"@FinalObjectiveValue\"),\n",
    "            (\"TrainingJobName\", \"@TrainingJobName\"),\n",
    "        ]\n",
    "        for k in self.tuner.tuning_ranges.keys():\n",
    "            tooltips.append((k, \"@{%s}\" % k))\n",
    "\n",
    "        ht = HoverTool(tooltips=tooltips)\n",
    "        return ht\n",
    "\n",
    "    def tools(self, standard_tools=\"pan,crosshair,wheel_zoom,zoom_in,zoom_out,undo,reset\"):\n",
    "        return [self.hovertool(), standard_tools]\n",
    "\n",
    "\n",
    "hover = HoverHelper(tuning_result)\n",
    "\n",
    "p = figure(plot_width=900, plot_height=400, tools=hover.tools(), x_axis_type=\"datetime\")\n",
    "p.circle(source=df, x=\"TrainingStartTime\", y=\"FinalObjectiveValue\")\n",
    "show(p)"
   ]
  },
  {
   "cell_type": "markdown",
   "id": "7c1a5a89",
   "metadata": {},
   "source": [
    "유사한 방법으로 탐색대상으로 설정한 하이퍼파라미터별로 매트릭의 결과에 어떤 영향을 미쳤는지 확인해 봅니다."
   ]
  },
  {
   "cell_type": "code",
   "execution_count": 69,
   "id": "ee9af2d7",
   "metadata": {},
   "outputs": [
    {
     "data": {
      "text/html": [
       "\n",
       "\n",
       "\n",
       "\n",
       "\n",
       "\n",
       "  <div class=\"bk-root\" id=\"1f8efd28-9adf-4b51-873d-39af8f2b56bb\" data-root-id=\"1803\"></div>\n"
      ]
     },
     "metadata": {},
     "output_type": "display_data"
    },
    {
     "data": {
      "application/javascript": [
       "(function(root) {\n",
       "  function embed_document(root) {\n",
       "    \n",
       "  var docs_json = {\"7d45c3da-0f29-4fe2-ac21-2eab4acc1cfc\":{\"roots\":{\"references\":[{\"attributes\":{\"children\":[{\"id\":\"1678\"},{\"id\":\"1720\"},{\"id\":\"1762\"}]},\"id\":\"1803\",\"type\":\"Column\"},{\"attributes\":{\"fill_color\":{\"value\":\"#1f77b4\"},\"line_color\":{\"value\":\"#1f77b4\"},\"x\":{\"field\":\"max_depth\"},\"y\":{\"field\":\"FinalObjectiveValue\"}},\"id\":\"1715\",\"type\":\"Circle\"},{\"attributes\":{\"below\":[{\"id\":\"1773\"}],\"center\":[{\"id\":\"1776\"},{\"id\":\"1780\"}],\"left\":[{\"id\":\"1777\"}],\"plot_height\":500,\"plot_width\":500,\"renderers\":[{\"id\":\"1801\"}],\"title\":{\"id\":\"1763\"},\"toolbar\":{\"id\":\"1788\"},\"x_range\":{\"id\":\"1765\"},\"x_scale\":{\"id\":\"1769\"},\"y_range\":{\"id\":\"1767\"},\"y_scale\":{\"id\":\"1771\"}},\"id\":\"1762\",\"subtype\":\"Figure\",\"type\":\"Plot\"},{\"attributes\":{\"active_drag\":\"auto\",\"active_inspect\":\"auto\",\"active_multi\":null,\"active_scroll\":\"auto\",\"active_tap\":\"auto\",\"tools\":[{\"id\":\"1677\"},{\"id\":\"1697\"},{\"id\":\"1698\"},{\"id\":\"1699\"},{\"id\":\"1700\"},{\"id\":\"1701\"},{\"id\":\"1702\"},{\"id\":\"1703\"}]},\"id\":\"1704\",\"type\":\"Toolbar\"},{\"attributes\":{\"callback\":null,\"tooltips\":[[\"FinalObjectiveValue\",\"@FinalObjectiveValue\"],[\"TrainingJobName\",\"@TrainingJobName\"],[\"max_depth\",\"@{max_depth}\"],[\"eta\",\"@{eta}\"],[\"min_child_weight\",\"@{min_child_weight}\"]]},\"id\":\"1761\",\"type\":\"HoverTool\"},{\"attributes\":{},\"id\":\"1783\",\"type\":\"WheelZoomTool\"},{\"attributes\":{\"data_source\":{\"id\":\"1713\"},\"glyph\":{\"id\":\"1715\"},\"hover_glyph\":null,\"muted_glyph\":null,\"nonselection_glyph\":{\"id\":\"1716\"},\"selection_glyph\":null,\"view\":{\"id\":\"1718\"}},\"id\":\"1717\",\"type\":\"GlyphRenderer\"},{\"attributes\":{\"source\":{\"id\":\"1713\"}},\"id\":\"1718\",\"type\":\"CDSView\"},{\"attributes\":{},\"id\":\"1873\",\"type\":\"BasicTickFormatter\"},{\"attributes\":{},\"id\":\"1786\",\"type\":\"UndoTool\"},{\"attributes\":{\"text\":\"Objective vs eta\"},\"id\":\"1721\",\"type\":\"Title\"},{\"attributes\":{},\"id\":\"1781\",\"type\":\"PanTool\"},{\"attributes\":{},\"id\":\"1785\",\"type\":\"ZoomOutTool\"},{\"attributes\":{\"data\":{\"FinalObjectiveValue\":{\"__ndarray__\":\"AAAAAJON7z8AAACAR43vPwAAAEBwh+8/AAAAAFOG7z8AAACA2YTvPwAAAICrg+8/AAAAgD6D7z8AAACAp4LvPwAAAKDNf+8/AAAA4Hh37z8AAABgn3LvPwAAAKD3ce8/AAAAIKxx7z8AAABAaW/vPwAAAIDBbu8/AAAAIOdh7z8AAAAgBV3vPwAAAADRWu8/AAAAQBFS7z8AAADASj7vPw==\",\"dtype\":\"float64\",\"order\":\"little\",\"shape\":[20]},\"TrainingElapsedTimeSeconds\":{\"__ndarray__\":\"AAAAAABAVUAAAAAAAABNQAAAAAAAAEdAAAAAAADAUEAAAAAAAIBQQAAAAAAAgEhAAAAAAACAR0AAAAAAAIBRQAAAAAAAAEhAAAAAAACAR0AAAAAAAIBIQAAAAAAAAEdAAAAAAAAASEAAAAAAAABIQAAAAAAAgEhAAAAAAAAASEAAAAAAAIBQQAAAAAAAAExAAAAAAAAAUEAAAAAAAEBQQA==\",\"dtype\":\"float64\",\"order\":\"little\",\"shape\":[20]},\"TrainingEndTime\":{\"__ndarray__\":\"AICjfQSnd0IAgFO6A6d3QgAAKnIEp3dCAAAAeQSnd0IAAM1IA6d3QgAA5UQDp3dCAAAhsgSnd0IAgL46BKd3QgAAGzYEp3dCAAAPuwOnd0IAgKZEA6d3QgCA8fMDp3dCAACkNASnd0IAAKf1A6d3QgAABn4Dp3dCAACz8wOnd0IAAIy1BKd3QgAAZYMDp3dCAICdhAOnd0IAAG7AA6d3Qg==\",\"dtype\":\"float64\",\"order\":\"little\",\"shape\":[20]},\"TrainingJobName\":[\"xgboost-210704-0625-017-27f78aa1\",\"xgboost-210704-0625-007-f2e6155f\",\"xgboost-210704-0625-016-8971e77c\",\"xgboost-210704-0625-018-4c1f4abf\",\"xgboost-210704-0625-003-cd562b3e\",\"xgboost-210704-0625-002-1f4cc2cb\",\"xgboost-210704-0625-020-72def18a\",\"xgboost-210704-0625-013-c1788ff7\",\"xgboost-210704-0625-015-e89dbe4d\",\"xgboost-210704-0625-009-7e5e42c6\",\"xgboost-210704-0625-001-87941a28\",\"xgboost-210704-0625-011-c5e1042f\",\"xgboost-210704-0625-014-ba565761\",\"xgboost-210704-0625-010-0df917e0\",\"xgboost-210704-0625-004-75217b6a\",\"xgboost-210704-0625-012-5e783729\",\"xgboost-210704-0625-019-bbae0eba\",\"xgboost-210704-0625-005-d7064cb2\",\"xgboost-210704-0625-006-e55cb9d3\",\"xgboost-210704-0625-008-0933b845\"],\"TrainingJobStatus\":[\"Completed\",\"Completed\",\"Completed\",\"Completed\",\"Completed\",\"Completed\",\"Completed\",\"Completed\",\"Completed\",\"Completed\",\"Completed\",\"Completed\",\"Completed\",\"Completed\",\"Completed\",\"Completed\",\"Completed\",\"Completed\",\"Completed\",\"Completed\"],\"TrainingStartTime\":{\"__ndarray__\":\"AADjaASnd0IAgCqsA6d3QgAA72YEp3dCAICkaASnd0IAALA4A6d3QgCA7jgDp3dCAICnpgSnd0IAgKcpBKd3QgAAYyoEp3dCAICVrwOnd0IAALA4A6d3QgCAtugDp3dCAADsKASnd0IAAO/pA6d3QgCAD3IDp3dCAAD75wOnd0IAAG+lBKd3QgAAuXUDp3dCAID9dAOnd0IAgI+wA6d3Qg==\",\"dtype\":\"float64\",\"order\":\"little\",\"shape\":[20]},\"eta\":{\"__ndarray__\":\"aJ1p97R3uD8w3xZfjNHXP798W3wxBrc/v3xbfDHOtj9EWYiJrB/hP0qHZ5yDIuc/1z2gbXdivD+/fFt8MTS2P+j9m0reGtU/VGghdOTj5z9gdMumqi2mPzDfFl+MLtI/f/m2+GIsqT/o/ZtKXv/XP/T+TSXvS+Q/YL4tvhiWzD9B799U8lqgP5hviy9GdOw/mG+LL0bd4z/0/k0l747nPw==\",\"dtype\":\"float64\",\"order\":\"little\",\"shape\":[20]},\"index\":[3,13,4,2,17,18,0,7,5,11,19,9,6,10,16,8,1,15,14,12],\"max_depth\":{\"__ndarray__\":\"AAAAAAAAJEAAAAAAAAAYQAAAAAAAACBAAAAAAAAAJEAAAAAAAAAQQAAAAAAAACBAAAAAAAAAJEAAAAAAAAAYQAAAAAAAACJAAAAAAAAAIEAAAAAAAAAcQAAAAAAAABBAAAAAAAAAGEAAAAAAAAAkQAAAAAAAACJAAAAAAAAACEAAAAAAAAAiQAAAAAAAABRAAAAAAAAAAEAAAAAAAAAAQA==\",\"dtype\":\"float64\",\"order\":\"little\",\"shape\":[20]},\"min_child_weight\":{\"__ndarray__\":\"mH1Dsae8IUAu+4ZiZ3AUQOcZDE65zx9A5xkMTlnKG0C5PRdX7BIVQAKpjDC1WB9A9AwGp9AYIkC67BuKPerwP7zsG4pdDf8/nGcwOGXb8T+LiklYEAESQKKt0DH6OgRAXvYNxU7jAkDOMxicAs0CQC77hmLHrhVA5xkMTkELFED0DAan4JogQC77hmJ3hhtA8wwGpxTXIkCYfUOx0wYhQA==\",\"dtype\":\"float64\",\"order\":\"little\",\"shape\":[20]}},\"selected\":{\"id\":\"1884\"},\"selection_policy\":{\"id\":\"1885\"}},\"id\":\"1797\",\"type\":\"ColumnDataSource\"},{\"attributes\":{\"active_drag\":\"auto\",\"active_inspect\":\"auto\",\"active_multi\":null,\"active_scroll\":\"auto\",\"active_tap\":\"auto\",\"tools\":[{\"id\":\"1761\"},{\"id\":\"1781\"},{\"id\":\"1782\"},{\"id\":\"1783\"},{\"id\":\"1784\"},{\"id\":\"1785\"},{\"id\":\"1786\"},{\"id\":\"1787\"}]},\"id\":\"1788\",\"type\":\"Toolbar\"},{\"attributes\":{\"axis_label\":\"max_depth\",\"formatter\":{\"id\":\"1869\"},\"ticker\":{\"id\":\"1690\"}},\"id\":\"1689\",\"type\":\"LinearAxis\"},{\"attributes\":{},\"id\":\"1703\",\"type\":\"ResetTool\"},{\"attributes\":{},\"id\":\"1784\",\"type\":\"ZoomInTool\"},{\"attributes\":{},\"id\":\"1701\",\"type\":\"ZoomOutTool\"},{\"attributes\":{\"axis\":{\"id\":\"1777\"},\"dimension\":1,\"ticker\":null},\"id\":\"1780\",\"type\":\"Grid\"},{\"attributes\":{},\"id\":\"1869\",\"type\":\"BasicTickFormatter\"},{\"attributes\":{},\"id\":\"1687\",\"type\":\"LinearScale\"},{\"attributes\":{},\"id\":\"1694\",\"type\":\"BasicTicker\"},{\"attributes\":{\"axis_label\":\"validation:auc\",\"formatter\":{\"id\":\"1879\"},\"ticker\":{\"id\":\"1778\"}},\"id\":\"1777\",\"type\":\"LinearAxis\"},{\"attributes\":{\"axis\":{\"id\":\"1689\"},\"ticker\":null},\"id\":\"1692\",\"type\":\"Grid\"},{\"attributes\":{\"source\":{\"id\":\"1797\"}},\"id\":\"1802\",\"type\":\"CDSView\"},{\"attributes\":{},\"id\":\"1690\",\"type\":\"BasicTicker\"},{\"attributes\":{\"data_source\":{\"id\":\"1755\"},\"glyph\":{\"id\":\"1757\"},\"hover_glyph\":null,\"muted_glyph\":null,\"nonselection_glyph\":{\"id\":\"1758\"},\"selection_glyph\":null,\"view\":{\"id\":\"1760\"}},\"id\":\"1759\",\"type\":\"GlyphRenderer\"},{\"attributes\":{\"fill_alpha\":{\"value\":0.1},\"fill_color\":{\"value\":\"#1f77b4\"},\"line_alpha\":{\"value\":0.1},\"line_color\":{\"value\":\"#1f77b4\"},\"x\":{\"field\":\"eta\"},\"y\":{\"field\":\"FinalObjectiveValue\"}},\"id\":\"1758\",\"type\":\"Circle\"},{\"attributes\":{\"axis_label\":\"validation:auc\",\"formatter\":{\"id\":\"1871\"},\"ticker\":{\"id\":\"1694\"}},\"id\":\"1693\",\"type\":\"LinearAxis\"},{\"attributes\":{\"source\":{\"id\":\"1755\"}},\"id\":\"1760\",\"type\":\"CDSView\"},{\"attributes\":{\"fill_alpha\":{\"value\":0.1},\"fill_color\":{\"value\":\"#1f77b4\"},\"line_alpha\":{\"value\":0.1},\"line_color\":{\"value\":\"#1f77b4\"},\"x\":{\"field\":\"max_depth\"},\"y\":{\"field\":\"FinalObjectiveValue\"}},\"id\":\"1716\",\"type\":\"Circle\"},{\"attributes\":{},\"id\":\"1697\",\"type\":\"PanTool\"},{\"attributes\":{},\"id\":\"1883\",\"type\":\"UnionRenderers\"},{\"attributes\":{},\"id\":\"1787\",\"type\":\"ResetTool\"},{\"attributes\":{\"axis\":{\"id\":\"1693\"},\"dimension\":1,\"ticker\":null},\"id\":\"1696\",\"type\":\"Grid\"},{\"attributes\":{\"below\":[{\"id\":\"1731\"}],\"center\":[{\"id\":\"1734\"},{\"id\":\"1738\"}],\"left\":[{\"id\":\"1735\"}],\"plot_height\":500,\"plot_width\":500,\"renderers\":[{\"id\":\"1759\"}],\"title\":{\"id\":\"1721\"},\"toolbar\":{\"id\":\"1746\"},\"x_range\":{\"id\":\"1723\"},\"x_scale\":{\"id\":\"1727\"},\"y_range\":{\"id\":\"1725\"},\"y_scale\":{\"id\":\"1729\"}},\"id\":\"1720\",\"subtype\":\"Figure\",\"type\":\"Plot\"},{\"attributes\":{\"axis\":{\"id\":\"1773\"},\"ticker\":null},\"id\":\"1776\",\"type\":\"Grid\"},{\"attributes\":{},\"id\":\"1699\",\"type\":\"WheelZoomTool\"},{\"attributes\":{},\"id\":\"1774\",\"type\":\"BasicTicker\"},{\"attributes\":{},\"id\":\"1723\",\"type\":\"DataRange1d\"},{\"attributes\":{},\"id\":\"1875\",\"type\":\"BasicTickFormatter\"},{\"attributes\":{},\"id\":\"1879\",\"type\":\"BasicTickFormatter\"},{\"attributes\":{},\"id\":\"1700\",\"type\":\"ZoomInTool\"},{\"attributes\":{\"text\":\"Objective vs min_child_weight\"},\"id\":\"1763\",\"type\":\"Title\"},{\"attributes\":{},\"id\":\"1871\",\"type\":\"BasicTickFormatter\"},{\"attributes\":{},\"id\":\"1880\",\"type\":\"Selection\"},{\"attributes\":{},\"id\":\"1698\",\"type\":\"CrosshairTool\"},{\"attributes\":{},\"id\":\"1769\",\"type\":\"LinearScale\"},{\"attributes\":{\"axis\":{\"id\":\"1731\"},\"ticker\":null},\"id\":\"1734\",\"type\":\"Grid\"},{\"attributes\":{\"axis_label\":\"min_child_weight\",\"formatter\":{\"id\":\"1877\"},\"ticker\":{\"id\":\"1774\"}},\"id\":\"1773\",\"type\":\"LinearAxis\"},{\"attributes\":{},\"id\":\"1877\",\"type\":\"BasicTickFormatter\"},{\"attributes\":{\"callback\":null,\"tooltips\":[[\"FinalObjectiveValue\",\"@FinalObjectiveValue\"],[\"TrainingJobName\",\"@TrainingJobName\"],[\"max_depth\",\"@{max_depth}\"],[\"eta\",\"@{eta}\"],[\"min_child_weight\",\"@{min_child_weight}\"]]},\"id\":\"1719\",\"type\":\"HoverTool\"},{\"attributes\":{},\"id\":\"1885\",\"type\":\"UnionRenderers\"},{\"attributes\":{\"callback\":null,\"tooltips\":[[\"FinalObjectiveValue\",\"@FinalObjectiveValue\"],[\"TrainingJobName\",\"@TrainingJobName\"],[\"max_depth\",\"@{max_depth}\"],[\"eta\",\"@{eta}\"],[\"min_child_weight\",\"@{min_child_weight}\"]]},\"id\":\"1677\",\"type\":\"HoverTool\"},{\"attributes\":{},\"id\":\"1778\",\"type\":\"BasicTicker\"},{\"attributes\":{},\"id\":\"1729\",\"type\":\"LinearScale\"},{\"attributes\":{\"below\":[{\"id\":\"1689\"}],\"center\":[{\"id\":\"1692\"},{\"id\":\"1696\"}],\"left\":[{\"id\":\"1693\"}],\"plot_height\":500,\"plot_width\":500,\"renderers\":[{\"id\":\"1717\"}],\"title\":{\"id\":\"1679\"},\"toolbar\":{\"id\":\"1704\"},\"x_range\":{\"id\":\"1681\"},\"x_scale\":{\"id\":\"1685\"},\"y_range\":{\"id\":\"1683\"},\"y_scale\":{\"id\":\"1687\"}},\"id\":\"1678\",\"subtype\":\"Figure\",\"type\":\"Plot\"},{\"attributes\":{},\"id\":\"1771\",\"type\":\"LinearScale\"},{\"attributes\":{},\"id\":\"1702\",\"type\":\"UndoTool\"},{\"attributes\":{},\"id\":\"1681\",\"type\":\"DataRange1d\"},{\"attributes\":{},\"id\":\"1884\",\"type\":\"Selection\"},{\"attributes\":{},\"id\":\"1685\",\"type\":\"LinearScale\"},{\"attributes\":{},\"id\":\"1782\",\"type\":\"CrosshairTool\"},{\"attributes\":{\"data\":{\"FinalObjectiveValue\":{\"__ndarray__\":\"AAAAAJON7z8AAACAR43vPwAAAEBwh+8/AAAAAFOG7z8AAACA2YTvPwAAAICrg+8/AAAAgD6D7z8AAACAp4LvPwAAAKDNf+8/AAAA4Hh37z8AAABgn3LvPwAAAKD3ce8/AAAAIKxx7z8AAABAaW/vPwAAAIDBbu8/AAAAIOdh7z8AAAAgBV3vPwAAAADRWu8/AAAAQBFS7z8AAADASj7vPw==\",\"dtype\":\"float64\",\"order\":\"little\",\"shape\":[20]},\"TrainingElapsedTimeSeconds\":{\"__ndarray__\":\"AAAAAABAVUAAAAAAAABNQAAAAAAAAEdAAAAAAADAUEAAAAAAAIBQQAAAAAAAgEhAAAAAAACAR0AAAAAAAIBRQAAAAAAAAEhAAAAAAACAR0AAAAAAAIBIQAAAAAAAAEdAAAAAAAAASEAAAAAAAABIQAAAAAAAgEhAAAAAAAAASEAAAAAAAIBQQAAAAAAAAExAAAAAAAAAUEAAAAAAAEBQQA==\",\"dtype\":\"float64\",\"order\":\"little\",\"shape\":[20]},\"TrainingEndTime\":{\"__ndarray__\":\"AICjfQSnd0IAgFO6A6d3QgAAKnIEp3dCAAAAeQSnd0IAAM1IA6d3QgAA5UQDp3dCAAAhsgSnd0IAgL46BKd3QgAAGzYEp3dCAAAPuwOnd0IAgKZEA6d3QgCA8fMDp3dCAACkNASnd0IAAKf1A6d3QgAABn4Dp3dCAACz8wOnd0IAAIy1BKd3QgAAZYMDp3dCAICdhAOnd0IAAG7AA6d3Qg==\",\"dtype\":\"float64\",\"order\":\"little\",\"shape\":[20]},\"TrainingJobName\":[\"xgboost-210704-0625-017-27f78aa1\",\"xgboost-210704-0625-007-f2e6155f\",\"xgboost-210704-0625-016-8971e77c\",\"xgboost-210704-0625-018-4c1f4abf\",\"xgboost-210704-0625-003-cd562b3e\",\"xgboost-210704-0625-002-1f4cc2cb\",\"xgboost-210704-0625-020-72def18a\",\"xgboost-210704-0625-013-c1788ff7\",\"xgboost-210704-0625-015-e89dbe4d\",\"xgboost-210704-0625-009-7e5e42c6\",\"xgboost-210704-0625-001-87941a28\",\"xgboost-210704-0625-011-c5e1042f\",\"xgboost-210704-0625-014-ba565761\",\"xgboost-210704-0625-010-0df917e0\",\"xgboost-210704-0625-004-75217b6a\",\"xgboost-210704-0625-012-5e783729\",\"xgboost-210704-0625-019-bbae0eba\",\"xgboost-210704-0625-005-d7064cb2\",\"xgboost-210704-0625-006-e55cb9d3\",\"xgboost-210704-0625-008-0933b845\"],\"TrainingJobStatus\":[\"Completed\",\"Completed\",\"Completed\",\"Completed\",\"Completed\",\"Completed\",\"Completed\",\"Completed\",\"Completed\",\"Completed\",\"Completed\",\"Completed\",\"Completed\",\"Completed\",\"Completed\",\"Completed\",\"Completed\",\"Completed\",\"Completed\",\"Completed\"],\"TrainingStartTime\":{\"__ndarray__\":\"AADjaASnd0IAgCqsA6d3QgAA72YEp3dCAICkaASnd0IAALA4A6d3QgCA7jgDp3dCAICnpgSnd0IAgKcpBKd3QgAAYyoEp3dCAICVrwOnd0IAALA4A6d3QgCAtugDp3dCAADsKASnd0IAAO/pA6d3QgCAD3IDp3dCAAD75wOnd0IAAG+lBKd3QgAAuXUDp3dCAID9dAOnd0IAgI+wA6d3Qg==\",\"dtype\":\"float64\",\"order\":\"little\",\"shape\":[20]},\"eta\":{\"__ndarray__\":\"aJ1p97R3uD8w3xZfjNHXP798W3wxBrc/v3xbfDHOtj9EWYiJrB/hP0qHZ5yDIuc/1z2gbXdivD+/fFt8MTS2P+j9m0reGtU/VGghdOTj5z9gdMumqi2mPzDfFl+MLtI/f/m2+GIsqT/o/ZtKXv/XP/T+TSXvS+Q/YL4tvhiWzD9B799U8lqgP5hviy9GdOw/mG+LL0bd4z/0/k0l747nPw==\",\"dtype\":\"float64\",\"order\":\"little\",\"shape\":[20]},\"index\":[3,13,4,2,17,18,0,7,5,11,19,9,6,10,16,8,1,15,14,12],\"max_depth\":{\"__ndarray__\":\"AAAAAAAAJEAAAAAAAAAYQAAAAAAAACBAAAAAAAAAJEAAAAAAAAAQQAAAAAAAACBAAAAAAAAAJEAAAAAAAAAYQAAAAAAAACJAAAAAAAAAIEAAAAAAAAAcQAAAAAAAABBAAAAAAAAAGEAAAAAAAAAkQAAAAAAAACJAAAAAAAAACEAAAAAAAAAiQAAAAAAAABRAAAAAAAAAAEAAAAAAAAAAQA==\",\"dtype\":\"float64\",\"order\":\"little\",\"shape\":[20]},\"min_child_weight\":{\"__ndarray__\":\"mH1Dsae8IUAu+4ZiZ3AUQOcZDE65zx9A5xkMTlnKG0C5PRdX7BIVQAKpjDC1WB9A9AwGp9AYIkC67BuKPerwP7zsG4pdDf8/nGcwOGXb8T+LiklYEAESQKKt0DH6OgRAXvYNxU7jAkDOMxicAs0CQC77hmLHrhVA5xkMTkELFED0DAan4JogQC77hmJ3hhtA8wwGpxTXIkCYfUOx0wYhQA==\",\"dtype\":\"float64\",\"order\":\"little\",\"shape\":[20]}},\"selected\":{\"id\":\"1882\"},\"selection_policy\":{\"id\":\"1883\"}},\"id\":\"1755\",\"type\":\"ColumnDataSource\"},{\"attributes\":{},\"id\":\"1727\",\"type\":\"LinearScale\"},{\"attributes\":{},\"id\":\"1882\",\"type\":\"Selection\"},{\"attributes\":{},\"id\":\"1683\",\"type\":\"DataRange1d\"},{\"attributes\":{},\"id\":\"1732\",\"type\":\"BasicTicker\"},{\"attributes\":{},\"id\":\"1767\",\"type\":\"DataRange1d\"},{\"attributes\":{},\"id\":\"1881\",\"type\":\"UnionRenderers\"},{\"attributes\":{\"data\":{\"FinalObjectiveValue\":{\"__ndarray__\":\"AAAAAJON7z8AAACAR43vPwAAAEBwh+8/AAAAAFOG7z8AAACA2YTvPwAAAICrg+8/AAAAgD6D7z8AAACAp4LvPwAAAKDNf+8/AAAA4Hh37z8AAABgn3LvPwAAAKD3ce8/AAAAIKxx7z8AAABAaW/vPwAAAIDBbu8/AAAAIOdh7z8AAAAgBV3vPwAAAADRWu8/AAAAQBFS7z8AAADASj7vPw==\",\"dtype\":\"float64\",\"order\":\"little\",\"shape\":[20]},\"TrainingElapsedTimeSeconds\":{\"__ndarray__\":\"AAAAAABAVUAAAAAAAABNQAAAAAAAAEdAAAAAAADAUEAAAAAAAIBQQAAAAAAAgEhAAAAAAACAR0AAAAAAAIBRQAAAAAAAAEhAAAAAAACAR0AAAAAAAIBIQAAAAAAAAEdAAAAAAAAASEAAAAAAAABIQAAAAAAAgEhAAAAAAAAASEAAAAAAAIBQQAAAAAAAAExAAAAAAAAAUEAAAAAAAEBQQA==\",\"dtype\":\"float64\",\"order\":\"little\",\"shape\":[20]},\"TrainingEndTime\":{\"__ndarray__\":\"AICjfQSnd0IAgFO6A6d3QgAAKnIEp3dCAAAAeQSnd0IAAM1IA6d3QgAA5UQDp3dCAAAhsgSnd0IAgL46BKd3QgAAGzYEp3dCAAAPuwOnd0IAgKZEA6d3QgCA8fMDp3dCAACkNASnd0IAAKf1A6d3QgAABn4Dp3dCAACz8wOnd0IAAIy1BKd3QgAAZYMDp3dCAICdhAOnd0IAAG7AA6d3Qg==\",\"dtype\":\"float64\",\"order\":\"little\",\"shape\":[20]},\"TrainingJobName\":[\"xgboost-210704-0625-017-27f78aa1\",\"xgboost-210704-0625-007-f2e6155f\",\"xgboost-210704-0625-016-8971e77c\",\"xgboost-210704-0625-018-4c1f4abf\",\"xgboost-210704-0625-003-cd562b3e\",\"xgboost-210704-0625-002-1f4cc2cb\",\"xgboost-210704-0625-020-72def18a\",\"xgboost-210704-0625-013-c1788ff7\",\"xgboost-210704-0625-015-e89dbe4d\",\"xgboost-210704-0625-009-7e5e42c6\",\"xgboost-210704-0625-001-87941a28\",\"xgboost-210704-0625-011-c5e1042f\",\"xgboost-210704-0625-014-ba565761\",\"xgboost-210704-0625-010-0df917e0\",\"xgboost-210704-0625-004-75217b6a\",\"xgboost-210704-0625-012-5e783729\",\"xgboost-210704-0625-019-bbae0eba\",\"xgboost-210704-0625-005-d7064cb2\",\"xgboost-210704-0625-006-e55cb9d3\",\"xgboost-210704-0625-008-0933b845\"],\"TrainingJobStatus\":[\"Completed\",\"Completed\",\"Completed\",\"Completed\",\"Completed\",\"Completed\",\"Completed\",\"Completed\",\"Completed\",\"Completed\",\"Completed\",\"Completed\",\"Completed\",\"Completed\",\"Completed\",\"Completed\",\"Completed\",\"Completed\",\"Completed\",\"Completed\"],\"TrainingStartTime\":{\"__ndarray__\":\"AADjaASnd0IAgCqsA6d3QgAA72YEp3dCAICkaASnd0IAALA4A6d3QgCA7jgDp3dCAICnpgSnd0IAgKcpBKd3QgAAYyoEp3dCAICVrwOnd0IAALA4A6d3QgCAtugDp3dCAADsKASnd0IAAO/pA6d3QgCAD3IDp3dCAAD75wOnd0IAAG+lBKd3QgAAuXUDp3dCAID9dAOnd0IAgI+wA6d3Qg==\",\"dtype\":\"float64\",\"order\":\"little\",\"shape\":[20]},\"eta\":{\"__ndarray__\":\"aJ1p97R3uD8w3xZfjNHXP798W3wxBrc/v3xbfDHOtj9EWYiJrB/hP0qHZ5yDIuc/1z2gbXdivD+/fFt8MTS2P+j9m0reGtU/VGghdOTj5z9gdMumqi2mPzDfFl+MLtI/f/m2+GIsqT/o/ZtKXv/XP/T+TSXvS+Q/YL4tvhiWzD9B799U8lqgP5hviy9GdOw/mG+LL0bd4z/0/k0l747nPw==\",\"dtype\":\"float64\",\"order\":\"little\",\"shape\":[20]},\"index\":[3,13,4,2,17,18,0,7,5,11,19,9,6,10,16,8,1,15,14,12],\"max_depth\":{\"__ndarray__\":\"AAAAAAAAJEAAAAAAAAAYQAAAAAAAACBAAAAAAAAAJEAAAAAAAAAQQAAAAAAAACBAAAAAAAAAJEAAAAAAAAAYQAAAAAAAACJAAAAAAAAAIEAAAAAAAAAcQAAAAAAAABBAAAAAAAAAGEAAAAAAAAAkQAAAAAAAACJAAAAAAAAACEAAAAAAAAAiQAAAAAAAABRAAAAAAAAAAEAAAAAAAAAAQA==\",\"dtype\":\"float64\",\"order\":\"little\",\"shape\":[20]},\"min_child_weight\":{\"__ndarray__\":\"mH1Dsae8IUAu+4ZiZ3AUQOcZDE65zx9A5xkMTlnKG0C5PRdX7BIVQAKpjDC1WB9A9AwGp9AYIkC67BuKPerwP7zsG4pdDf8/nGcwOGXb8T+LiklYEAESQKKt0DH6OgRAXvYNxU7jAkDOMxicAs0CQC77hmLHrhVA5xkMTkELFED0DAan4JogQC77hmJ3hhtA8wwGpxTXIkCYfUOx0wYhQA==\",\"dtype\":\"float64\",\"order\":\"little\",\"shape\":[20]}},\"selected\":{\"id\":\"1880\"},\"selection_policy\":{\"id\":\"1881\"}},\"id\":\"1713\",\"type\":\"ColumnDataSource\"},{\"attributes\":{\"text\":\"Objective vs max_depth\"},\"id\":\"1679\",\"type\":\"Title\"},{\"attributes\":{\"axis_label\":\"eta\",\"formatter\":{\"id\":\"1873\"},\"ticker\":{\"id\":\"1732\"}},\"id\":\"1731\",\"type\":\"LinearAxis\"},{\"attributes\":{},\"id\":\"1765\",\"type\":\"DataRange1d\"},{\"attributes\":{},\"id\":\"1725\",\"type\":\"DataRange1d\"},{\"attributes\":{\"fill_color\":{\"value\":\"#1f77b4\"},\"line_color\":{\"value\":\"#1f77b4\"},\"x\":{\"field\":\"eta\"},\"y\":{\"field\":\"FinalObjectiveValue\"}},\"id\":\"1757\",\"type\":\"Circle\"},{\"attributes\":{},\"id\":\"1741\",\"type\":\"WheelZoomTool\"},{\"attributes\":{},\"id\":\"1745\",\"type\":\"ResetTool\"},{\"attributes\":{\"fill_alpha\":{\"value\":0.1},\"fill_color\":{\"value\":\"#1f77b4\"},\"line_alpha\":{\"value\":0.1},\"line_color\":{\"value\":\"#1f77b4\"},\"x\":{\"field\":\"min_child_weight\"},\"y\":{\"field\":\"FinalObjectiveValue\"}},\"id\":\"1800\",\"type\":\"Circle\"},{\"attributes\":{},\"id\":\"1739\",\"type\":\"PanTool\"},{\"attributes\":{},\"id\":\"1742\",\"type\":\"ZoomInTool\"},{\"attributes\":{\"data_source\":{\"id\":\"1797\"},\"glyph\":{\"id\":\"1799\"},\"hover_glyph\":null,\"muted_glyph\":null,\"nonselection_glyph\":{\"id\":\"1800\"},\"selection_glyph\":null,\"view\":{\"id\":\"1802\"}},\"id\":\"1801\",\"type\":\"GlyphRenderer\"},{\"attributes\":{\"axis_label\":\"validation:auc\",\"formatter\":{\"id\":\"1875\"},\"ticker\":{\"id\":\"1736\"}},\"id\":\"1735\",\"type\":\"LinearAxis\"},{\"attributes\":{\"active_drag\":\"auto\",\"active_inspect\":\"auto\",\"active_multi\":null,\"active_scroll\":\"auto\",\"active_tap\":\"auto\",\"tools\":[{\"id\":\"1719\"},{\"id\":\"1739\"},{\"id\":\"1740\"},{\"id\":\"1741\"},{\"id\":\"1742\"},{\"id\":\"1743\"},{\"id\":\"1744\"},{\"id\":\"1745\"}]},\"id\":\"1746\",\"type\":\"Toolbar\"},{\"attributes\":{},\"id\":\"1736\",\"type\":\"BasicTicker\"},{\"attributes\":{},\"id\":\"1744\",\"type\":\"UndoTool\"},{\"attributes\":{},\"id\":\"1743\",\"type\":\"ZoomOutTool\"},{\"attributes\":{},\"id\":\"1740\",\"type\":\"CrosshairTool\"},{\"attributes\":{\"axis\":{\"id\":\"1735\"},\"dimension\":1,\"ticker\":null},\"id\":\"1738\",\"type\":\"Grid\"},{\"attributes\":{\"fill_color\":{\"value\":\"#1f77b4\"},\"line_color\":{\"value\":\"#1f77b4\"},\"x\":{\"field\":\"min_child_weight\"},\"y\":{\"field\":\"FinalObjectiveValue\"}},\"id\":\"1799\",\"type\":\"Circle\"}],\"root_ids\":[\"1803\"]},\"title\":\"Bokeh Application\",\"version\":\"2.2.3\"}};\n",
       "  var render_items = [{\"docid\":\"7d45c3da-0f29-4fe2-ac21-2eab4acc1cfc\",\"root_ids\":[\"1803\"],\"roots\":{\"1803\":\"1f8efd28-9adf-4b51-873d-39af8f2b56bb\"}}];\n",
       "  root.Bokeh.embed.embed_items_notebook(docs_json, render_items);\n",
       "\n",
       "  }\n",
       "  if (root.Bokeh !== undefined) {\n",
       "    embed_document(root);\n",
       "  } else {\n",
       "    var attempts = 0;\n",
       "    var timer = setInterval(function(root) {\n",
       "      if (root.Bokeh !== undefined) {\n",
       "        clearInterval(timer);\n",
       "        embed_document(root);\n",
       "      } else {\n",
       "        attempts++;\n",
       "        if (attempts > 100) {\n",
       "          clearInterval(timer);\n",
       "          console.log(\"Bokeh: ERROR: Unable to run BokehJS code because BokehJS library is missing\");\n",
       "        }\n",
       "      }\n",
       "    }, 10, root)\n",
       "  }\n",
       "})(window);"
      ],
      "application/vnd.bokehjs_exec.v0+json": ""
     },
     "metadata": {
      "application/vnd.bokehjs_exec.v0+json": {
       "id": "1803"
      }
     },
     "output_type": "display_data"
    }
   ],
   "source": [
    "ranges = tuning_result.tuning_ranges\n",
    "figures = []\n",
    "for hp_name, hp_range in ranges.items():\n",
    "    categorical_args = {}\n",
    "    if hp_range.get(\"Values\"):\n",
    "        # This is marked as categorical.  Check if all options are actually numbers.\n",
    "        def is_num(x):\n",
    "            try:\n",
    "                float(x)\n",
    "                return 1\n",
    "            except:\n",
    "                return 0\n",
    "\n",
    "        vals = hp_range[\"Values\"]\n",
    "        if sum([is_num(x) for x in vals]) == len(vals):\n",
    "            # Bokeh has issues plotting a \"categorical\" range that's actually numeric, so plot as numeric\n",
    "            print(\"Hyperparameter %s is tuned as categorical, but all values are numeric\" % hp_name)\n",
    "        else:\n",
    "            # Set up extra options for plotting categoricals.  A bit tricky when they're actually numbers.\n",
    "            categorical_args[\"x_range\"] = vals\n",
    "\n",
    "    # Now plot it\n",
    "    p = figure(\n",
    "        plot_width=500,\n",
    "        plot_height=500,\n",
    "        title=\"Objective vs %s\" % hp_name,\n",
    "        tools=hover.tools(),\n",
    "        x_axis_label=hp_name,\n",
    "        y_axis_label=objective_name,\n",
    "        **categorical_args,\n",
    "    )\n",
    "    p.circle(source=df, x=hp_name, y=\"FinalObjectiveValue\")\n",
    "    figures.append(p)\n",
    "show(bokeh.layouts.Column(*figures))"
   ]
  },
  {
   "cell_type": "markdown",
   "id": "e71c2e61",
   "metadata": {
    "papermill": {
     "duration": null,
     "end_time": null,
     "exception": null,
     "start_time": null,
     "status": "pending"
    },
    "tags": []
   },
   "source": [
    "---\n",
    "## Host\n",
    "\n",
    "HPO작업을 통해 찾아낸 최적의 하이퍼파라미터를 이용하여 모델을 생성하고 호스팅 엔드포인트로 배포합니다. \n"
   ]
  },
  {
   "cell_type": "code",
   "execution_count": 70,
   "id": "78f07baf",
   "metadata": {
    "papermill": {
     "duration": null,
     "end_time": null,
     "exception": null,
     "start_time": null,
     "status": "pending"
    },
    "tags": []
   },
   "outputs": [
    {
     "name": "stdout",
     "output_type": "stream",
     "text": [
      "\n",
      "2021-07-04 06:49:55 Starting - Preparing the instances for training\n",
      "2021-07-04 06:49:55 Downloading - Downloading input data\n",
      "2021-07-04 06:49:55 Training - Training image download completed. Training in progress.\n",
      "2021-07-04 06:49:55 Uploading - Uploading generated training model\n",
      "2021-07-04 06:49:55 Completed - Training job completed\n",
      "-------------!"
     ]
    }
   ],
   "source": [
    "hpo_predictor = tuner.deploy(\n",
    "    initial_instance_count=1, instance_type=\"ml.m4.xlarge\", serializer=CSVSerializer()\n",
    ")"
   ]
  },
  {
   "cell_type": "markdown",
   "id": "6de7897e",
   "metadata": {
    "papermill": {
     "duration": null,
     "end_time": null,
     "exception": null,
     "start_time": null,
     "status": "pending"
    },
    "tags": []
   },
   "source": [
    "### Evaluate\n",
    "\n",
    "1번 노트북에서 실행했던 것과 유사한 방법으로 테스트데이터에 대한 예측을 실행하과 1번 작업의 결과와 비교해 보겠습니다.\n"
   ]
  },
  {
   "cell_type": "code",
   "execution_count": 71,
   "id": "697168a2",
   "metadata": {
    "papermill": {
     "duration": null,
     "end_time": null,
     "exception": null,
     "start_time": null,
     "status": "pending"
    },
    "tags": []
   },
   "outputs": [],
   "source": [
    "def predict(data, rows=500):\n",
    "    split_array = np.array_split(data, int(data.shape[0] / float(rows) + 1))\n",
    "    predictions = \"\"\n",
    "    for array in split_array:\n",
    "        predictions = \",\".join([predictions, hpo_predictor.predict(array).decode(\"utf-8\")])\n",
    "\n",
    "    return np.fromstring(predictions[1:], sep=\",\")\n",
    "\n",
    "\n",
    "predictions_hpo = predict(test_data.to_numpy()[:, 1:])"
   ]
  },
  {
   "cell_type": "markdown",
   "id": "470a4cfa",
   "metadata": {
    "papermill": {
     "duration": null,
     "end_time": null,
     "exception": null,
     "start_time": null,
     "status": "pending"
    },
    "tags": []
   },
   "source": [
    "### Compare results\n",
    "\n",
    "이번에는 sklearn에서 제공하는 classification_report 기능을 이용하여 결과를 확인하겠습니다. 편의상 0.5를 컷오프로 지정하였습니다. \n"
   ]
  },
  {
   "cell_type": "code",
   "execution_count": 72,
   "id": "379820cc",
   "metadata": {
    "papermill": {
     "duration": null,
     "end_time": null,
     "exception": null,
     "start_time": null,
     "status": "pending"
    },
    "tags": []
   },
   "outputs": [
    {
     "name": "stdout",
     "output_type": "stream",
     "text": [
      "              precision    recall  f1-score   support\n",
      "\n",
      "           0       0.97      0.94      0.96       253\n",
      "           1       0.94      0.97      0.96       247\n",
      "\n",
      "    accuracy                           0.96       500\n",
      "   macro avg       0.96      0.96      0.96       500\n",
      "weighted avg       0.96      0.96      0.96       500\n",
      "\n"
     ]
    }
   ],
   "source": [
    "from sklearn.metrics import classification_report\n",
    "print(classification_report(test_data.iloc[:, 0], np.round(predictions)))"
   ]
  },
  {
   "cell_type": "markdown",
   "id": "7dd8ac0c",
   "metadata": {},
   "source": [
    "다음은 HPO로 찾아낸 하이퍼파라미터로 작업한 결과입니다. 전체적으로 이전 모델의 성능과 유사하나 0번 분류에 대한 precision과 recall 값이 조금 상승하였습니다.  "
   ]
  },
  {
   "cell_type": "code",
   "execution_count": 73,
   "id": "8655339f",
   "metadata": {
    "papermill": {
     "duration": null,
     "end_time": null,
     "exception": null,
     "start_time": null,
     "status": "pending"
    },
    "tags": []
   },
   "outputs": [
    {
     "name": "stdout",
     "output_type": "stream",
     "text": [
      "              precision    recall  f1-score   support\n",
      "\n",
      "           0       0.97      0.95      0.96       253\n",
      "           1       0.95      0.97      0.96       247\n",
      "\n",
      "    accuracy                           0.96       500\n",
      "   macro avg       0.96      0.96      0.96       500\n",
      "weighted avg       0.96      0.96      0.96       500\n",
      "\n"
     ]
    }
   ],
   "source": [
    "from sklearn.metrics import classification_report\n",
    "print(classification_report(test_data.iloc[:, 0], np.round(predictions_hpo)))"
   ]
  },
  {
   "cell_type": "markdown",
   "id": "ca1a5216",
   "metadata": {
    "papermill": {
     "duration": null,
     "end_time": null,
     "exception": null,
     "start_time": null,
     "status": "pending"
    },
    "tags": []
   },
   "source": [
    "### (Optional) Clean-up\n",
    "\n",
    "모든 작업을 완료하였다면 추가 요금발생을 막기 위해 아래 셀을 실행하십시오. 아래 코드는 생성한 호스팅 엔드포인트를 제거합니다. "
   ]
  },
  {
   "cell_type": "code",
   "execution_count": 41,
   "id": "eb98b152",
   "metadata": {
    "papermill": {
     "duration": null,
     "end_time": null,
     "exception": null,
     "start_time": null,
     "status": "pending"
    },
    "tags": []
   },
   "outputs": [],
   "source": [
    "hpo_predictor.delete_endpoint()"
   ]
  },
  {
   "cell_type": "code",
   "execution_count": null,
   "id": "8a3e08d2",
   "metadata": {},
   "outputs": [],
   "source": []
  },
  {
   "cell_type": "code",
   "execution_count": null,
   "id": "28735f29",
   "metadata": {},
   "outputs": [],
   "source": []
  }
 ],
 "metadata": {
  "celltoolbar": "Tags",
  "kernelspec": {
   "display_name": "conda_python3",
   "language": "python",
   "name": "conda_python3"
  },
  "language_info": {
   "codemirror_mode": {
    "name": "ipython",
    "version": 3
   },
   "file_extension": ".py",
   "mimetype": "text/x-python",
   "name": "python",
   "nbconvert_exporter": "python",
   "pygments_lexer": "ipython3",
   "version": "3.6.13"
  },
  "notice": "Copyright 2017 Amazon.com, Inc. or its affiliates. All Rights Reserved.  Licensed under the Apache License, Version 2.0 (the \"License\"). You may not use this file except in compliance with the License. A copy of the License is located at http://aws.amazon.com/apache2.0/ or in the \"license\" file accompanying this file. This file is distributed on an \"AS IS\" BASIS, WITHOUT WARRANTIES OR CONDITIONS OF ANY KIND, either express or implied. See the License for the specific language governing permissions and limitations under the License.",
  "papermill": {
   "default_parameters": {},
   "duration": 311.728138,
   "end_time": "2021-06-07T00:14:55.273560",
   "environment_variables": {},
   "exception": true,
   "input_path": "xgboost_customer_churn.ipynb",
   "output_path": "/opt/ml/processing/output/xgboost_customer_churn-2021-06-07-00-06-03.ipynb",
   "parameters": {
    "kms_key": "arn:aws:kms:us-west-2:521695447989:key/6e9984db-50cf-4c7e-926c-877ec47a8b25"
   },
   "start_time": "2021-06-07T00:09:43.545422",
   "version": "2.3.3"
  }
 },
 "nbformat": 4,
 "nbformat_minor": 5
}
